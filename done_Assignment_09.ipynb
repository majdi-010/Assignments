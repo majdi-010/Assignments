{
 "cells": [
  {
   "cell_type": "markdown",
   "metadata": {
    "deletable": false,
    "editable": false,
    "nbgrader": {
     "cell_type": "markdown",
     "checksum": "850ac6b44b45a36843107d1b75895219",
     "grade": false,
     "grade_id": "introduction",
     "locked": true,
     "schema_version": 3,
     "solution": false,
     "task": false
    }
   },
   "source": [
    "# 9. Lists-of-lists (Two-dimensional arrays)\n",
    "\n",
    "This Jupyter Notebook contains the [problems, or assignments, for Lesson 9](https://snakify.org/en/lessons/two_dimensional_lists_arrays/problems/), gratefully imported from the online course on [Snakify](https://snakify.org). If you get stuck, you can either ask the teacher and the teaching assistents, or skim through the [theory](https://snakify.org/en/lessons/two_dimensional_lists_arrays/) and [explanation of the steps](https://snakify.org/en/lessons/two_dimensional_lists_arrays/steps/1/) on Snakify."
   ]
  },
  {
   "cell_type": "code",
   "execution_count": 168,
   "metadata": {
    "deletable": false,
    "editable": false,
    "nbgrader": {
     "cell_type": "code",
     "checksum": "3d552f5c4c39249e5750262df758b85c",
     "grade": false,
     "grade_id": "import-assert",
     "locked": true,
     "schema_version": 3,
     "solution": false,
     "task": false
    }
   },
   "outputs": [],
   "source": [
    "# Please run the contents of this cell.\n",
    "# Select this cell and press Ctrl-Enter (or Command-Enter on mac).\n",
    "\n",
    "from assertions import *\n",
    "from test_cells import *"
   ]
  },
  {
   "cell_type": "markdown",
   "metadata": {
    "deletable": false,
    "editable": false,
    "nbgrader": {
     "cell_type": "markdown",
     "checksum": "c82242f37be991c0870f964c5fccc5d5",
     "grade": false,
     "grade_id": "assignment-09-01-spacer",
     "locked": true,
     "schema_version": 3,
     "solution": false,
     "task": false
    }
   },
   "source": [
    "<br />\n",
    "<br />\n",
    "<br />\n",
    "<br />"
   ]
  },
  {
   "cell_type": "markdown",
   "metadata": {
    "deletable": false,
    "editable": false,
    "nbgrader": {
     "cell_type": "markdown",
     "checksum": "34293370ba55d4f27cf6591e3402bd11",
     "grade": false,
     "grade_id": "assignment-09-01-text",
     "locked": true,
     "schema_version": 3,
     "solution": false,
     "task": false
    }
   },
   "source": [
    "# 9.1 Maximum\n",
    "\n",
    "Given a matrix represented as list of list (rows of columns), find the maximum element and return a tuple of indices (`row`, `col`) of its row and column.\n",
    "\n",
    "If there exist multiple such elements in different rows, return the one having the smallest row index. If there multiple such elements occur on the same row, return the one having the smallest column index.\n",
    "\n",
    "The function `assignment_9_1()` takes a single parameters `matrix`, which contains a list of lists. \n",
    "\n",
    "## Example input\n",
    "```python\n",
    "0 3 2 4\n",
    "2 3 5 5\n",
    "5 1 2 3\n",
    "```\n",
    "\n",
    "## Example return value\n",
    "```python\n",
    "(1, 2)\n",
    "```"
   ]
  },
  {
   "cell_type": "code",
   "execution_count": 58,
   "metadata": {
    "deletable": false,
    "nbgrader": {
     "cell_type": "code",
     "checksum": "ea2a14ff4e39adcfcdad42b010dca21f",
     "grade": false,
     "grade_id": "assignment-09-01-code",
     "locked": false,
     "schema_version": 3,
     "solution": true,
     "task": false
    }
   },
   "outputs": [],
   "source": [
    "# Code for assignment 9.1\n",
    "\n",
    "def assignment_9_1(matrix):\n",
    "    max_number = []\n",
    "    for row in matrix: \n",
    "        max_number.append(max(row))\n",
    "    max_number = max(max_number)\n",
    "    \n",
    "    for row in matrix: \n",
    "        if max_number in row: \n",
    "            max_number = (matrix.index(row), row.index(max_number))\n",
    "            break\n",
    "    \n",
    "    return max_number\n",
    "        "
   ]
  },
  {
   "cell_type": "code",
   "execution_count": 59,
   "metadata": {
    "deletable": false,
    "editable": false,
    "nbgrader": {
     "cell_type": "code",
     "checksum": "b12be9a93d6c571e95b3cfef2c05102c",
     "grade": false,
     "grade_id": "assignment-09-01-test",
     "locked": true,
     "schema_version": 3,
     "solution": false,
     "task": false
    }
   },
   "outputs": [
    {
     "name": "stdin",
     "output_type": "stream",
     "text": [
      "Please enter a series of integer numbers, separated by spaces (Press Enter for default values 0 3 2 4):  \n"
     ]
    },
    {
     "name": "stdout",
     "output_type": "stream",
     "text": [
      "\n",
      "Working with default matrix: [[0, 3, 2, 4], [2, 3, 5, 5], [5, 1, 2, 3]]\n",
      "\n",
      "The largest element in this matrix is at position (1, 2).\n"
     ]
    }
   ],
   "source": [
    "# Test for assignment 9.1\n",
    "\n",
    "test_cell_9_1(assignment_9_1)"
   ]
  },
  {
   "cell_type": "code",
   "execution_count": 60,
   "metadata": {
    "deletable": false,
    "editable": false,
    "nbgrader": {
     "cell_type": "code",
     "checksum": "1a26d1a4ddf1b64a128e713df4640e5d",
     "grade": true,
     "grade_id": "assignment-09-01-assert",
     "locked": true,
     "points": 1,
     "schema_version": 3,
     "solution": false,
     "task": false
    }
   },
   "outputs": [
    {
     "name": "stdout",
     "output_type": "stream",
     "text": [
      "Call assignment_9_1([[0, 3, 2, 4], [2, 3, 5, 5], [5, 1, 2, 3]]) ... OK\n",
      "Call assignment_9_1([[1]]) ... OK\n",
      "Call assignment_9_1([[1, 2, 3, 4, 5], [6, 7, 8, 9, 10], [11, 12, 13, 14, 15]]) ... OK\n",
      "Call assignment_9_1([[1], [2], [3], [2], [1], [2]]) ... OK\n",
      "Call assignment_9_1([[1, 2, 3, 3, 2, 1]]) ... OK\n",
      "Call assignment_9_1([[1, 4, 5, 2, 7], [3, 4, 8, 0, 8], [8, 8, 8, 8, 8]]) ... OK\n",
      "Call assignment_9_1([[-3, -2], [-2, -1]]) ... OK\n",
      "Call assignment_9_1([[-1000000003, -1000000002], [-1000000002, -1000000001]]) ... OK\n",
      "\n",
      "Well done! You seem to have solved assignment_9_1!\n"
     ]
    }
   ],
   "source": [
    "# Assertion for assignment 9.1\n",
    "\n",
    "check_assertion(assignment_9_1)"
   ]
  },
  {
   "cell_type": "markdown",
   "metadata": {
    "deletable": false,
    "editable": false,
    "nbgrader": {
     "cell_type": "markdown",
     "checksum": "2020946da2c6ddd72c617c621e569101",
     "grade": false,
     "grade_id": "assignment-09-02-spacer",
     "locked": true,
     "schema_version": 3,
     "solution": false,
     "task": false
    }
   },
   "source": [
    "<br />\n",
    "<br />\n",
    "<br />\n",
    "<br />"
   ]
  },
  {
   "cell_type": "markdown",
   "metadata": {
    "deletable": false,
    "editable": false,
    "nbgrader": {
     "cell_type": "markdown",
     "checksum": "1670b904cb4e084f46009b48c2ad57cc",
     "grade": false,
     "grade_id": "assignment-09-02-text",
     "locked": true,
     "schema_version": 3,
     "solution": false,
     "task": false
    }
   },
   "source": [
    "# 9.2 Snowflake\n",
    "\n",
    "Given an odd integer `n`, produce a two-dimensional array of size (`n` x `n`). Fill each element with a single character string of `'.'` . Then fill the middle row, the middle column and the diagnals with the single character string of `'*'` (an image of a snow flake). Return the two-dimensional array. The test cell will print your snowflake for you.\n",
    "\n",
    "## Example input\n",
    "```python\n",
    "5\n",
    "```\n",
    "\n",
    "## Example return value\n",
    "```python\n",
    "[['*', '.', '*', '.', '*'], ['.', '*', '*', '*', '.'], ['*', '*', '*', '*', '*'], ['.', '*', '*', '*', '.'], ['*', '.', '*', '.', '*']]\n",
    "```\n",
    "\n",
    "**NB** This will result in the following being printed in the test cell (you don't have to implement this part):\n",
    "```python\n",
    "* . * . *\n",
    ". * * * .\n",
    "* * * * *\n",
    ". * * * .\n",
    "* . * . *\n",
    "```"
   ]
  },
  {
   "cell_type": "code",
   "execution_count": 169,
   "metadata": {
    "deletable": false,
    "nbgrader": {
     "cell_type": "code",
     "checksum": "bae3bc8e8d379a39fc8d6c5eb6de421b",
     "grade": false,
     "grade_id": "assignment-09-02-code",
     "locked": false,
     "schema_version": 3,
     "solution": true,
     "task": false
    }
   },
   "outputs": [],
   "source": [
    "# Code for assignment 9.2\n",
    "\n",
    "def assignment_9_2(n):\n",
    "    if n == 1: \n",
    "        return [[\"*\"]]\n",
    "    \n",
    "    pattern = [[\".\" for h in range(n)] for i in range(n)]\n",
    "    \n",
    "    for i in range(0, n, n//2): # first and last row\n",
    "        pattern[0][i] = \"*\" \n",
    "        pattern[-1][i] = \"*\"\n",
    "    \n",
    "    pattern[n//2] = [\"*\" for i in range(n)] # middle row \n",
    "    \n",
    "    for i in range(1,n//2): # Top half \n",
    "        pattern[i][i] = \"*\" \n",
    "        pattern[i][-(i+1)] = \"*\"\n",
    "        pattern[i][n//2] = \"*\"\n",
    "    \n",
    "    for i in range(n//2 +1, n): # cloning inverted top half \n",
    "        pattern[i] = pattern[n-i-1]\n",
    "        \n",
    "    return pattern\n"
   ]
  },
  {
   "cell_type": "code",
   "execution_count": 175,
   "metadata": {
    "deletable": false,
    "editable": false,
    "nbgrader": {
     "cell_type": "code",
     "checksum": "c9b8ec5125b252283887f56541e03e76",
     "grade": false,
     "grade_id": "assignment-09-02-test",
     "locked": true,
     "schema_version": 3,
     "solution": false,
     "task": false
    }
   },
   "outputs": [
    {
     "name": "stdin",
     "output_type": "stream",
     "text": [
      "Please enter an odd integer (Press Enter for default value 5):  27\n"
     ]
    },
    {
     "name": "stdout",
     "output_type": "stream",
     "text": [
      "\n",
      "* . . . . . . . . . . . . * . . . . . . . . . . . . * \n",
      ". * . . . . . . . . . . . * . . . . . . . . . . . * . \n",
      ". . * . . . . . . . . . . * . . . . . . . . . . * . . \n",
      ". . . * . . . . . . . . . * . . . . . . . . . * . . . \n",
      ". . . . * . . . . . . . . * . . . . . . . . * . . . . \n",
      ". . . . . * . . . . . . . * . . . . . . . * . . . . . \n",
      ". . . . . . * . . . . . . * . . . . . . * . . . . . . \n",
      ". . . . . . . * . . . . . * . . . . . * . . . . . . . \n",
      ". . . . . . . . * . . . . * . . . . * . . . . . . . . \n",
      ". . . . . . . . . * . . . * . . . * . . . . . . . . . \n",
      ". . . . . . . . . . * . . * . . * . . . . . . . . . . \n",
      ". . . . . . . . . . . * . * . * . . . . . . . . . . . \n",
      ". . . . . . . . . . . . * * * . . . . . . . . . . . . \n",
      "* * * * * * * * * * * * * * * * * * * * * * * * * * * \n",
      ". . . . . . . . . . . . * * * . . . . . . . . . . . . \n",
      ". . . . . . . . . . . * . * . * . . . . . . . . . . . \n",
      ". . . . . . . . . . * . . * . . * . . . . . . . . . . \n",
      ". . . . . . . . . * . . . * . . . * . . . . . . . . . \n",
      ". . . . . . . . * . . . . * . . . . * . . . . . . . . \n",
      ". . . . . . . * . . . . . * . . . . . * . . . . . . . \n",
      ". . . . . . * . . . . . . * . . . . . . * . . . . . . \n",
      ". . . . . * . . . . . . . * . . . . . . . * . . . . . \n",
      ". . . . * . . . . . . . . * . . . . . . . . * . . . . \n",
      ". . . * . . . . . . . . . * . . . . . . . . . * . . . \n",
      ". . * . . . . . . . . . . * . . . . . . . . . . * . . \n",
      ". * . . . . . . . . . . . * . . . . . . . . . . . * . \n",
      "* . . . . . . . . . . . . * . . . . . . . . . . . . * \n"
     ]
    }
   ],
   "source": [
    "# Test for assignment 9.2\n",
    "\n",
    "test_cell_9_2(assignment_9_2)"
   ]
  },
  {
   "cell_type": "code",
   "execution_count": 176,
   "metadata": {
    "deletable": false,
    "editable": false,
    "nbgrader": {
     "cell_type": "code",
     "checksum": "eed0dfa63df07069e639de3a6b9bca59",
     "grade": true,
     "grade_id": "assignment-09-02-assert",
     "locked": true,
     "points": 1,
     "schema_version": 3,
     "solution": false,
     "task": false
    }
   },
   "outputs": [
    {
     "name": "stdout",
     "output_type": "stream",
     "text": [
      "Call assignment_9_2(5) ... OK\n",
      "Call assignment_9_2(7) ... OK\n",
      "Call assignment_9_2(9) ... OK\n",
      "Call assignment_9_2(11) ... OK\n",
      "Call assignment_9_2(3) ... OK\n",
      "Call assignment_9_2(1) ... OK\n",
      "\n",
      "Well done! You seem to have solved assignment_9_2!\n"
     ]
    }
   ],
   "source": [
    "# Assertion for assignment 9.2\n",
    "\n",
    "check_assertion(assignment_9_2)"
   ]
  },
  {
   "cell_type": "markdown",
   "metadata": {
    "deletable": false,
    "editable": false,
    "nbgrader": {
     "cell_type": "markdown",
     "checksum": "abacfbbf9f3eb7ed2c97890690ff7164",
     "grade": false,
     "grade_id": "assignment-09-03-spacer",
     "locked": true,
     "schema_version": 3,
     "solution": false,
     "task": false
    }
   },
   "source": [
    "<br />\n",
    "<br />\n",
    "<br />\n",
    "<br />"
   ]
  },
  {
   "cell_type": "markdown",
   "metadata": {
    "deletable": false,
    "editable": false,
    "nbgrader": {
     "cell_type": "markdown",
     "checksum": "fcf88549d59f4ad0d6e7f5e4753948c5",
     "grade": false,
     "grade_id": "assignment-09-03-text",
     "locked": true,
     "schema_version": 3,
     "solution": false,
     "task": false
    }
   },
   "source": [
    "# 9.3 Checkered flag\n",
    "\n",
    "Given two numbers `rows` and `cols`. Create a two-dimensional array of size `rows` x `cols` and populate it with the characters `'.'` and `'*'` to create a checkered flag (see image). The top left corner should have the character `'.'`. Return the two-dimensional array. The test cell will print the checkered flag.\n",
    "\n",
    "<img src=\"figures/checkered_flag.png\" alt=\"Checkered flag\">\n",
    "\n",
    "## Example input\n",
    "```python\n",
    "3 4\n",
    "```\n",
    "\n",
    "## Example return value\n",
    "```python\n",
    "[['.', '*', '.', '*'], ['*', '.', '*', '.'], ['.', '*', '.', '*']]\n",
    "```\n",
    "\n",
    "**NB** This will result in the following being printed in the test cell (you don't have to implement this part):\n",
    "```python\n",
    ". * . *\n",
    "* . * .\n",
    ". * . *\n",
    "```"
   ]
  },
  {
   "cell_type": "code",
   "execution_count": 159,
   "metadata": {
    "deletable": false,
    "nbgrader": {
     "cell_type": "code",
     "checksum": "238dd674e556dab52ec04d52cd1891a1",
     "grade": false,
     "grade_id": "assignment-09-03-code",
     "locked": false,
     "schema_version": 3,
     "solution": true,
     "task": false
    }
   },
   "outputs": [],
   "source": [
    "# Code for assignment 9.3\n",
    "\n",
    "def assignment_9_3(rows, cols):\n",
    "    checkered_flag = [[\".\" for column in range(cols)] for row in range(rows)] #Creating the initial checkered flag using only \".\" to be changed to \"*\"\n",
    "    \n",
    "    for row in range(rows):\n",
    "        if row % 2 == 0:\n",
    "            for column in range(1, cols, 2):\n",
    "                checkered_flag[row][column] = \"*\"\n",
    "        else:\n",
    "            for column in range(0, cols, 2):\n",
    "                checkered_flag[row][column] = \"*\"\n",
    "    \n",
    "    return checkered_flag\n",
    "            "
   ]
  },
  {
   "cell_type": "code",
   "execution_count": 6,
   "metadata": {
    "deletable": false,
    "editable": false,
    "nbgrader": {
     "cell_type": "code",
     "checksum": "785936a0ed5ae7b8cbd5b81b33bdb633",
     "grade": false,
     "grade_id": "assignment-09-03-test",
     "locked": true,
     "schema_version": 3,
     "solution": false,
     "task": false
    }
   },
   "outputs": [
    {
     "name": "stdin",
     "output_type": "stream",
     "text": [
      "Please enter a series of integers (rows and columns), separated by spaces (Press Enter for default values 3 4):  \n"
     ]
    },
    {
     "name": "stdout",
     "output_type": "stream",
     "text": [
      "\n",
      ". * . * \n",
      "* . * . \n",
      ". * . * \n"
     ]
    }
   ],
   "source": [
    "# Test for assignment 9.3\n",
    "\n",
    "test_cell_9_3(assignment_9_3)"
   ]
  },
  {
   "cell_type": "code",
   "execution_count": 7,
   "metadata": {
    "deletable": false,
    "editable": false,
    "nbgrader": {
     "cell_type": "code",
     "checksum": "484119658d3bead326fcc57d7eb4bb23",
     "grade": true,
     "grade_id": "assingment-9-3-assert",
     "locked": true,
     "points": 1,
     "schema_version": 3,
     "solution": false,
     "task": false
    }
   },
   "outputs": [
    {
     "name": "stdout",
     "output_type": "stream",
     "text": [
      "Call assignment_9_3(3, 4) ... OK\n",
      "Call assignment_9_3(6, 8) ... OK\n",
      "Call assignment_9_3(8, 3) ... OK\n",
      "Call assignment_9_3(7, 5) ... OK\n",
      "Call assignment_9_3(1, 6) ... OK\n",
      "Call assignment_9_3(8, 1) ... OK\n",
      "Call assignment_9_3(1, 1) ... OK\n",
      "\n",
      "Well done! You seem to have solved assignment_9_3!\n"
     ]
    }
   ],
   "source": [
    "# Assertion for assignment 9.3\n",
    "\n",
    "check_assertion(assignment_9_3)"
   ]
  },
  {
   "cell_type": "markdown",
   "metadata": {
    "deletable": false,
    "editable": false,
    "nbgrader": {
     "cell_type": "markdown",
     "checksum": "fd70ab8402d38dd7bc65ddbf239620f2",
     "grade": false,
     "grade_id": "assignment-09-04-spacer",
     "locked": true,
     "schema_version": 3,
     "solution": false,
     "task": false
    }
   },
   "source": [
    "<br />\n",
    "<br />\n",
    "<br />\n",
    "<br />"
   ]
  },
  {
   "cell_type": "markdown",
   "metadata": {
    "deletable": false,
    "editable": false,
    "nbgrader": {
     "cell_type": "markdown",
     "checksum": "c7dccb882b49ce8c3b632d1027d03408",
     "grade": false,
     "grade_id": "assignment-09-04-text",
     "locked": true,
     "schema_version": 3,
     "solution": false,
     "task": false
    }
   },
   "source": [
    "# 9.4 The diagonals parallel to the main\n",
    "\n",
    "Given an integer `size`, produce a two-dimensional array of size `size` times `size` and complete it according to the following rules:\n",
    "* On the main diagonal, which is from top-left to bottom-right corner, have numbers `0`\n",
    "* On the diagonals adjacent to the main, have numbers `1`\n",
    "* On the next adjacent diagonals have numbers `2`, and so forth\n",
    "\n",
    "Return the resulting two-dimensional array.\n",
    "\n",
    "## Example input\n",
    "```python\n",
    "5\n",
    "```\n",
    "\n",
    "## Example return value\n",
    "```python\n",
    "[[0, 1, 2, 3, 4],\n",
    " [1, 0, 1, 2, 3],\n",
    " [2, 1, 0, 1, 2],\n",
    " [3, 2, 1, 0, 1],\n",
    " [4, 3, 2, 1, 0]]\n",
    "```\n",
    "\n",
    "**NB** This will result in the following being printed in the test cell (you don't have to implement this part):\n",
    "```python\n",
    "0 1 2 3 4\n",
    "1 0 1 2 3\n",
    "2 1 0 1 2\n",
    "3 2 1 0 1\n",
    "4 3 2 1 0\n",
    "```"
   ]
  },
  {
   "cell_type": "code",
   "execution_count": 63,
   "metadata": {
    "deletable": false,
    "nbgrader": {
     "cell_type": "code",
     "checksum": "180e28fef8473c1725543c7eb60b5f8f",
     "grade": false,
     "grade_id": "assignment-09-04-code",
     "locked": false,
     "schema_version": 3,
     "solution": true,
     "task": false
    }
   },
   "outputs": [],
   "source": [
    "# Code for assignment 9.4\n",
    "\n",
    "def assignment_9_4(size):\n",
    "    #Creating initial matrix populated of zeroes\n",
    "    matrix = [[0 for column in range(size)] for row in range(size)]\n",
    "    \n",
    "    #Creating the right half of the matrix\n",
    "    counter = 0\n",
    "    for row in matrix:\n",
    "        row[counter:] = [x for x in range(size - counter)]\n",
    "        counter += 1\n",
    "        \n",
    "\n",
    "        \n",
    "    #Creating the left half of the matrix\n",
    "    counter = size\n",
    "    for row in matrix[::-1]: \n",
    "        row[:counter] = [x for x in range(counter - 1, -1, -1)]\n",
    "        counter -= 1\n",
    "        \n",
    "    return matrix\n",
    "        \n",
    "        "
   ]
  },
  {
   "cell_type": "code",
   "execution_count": 75,
   "metadata": {},
   "outputs": [
    {
     "name": "stdin",
     "output_type": "stream",
     "text": [
      "Please enter the dimension of the matrix (Press Enter for default value 5):  \n"
     ]
    },
    {
     "name": "stdout",
     "output_type": "stream",
     "text": [
      "\n",
      "0 1 2 3 4 \n",
      "1 0 1 2 3 \n",
      "2 1 0 1 2 \n",
      "3 2 1 0 1 \n",
      "4 3 2 1 0 \n"
     ]
    }
   ],
   "source": [
    "# Test for assignment 9.4\n",
    "\n",
    "test_cell_9_4(assignment_9_4)"
   ]
  },
  {
   "cell_type": "code",
   "execution_count": 65,
   "metadata": {
    "deletable": false,
    "editable": false,
    "nbgrader": {
     "cell_type": "code",
     "checksum": "866102c442940d1c2db7923cd24ac24e",
     "grade": true,
     "grade_id": "assignment-09-04-assert",
     "locked": true,
     "points": 1,
     "schema_version": 3,
     "solution": false,
     "task": false
    }
   },
   "outputs": [
    {
     "name": "stdout",
     "output_type": "stream",
     "text": [
      "Call assignment_9_4(5) ... OK\n",
      "Call assignment_9_4(6) ... OK\n",
      "Call assignment_9_4(7) ... OK\n",
      "Call assignment_9_4(4) ... OK\n",
      "Call assignment_9_4(3) ... OK\n",
      "Call assignment_9_4(2) ... OK\n",
      "Call assignment_9_4(1) ... OK\n",
      "\n",
      "Well done! You seem to have solved assignment_9_4!\n"
     ]
    }
   ],
   "source": [
    "# Assertion for assignment 9.4\n",
    "\n",
    "check_assertion(assignment_9_4)"
   ]
  },
  {
   "cell_type": "markdown",
   "metadata": {
    "deletable": false,
    "editable": false,
    "nbgrader": {
     "cell_type": "markdown",
     "checksum": "19924a65086e90a875eb9a5f6792ae6e",
     "grade": false,
     "grade_id": "assignment-09-05-spacer",
     "locked": true,
     "schema_version": 3,
     "solution": false,
     "task": false
    }
   },
   "source": [
    "<br />\n",
    "<br />\n",
    "<br />\n",
    "<br />"
   ]
  },
  {
   "cell_type": "markdown",
   "metadata": {
    "deletable": false,
    "editable": false,
    "nbgrader": {
     "cell_type": "markdown",
     "checksum": "56d56307cf0862acac9fd50b08b8e1dd",
     "grade": false,
     "grade_id": "assignment-09-05-text",
     "locked": true,
     "schema_version": 3,
     "solution": false,
     "task": false
    }
   },
   "source": [
    "# 9.5 Minor diagonal\n",
    "\n",
    "Given an integer `size`, create a two-dimensional array of size `size` x `size` and populate it as follows:\n",
    "\n",
    "* The elements on the minor diagonal (from the lower left corner to the upper right corner) should have `1`s\n",
    "* The elements above this diagonal should have `0`s\n",
    "* The elements below the diagonal should have `2`s\n",
    "\n",
    "Return the resulting two-dimensional array.\n",
    "\n",
    "## Example input\n",
    "```python\n",
    "4\n",
    "```\n",
    "\n",
    "## Example return value\n",
    "```\n",
    "[[0, 0, 0, 1], [0, 0, 1, 2], [0, 1, 2, 2], [1, 2, 2, 2]]\n",
    "```\n",
    "\n",
    "**NB** This will result in the following print in the test cell (you don't have to implement this part):\n",
    "```python\n",
    "0 0 0 1\n",
    "0 0 1 2\n",
    "0 1 2 2\n",
    "1 2 2 2\n",
    "```\n"
   ]
  },
  {
   "cell_type": "code",
   "execution_count": 84,
   "metadata": {
    "deletable": false,
    "nbgrader": {
     "cell_type": "code",
     "checksum": "109d7621072f9c693b74b4464dad6166",
     "grade": false,
     "grade_id": "assignment-09-05-code",
     "locked": false,
     "schema_version": 3,
     "solution": true,
     "task": false
    }
   },
   "outputs": [],
   "source": [
    "# Code for assignment 9.5\n",
    "\n",
    "def assignment_9_5(size):\n",
    "    #Creating initial matrix populated of zeroes\n",
    "    matrix = [[1 for column in range(size)] for row in range(size)]\n",
    "    \n",
    "    #Creating the right half of the matrix\n",
    "    counter = 1\n",
    "    for row in matrix[1:]:\n",
    "        row[-counter:] = [2 for x in range(counter)]\n",
    "        counter += 1\n",
    "        \n",
    "    #Creating the left half of the matrix\n",
    "    counter = 1\n",
    "    for row in matrix[:-1]:  \n",
    "        row[:-counter] = [0 for x in range(size - counter)]\n",
    "        counter += 1\n",
    "        \n",
    "    return matrix"
   ]
  },
  {
   "cell_type": "code",
   "execution_count": 88,
   "metadata": {},
   "outputs": [
    {
     "name": "stdin",
     "output_type": "stream",
     "text": [
      "Please enter the dimension of the matrix (Press Enter for default value 4):  \n"
     ]
    },
    {
     "name": "stdout",
     "output_type": "stream",
     "text": [
      "\n",
      "0 0 0 1 \n",
      "0 0 1 2 \n",
      "0 1 2 2 \n",
      "1 2 2 2 \n"
     ]
    }
   ],
   "source": [
    "# Test for assignment 9.5\n",
    "\n",
    "test_cell_9_5(assignment_9_5)"
   ]
  },
  {
   "cell_type": "code",
   "execution_count": 86,
   "metadata": {
    "deletable": false,
    "editable": false,
    "nbgrader": {
     "cell_type": "code",
     "checksum": "f5b564ce387b3c1f5a0d621f853b24b7",
     "grade": true,
     "grade_id": "assignment-09-05-assert",
     "locked": true,
     "points": 1,
     "schema_version": 3,
     "solution": false,
     "task": false
    }
   },
   "outputs": [
    {
     "name": "stdout",
     "output_type": "stream",
     "text": [
      "Call assignment_9_5(4) ... OK\n",
      "Call assignment_9_5(1) ... OK\n",
      "Call assignment_9_5(2) ... OK\n",
      "Call assignment_9_5(3) ... OK\n",
      "Call assignment_9_5(5) ... OK\n",
      "Call assignment_9_5(6) ... OK\n",
      "Call assignment_9_5(7) ... OK\n",
      "Call assignment_9_5(8) ... OK\n",
      "\n",
      "Well done! You seem to have solved assignment_9_5!\n"
     ]
    }
   ],
   "source": [
    "# Assertion for assignment 9.5\n",
    "\n",
    "check_assertion(assignment_9_5)"
   ]
  },
  {
   "cell_type": "markdown",
   "metadata": {
    "deletable": false,
    "editable": false,
    "nbgrader": {
     "cell_type": "markdown",
     "checksum": "17dc7cf1bcabeecf32945dc300c3253c",
     "grade": false,
     "grade_id": "assignment-09-06-spacer",
     "locked": true,
     "schema_version": 3,
     "solution": false,
     "task": false
    }
   },
   "source": [
    "<br />\n",
    "<br />\n",
    "<br />\n",
    "<br />"
   ]
  },
  {
   "cell_type": "markdown",
   "metadata": {
    "deletable": false,
    "editable": false,
    "nbgrader": {
     "cell_type": "markdown",
     "checksum": "7477389f3e1213f38b8268cc0c6fae59",
     "grade": false,
     "grade_id": "assignment-09-06-text",
     "locked": true,
     "schema_version": 3,
     "solution": false,
     "task": false
    }
   },
   "source": [
    "# 9.6 Swap the columns\n",
    "\n",
    "Given a matrix `matrix` of dimension `rows` x `cols`, write a function `swap_columns(matrix, col_idx_1, col_idx_2)` that will swap column with index `col_idx_1` with column with index `col_idx_2` in `matrix`.\n",
    "\n",
    "In the test cell, first enter `rows` and `cols` on a single line, separated by spaces. Then enter the elements for matrix `matrix` numbers for a single row separated by spaced. Finally, enter `col_idx_1` and `col_idx_2`, separated by spaces.\n",
    "\n",
    "## Example input\n",
    "```python\n",
    "3 4\n",
    "11 12 13 14\n",
    "21 22 23 24\n",
    "31 32 33 34\n",
    "0 1\n",
    "```\n",
    "\n",
    "## Example return value\n",
    "```python\n",
    "[[12, 11, 13, 14], [22, 21, 23, 24], [32, 31, 33, 34]]\n",
    "```\n",
    "\n",
    "**NB** This will result in the following print in the test cell (you don't have to implement this part):\n",
    "\n",
    "```python\n",
    "12 11 13 14\n",
    "22 21 23 24\n",
    "32 31 33 34\n",
    "```"
   ]
  },
  {
   "cell_type": "code",
   "execution_count": 102,
   "metadata": {
    "deletable": false,
    "nbgrader": {
     "cell_type": "code",
     "checksum": "c8e6a2b5a9ab9010024b5989f02e3517",
     "grade": false,
     "grade_id": "assignment-09-06-code",
     "locked": false,
     "schema_version": 3,
     "solution": true,
     "task": false
    }
   },
   "outputs": [],
   "source": [
    "# Code for assignment 9.6\n",
    "\n",
    "# YOUR CODE HERE\n",
    "def swap_columns(matrix, col_idx_1, col_idx_2): \n",
    "    \n",
    "    for row in matrix: \n",
    "        transit = row[col_idx_1]\n",
    "        row[col_idx_1] = row[col_idx_2]\n",
    "        row[col_idx_2] = transit\n",
    "        \n",
    "    return matrix\n",
    "    \n",
    "\n",
    "\n",
    "        \n",
    "    "
   ]
  },
  {
   "cell_type": "code",
   "execution_count": 103,
   "metadata": {
    "deletable": false,
    "editable": false,
    "nbgrader": {
     "cell_type": "code",
     "checksum": "7dc28d8326ce5041d687059dd06bdea1",
     "grade": false,
     "grade_id": "assignment-09-06-test",
     "locked": true,
     "schema_version": 3,
     "solution": false,
     "task": false
    }
   },
   "outputs": [
    {
     "name": "stdin",
     "output_type": "stream",
     "text": [
      "Please enter a series of integer numbers, separated by spaces (Press Enter for default values 11 12 13 14):  \n"
     ]
    },
    {
     "name": "stdout",
     "output_type": "stream",
     "text": [
      "\n",
      "Working with default matrix: [[11, 12, 13, 14], [21, 22, 23, 24], [31, 32, 33, 34]]\n"
     ]
    },
    {
     "name": "stdin",
     "output_type": "stream",
     "text": [
      "Please enter a series of indexes of two columns, separated by spaces (Press Enter for default values 0 1):  \n"
     ]
    },
    {
     "name": "stdout",
     "output_type": "stream",
     "text": [
      "\n",
      "12 11 13 14 \n",
      "22 21 23 24 \n",
      "32 31 33 34 \n"
     ]
    }
   ],
   "source": [
    "# Test for assignment 9.6\n",
    "\n",
    "test_cell_9_6(swap_columns)"
   ]
  },
  {
   "cell_type": "code",
   "execution_count": 104,
   "metadata": {
    "deletable": false,
    "editable": false,
    "nbgrader": {
     "cell_type": "code",
     "checksum": "a6957504b32ea48ce0efa010b0155bf3",
     "grade": true,
     "grade_id": "assignment-09-06-assert",
     "locked": true,
     "points": 1,
     "schema_version": 3,
     "solution": false,
     "task": false
    }
   },
   "outputs": [
    {
     "name": "stdout",
     "output_type": "stream",
     "text": [
      "Call swap_columns([[11, 12, 13, 14], [21, 22, 23, 24], [31, 32, 33, 34]], 0, 1) ... OK\n",
      "Call swap_columns([[1, 2], [3, 4]], 0, 1) ... OK\n",
      "Call swap_columns([[1], [2], [3], [4], [5], [6], [7], [8], [9], [10]], 0, 0) ... OK\n",
      "Call swap_columns([[1, 2, 3], [4, 5, 6], [7, 8, 9], [10, 11, 12]], 1, 2) ... OK\n",
      "Call swap_columns([[1, 2, 3, 4, 5]], 1, 4) ... OK\n",
      "Call swap_columns([[179]], 0, 0) ... OK\n",
      "Call swap_columns([[11, 12, 13, 14, 15, 16], [21, 22, 23, 24, 25, 26], [31, 32, 33, 34, 35, 36], [41, 42, 43, 44, 45, 46]], 0, 5) ... OK\n",
      "Call swap_columns([[11, 12, 13, 14, 15, 16], [21, 22, 23, 24, 25, 26], [31, 32, 33, 34, 35, 36], [41, 42, 43, 44, 45, 46]], 5, 0) ... OK\n",
      "Call swap_columns([[11, 12, 13, 14, 15, 16], [21, 22, 23, 24, 25, 26], [31, 32, 33, 34, 35, 36], [41, 42, 43, 44, 45, 46]], 4, 5) ... OK\n",
      "Call swap_columns([[11, 12, 13, 14, 15, 16], [21, 22, 23, 24, 25, 26], [31, 32, 33, 34, 35, 36], [41, 42, 43, 44, 45, 46]], 1, 4) ... OK\n",
      "Call swap_columns([[11, 12, 13, 14, 15, 16], [21, 22, 23, 24, 25, 26], [31, 32, 33, 34, 35, 36], [41, 42, 43, 44, 45, 46]], 3, 3) ... OK\n",
      "\n",
      "Well done! You seem to have solved swap_columns!\n"
     ]
    }
   ],
   "source": [
    "# Assertion for assignment 9.6\n",
    "\n",
    "check_assertion(swap_columns)"
   ]
  },
  {
   "cell_type": "markdown",
   "metadata": {
    "deletable": false,
    "editable": false,
    "nbgrader": {
     "cell_type": "markdown",
     "checksum": "c1d6e43cfedf5e062e2ad6269cbadc37",
     "grade": false,
     "grade_id": "assignment-09-07-spacer",
     "locked": true,
     "schema_version": 3,
     "solution": false,
     "task": false
    }
   },
   "source": [
    "<br />\n",
    "<br />\n",
    "<br />\n",
    "<br />"
   ]
  },
  {
   "cell_type": "markdown",
   "metadata": {
    "deletable": false,
    "editable": false,
    "nbgrader": {
     "cell_type": "markdown",
     "checksum": "df075aeb0c5cdc2747122ec97144b6aa",
     "grade": false,
     "grade_id": "assignment-09-07-text",
     "locked": true,
     "schema_version": 3,
     "solution": false,
     "task": false
    }
   },
   "source": [
    "# 9.7 Scale a matrix\n",
    "\n",
    "Given a matrix `matrix` of dimension `rows` x `cols`, finalize `assignment_9_7(matrix, constant)` in such a way that it returns a two-dimensional list where all elements in `matrix` have been multiplied by `constant`.\n",
    "\n",
    "## Example input\n",
    "```python\n",
    "3 4\n",
    "11 12 13 14\n",
    "21 22 23 24\n",
    "31 32 33 34\n",
    "2\n",
    "```\n",
    "\n",
    "## Example return value\n",
    "```python\n",
    "[[22, 24, 26, 28], [42, 44, 46, 48], [62, 64, 66, 68]]\n",
    "```\n",
    "\n",
    "**NB** This will result in the following print in the test cell (you don't have to implement this part):\n",
    "```python\n",
    "22 24 26 28\n",
    "42 44 46 48\n",
    "62 64 66 68\n",
    "```\n"
   ]
  },
  {
   "cell_type": "code",
   "execution_count": 110,
   "metadata": {
    "deletable": false,
    "nbgrader": {
     "cell_type": "code",
     "checksum": "3644214f942c77c087c53c4360e13ac6",
     "grade": false,
     "grade_id": "assignment-09-07-code",
     "locked": false,
     "schema_version": 3,
     "solution": true,
     "task": false
    }
   },
   "outputs": [],
   "source": [
    "# Code for assignment 9.7\n",
    "\n",
    "def assignment_9_7(matrix, constant):\n",
    "    matrix = [[constant * column for column in row] for row in matrix]\n",
    "    return matrix"
   ]
  },
  {
   "cell_type": "code",
   "execution_count": 111,
   "metadata": {
    "deletable": false,
    "editable": false,
    "nbgrader": {
     "cell_type": "code",
     "checksum": "7ca1a1dc24165ee4aadb774c77bb8478",
     "grade": false,
     "grade_id": "assignment-09-07-test",
     "locked": true,
     "schema_version": 3,
     "solution": false,
     "task": false
    }
   },
   "outputs": [
    {
     "name": "stdin",
     "output_type": "stream",
     "text": [
      "Please enter a series of integer numbers, separated by spaces (Press Enter for default values 11 12 13 14):  \n"
     ]
    },
    {
     "name": "stdout",
     "output_type": "stream",
     "text": [
      "\n",
      "Working with default matrix: [[11, 12, 13, 14], [21, 22, 23, 24], [31, 32, 33, 34]]\n"
     ]
    },
    {
     "name": "stdin",
     "output_type": "stream",
     "text": [
      "Please enter multiplication constant (Press Enter for default value 2):  \n"
     ]
    },
    {
     "name": "stdout",
     "output_type": "stream",
     "text": [
      "\n",
      "22 24 26 28 \n",
      "42 44 46 48 \n",
      "62 64 66 68 \n"
     ]
    }
   ],
   "source": [
    "# Test for assignment 9.7\n",
    "\n",
    "test_cell_9_7(assignment_9_7)"
   ]
  },
  {
   "cell_type": "code",
   "execution_count": 112,
   "metadata": {
    "deletable": false,
    "editable": false,
    "nbgrader": {
     "cell_type": "code",
     "checksum": "badf008c684e73b2d1074a121db055c3",
     "grade": true,
     "grade_id": "assignment-09-07-assert",
     "locked": true,
     "points": 1,
     "schema_version": 3,
     "solution": false,
     "task": false
    }
   },
   "outputs": [
    {
     "name": "stdout",
     "output_type": "stream",
     "text": [
      "Call assignment_9_7([[11, 12, 13, 14], [21, 22, 23, 24], [31, 32, 33, 34]], 2) ... OK\n",
      "Call assignment_9_7([[1, 2], [3, 4]], 0) ... OK\n",
      "Call assignment_9_7([[1], [2], [3], [4], [5], [6], [7], [8], [9], [10]], -1) ... OK\n",
      "Call assignment_9_7([[1, 2, 3], [4, 5, 6], [7, 8, 9], [10, 11, 12]], 1) ... OK\n",
      "Call assignment_9_7([[9]], 9) ... OK\n",
      "\n",
      "Well done! You seem to have solved assignment_9_7!\n"
     ]
    }
   ],
   "source": [
    "# Assertion for assignment 9.7\n",
    "\n",
    "check_assertion(assignment_9_7)"
   ]
  },
  {
   "cell_type": "markdown",
   "metadata": {
    "deletable": false,
    "editable": false,
    "nbgrader": {
     "cell_type": "markdown",
     "checksum": "c149f22a4de3a09d1680e914f4fd2d07",
     "grade": false,
     "grade_id": "assignment-09-08-spacer",
     "locked": true,
     "schema_version": 3,
     "solution": false,
     "task": false
    }
   },
   "source": [
    "<br />\n",
    "<br />\n",
    "<br />\n",
    "<br />"
   ]
  },
  {
   "cell_type": "markdown",
   "metadata": {
    "deletable": false,
    "editable": false,
    "nbgrader": {
     "cell_type": "markdown",
     "checksum": "15b3fed464649cd81fb80e88a434014d",
     "grade": false,
     "grade_id": "assignment-09-08-text",
     "locked": true,
     "schema_version": 3,
     "solution": false,
     "task": false
    }
   },
   "source": [
    "# 9.8 Multiply two matrices\n",
    "\n",
    "Given three positive integers $l$, $m$ and $n$, where matrix $A$ has dimensions $l \\times m$, and matrix $B$ has dimensions $m \\times n$. Multiplication of $A \\times B$ results in matrix $C$ with dimensions $l \\times n$ (see [Wikipedia](https://en.wikipedia.org/wiki/Matrix_multiplication)).\n",
    "\n",
    "Finalize the function `assignment_9_8(a, b)` in such a way that it will return $C$, a two-dimensional list with the result of the multiplication $A \\times B$.\n",
    "\n",
    "The test cell will request $l$, $m$ and $n$ seperated by spaces first. After that it will request $l$ rows of $m$ numbers for $A$, separated by spaces. After that, it will request $m$ rows of $n$ elements for $B$, separated by spaces.\n",
    "\n",
    "**Hint** The function `assignment_9_8(a, b)` only takes the 2 two-dimensional lists as inputs. You can obtain $l$, $m$ and $n$ and create an \"empty\" $C$ inside the function with:\n",
    "```python\n",
    "l = len(a)\n",
    "m = len(a[0])\n",
    "n = len(b[0])\n",
    "c = [[None for j in range(n)] for i in range(l)]\n",
    "```\n",
    "\n",
    "## Example input\n",
    "\n",
    "You will be requested to enter two matrices A and B in the test cell. If you press Enter on all input questions you will be using the default values below:\n",
    "\n",
    "```python\n",
    "3 4               # <--- dimension matrix A\n",
    "0 1 2 3           \n",
    "4 5 6 7\n",
    "8 9 10 11         \n",
    "\n",
    "4 2               # <--- dimension matrix B\n",
    "2 3               \n",
    "0 4\n",
    "5 -1\n",
    "1 1               \n",
    "```\n",
    "\n",
    "This corresponds to:\n",
    "$$A \\times B = \\begin{bmatrix} 0 & 1 & 2 & 3 \\\\ 4 & 5 & 6 & 7 \\\\ 8 & 9 & 10 & 11 \\end{bmatrix} \\times \\begin{bmatrix} 2 & 3 \\\\ 0 & 4 \\\\ 5 & -1 \\\\ 1 & 1 \\end{bmatrix}$$\n",
    "\n",
    "## Example return value\n",
    "```python\n",
    "[[13, 5], [45, 33], [77, 61]]\n",
    "```\n",
    "\n",
    "This corresponds to:\n",
    "$$C = A \\times B = \\begin{bmatrix} 13 & 5 \\\\ 45 & 33 \\\\ 77 & 61 \\end{bmatrix}$$\n",
    "\n",
    "**NB** The test cell will print:\n",
    "```python\n",
    "13 5\n",
    "45 33\n",
    "77 61\n",
    "```"
   ]
  },
  {
   "cell_type": "code",
   "execution_count": 160,
   "metadata": {
    "deletable": false,
    "nbgrader": {
     "cell_type": "code",
     "checksum": "6f980ecd288aa98f104ee94fb2ab2a98",
     "grade": false,
     "grade_id": "assignment-09-08-code",
     "locked": false,
     "schema_version": 3,
     "solution": true,
     "task": false
    }
   },
   "outputs": [],
   "source": [
    "# Code for assignment 9.8\n",
    "\n",
    "def assignment_9_8(a, b):\n",
    "    l = len(a)\n",
    "    m = len(a[0])\n",
    "    n = len(b[0])\n",
    "    c = [[0 for j in range(n)] for i in range(l)]\n",
    "    \n",
    "    row_idx_c = -1\n",
    "    \n",
    "    for row_a in a: \n",
    "        row_idx_c +=1\n",
    "        \n",
    "        for col_idx_b in range(n):\n",
    "            col_idx_c = col_idx_b\n",
    "            col_idx_a = 0\n",
    "            for row_b in b:\n",
    "                c[row_idx_c][col_idx_c] += row_a[col_idx_a] * row_b[col_idx_b]\n",
    "                col_idx_a += 1\n",
    "            \n",
    "    return c    "
   ]
  },
  {
   "cell_type": "code",
   "execution_count": 161,
   "metadata": {
    "deletable": false,
    "editable": false,
    "nbgrader": {
     "cell_type": "code",
     "checksum": "e612a2609acb9b5400f19f3f085b53d4",
     "grade": false,
     "grade_id": "assignment-09-08-test",
     "locked": true,
     "schema_version": 3,
     "solution": false,
     "task": false
    }
   },
   "outputs": [
    {
     "name": "stdout",
     "output_type": "stream",
     "text": [
      "--- Matrix A ---\n",
      "\n"
     ]
    },
    {
     "name": "stdin",
     "output_type": "stream",
     "text": [
      "Please enter a series of integer numbers, separated by spaces (Press Enter for default values 0 1 2 3):  \n"
     ]
    },
    {
     "name": "stdout",
     "output_type": "stream",
     "text": [
      "\n",
      "Working with default matrix: [[0, 1, 2, 3], [4, 5, 6, 7], [8, 9, 10, 11]]\n",
      "\n",
      "--- Matrix B ---\n",
      "\n"
     ]
    },
    {
     "name": "stdin",
     "output_type": "stream",
     "text": [
      "Please enter a series of integer numbers, separated by spaces (Press Enter for default values 2 3):  \n"
     ]
    },
    {
     "name": "stdout",
     "output_type": "stream",
     "text": [
      "\n",
      "Working with default matrix: [[2, 3], [0, 4], [5, -1], [1, 1]]\n",
      "\n",
      "The product of these two matrices is:\n",
      "13 5 \n",
      "45 33 \n",
      "77 61 \n"
     ]
    }
   ],
   "source": [
    "# Test for assignment 9.8\n",
    "\n",
    "test_cell_9_8(assignment_9_8)"
   ]
  },
  {
   "cell_type": "code",
   "execution_count": 162,
   "metadata": {
    "deletable": false,
    "editable": false,
    "nbgrader": {
     "cell_type": "code",
     "checksum": "b0b77a78362e20c5bbf1c6e0776b3247",
     "grade": true,
     "grade_id": "assignment-09-08-assert",
     "locked": true,
     "points": 1,
     "schema_version": 3,
     "solution": false,
     "task": false
    }
   },
   "outputs": [
    {
     "name": "stdout",
     "output_type": "stream",
     "text": [
      "Call assignment_9_8([[0, 1, 2, 3], [4, 5, 6, 7], [8, 9, 10, 11]], [[2, 3], [0, 4], [5, -1], [1, 1]]) ... OK\n",
      "Call assignment_9_8([[1, 2], [3, 4]], [[5, 4], [3, 2]]) ... OK\n",
      "Call assignment_9_8([[5]], [[7]]) ... OK\n",
      "Call assignment_9_8([[1, 2, 3], [4, 5, 6], [7, 8, 9], [10, 11, 12]], [[1], [2], [3]]) ... OK\n",
      "\n",
      "Well done! You seem to have solved assignment_9_8!\n"
     ]
    }
   ],
   "source": [
    "# Assertion for assignment 9.8\n",
    "\n",
    "check_assertion(assignment_9_8)"
   ]
  }
 ],
 "metadata": {
  "kernelspec": {
   "display_name": "Python 3 (ipykernel)",
   "language": "python",
   "name": "python3"
  },
  "language_info": {
   "codemirror_mode": {
    "name": "ipython",
    "version": 3
   },
   "file_extension": ".py",
   "mimetype": "text/x-python",
   "name": "python",
   "nbconvert_exporter": "python",
   "pygments_lexer": "ipython3",
   "version": "3.9.18"
  }
 },
 "nbformat": 4,
 "nbformat_minor": 4
}
