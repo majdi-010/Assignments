{
 "cells": [
  {
   "cell_type": "markdown",
   "metadata": {
    "deletable": false,
    "editable": false,
    "nbgrader": {
     "cell_type": "markdown",
     "checksum": "21349682fe6f58c9c1934deff1d56f88",
     "grade": false,
     "grade_id": "introduction",
     "locked": true,
     "schema_version": 3,
     "solution": false,
     "task": false
    }
   },
   "source": [
    "# 2. Integer and float numbers\n",
    "\n",
    "This Jupyter Notebook contains the [problems, or assignments, for Lesson 2](https://snakify.org/en/lessons/integer_float_numbers/problems/), gratefully imported from the online course on [Snakify](https://snakify.org). If you get stuck, you can either ask the teacher and the teaching assistents, or skim through the [theory](https://snakify.org/en/lessons/integer_float_numbers/) and [explanation of the steps](https://snakify.org/en/lessons/integer_float_numbers/steps/1/) on Snakify."
   ]
  },
  {
   "cell_type": "code",
   "execution_count": 1,
   "metadata": {
    "deletable": false,
    "editable": false,
    "nbgrader": {
     "cell_type": "code",
     "checksum": "3d552f5c4c39249e5750262df758b85c",
     "grade": false,
     "grade_id": "import-assert",
     "locked": true,
     "schema_version": 3,
     "solution": false,
     "task": false
    }
   },
   "outputs": [
    {
     "name": "stdout",
     "output_type": "stream",
     "text": [
      "Assertions imported OK\n",
      "Test cells imported OK\n"
     ]
    }
   ],
   "source": [
    "# Please run the contents of this cell.\n",
    "# Select this cell and press Ctrl-Enter (or Command-Enter on mac).\n",
    "\n",
    "from assertions import *\n",
    "from test_cells import *"
   ]
  },
  {
   "cell_type": "markdown",
   "metadata": {
    "deletable": false,
    "editable": false,
    "nbgrader": {
     "cell_type": "markdown",
     "checksum": "f2a84737343c8a596fc10e4f8e67b1de",
     "grade": false,
     "grade_id": "assignment-02-01-spacer",
     "locked": true,
     "schema_version": 3,
     "solution": false,
     "task": false
    }
   },
   "source": [
    "<br />\n",
    "<br />\n",
    "<br />\n",
    "<br />"
   ]
  },
  {
   "cell_type": "markdown",
   "metadata": {
    "deletable": false,
    "editable": false,
    "nbgrader": {
     "cell_type": "markdown",
     "checksum": "612bf8bb43029a5b235b39952b37bfc1",
     "grade": false,
     "grade_id": "assignment-02-01-text",
     "locked": true,
     "schema_version": 3,
     "solution": false,
     "task": false
    }
   },
   "source": [
    "# 2.1 Last digit of integer\n",
    "\n",
    "Given a positive integer `number`, return its last digit.\n",
    "\n",
    "## Example input\n",
    "\n",
    "```python\n",
    "179\n",
    "```\n",
    "\n",
    "## Example return value\n",
    "\n",
    "```python\n",
    "9\n",
    "```"
   ]
  },
  {
   "cell_type": "code",
   "execution_count": 2,
   "metadata": {
    "deletable": false,
    "nbgrader": {
     "cell_type": "code",
     "checksum": "bd287805af0732b930692aaa8cf19ee4",
     "grade": false,
     "grade_id": "assignment-02-01-code",
     "locked": false,
     "schema_version": 3,
     "solution": true,
     "task": false
    }
   },
   "outputs": [],
   "source": [
    "# Code for assignment 2.1\n",
    "\n",
    "def assignment_2_1(number):\n",
    "    # Hint: The remainder operator % could be used\n",
    "    # YOUR CODE HERE\n",
    "    return number % 10\n"
   ]
  },
  {
   "cell_type": "code",
   "execution_count": 3,
   "metadata": {
    "deletable": false,
    "editable": false,
    "nbgrader": {
     "cell_type": "code",
     "checksum": "85e54498b01e9926529dbb21e92bf483",
     "grade": false,
     "grade_id": "assignment-02-01-test",
     "locked": true,
     "schema_version": 3,
     "solution": false,
     "task": false
    }
   },
   "outputs": [
    {
     "name": "stdin",
     "output_type": "stream",
     "text": [
      "Please enter an integer value (Press Enter for default value 179):  \n"
     ]
    },
    {
     "name": "stdout",
     "output_type": "stream",
     "text": [
      "\n",
      "The last digit of 179 is: \n",
      "9\n"
     ]
    }
   ],
   "source": [
    "# Test for assignment 2.1\n",
    "\n",
    "test_cell_2_1(assignment_2_1)"
   ]
  },
  {
   "cell_type": "code",
   "execution_count": 4,
   "metadata": {
    "deletable": false,
    "editable": false,
    "nbgrader": {
     "cell_type": "code",
     "checksum": "2b8c70104130d758c659cdbf789b4f6c",
     "grade": true,
     "grade_id": "assignment-02-01-assert",
     "locked": true,
     "points": 1,
     "schema_version": 3,
     "solution": false,
     "task": false
    }
   },
   "outputs": [
    {
     "name": "stdout",
     "output_type": "stream",
     "text": [
      "Call assignment_2_1(179) ... OK\n",
      "Call assignment_2_1(40) ... OK\n",
      "Call assignment_2_1(101) ... OK\n",
      "Call assignment_2_1(222) ... OK\n",
      "Call assignment_2_1(1923) ... OK\n",
      "Call assignment_2_1(74) ... OK\n",
      "Call assignment_2_1(505) ... OK\n",
      "Call assignment_2_1(996) ... OK\n",
      "Call assignment_2_1(3487) ... OK\n",
      "Call assignment_2_1(308) ... OK\n",
      "Call assignment_2_1(1) ... OK\n",
      "Call assignment_2_1(2) ... OK\n",
      "Call assignment_2_1(3) ... OK\n",
      "Call assignment_2_1(4) ... OK\n",
      "Call assignment_2_1(5) ... OK\n",
      "Call assignment_2_1(6) ... OK\n",
      "Call assignment_2_1(7) ... OK\n",
      "Call assignment_2_1(8) ... OK\n",
      "Call assignment_2_1(9) ... OK\n",
      "Call assignment_2_1(10) ... OK\n",
      "\n",
      "Well done! You seem to have solved assignment_2_1!\n"
     ]
    }
   ],
   "source": [
    "# Assertion for assignment 2.1\n",
    "\n",
    "check_assertion(assignment_2_1)"
   ]
  },
  {
   "cell_type": "markdown",
   "metadata": {
    "deletable": false,
    "editable": false,
    "nbgrader": {
     "cell_type": "markdown",
     "checksum": "16bfb4b18fc8b001bfd2d749c83667a6",
     "grade": false,
     "grade_id": "assignment-02-02-spacer",
     "locked": true,
     "schema_version": 3,
     "solution": false,
     "task": false
    }
   },
   "source": [
    "<br />\n",
    "<br />\n",
    "<br />\n",
    "<br />"
   ]
  },
  {
   "cell_type": "markdown",
   "metadata": {
    "deletable": false,
    "editable": false,
    "nbgrader": {
     "cell_type": "markdown",
     "checksum": "94921215f9e65cf261b03245d0d10336",
     "grade": false,
     "grade_id": "assingment-2-2-text",
     "locked": true,
     "schema_version": 3,
     "solution": false,
     "task": false
    }
   },
   "source": [
    "# 2.2 Tens digit\n",
    "\n",
    "Given a positive integer `number`. Return the digit that refers to the tens: 7 in 73, 8 in 86 and 2 in 123, for example.\n",
    "\n",
    "## Example input\n",
    "\n",
    "```python\n",
    "73\n",
    "```\n",
    "\n",
    "## Example return value\n",
    "\n",
    "```python\n",
    "7\n",
    "```"
   ]
  },
  {
   "cell_type": "code",
   "execution_count": 10,
   "metadata": {
    "deletable": false,
    "nbgrader": {
     "cell_type": "code",
     "checksum": "d13e8aafc3d5c99eaceb659aabe8e96e",
     "grade": false,
     "grade_id": "assignment-02-02-code",
     "locked": false,
     "schema_version": 3,
     "solution": true,
     "task": false
    }
   },
   "outputs": [],
   "source": [
    "# Code for assignment 2.2\n",
    "\n",
    "def assignment_2_2(number):\n",
    "    # Hint: The remainder operator % and integer division // could be used\n",
    "    # YOUR CODE HERE\n",
    "    return (number % 100) // 10"
   ]
  },
  {
   "cell_type": "code",
   "execution_count": 11,
   "metadata": {
    "deletable": false,
    "editable": false,
    "nbgrader": {
     "cell_type": "code",
     "checksum": "0d7ecfb2792e8402e11bb5eaf09a57dc",
     "grade": false,
     "grade_id": "assignment-02-02-test",
     "locked": true,
     "schema_version": 3,
     "solution": false,
     "task": false
    }
   },
   "outputs": [
    {
     "name": "stdin",
     "output_type": "stream",
     "text": [
      "Please enter an integer value (Press Enter for default value 73):  \n"
     ]
    },
    {
     "name": "stdout",
     "output_type": "stream",
     "text": [
      "\n",
      "The tens digit of 73 is: \n",
      "7\n"
     ]
    }
   ],
   "source": [
    "# Test for assignment 2.2\n",
    "\n",
    "test_cell_2_2(assignment_2_2)"
   ]
  },
  {
   "cell_type": "code",
   "execution_count": 12,
   "metadata": {
    "deletable": false,
    "editable": false,
    "nbgrader": {
     "cell_type": "code",
     "checksum": "7d5b2b6f4eb054fa733c2ebebfac44ee",
     "grade": true,
     "grade_id": "assignment-02-02-assert",
     "locked": true,
     "points": 1,
     "schema_version": 3,
     "solution": false,
     "task": false
    }
   },
   "outputs": [
    {
     "name": "stdout",
     "output_type": "stream",
     "text": [
      "Call assignment_2_2(73) ... OK\n",
      "Call assignment_2_2(1234) ... OK\n",
      "Call assignment_2_2(10) ... OK\n",
      "Call assignment_2_2(29) ... OK\n",
      "Call assignment_2_2(37) ... OK\n",
      "Call assignment_2_2(48) ... OK\n",
      "Call assignment_2_2(50) ... OK\n",
      "Call assignment_2_2(67) ... OK\n",
      "Call assignment_2_2(81) ... OK\n",
      "Call assignment_2_2(99) ... OK\n",
      "Call assignment_2_2(179) ... OK\n",
      "Call assignment_2_2(100) ... OK\n",
      "Call assignment_2_2(999) ... OK\n",
      "Call assignment_2_2(854345) ... OK\n",
      "Call assignment_2_2(1000000) ... OK\n",
      "Call assignment_2_2(9999) ... OK\n",
      "Call assignment_2_2(9) ... OK\n",
      "Call assignment_2_2(1) ... OK\n",
      "Call assignment_2_2(0) ... OK\n",
      "\n",
      "Well done! You seem to have solved assignment_2_2!\n"
     ]
    }
   ],
   "source": [
    "# Assertion for assignment 2.2\n",
    "\n",
    "check_assertion(assignment_2_2)"
   ]
  },
  {
   "cell_type": "markdown",
   "metadata": {
    "deletable": false,
    "editable": false,
    "nbgrader": {
     "cell_type": "markdown",
     "checksum": "b2bd6f2a693b52169bef10ccc4c0a322",
     "grade": false,
     "grade_id": "assignment-02-03-spacer",
     "locked": true,
     "schema_version": 3,
     "solution": false,
     "task": false
    }
   },
   "source": [
    "<br />\n",
    "<br />\n",
    "<br />\n",
    "<br />"
   ]
  },
  {
   "cell_type": "markdown",
   "metadata": {
    "deletable": false,
    "editable": false,
    "nbgrader": {
     "cell_type": "markdown",
     "checksum": "a943d7ffc1caaa69ba445dcc61634111",
     "grade": false,
     "grade_id": "assignment-02-03-text",
     "locked": true,
     "schema_version": 3,
     "solution": false,
     "task": false
    }
   },
   "source": [
    "# 2.3 Sum of digits\n",
    "\n",
    "Given a positive three-digit integer `number`. Find the sum of its digits and return it.\n",
    "\n",
    "## Example input\n",
    "\n",
    "```python\n",
    "678\n",
    "```\n",
    "\n",
    "## Example return value\n",
    "\n",
    "```python\n",
    "21\n",
    "```"
   ]
  },
  {
   "cell_type": "code",
   "execution_count": 16,
   "metadata": {
    "deletable": false,
    "nbgrader": {
     "cell_type": "code",
     "checksum": "3a0f39692db5d142bdae142ba5b48cbf",
     "grade": false,
     "grade_id": "assignment-02-03-code",
     "locked": false,
     "schema_version": 3,
     "solution": true,
     "task": false
    }
   },
   "outputs": [],
   "source": [
    "# Code for assignment 2.3\n",
    "\n",
    "def assignment_2_3(number):\n",
    "    # Hint: The remainder operator % and integer division // could be used\n",
    "    # YOUR CODE HERE\n",
    "    return (number % 10) + (number // 10 % 10) + (number // 100) "
   ]
  },
  {
   "cell_type": "code",
   "execution_count": 19,
   "metadata": {
    "deletable": false,
    "editable": false,
    "nbgrader": {
     "cell_type": "code",
     "checksum": "241824601e0a06a035c9368b9788bcf8",
     "grade": false,
     "grade_id": "assignment-02-03-test",
     "locked": true,
     "schema_version": 3,
     "solution": false,
     "task": false
    }
   },
   "outputs": [
    {
     "name": "stdin",
     "output_type": "stream",
     "text": [
      "Please enter a positive 3-digit number (Press Enter for default value 678):  590\n"
     ]
    },
    {
     "name": "stdout",
     "output_type": "stream",
     "text": [
      "\n",
      "The sum of the digits in 590 is:\n",
      "14\n"
     ]
    }
   ],
   "source": [
    "# Test for assignment 2.3\n",
    "\n",
    "test_cell_2_3(assignment_2_3)"
   ]
  },
  {
   "cell_type": "code",
   "execution_count": 18,
   "metadata": {
    "deletable": false,
    "editable": false,
    "nbgrader": {
     "cell_type": "code",
     "checksum": "6d6164fdc14379d4fbf0409b9310b237",
     "grade": true,
     "grade_id": "assignment-02-03-assert",
     "locked": true,
     "points": 1,
     "schema_version": 3,
     "solution": false,
     "task": false
    }
   },
   "outputs": [
    {
     "name": "stdout",
     "output_type": "stream",
     "text": [
      "Call assignment_2_3(179) ... OK\n",
      "Call assignment_2_3(829) ... OK\n",
      "Call assignment_2_3(204) ... OK\n",
      "Call assignment_2_3(100) ... OK\n",
      "Call assignment_2_3(999) ... OK\n",
      "Call assignment_2_3(483) ... OK\n",
      "\n",
      "Well done! You seem to have solved assignment_2_3!\n"
     ]
    }
   ],
   "source": [
    "# Assertion for assignment 2.3\n",
    "\n",
    "check_assertion(assignment_2_3)"
   ]
  },
  {
   "cell_type": "markdown",
   "metadata": {
    "deletable": false,
    "editable": false,
    "nbgrader": {
     "cell_type": "markdown",
     "checksum": "5dca2b93de6f4a5314924ec63cde1e45",
     "grade": false,
     "grade_id": "assignment-02-04-spacer",
     "locked": true,
     "schema_version": 3,
     "solution": false,
     "task": false
    }
   },
   "source": [
    "<br />\n",
    "<br />\n",
    "<br />\n",
    "<br />"
   ]
  },
  {
   "cell_type": "markdown",
   "metadata": {
    "deletable": false,
    "editable": false,
    "nbgrader": {
     "cell_type": "markdown",
     "checksum": "dfb9efacb3f153a7d3aee79411ca7b1b",
     "grade": false,
     "grade_id": "assignment-02-04-text",
     "locked": true,
     "schema_version": 3,
     "solution": false,
     "task": false
    }
   },
   "source": [
    "# 2.4 Fractional part\n",
    "\n",
    "Given a positive real value `number`, return its fractional part.\n",
    "\n",
    "## Example input\n",
    "\n",
    "```python\n",
    "17.9\n",
    "```\n",
    "\n",
    "## Example return value\n",
    "\n",
    "```python\n",
    "0.9\n",
    "```"
   ]
  },
  {
   "cell_type": "code",
   "execution_count": 20,
   "metadata": {
    "deletable": false,
    "nbgrader": {
     "cell_type": "code",
     "checksum": "ee1918ee2d1c99ca3a26b1936113181d",
     "grade": false,
     "grade_id": "assignment-02-04-code",
     "locked": false,
     "schema_version": 3,
     "solution": true,
     "task": false
    }
   },
   "outputs": [],
   "source": [
    "# Code for assignment 2.4\n",
    "\n",
    "def assignment_2_4(number):\n",
    "    # Hint: use integer division // or the int() function to be able to subtract the integer part\n",
    "    # YOUR CODE HERE\n",
    "    return number - int(number)"
   ]
  },
  {
   "cell_type": "code",
   "execution_count": 21,
   "metadata": {
    "deletable": false,
    "editable": false,
    "nbgrader": {
     "cell_type": "code",
     "checksum": "25a0bf95bb21a5be997a3719c2e7da16",
     "grade": false,
     "grade_id": "assignment-02-04-test",
     "locked": true,
     "schema_version": 3,
     "solution": false,
     "task": false
    }
   },
   "outputs": [
    {
     "name": "stdin",
     "output_type": "stream",
     "text": [
      "Please enter a value (Press Enter for default value 17.9):  \n"
     ]
    },
    {
     "name": "stdout",
     "output_type": "stream",
     "text": [
      "\n",
      "The fractional part of 17.9 is:\n",
      "0.900\n"
     ]
    }
   ],
   "source": [
    "# Test for assignment 2.4\n",
    "\n",
    "test_cell_2_4(assignment_2_4)"
   ]
  },
  {
   "cell_type": "code",
   "execution_count": 22,
   "metadata": {
    "deletable": false,
    "editable": false,
    "nbgrader": {
     "cell_type": "code",
     "checksum": "b6c0890048aec6c1457cd473150c4d4c",
     "grade": true,
     "grade_id": "assignment-02-04-assert",
     "locked": true,
     "points": 1,
     "schema_version": 3,
     "solution": false,
     "task": false
    }
   },
   "outputs": [
    {
     "name": "stdout",
     "output_type": "stream",
     "text": [
      "Call assignment_2_4(17.9) ... OK\n",
      "Call assignment_2_4(10.34) ... OK\n",
      "Call assignment_2_4(0.001) ... OK\n",
      "Call assignment_2_4(179.001) ... OK\n",
      "Call assignment_2_4(123.4) ... OK\n",
      "\n",
      "Well done! You seem to have solved assignment_2_4!\n"
     ]
    }
   ],
   "source": [
    "# Assertion for assignment 2.4\n",
    "\n",
    "check_assertion(assignment_2_4)"
   ]
  },
  {
   "cell_type": "markdown",
   "metadata": {
    "deletable": false,
    "editable": false,
    "nbgrader": {
     "cell_type": "markdown",
     "checksum": "e5cf98805f42f02d0605844d6c3e064a",
     "grade": false,
     "grade_id": "assignment-02-05-spacer",
     "locked": true,
     "schema_version": 3,
     "solution": false,
     "task": false
    }
   },
   "source": [
    "<br />\n",
    "<br />\n",
    "<br />\n",
    "<br />"
   ]
  },
  {
   "cell_type": "markdown",
   "metadata": {
    "deletable": false,
    "editable": false,
    "nbgrader": {
     "cell_type": "markdown",
     "checksum": "e83094d3986bb32bb3aacf58ee68c68c",
     "grade": false,
     "grade_id": "assignment-02-05-text",
     "locked": true,
     "schema_version": 3,
     "solution": false,
     "task": false
    }
   },
   "source": [
    "# 2.5 First digit after decimal point\n",
    "\n",
    "Given a positive real value `number`, return its first digit to the right of the decimal point. You may assume that the given `number` argument is always a floating point number, so it will always have a decimal point.\n",
    "\n",
    "## Example input\n",
    "\n",
    "```python\n",
    "1.79\n",
    "```\n",
    "\n",
    "## Example return value\n",
    "\n",
    "```python\n",
    "7\n",
    "```"
   ]
  },
  {
   "cell_type": "code",
   "execution_count": 23,
   "metadata": {
    "deletable": false,
    "nbgrader": {
     "cell_type": "code",
     "checksum": "8c88ffbc08008efc9bd735bff6b7f668",
     "grade": false,
     "grade_id": "assignment-02-05-code",
     "locked": false,
     "schema_version": 3,
     "solution": true,
     "task": false
    }
   },
   "outputs": [],
   "source": [
    "# Code for assignment 2.5\n",
    "\n",
    "def assignment_2_5(number):\n",
    "    # YOUR CODE HERE\n",
    "    return int(number * 10) % 10"
   ]
  },
  {
   "cell_type": "code",
   "execution_count": 24,
   "metadata": {
    "deletable": false,
    "editable": false,
    "nbgrader": {
     "cell_type": "code",
     "checksum": "94736212461976d473f68839ed0e9122",
     "grade": false,
     "grade_id": "assignment-02-05-test",
     "locked": true,
     "schema_version": 3,
     "solution": false,
     "task": false
    }
   },
   "outputs": [
    {
     "name": "stdin",
     "output_type": "stream",
     "text": [
      "Please enter a value (Press Enter for default value 1.79):  \n"
     ]
    },
    {
     "name": "stdout",
     "output_type": "stream",
     "text": [
      "\n",
      "The first digit after the decimal point of 1.79 is:\n",
      "7\n"
     ]
    }
   ],
   "source": [
    "# Test for assignment 2.5\n",
    "\n",
    "test_cell_2_5(assignment_2_5)"
   ]
  },
  {
   "cell_type": "code",
   "execution_count": 25,
   "metadata": {
    "deletable": false,
    "editable": false,
    "nbgrader": {
     "cell_type": "code",
     "checksum": "c07226732f15cb9703184680209d44e3",
     "grade": true,
     "grade_id": "assignment-02-05-assert",
     "locked": true,
     "points": 1,
     "schema_version": 3,
     "solution": false,
     "task": false
    }
   },
   "outputs": [
    {
     "name": "stdout",
     "output_type": "stream",
     "text": [
      "Call assignment_2_5(1.79) ... OK\n",
      "Call assignment_2_5(10.34) ... OK\n",
      "Call assignment_2_5(0.001) ... OK\n",
      "Call assignment_2_5(19.99) ... OK\n",
      "Call assignment_2_5(179.12) ... OK\n",
      "Call assignment_2_5(5.29) ... OK\n",
      "Call assignment_2_5(0.31) ... OK\n",
      "Call assignment_2_5(12.45) ... OK\n",
      "Call assignment_2_5(18.58) ... OK\n",
      "Call assignment_2_5(0.83) ... OK\n",
      "Call assignment_2_5(999.99) ... OK\n",
      "Call assignment_2_5(146.67) ... OK\n",
      "Call assignment_2_5(1293.73) ... OK\n",
      "Call assignment_2_5(0.09999) ... OK\n",
      "Call assignment_2_5(312.19999) ... OK\n",
      "Call assignment_2_5(901.2999) ... OK\n",
      "Call assignment_2_5(3.39999) ... OK\n",
      "Call assignment_2_5(2371.49999) ... OK\n",
      "Call assignment_2_5(290.59999) ... OK\n",
      "Call assignment_2_5(90291.69999) ... OK\n",
      "Call assignment_2_5(412.79999) ... OK\n",
      "Call assignment_2_5(1.89999) ... OK\n",
      "Call assignment_2_5(0.999999) ... OK\n",
      "\n",
      "Well done! You seem to have solved assignment_2_5!\n"
     ]
    }
   ],
   "source": [
    "# Assertion for assignment 2.5\n",
    "\n",
    "check_assertion(assignment_2_5)"
   ]
  },
  {
   "cell_type": "markdown",
   "metadata": {
    "deletable": false,
    "editable": false,
    "nbgrader": {
     "cell_type": "markdown",
     "checksum": "191a8983b02f53661e754e25440f4948",
     "grade": false,
     "grade_id": "assignment-02-06-spacer",
     "locked": true,
     "schema_version": 3,
     "solution": false,
     "task": false
    }
   },
   "source": [
    "<br />\n",
    "<br />\n",
    "<br />\n",
    "<br />"
   ]
  },
  {
   "cell_type": "markdown",
   "metadata": {
    "deletable": false,
    "editable": false,
    "nbgrader": {
     "cell_type": "markdown",
     "checksum": "de949a89b501b3bace36524ac3eb1dd2",
     "grade": false,
     "grade_id": "assignment-02-06-text",
     "locked": true,
     "schema_version": 3,
     "solution": false,
     "task": false
    }
   },
   "source": [
    "# 2.6 Digital clock\n",
    "\n",
    "Given the integer `minutes_since_midnight` - the number of minutes that have passed since midnight - how many hours and minutes are displayed on the 24h digital clock?\n",
    "\n",
    "The function below should return two numbers: the number of hours (between 0 and 23) and the number of minutes (between 0 and 59).\n",
    "\n",
    "For example, if `minutes_since_midnight` = 150, then 150 minutes have passed since midnight - i.e. now is 2:30 am. So the program should return (2, 30).\n",
    "\n",
    "\n",
    "## Example input\n",
    "\n",
    "```python\n",
    "150\n",
    "```\n",
    "\n",
    "## Example return value\n",
    "\n",
    "```python\n",
    "(2, 30)\n",
    "```"
   ]
  },
  {
   "cell_type": "code",
   "execution_count": 26,
   "metadata": {
    "deletable": false,
    "nbgrader": {
     "cell_type": "code",
     "checksum": "2dda86fc27bf7e2468257d5d3271eb19",
     "grade": false,
     "grade_id": "assignment-02-06-code",
     "locked": false,
     "schema_version": 3,
     "solution": true,
     "task": false
    }
   },
   "outputs": [],
   "source": [
    "# Code for assignment 2.6\n",
    "\n",
    "def assignment_2_6(minutes_since_midnight):\n",
    "    # YOUR CODE HERE\n",
    "    return (minutes_since_midnight // 60, minutes_since_midnight - ((minutes_since_midnight // 60) * 60))"
   ]
  },
  {
   "cell_type": "code",
   "execution_count": 29,
   "metadata": {
    "deletable": false,
    "editable": false,
    "nbgrader": {
     "cell_type": "code",
     "checksum": "d18a111c49bb035c9c8ddbcd9bcb769b",
     "grade": false,
     "grade_id": "assignment-02-06-test",
     "locked": true,
     "schema_version": 3,
     "solution": false,
     "task": false
    }
   },
   "outputs": [
    {
     "name": "stdin",
     "output_type": "stream",
     "text": [
      "Please enter the number of minutes since midnight (Press Enter for default value 150):  567\n"
     ]
    },
    {
     "name": "stdout",
     "output_type": "stream",
     "text": [
      "\n",
      "The time at 567 minutes past midnight is:\n",
      "(9, 27)\n"
     ]
    }
   ],
   "source": [
    "# Test for assignment 2.6\n",
    "\n",
    "test_cell_2_6(assignment_2_6)"
   ]
  },
  {
   "cell_type": "code",
   "execution_count": 28,
   "metadata": {
    "deletable": false,
    "editable": false,
    "nbgrader": {
     "cell_type": "code",
     "checksum": "24b5ba48cbdf69cc00476e8c0a86baa7",
     "grade": true,
     "grade_id": "assignment-02-06-assert",
     "locked": true,
     "points": 1,
     "schema_version": 3,
     "solution": false,
     "task": false
    }
   },
   "outputs": [
    {
     "name": "stdout",
     "output_type": "stream",
     "text": [
      "Call assignment_2_6(150) ... OK\n",
      "Call assignment_2_6(180) ... OK\n",
      "Call assignment_2_6(444) ... OK\n",
      "Call assignment_2_6(1111) ... OK\n",
      "Call assignment_2_6(1439) ... OK\n",
      "\n",
      "Well done! You seem to have solved assignment_2_6!\n"
     ]
    }
   ],
   "source": [
    "# Assertion for assignment 2.6\n",
    "\n",
    "check_assertion(assignment_2_6)"
   ]
  },
  {
   "cell_type": "markdown",
   "metadata": {
    "deletable": false,
    "editable": false,
    "nbgrader": {
     "cell_type": "markdown",
     "checksum": "a21e8992f792a8c11e29f2291566f9ea",
     "grade": false,
     "grade_id": "assignment-02-07-spacer",
     "locked": true,
     "schema_version": 3,
     "solution": false,
     "task": false
    }
   },
   "source": [
    "<br />\n",
    "<br />\n",
    "<br />\n",
    "<br />"
   ]
  },
  {
   "cell_type": "markdown",
   "metadata": {
    "deletable": false,
    "editable": false,
    "nbgrader": {
     "cell_type": "markdown",
     "checksum": "79d05749805aec8d00df4752c9a21fc7",
     "grade": false,
     "grade_id": "assignment-02-07-text",
     "locked": true,
     "schema_version": 3,
     "solution": false,
     "task": false
    }
   },
   "source": [
    "# 2.7 Total cost\n",
    "\n",
    "A cupcake costs `dollars` dollars and `cents` cents. Determine, how many dollars and cents should one pay for `number_cupcakes` cupcakes. The function below uses three integer arguments, `dollars`, `cents`, `number_cupcakes`. It should return two integer numbers: total cost in dollars and cents.\n",
    "\n",
    "## Example input\n",
    "\n",
    "```python\n",
    "2\n",
    "50\n",
    "5\n",
    "```\n",
    "\n",
    "## Example return value\n",
    "\n",
    "```python\n",
    "(12, 50)\n",
    "```"
   ]
  },
  {
   "cell_type": "code",
   "execution_count": 62,
   "metadata": {
    "deletable": false,
    "nbgrader": {
     "cell_type": "code",
     "checksum": "98836936cc70e33da54c56572a32b285",
     "grade": false,
     "grade_id": "assignment-02-07-code",
     "locked": false,
     "schema_version": 3,
     "solution": true,
     "task": false
    }
   },
   "outputs": [],
   "source": [
    "# Code for assignment 2.7\n",
    "\n",
    "def assignment_2_7(dollars, cents, number_cupcakes):\n",
    "    # Hint: counting money should be easy for business administration students :-) \n",
    "    # YOUR CODE HERE\n",
    "    dollars = dollars * 100\n",
    "    total_cost = (dollars + cents) * number_cupcakes  \n",
    "    return (total_cost // 100, total_cost % 100) "
   ]
  },
  {
   "cell_type": "code",
   "execution_count": 63,
   "metadata": {
    "deletable": false,
    "editable": false,
    "nbgrader": {
     "cell_type": "code",
     "checksum": "0b536f6e674fc7e350e83d782c078d65",
     "grade": false,
     "grade_id": "assignment-02-07-test",
     "locked": true,
     "schema_version": 3,
     "solution": false,
     "task": false
    }
   },
   "outputs": [
    {
     "name": "stdin",
     "output_type": "stream",
     "text": [
      "Please enter the amount of dollars (Press Enter for default value 2):  \n",
      "Please enter the amount of cents (Press Enter for default value 50):  \n",
      "Please enter number of cupcakes (Press Enter for default value 5):  \n"
     ]
    },
    {
     "name": "stdout",
     "output_type": "stream",
     "text": [
      "\n",
      "The total cost of 5 cupcakes at 2 dollars 50 cents each is:\n",
      "(12, 50)\n"
     ]
    }
   ],
   "source": [
    "# Test for assignment 2.7\n",
    "\n",
    "test_cell_2_7(assignment_2_7)"
   ]
  },
  {
   "cell_type": "code",
   "execution_count": 64,
   "metadata": {
    "deletable": false,
    "editable": false,
    "nbgrader": {
     "cell_type": "code",
     "checksum": "fdb3a4d7972469737f2596f453d4e674",
     "grade": true,
     "grade_id": "assignment-02-07-assert",
     "locked": true,
     "points": 1,
     "schema_version": 3,
     "solution": false,
     "task": false
    }
   },
   "outputs": [
    {
     "name": "stdout",
     "output_type": "stream",
     "text": [
      "Call assignment_2_7(2, 50, 4) ... OK\n",
      "Call assignment_2_7(10, 15, 2) ... OK\n",
      "Call assignment_2_7(3000, 99, 3000) ... OK\n",
      "Call assignment_2_7(2029, 34, 1848) ... OK\n",
      "Call assignment_2_7(1886, 73, 295) ... OK\n",
      "Call assignment_2_7(1069, 40, 1967) ... OK\n",
      "Call assignment_2_7(905, 79, 496) ... OK\n",
      "Call assignment_2_7(1967, 91, 926) ... OK\n",
      "Call assignment_2_7(2255, 76, 1090) ... OK\n",
      "Call assignment_2_7(2435, 6, 1965) ... OK\n",
      "\n",
      "Well done! You seem to have solved assignment_2_7!\n"
     ]
    }
   ],
   "source": [
    "# Assertion for assignment 2.7\n",
    "check_assertion(assignment_2_7)"
   ]
  },
  {
   "cell_type": "markdown",
   "metadata": {
    "deletable": false,
    "editable": false,
    "nbgrader": {
     "cell_type": "markdown",
     "checksum": "4ae056213653d908d315d18c3eae7259",
     "grade": false,
     "grade_id": "assignment-02-08-spacer",
     "locked": true,
     "schema_version": 3,
     "solution": false,
     "task": false
    }
   },
   "source": [
    "<br />\n",
    "<br />\n",
    "<br />\n",
    "<br />"
   ]
  },
  {
   "cell_type": "markdown",
   "metadata": {
    "deletable": false,
    "editable": false,
    "nbgrader": {
     "cell_type": "markdown",
     "checksum": "aa187c4b0c0a8d61ea0d27e03cc671f2",
     "grade": false,
     "grade_id": "assignment-02-08-text",
     "locked": true,
     "schema_version": 3,
     "solution": false,
     "task": false
    }
   },
   "source": [
    "# 2.8 Clock face - 1\n",
    "\n",
    "`hour` hours, `minutes` minutes and `seconds` seconds have passed since midnight (0 ≤ `hours` < 12, 0 ≤ `minutes` < 60, 0 ≤ `seconds` < 60). Determine angle (in degrees) between the hour hand and the top of the clock and return that value.\n",
    "\n",
    "## Example input\n",
    "\n",
    "```python\n",
    "1\n",
    "2\n",
    "6\n",
    "```\n",
    "\n",
    "## Example return value\n",
    "\n",
    "```python\n",
    "31.05\n",
    "```"
   ]
  },
  {
   "cell_type": "code",
   "execution_count": 79,
   "metadata": {
    "deletable": false,
    "nbgrader": {
     "cell_type": "code",
     "checksum": "b36849e23a53717405fbdbe534cd75c6",
     "grade": false,
     "grade_id": "assignment-02-08-code",
     "locked": false,
     "schema_version": 3,
     "solution": true,
     "task": false
    }
   },
   "outputs": [],
   "source": [
    "# Code for assignment 2.8\n",
    "\n",
    "def assignment_2_8(hours, minutes, seconds):\n",
    "    # Again, do not worry about rounding errors in this exercise!\n",
    "    # YOUR CODE HERE\n",
    "    minutes_in_hours = minutes / 60 \n",
    "    seconds_in_hours = seconds / 3600 \n",
    "    total_hours = hours + seconds_in_hours + minutes_in_hours \n",
    "    return (30 * total_hours)\n"
   ]
  },
  {
   "cell_type": "code",
   "execution_count": 80,
   "metadata": {
    "deletable": false,
    "editable": false,
    "nbgrader": {
     "cell_type": "code",
     "checksum": "bf30b508d6d25db7849507986a9fcae0",
     "grade": false,
     "grade_id": "assignment-02-08-test",
     "locked": true,
     "schema_version": 3,
     "solution": false,
     "task": false
    }
   },
   "outputs": [
    {
     "name": "stdin",
     "output_type": "stream",
     "text": [
      "Please enter number of hours (Press Enter for default value 1):  \n",
      "Please enter number of minutes (Press Enter for default value 2):  \n",
      "Please enter number of seconds (Press Enter for default value 6):  \n"
     ]
    },
    {
     "name": "stdout",
     "output_type": "stream",
     "text": [
      "\n",
      "The angle (in degrees) at 01:02:06 is:\n",
      "31.050000000000004\n"
     ]
    }
   ],
   "source": [
    "# Test for assignment 2.8\n",
    "\n",
    "test_cell_2_8(assignment_2_8)"
   ]
  },
  {
   "cell_type": "code",
   "execution_count": 81,
   "metadata": {
    "deletable": false,
    "editable": false,
    "nbgrader": {
     "cell_type": "code",
     "checksum": "ba3db02c70b80f5b852ee60a26de35f2",
     "grade": true,
     "grade_id": "assignment-02-08-assert",
     "locked": true,
     "points": 1,
     "schema_version": 3,
     "solution": false,
     "task": false
    }
   },
   "outputs": [
    {
     "name": "stdout",
     "output_type": "stream",
     "text": [
      "Call assignment_2_8(1, 2, 6) ... OK\n",
      "Call assignment_2_8(1, 0, 0) ... OK\n",
      "Call assignment_2_8(0, 1, 0) ... OK\n",
      "Call assignment_2_8(0, 2, 0) ... OK\n",
      "Call assignment_2_8(0, 2, 1) ... OK\n",
      "Call assignment_2_8(0, 0, 1) ... OK\n",
      "Call assignment_2_8(11, 59, 59) ... OK\n",
      "Call assignment_2_8(7, 18, 49) ... OK\n",
      "Call assignment_2_8(4, 54, 55) ... OK\n",
      "Call assignment_2_8(9, 9, 37) ... OK\n",
      "\n",
      "Well done! You seem to have solved assignment_2_8!\n"
     ]
    }
   ],
   "source": [
    "# Assertion for assignment 2.8\n",
    "\n",
    "check_assertion(assignment_2_8)"
   ]
  },
  {
   "cell_type": "markdown",
   "metadata": {
    "deletable": false,
    "editable": false,
    "nbgrader": {
     "cell_type": "markdown",
     "checksum": "d0ab5921cd22de50bfc6bd4600d1dfd5",
     "grade": false,
     "grade_id": "assignment-02-09-spacer",
     "locked": true,
     "schema_version": 3,
     "solution": false,
     "task": false
    }
   },
   "source": [
    "<br />\n",
    "<br />\n",
    "<br />\n",
    "<br />"
   ]
  },
  {
   "cell_type": "markdown",
   "metadata": {
    "deletable": false,
    "editable": false,
    "nbgrader": {
     "cell_type": "markdown",
     "checksum": "38aba3baea889bc0bcf9e9ee0dfb632a",
     "grade": false,
     "grade_id": "assignment-02-09-text",
     "locked": true,
     "schema_version": 3,
     "solution": false,
     "task": false
    }
   },
   "source": [
    "# 2.9 Clock face - 2\n",
    "\n",
    "Hour hand turned by `degrees` degrees since midnight. Determine the angle by which minute hand turned since the start of the current hour and return that value. Input and output in this problem are floating-point numbers.\n",
    "\n",
    "## Example input\n",
    "\n",
    "```python\n",
    "190.0\n",
    "```\n",
    "\n",
    "## Example return value\n",
    "\n",
    "```python\n",
    "120.0\n",
    "```\n"
   ]
  },
  {
   "cell_type": "code",
   "execution_count": 97,
   "metadata": {
    "deletable": false,
    "nbgrader": {
     "cell_type": "code",
     "checksum": "add497c9b00552246d079c670f4e809f",
     "grade": false,
     "grade_id": "assignment-02-09-code",
     "locked": false,
     "schema_version": 3,
     "solution": true,
     "task": false
    }
   },
   "outputs": [],
   "source": [
    "# Code for assignment 2.9\n",
    "def assignment_2_9(degrees):\n",
    "    # YOUR CODE HERE\n",
    "    angle_past_hour = degrees % 30 \n",
    "    angle_minutes_hand = angle_past_hour * 12\n",
    "    return(angle_minutes_hand)\n",
    "    \n",
    "    "
   ]
  },
  {
   "cell_type": "code",
   "execution_count": 98,
   "metadata": {
    "deletable": false,
    "editable": false,
    "nbgrader": {
     "cell_type": "code",
     "checksum": "cf67af5ac2f8b4363fa1fa212a3483e6",
     "grade": false,
     "grade_id": "assignment-02-09-test",
     "locked": true,
     "schema_version": 3,
     "solution": false,
     "task": false
    }
   },
   "outputs": [
    {
     "name": "stdin",
     "output_type": "stream",
     "text": [
      "Please enter hour hand degrees after midnight (Press Enter for default value 190.0):  \n"
     ]
    },
    {
     "name": "stdout",
     "output_type": "stream",
     "text": [
      "\n",
      "For an hour hand angle of 190.0 degrees, the number of degrees for the minute hand are:\n",
      "120.0\n"
     ]
    }
   ],
   "source": [
    "# Test for assignment 2.9\n",
    "\n",
    "test_cell_2_9(assignment_2_9)"
   ]
  },
  {
   "cell_type": "code",
   "execution_count": 99,
   "metadata": {
    "deletable": false,
    "editable": false,
    "nbgrader": {
     "cell_type": "code",
     "checksum": "4b1a4cd2349775d40adde7356d6c88a2",
     "grade": true,
     "grade_id": "assignment-02-09-assert",
     "locked": true,
     "points": 1,
     "schema_version": 3,
     "solution": false,
     "task": false
    }
   },
   "outputs": [
    {
     "name": "stdout",
     "output_type": "stream",
     "text": [
      "Call assignment_2_9(190.0) ... OK\n",
      "Call assignment_2_9(5.0) ... OK\n",
      "Call assignment_2_9(10.0) ... OK\n",
      "Call assignment_2_9(15.0) ... OK\n",
      "Call assignment_2_9(20.0) ... OK\n",
      "Call assignment_2_9(25.0) ... OK\n",
      "Call assignment_2_9(29.0) ... OK\n",
      "Call assignment_2_9(360.0) ... OK\n",
      "Call assignment_2_9(700.0) ... OK\n",
      "\n",
      "Well done! You seem to have solved assignment_2_9!\n"
     ]
    }
   ],
   "source": [
    "# Assertion for assignment 2.9\n",
    "\n",
    "check_assertion(assignment_2_9)"
   ]
  }
 ],
 "metadata": {
  "kernelspec": {
   "display_name": "Python 3 (ipykernel)",
   "language": "python",
   "name": "python3"
  },
  "language_info": {
   "codemirror_mode": {
    "name": "ipython",
    "version": 3
   },
   "file_extension": ".py",
   "mimetype": "text/x-python",
   "name": "python",
   "nbconvert_exporter": "python",
   "pygments_lexer": "ipython3",
   "version": "3.9.18"
  }
 },
 "nbformat": 4,
 "nbformat_minor": 4
}
