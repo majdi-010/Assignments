{
 "cells": [
  {
   "cell_type": "markdown",
   "metadata": {
    "deletable": false,
    "editable": false,
    "nbgrader": {
     "cell_type": "markdown",
     "checksum": "65e6d1f378f173ce92fe2f262be75f56",
     "grade": false,
     "grade_id": "introduction",
     "locked": true,
     "schema_version": 3,
     "solution": false,
     "task": false
    }
   },
   "source": [
    "# 6. While loop\n",
    "\n",
    "This Jupyter Notebook contains the [problems, or assignments, for Lesson 6](https://snakify.org/en/lessons/while_loop/problems/), gratefully imported from the online course on [Snakify](https://snakify.org). If you get stuck, you can either ask the teacher and the teaching assistents, or skim through the [theory](https://snakify.org/en/lessons/while_loop/) and [explanation of the steps](https://snakify.org/en/lessons/while_loop/steps/1/) on Snakify."
   ]
  },
  {
   "cell_type": "code",
   "execution_count": 2,
   "metadata": {
    "deletable": false,
    "editable": false,
    "nbgrader": {
     "cell_type": "code",
     "checksum": "3d552f5c4c39249e5750262df758b85c",
     "grade": false,
     "grade_id": "import-assert",
     "locked": true,
     "schema_version": 3,
     "solution": false,
     "task": false
    }
   },
   "outputs": [
    {
     "name": "stdout",
     "output_type": "stream",
     "text": [
      "Assertions imported OK\n",
      "Test cells imported OK\n"
     ]
    }
   ],
   "source": [
    "# Please run the contents of this cell.\n",
    "# Select this cell and press Ctrl-Enter (or Command-Enter on mac).\n",
    "\n",
    "from assertions import *\n",
    "from test_cells import *"
   ]
  },
  {
   "cell_type": "markdown",
   "metadata": {
    "deletable": false,
    "editable": false,
    "nbgrader": {
     "cell_type": "markdown",
     "checksum": "ec436da63154672af121219e20336d41",
     "grade": false,
     "grade_id": "assignment-06-01-spacer",
     "locked": true,
     "schema_version": 3,
     "solution": false,
     "task": false
    }
   },
   "source": [
    "<br />\n",
    "<br />\n",
    "<br />\n",
    "<br />"
   ]
  },
  {
   "cell_type": "markdown",
   "metadata": {
    "deletable": false,
    "editable": false,
    "nbgrader": {
     "cell_type": "markdown",
     "checksum": "ab7b13d0c9d09efc1a676edb0af691e8",
     "grade": false,
     "grade_id": "assignment-06-01-text",
     "locked": true,
     "schema_version": 3,
     "solution": false,
     "task": false
    }
   },
   "source": [
    "# 6.1 List of squares\n",
    "\n",
    "For a given integer `n`, return a list with all the squares of integer numbers where the square is less than or equal to `n`, in ascending order.\n",
    "\n",
    "## Example input\n",
    "\n",
    "```python\n",
    "50\n",
    "```\n",
    "\n",
    "## Example return value\n",
    "\n",
    "```python\n",
    "[1, 4, 9, 16, 25, 36, 49]\n",
    "```"
   ]
  },
  {
   "cell_type": "code",
   "execution_count": 7,
   "metadata": {
    "deletable": false,
    "nbgrader": {
     "cell_type": "code",
     "checksum": "f67e2d342d6d417ee7ae95e54ae1d00d",
     "grade": false,
     "grade_id": "assignment-06-01-code",
     "locked": false,
     "schema_version": 3,
     "solution": true,
     "task": false
    }
   },
   "outputs": [],
   "source": [
    "# Code for assignment 6.1\n",
    "\n",
    "def assignment_6_1(n):\n",
    "    number = 1\n",
    "    squares = []\n",
    "    while number ** 2 <= n: \n",
    "        squares.append(number**2)\n",
    "        number +=1\n",
    "    \n",
    "    return squares \n",
    "        "
   ]
  },
  {
   "cell_type": "code",
   "execution_count": 8,
   "metadata": {
    "deletable": false,
    "editable": false,
    "nbgrader": {
     "cell_type": "code",
     "checksum": "a1fdf278e32d252991ea590359c7c67a",
     "grade": false,
     "grade_id": "assignment-06-01-test",
     "locked": true,
     "schema_version": 3,
     "solution": false,
     "task": false
    }
   },
   "outputs": [
    {
     "name": "stdin",
     "output_type": "stream",
     "text": [
      "Please enter integer value N (Press Enter for default value 50):  \n"
     ]
    },
    {
     "name": "stdout",
     "output_type": "stream",
     "text": [
      "\n",
      "The resulting list with all squares up to n=50 (inclusive) is:\n",
      "[1, 4, 9, 16, 25, 36, 49]\n"
     ]
    }
   ],
   "source": [
    "# Test for assignment 6.1\n",
    "\n",
    "test_cell_6_1(assignment_6_1)"
   ]
  },
  {
   "cell_type": "code",
   "execution_count": 9,
   "metadata": {
    "deletable": false,
    "editable": false,
    "nbgrader": {
     "cell_type": "code",
     "checksum": "bca8c7d7e7de47349365c60ab0a3048d",
     "grade": true,
     "grade_id": "assignment-06-01-assert",
     "locked": true,
     "points": 1,
     "schema_version": 3,
     "solution": false,
     "task": false
    }
   },
   "outputs": [
    {
     "name": "stdout",
     "output_type": "stream",
     "text": [
      "Call assignment_6_1(50) ... OK\n",
      "Call assignment_6_1(10) ... OK\n",
      "Call assignment_6_1(9) ... OK\n",
      "Call assignment_6_1(4) ... OK\n",
      "Call assignment_6_1(1) ... OK\n",
      "Call assignment_6_1(100) ... OK\n",
      "Call assignment_6_1(99) ... OK\n",
      "\n",
      "Well done! You seem to have solved assignment_6_1!\n"
     ]
    }
   ],
   "source": [
    "# Assertion for assignment 6.1\n",
    "\n",
    "check_assertion(assignment_6_1)"
   ]
  },
  {
   "cell_type": "markdown",
   "metadata": {
    "deletable": false,
    "editable": false,
    "nbgrader": {
     "cell_type": "markdown",
     "checksum": "f50a36c7998b9b2f3a3a9661db815ae1",
     "grade": false,
     "grade_id": "assignment-06-02-spacer",
     "locked": true,
     "schema_version": 3,
     "solution": false,
     "task": false
    }
   },
   "source": [
    "<br />\n",
    "<br />\n",
    "<br />\n",
    "<br />"
   ]
  },
  {
   "cell_type": "markdown",
   "metadata": {
    "deletable": false,
    "editable": false,
    "nbgrader": {
     "cell_type": "markdown",
     "checksum": "bf133dc41286fec706b59db1f97c4b8a",
     "grade": false,
     "grade_id": "assignment-06-02-text",
     "locked": true,
     "schema_version": 3,
     "solution": false,
     "task": false
    }
   },
   "source": [
    "# 6.2 Least divisor\n",
    "\n",
    "Given an integer `n`, which you may assume will be greater than `1`. Return its smallest integer divisor greater than `1`.\n",
    "\n",
    "## Example input\n",
    "\n",
    "```python\n",
    "15\n",
    "```\n",
    "\n",
    "## Example return value\n",
    "\n",
    "```python\n",
    "3\n",
    "```"
   ]
  },
  {
   "cell_type": "code",
   "execution_count": 10,
   "metadata": {
    "deletable": false,
    "nbgrader": {
     "cell_type": "code",
     "checksum": "65e49f9c897b2c2d51c79227ddaf8136",
     "grade": false,
     "grade_id": "assignment-06-02-code",
     "locked": false,
     "schema_version": 3,
     "solution": true,
     "task": false
    }
   },
   "outputs": [],
   "source": [
    "# Code for assignment 6.2\n",
    "\n",
    "def assignment_6_2(n):\n",
    "    div = 2\n",
    "    while n % div != 0: \n",
    "        div += 1\n",
    "        continue\n",
    "    else: \n",
    "        return div \n",
    "        "
   ]
  },
  {
   "cell_type": "code",
   "execution_count": 11,
   "metadata": {
    "deletable": false,
    "editable": false,
    "nbgrader": {
     "cell_type": "code",
     "checksum": "a36ba02bb82548e607670890e13744c6",
     "grade": false,
     "grade_id": "assignment-06-02-test",
     "locked": true,
     "schema_version": 3,
     "solution": false,
     "task": false
    }
   },
   "outputs": [
    {
     "name": "stdin",
     "output_type": "stream",
     "text": [
      "Please enter an integer not smaller than 2 (n) (Press Enter for default value 15):  \n"
     ]
    },
    {
     "name": "stdout",
     "output_type": "stream",
     "text": [
      "\n",
      "The least divisor for n=15 is:\n",
      "3\n"
     ]
    }
   ],
   "source": [
    "# Test for assignment 6.2\n",
    "\n",
    "test_cell_6_2(assignment_6_2)"
   ]
  },
  {
   "cell_type": "code",
   "execution_count": 12,
   "metadata": {
    "deletable": false,
    "editable": false,
    "nbgrader": {
     "cell_type": "code",
     "checksum": "716e13d107ff658c1a1927f3f53d6248",
     "grade": true,
     "grade_id": "assignment-06-02-assert",
     "locked": true,
     "points": 1,
     "schema_version": 3,
     "solution": false,
     "task": false
    }
   },
   "outputs": [
    {
     "name": "stdout",
     "output_type": "stream",
     "text": [
      "Call assignment_6_2(15) ... OK\n",
      "Call assignment_6_2(2) ... OK\n",
      "Call assignment_6_2(3) ... OK\n",
      "Call assignment_6_2(4) ... OK\n",
      "Call assignment_6_2(5) ... OK\n",
      "Call assignment_6_2(6) ... OK\n",
      "Call assignment_6_2(7) ... OK\n",
      "Call assignment_6_2(8) ... OK\n",
      "Call assignment_6_2(35) ... OK\n",
      "Call assignment_6_2(55) ... OK\n",
      "Call assignment_6_2(179) ... OK\n",
      "\n",
      "Well done! You seem to have solved assignment_6_2!\n"
     ]
    }
   ],
   "source": [
    "# Assertion for assignment 6.2\n",
    "\n",
    "check_assertion(assignment_6_2)"
   ]
  },
  {
   "cell_type": "markdown",
   "metadata": {
    "deletable": false,
    "editable": false,
    "nbgrader": {
     "cell_type": "markdown",
     "checksum": "ed5c60458bed3395a11b78333e33116f",
     "grade": false,
     "grade_id": "assignment-06-03-spacer",
     "locked": true,
     "schema_version": 3,
     "solution": false,
     "task": false
    }
   },
   "source": [
    "<br />\n",
    "<br />\n",
    "<br />\n",
    "<br />"
   ]
  },
  {
   "cell_type": "markdown",
   "metadata": {
    "deletable": false,
    "editable": false,
    "nbgrader": {
     "cell_type": "markdown",
     "checksum": "fdfdcf4813a597c1df0a495bcb802134",
     "grade": false,
     "grade_id": "assignment-06-03-text",
     "locked": true,
     "schema_version": 3,
     "solution": false,
     "task": false
    }
   },
   "source": [
    "# 6.3 The power of two\n",
    "\n",
    "For a given integer $n$, find the greatest integer $x$ where ${2}^{x}$ is less than or equal to $n$. Return the exponent value $x$ and the result of the expression ${2}^{x}$ as a tuple.\n",
    "\n",
    "## Example input\n",
    "\n",
    "```python\n",
    "50\n",
    "```\n",
    "\n",
    "## Example return value\n",
    "\n",
    "```python\n",
    "(5, 32)\n",
    "```"
   ]
  },
  {
   "cell_type": "code",
   "execution_count": 14,
   "metadata": {
    "deletable": false,
    "nbgrader": {
     "cell_type": "code",
     "checksum": "b32c77e89497543e6ef0c2514fdb106c",
     "grade": false,
     "grade_id": "assignment-06-03-code",
     "locked": false,
     "schema_version": 3,
     "solution": true,
     "task": false
    }
   },
   "outputs": [],
   "source": [
    "# Code for assignment 6.3\n",
    "\n",
    "def assignment_6_3(n):\n",
    "    exp = 1\n",
    "    while 2**exp <= n: \n",
    "        exp += 1\n",
    "    else:\n",
    "        return (exp-1, 2**(exp-1))"
   ]
  },
  {
   "cell_type": "code",
   "execution_count": 15,
   "metadata": {
    "deletable": false,
    "editable": false,
    "nbgrader": {
     "cell_type": "code",
     "checksum": "62fe57262e54d9fcee3bbd026e89ff3c",
     "grade": false,
     "grade_id": "assignment-06-03-test",
     "locked": true,
     "schema_version": 3,
     "solution": false,
     "task": false
    }
   },
   "outputs": [
    {
     "name": "stdin",
     "output_type": "stream",
     "text": [
      "Please enter an integer number (n) (Press Enter for default value 50):  \n"
     ]
    },
    {
     "name": "stdout",
     "output_type": "stream",
     "text": [
      "\n",
      "The greatest integer x for n=50 and the result of the expression are:\n",
      "(5, 32)\n"
     ]
    }
   ],
   "source": [
    "# Test for assignment 6.3\n",
    "\n",
    "test_cell_6_3(assignment_6_3)"
   ]
  },
  {
   "cell_type": "code",
   "execution_count": 16,
   "metadata": {
    "deletable": false,
    "editable": false,
    "nbgrader": {
     "cell_type": "code",
     "checksum": "184a21e280a227d5d0208b0ac00b663a",
     "grade": true,
     "grade_id": "assignment-06-03-assert",
     "locked": true,
     "points": 1,
     "schema_version": 3,
     "solution": false,
     "task": false
    }
   },
   "outputs": [
    {
     "name": "stdout",
     "output_type": "stream",
     "text": [
      "Call assignment_6_3(50) ... OK\n",
      "Call assignment_6_3(10) ... OK\n",
      "Call assignment_6_3(8) ... OK\n",
      "Call assignment_6_3(7) ... OK\n",
      "Call assignment_6_3(1) ... OK\n",
      "Call assignment_6_3(2) ... OK\n",
      "Call assignment_6_3(3) ... OK\n",
      "Call assignment_6_3(4) ... OK\n",
      "Call assignment_6_3(5) ... OK\n",
      "Call assignment_6_3(100) ... OK\n",
      "Call assignment_6_3(1025) ... OK\n",
      "Call assignment_6_3(15431543) ... OK\n",
      "\n",
      "Well done! You seem to have solved assignment_6_3!\n"
     ]
    }
   ],
   "source": [
    "# Assertion for assignment 6.3\n",
    "\n",
    "check_assertion(assignment_6_3)"
   ]
  },
  {
   "cell_type": "markdown",
   "metadata": {
    "deletable": false,
    "editable": false,
    "nbgrader": {
     "cell_type": "markdown",
     "checksum": "2771889a28babc9e86cb491bb539ecf3",
     "grade": false,
     "grade_id": "assignment-06-04-spacer",
     "locked": true,
     "schema_version": 3,
     "solution": false,
     "task": false
    }
   },
   "source": [
    "<br />\n",
    "<br />\n",
    "<br />\n",
    "<br />"
   ]
  },
  {
   "cell_type": "markdown",
   "metadata": {
    "deletable": false,
    "editable": false,
    "nbgrader": {
     "cell_type": "markdown",
     "checksum": "fe38c50f0da722a9b8012284e3171e06",
     "grade": false,
     "grade_id": "assignment-06-04-text",
     "locked": true,
     "schema_version": 3,
     "solution": false,
     "task": false
    }
   },
   "source": [
    "# 6.4 Morning jog\n",
    "As a future athlete you just started your practice for an upcoming event. Given that on the first day you run `miles_day_one` miles, and by the event you must be able to run `miles_total` miles.\n",
    "\n",
    "Calculate the number of days required for you to finally reach the required distance for the event, if you increases your distance each day by 10% from the previous day.\n",
    "\n",
    "Return one integer representing the number of days to reach the required distance.\n",
    "\n",
    "## Example input\n",
    "\n",
    "```python\n",
    "10\n",
    "20\n",
    "```\n",
    "\n",
    "## Example return value\n",
    "\n",
    "```python\n",
    "9\n",
    "```"
   ]
  },
  {
   "cell_type": "code",
   "execution_count": 54,
   "metadata": {
    "deletable": false,
    "nbgrader": {
     "cell_type": "code",
     "checksum": "752887bdd13369f52f3c2569a4176b54",
     "grade": false,
     "grade_id": "assignment-06-04-code",
     "locked": false,
     "schema_version": 3,
     "solution": true,
     "task": false
    }
   },
   "outputs": [],
   "source": [
    "# Code for assignment 6.4\n",
    "\n",
    "def assignment_6_4(miles_day_one, miles_total):\n",
    "    days = 1\n",
    "    next_day = miles_day_one\n",
    "    while next_day < miles_total:\n",
    "        next_day = next_day * 1.1\n",
    "        days += 1 \n",
    "    return days"
   ]
  },
  {
   "cell_type": "code",
   "execution_count": 55,
   "metadata": {
    "deletable": false,
    "editable": false,
    "nbgrader": {
     "cell_type": "code",
     "checksum": "ff94c375040d2d5c085da2b5b2a4d461",
     "grade": false,
     "grade_id": "assignment-06-04-test",
     "locked": true,
     "schema_version": 3,
     "solution": false,
     "task": false
    }
   },
   "outputs": [
    {
     "name": "stdin",
     "output_type": "stream",
     "text": [
      "Please enter the number of miles run on the first day (Press Enter for default value 10):  \n",
      "Please enter the number of miles needed to run during the event (Press Enter for default value 20):  \n"
     ]
    },
    {
     "name": "stdout",
     "output_type": "stream",
     "text": [
      "\n",
      "Going from 10 miles to 20 miles per day with an increase of 10% per day will take 9 days.\n"
     ]
    }
   ],
   "source": [
    "# Test for assignment 6.4\n",
    "\n",
    "test_cell_6_4(assignment_6_4)"
   ]
  },
  {
   "cell_type": "code",
   "execution_count": 56,
   "metadata": {
    "deletable": false,
    "editable": false,
    "nbgrader": {
     "cell_type": "code",
     "checksum": "4dc7f0fae651a386079d883e00eecec4",
     "grade": true,
     "grade_id": "assignment-06-04-assert",
     "locked": true,
     "points": 1,
     "schema_version": 3,
     "solution": false,
     "task": false
    }
   },
   "outputs": [
    {
     "name": "stdout",
     "output_type": "stream",
     "text": [
      "Call assignment_6_4(10, 20) ... OK\n",
      "Call assignment_6_4(10, 30) ... OK\n",
      "Call assignment_6_4(10, 100) ... OK\n",
      "Call assignment_6_4(10, 10) ... OK\n",
      "Call assignment_6_4(100, 101) ... OK\n",
      "Call assignment_6_4(100, 99) ... OK\n",
      "Call assignment_6_4(1, 1000) ... OK\n",
      "Call assignment_6_4(10, 11) ... OK\n",
      "Call assignment_6_4(100, 121) ... OK\n",
      "\n",
      "Well done! You seem to have solved assignment_6_4!\n"
     ]
    }
   ],
   "source": [
    "# Assertion for assignment 6.4\n",
    "\n",
    "check_assertion(assignment_6_4)"
   ]
  },
  {
   "cell_type": "markdown",
   "metadata": {
    "deletable": false,
    "editable": false,
    "nbgrader": {
     "cell_type": "markdown",
     "checksum": "c767d59e907afc3c89dca1f778c07c4e",
     "grade": false,
     "grade_id": "assignment-06-05-spacer",
     "locked": true,
     "schema_version": 3,
     "solution": false,
     "task": false
    }
   },
   "source": [
    "<br />\n",
    "<br />\n",
    "<br />\n",
    "<br />"
   ]
  },
  {
   "cell_type": "markdown",
   "metadata": {
    "deletable": false,
    "editable": false,
    "nbgrader": {
     "cell_type": "markdown",
     "checksum": "baec902cf969ec16ab4df32388e5a1c6",
     "grade": false,
     "grade_id": "assignment-06-05-text",
     "locked": true,
     "schema_version": 3,
     "solution": false,
     "task": false
    }
   },
   "source": [
    "## 6.5 The length of a sequence\n",
    "\n",
    "Given a sequence of non-negative integers, which are entered by the user as follows:\n",
    "```python\n",
    "numbers = []\n",
    "while True:\n",
    "    number = int(input('Enter a number (0 to stop): '))\n",
    "    if number == 0:\n",
    "        break\n",
    "    numbers.append(number)\n",
    "    \n",
    "### Your code below here\n",
    "...\n",
    "\n",
    "```\n",
    "You can use this in your implementation: it will ask the user for numbers until she enters a `0` to terminate the sequence.\n",
    "\n",
    "Determine the length of the sequence obtained from the user. Return the length of the sequence (not counting the final `0`).\n",
    "\n",
    "## Example input\n",
    "\n",
    "```python\n",
    "1\n",
    "7\n",
    "9\n",
    "0\n",
    "```\n",
    "\n",
    "## Example return value\n",
    "\n",
    "```python\n",
    "3\n",
    "```"
   ]
  },
  {
   "cell_type": "code",
   "execution_count": 64,
   "metadata": {
    "deletable": false,
    "nbgrader": {
     "cell_type": "code",
     "checksum": "f8720f25bbf206d689949791070916d5",
     "grade": false,
     "grade_id": "assignment-06-05-code",
     "locked": false,
     "schema_version": 3,
     "solution": true,
     "task": false
    }
   },
   "outputs": [],
   "source": [
    "# Code for assignment 6.5\n",
    "\n",
    "def assignment_6_5():\n",
    "    numbers = []\n",
    "    while True:\n",
    "        number = int(input('Enter a number (0 to stop): '))\n",
    "        if number == 0:\n",
    "            break\n",
    "        numbers.append(number)\n",
    "    \n",
    "    return len(numbers)"
   ]
  },
  {
   "cell_type": "code",
   "execution_count": 65,
   "metadata": {
    "deletable": false,
    "editable": false,
    "nbgrader": {
     "cell_type": "code",
     "checksum": "1f0602ab5bbfbb800e03097201566fef",
     "grade": false,
     "grade_id": "assignment-06-05-test",
     "locked": true,
     "schema_version": 3,
     "solution": false,
     "task": false
    }
   },
   "outputs": [
    {
     "name": "stdin",
     "output_type": "stream",
     "text": [
      "Enter a number (0 to stop):  6\n",
      "Enter a number (0 to stop):  7\n",
      "Enter a number (0 to stop):  8\n",
      "Enter a number (0 to stop):  0\n"
     ]
    },
    {
     "name": "stdout",
     "output_type": "stream",
     "text": [
      "\n",
      "The length of sequence before the 0 is: 3\n"
     ]
    }
   ],
   "source": [
    "# Test for assignment 6.5\n",
    "\n",
    "test_cell_6_5(assignment_6_5)"
   ]
  },
  {
   "cell_type": "code",
   "execution_count": 66,
   "metadata": {
    "deletable": false,
    "editable": false,
    "nbgrader": {
     "cell_type": "code",
     "checksum": "d8c022b5711c95930ee4bd140dae2762",
     "grade": true,
     "grade_id": "assignment-06-05-assert",
     "locked": true,
     "points": 1,
     "schema_version": 3,
     "solution": false,
     "task": false
    }
   },
   "outputs": [
    {
     "name": "stdout",
     "output_type": "stream",
     "text": [
      "Call assignment_6_5()\n",
      "  with inputs ('1', '7', '9', '0', '5') ... OK\n",
      "Call assignment_6_5()\n",
      "  with inputs ('1', '2', '3', '4', '5', '6', '7', '0', '1', '2', '3') ... OK\n",
      "Call assignment_6_5()\n",
      "  with inputs ('100', '0') ... OK\n",
      "Call assignment_6_5()\n",
      "  with inputs ('0',) ... OK\n",
      "Call assignment_6_5()\n",
      "  with inputs ('5', '2', '8', '0', '1', '4', '4', '3', '2', '0', '5', '0', '0') ... OK\n",
      "\n",
      "Well done! You seem to have solved assignment_6_5!\n"
     ]
    }
   ],
   "source": [
    "# Assertion for assignment 6.5\n",
    "\n",
    "check_assertion(assignment_6_5)"
   ]
  },
  {
   "cell_type": "markdown",
   "metadata": {
    "deletable": false,
    "editable": false,
    "nbgrader": {
     "cell_type": "markdown",
     "checksum": "1d91e861fe8814fd3bd074e92e7b0b1c",
     "grade": false,
     "grade_id": "assignment-06-06-spacer",
     "locked": true,
     "schema_version": 3,
     "solution": false,
     "task": false
    }
   },
   "source": [
    "<br />\n",
    "<br />\n",
    "<br />\n",
    "<br />"
   ]
  },
  {
   "cell_type": "markdown",
   "metadata": {
    "deletable": false,
    "editable": false,
    "nbgrader": {
     "cell_type": "markdown",
     "checksum": "556325cd461654be714df7c1fa09ad9e",
     "grade": false,
     "grade_id": "assignment-06-06-text",
     "locked": true,
     "schema_version": 3,
     "solution": false,
     "task": false
    }
   },
   "source": [
    "# 6.6 The sum of the sequence\n",
    "\n",
    "Determine the sum of all elements in the sequence, ending with the number `0`. Like in the previous assignment, make use of a construction with:\n",
    "\n",
    "```python\n",
    "number = int(input('Enter a number (0 to stop): '))\n",
    "```\n",
    "together with `while`. Return the sum.\n",
    "\n",
    "## Example input\n",
    "\n",
    "```python\n",
    "1\n",
    "7\n",
    "9\n",
    "0\n",
    "```\n",
    "\n",
    "## Example return value\n",
    "\n",
    "```python\n",
    "17\n",
    "```"
   ]
  },
  {
   "cell_type": "code",
   "execution_count": 72,
   "metadata": {
    "deletable": false,
    "nbgrader": {
     "cell_type": "code",
     "checksum": "26a1fe50334693a19185dc5ee27a5b43",
     "grade": false,
     "grade_id": "assignment-06-06-code",
     "locked": false,
     "schema_version": 3,
     "solution": true,
     "task": false
    }
   },
   "outputs": [],
   "source": [
    "# Code for assignment 6.6\n",
    "\n",
    "def assignment_6_6():\n",
    "    numbers = []\n",
    "    while True:\n",
    "        number = int(input('Enter a number (0 to stop): '))\n",
    "        if number == 0:\n",
    "            break\n",
    "        numbers.append(number)\n",
    "    \n",
    "    return sum(numbers)"
   ]
  },
  {
   "cell_type": "code",
   "execution_count": 73,
   "metadata": {
    "deletable": false,
    "editable": false,
    "nbgrader": {
     "cell_type": "code",
     "checksum": "071bb61c9e135b90b594a9efa8b42f4a",
     "grade": false,
     "grade_id": "assignment-06-06-test",
     "locked": true,
     "schema_version": 3,
     "solution": false,
     "task": false
    }
   },
   "outputs": [
    {
     "name": "stdin",
     "output_type": "stream",
     "text": [
      "Enter a number (0 to stop):  5 \n",
      "Enter a number (0 to stop):  6\n",
      "Enter a number (0 to stop):  0\n"
     ]
    },
    {
     "name": "stdout",
     "output_type": "stream",
     "text": [
      "\n",
      "The sum of the numbers in the sequence before the 0 is: 11\n"
     ]
    }
   ],
   "source": [
    "# Test for assignment 6.6\n",
    "\n",
    "test_cell_6_6(assignment_6_6)"
   ]
  },
  {
   "cell_type": "code",
   "execution_count": 74,
   "metadata": {
    "deletable": false,
    "editable": false,
    "nbgrader": {
     "cell_type": "code",
     "checksum": "93f8df21e84a24cc242ece4f129575d8",
     "grade": true,
     "grade_id": "assignment-06-06-assert",
     "locked": true,
     "points": 1,
     "schema_version": 3,
     "solution": false,
     "task": false
    }
   },
   "outputs": [
    {
     "name": "stdout",
     "output_type": "stream",
     "text": [
      "Call assignment_6_6()\n",
      "  with inputs ('1', '7', '9', '0') ... OK\n",
      "Call assignment_6_6()\n",
      "  with inputs ('1', '1', '1', '1', '1', '1', '1', '1', '1', '0') ... OK\n",
      "Call assignment_6_6()\n",
      "  with inputs ('34', '2345', '2345', '2345', '2345', '345', '3', '345', '3', '345', '1', '3', '424', '5', '453', '0') ... OK\n",
      "Call assignment_6_6()\n",
      "  with inputs ('7883', '0') ... OK\n",
      "Call assignment_6_6()\n",
      "  with inputs ('0',) ... OK\n",
      "Call assignment_6_6()\n",
      "  with inputs ('1', '2', '3', '4', '5', '6', '7', '0') ... OK\n",
      "Call assignment_6_6()\n",
      "  with inputs ('1', '2', '3', '4', '0') ... OK\n",
      "Call assignment_6_6()\n",
      "  with inputs ('0',) ... OK\n",
      "Call assignment_6_6()\n",
      "  with inputs ('1', '0') ... OK\n",
      "\n",
      "Well done! You seem to have solved assignment_6_6!\n"
     ]
    }
   ],
   "source": [
    "# Code for assignment 6.6\n",
    "\n",
    "check_assertion(assignment_6_6)"
   ]
  },
  {
   "cell_type": "markdown",
   "metadata": {
    "deletable": false,
    "editable": false,
    "nbgrader": {
     "cell_type": "markdown",
     "checksum": "3883beb1b955702fa1d3b04565a77fbd",
     "grade": false,
     "grade_id": "assignment-06-07-spacer",
     "locked": true,
     "schema_version": 3,
     "solution": false,
     "task": false
    }
   },
   "source": [
    "<br />\n",
    "<br />\n",
    "<br />\n",
    "<br />"
   ]
  },
  {
   "cell_type": "markdown",
   "metadata": {
    "deletable": false,
    "editable": false,
    "nbgrader": {
     "cell_type": "markdown",
     "checksum": "76f589261b4b4166f56dbdeae3aa7d7d",
     "grade": false,
     "grade_id": "assignment-06-07-text",
     "locked": true,
     "schema_version": 3,
     "solution": false,
     "task": false
    }
   },
   "source": [
    "# 6.7 The average of the sequence\n",
    "\n",
    "Determine the average of all elements of the sequence ending with the number `0`. Like in the previous assignment, make use of a construction with:\n",
    "```python\n",
    "number = int(input('Enter a number (0 to stop): '))\n",
    "```\n",
    "together with `while`. Return the average as a floating point number.\n",
    "\n",
    "## Example input\n",
    "\n",
    "```python\n",
    "1\n",
    "7\n",
    "9\n",
    "0\n",
    "```\n",
    "\n",
    "## Example return value\n",
    "\n",
    "```python\n",
    "5.666666666666667\n",
    "```"
   ]
  },
  {
   "cell_type": "code",
   "execution_count": 75,
   "metadata": {
    "deletable": false,
    "nbgrader": {
     "cell_type": "code",
     "checksum": "eb8f8fd969a167b2f674b38a0e977afa",
     "grade": false,
     "grade_id": "assignment-06-07-code",
     "locked": false,
     "schema_version": 3,
     "solution": true,
     "task": false
    }
   },
   "outputs": [],
   "source": [
    "# Code for assignment 6.7\n",
    "\n",
    "def assignment_6_7():\n",
    "    numbers = []\n",
    "    while True:\n",
    "        number = int(input('Enter a number (0 to stop): '))\n",
    "        if number == 0:\n",
    "            break\n",
    "        numbers.append(number)\n",
    "    \n",
    "    return sum(numbers) / len(numbers)"
   ]
  },
  {
   "cell_type": "code",
   "execution_count": 76,
   "metadata": {
    "deletable": false,
    "editable": false,
    "nbgrader": {
     "cell_type": "code",
     "checksum": "5b5d770ff53e43d6737d84f57f827429",
     "grade": false,
     "grade_id": "assignment-06-07-test",
     "locked": true,
     "schema_version": 3,
     "solution": false,
     "task": false
    }
   },
   "outputs": [
    {
     "name": "stdin",
     "output_type": "stream",
     "text": [
      "Enter a number (0 to stop):  5\n",
      "Enter a number (0 to stop):   4\n",
      "Enter a number (0 to stop):  3\n",
      "Enter a number (0 to stop):  2\n",
      "Enter a number (0 to stop):  65\n",
      "Enter a number (0 to stop):  0\n"
     ]
    },
    {
     "name": "stdout",
     "output_type": "stream",
     "text": [
      "\n",
      "The average of the numbers in the sequence before the 0 is: 15.8\n"
     ]
    }
   ],
   "source": [
    "# Test for assignment 6.7\n",
    "\n",
    "test_cell_6_7(assignment_6_7)"
   ]
  },
  {
   "cell_type": "code",
   "execution_count": 77,
   "metadata": {
    "deletable": false,
    "editable": false,
    "nbgrader": {
     "cell_type": "code",
     "checksum": "07356e5a20ad6cd8d988532148e6ad7c",
     "grade": true,
     "grade_id": "assignment-06-07-assert",
     "locked": true,
     "points": 1,
     "schema_version": 3,
     "solution": false,
     "task": false
    }
   },
   "outputs": [
    {
     "name": "stdout",
     "output_type": "stream",
     "text": [
      "Call assignment_6_7()\n",
      "  with inputs ('1', '7', '9', '0') ... OK\n",
      "Call assignment_6_7()\n",
      "  with inputs ('1', '1', '1', '1', '1', '1', '1', '1', '1', '0') ... OK\n",
      "Call assignment_6_7()\n",
      "  with inputs ('34', '2345', '2345', '2345', '2345', '345', '3', '345', '3', '345', '1', '3', '424', '5', '453', '0') ... OK\n",
      "Call assignment_6_7()\n",
      "  with inputs ('7883', '0') ... OK\n",
      "Call assignment_6_7()\n",
      "  with inputs ('1', '2', '3', '-6', '0') ... OK\n",
      "Call assignment_6_7()\n",
      "  with inputs ('1', '2', '3', '4', '5', '6', '7', '0') ... OK\n",
      "Call assignment_6_7()\n",
      "  with inputs ('1', '2', '3', '4', '0', '5', '6', '7', '0', '8', '9', '0', '0') ... OK\n",
      "Call assignment_6_7()\n",
      "  with inputs ('5', '3', '6', '7', '4', '2', '4', '5', '6', '7', '4', '3', '4', '6', '7', '4', '5', '7', '8', '4', '4', '3', '6', '3', '7', '5', '5', '4', '3', '5', '0') ... OK\n",
      "Call assignment_6_7()\n",
      "  with inputs ('1', '0', '2', '0', '3', '0') ... OK\n",
      "\n",
      "Well done! You seem to have solved assignment_6_7!\n"
     ]
    }
   ],
   "source": [
    "# Assertion for assignment 6.7\n",
    "\n",
    "check_assertion(assignment_6_7)"
   ]
  },
  {
   "cell_type": "markdown",
   "metadata": {
    "deletable": false,
    "editable": false,
    "nbgrader": {
     "cell_type": "markdown",
     "checksum": "b193061d9525fbfcbbbc01b9eca4f61e",
     "grade": false,
     "grade_id": "assignment-06-08-spacer",
     "locked": true,
     "schema_version": 3,
     "solution": false,
     "task": false
    }
   },
   "source": [
    "<br />\n",
    "<br />\n",
    "<br />\n",
    "<br />"
   ]
  },
  {
   "cell_type": "markdown",
   "metadata": {
    "deletable": false,
    "editable": false,
    "nbgrader": {
     "cell_type": "markdown",
     "checksum": "4dd6c696bcd04f5749690f28f854c0fa",
     "grade": false,
     "grade_id": "assignment-06-08-text",
     "locked": true,
     "schema_version": 3,
     "solution": false,
     "task": false
    }
   },
   "source": [
    "# 6.8 The maximum of the sequence\n",
    "\n",
    "A sequence consists of non-negative integer numbers and ends with the number `0`. Determine the largest element of the sequence. Like in the previous assignment, make use of a construction with:\n",
    "```python\n",
    "number = int(input('Enter a number (0 to stop): '))\n",
    "```\n",
    "together with `while`. Return the largest element.\n",
    "\n",
    "## Example input\n",
    "\n",
    "```python\n",
    "1\n",
    "7\n",
    "9\n",
    "0\n",
    "```\n",
    "\n",
    "## Example return value\n",
    "\n",
    "```python\n",
    "9\n",
    "```"
   ]
  },
  {
   "cell_type": "code",
   "execution_count": 90,
   "metadata": {
    "deletable": false,
    "nbgrader": {
     "cell_type": "code",
     "checksum": "5846d92e58a8ccfd603a197dbe40c1be",
     "grade": false,
     "grade_id": "assignment-06-08-code",
     "locked": false,
     "schema_version": 3,
     "solution": true,
     "task": false
    }
   },
   "outputs": [],
   "source": [
    "# Code for assignment 6.8\n",
    "\n",
    "def assignment_6_8():\n",
    "    numbers = []\n",
    "    while True:\n",
    "        number = int(input('Enter a number (0 to stop): '))\n",
    "        if number == 0:\n",
    "            break\n",
    "        numbers.append(number)\n",
    "    return max(numbers)"
   ]
  },
  {
   "cell_type": "code",
   "execution_count": 92,
   "metadata": {
    "deletable": false,
    "editable": false,
    "nbgrader": {
     "cell_type": "code",
     "checksum": "b31340f619c237ad003f3bd1de468441",
     "grade": false,
     "grade_id": "assignment-06-08-test",
     "locked": true,
     "schema_version": 3,
     "solution": false,
     "task": false
    }
   },
   "outputs": [
    {
     "name": "stdin",
     "output_type": "stream",
     "text": [
      "Enter a number (0 to stop):  4\n",
      "Enter a number (0 to stop):  0\n"
     ]
    },
    {
     "name": "stdout",
     "output_type": "stream",
     "text": [
      "\n",
      "The maximum of the numbers in the sequence before the 0 is: 4\n"
     ]
    }
   ],
   "source": [
    "### Test for assignment 6.8\n",
    "\n",
    "test_cell_6_8(assignment_6_8)"
   ]
  },
  {
   "cell_type": "code",
   "execution_count": 93,
   "metadata": {
    "deletable": false,
    "editable": false,
    "nbgrader": {
     "cell_type": "code",
     "checksum": "7d9ea01c6bfd183ee0266afa8ccd08b0",
     "grade": true,
     "grade_id": "assignment-06-08-assert",
     "locked": true,
     "points": 1,
     "schema_version": 3,
     "solution": false,
     "task": false
    }
   },
   "outputs": [
    {
     "name": "stdout",
     "output_type": "stream",
     "text": [
      "Call assignment_6_8()\n",
      "  with inputs ('1', '7', '9', '0') ... OK\n",
      "Call assignment_6_8()\n",
      "  with inputs ('1', '2', '3', '2', '1', '0') ... OK\n",
      "Call assignment_6_8()\n",
      "  with inputs ('1', '2', '3', '0') ... OK\n",
      "Call assignment_6_8()\n",
      "  with inputs ('1', '3', '2', '0') ... OK\n",
      "Call assignment_6_8()\n",
      "  with inputs ('2', '1', '3', '0') ... OK\n",
      "Call assignment_6_8()\n",
      "  with inputs ('2', '3', '1', '0') ... OK\n",
      "Call assignment_6_8()\n",
      "  with inputs ('3', '2', '1', '0') ... OK\n",
      "Call assignment_6_8()\n",
      "  with inputs ('3', '1', '2', '0') ... OK\n",
      "Call assignment_6_8()\n",
      "  with inputs ('1', '2', '3', '4', '5', '0') ... OK\n",
      "Call assignment_6_8()\n",
      "  with inputs ('5', '4', '3', '2', '1', '0') ... OK\n",
      "Call assignment_6_8()\n",
      "  with inputs ('80', '94', '78', '67', '24', '4', '22', '73', '26', '38', '7', '90', '37', '56', '95', '37', '96', '77', '51', '43', '25', '91', '71', '89', '99', '95', '29', '87', '64', '10', '0') ... OK\n",
      "\n",
      "Well done! You seem to have solved assignment_6_8!\n"
     ]
    }
   ],
   "source": [
    "# Assertion for assignment 6.8\n",
    "\n",
    "check_assertion(assignment_6_8)"
   ]
  },
  {
   "cell_type": "markdown",
   "metadata": {
    "deletable": false,
    "editable": false,
    "nbgrader": {
     "cell_type": "markdown",
     "checksum": "ea137a77dbcad700660b85f9c1e9a06e",
     "grade": false,
     "grade_id": "assignment-06-09-spacer",
     "locked": true,
     "schema_version": 3,
     "solution": false,
     "task": false
    }
   },
   "source": [
    "<br />\n",
    "<br />\n",
    "<br />\n",
    "<br />"
   ]
  },
  {
   "cell_type": "markdown",
   "metadata": {
    "deletable": false,
    "editable": false,
    "nbgrader": {
     "cell_type": "markdown",
     "checksum": "5570e9c1b00af227dd7cb57e0a503f82",
     "grade": false,
     "grade_id": "assignment-06-09-text",
     "locked": true,
     "schema_version": 3,
     "solution": false,
     "task": false
    }
   },
   "source": [
    "# 6.9 The index of the maximum of a sequence\n",
    "\n",
    "A sequence consists of non-negative integer numbers and ends with the number `0`. Determine the index of the largest element of the sequence. If the highest element is not unique, return the index of the first of them. Like in the previous assignment, make use of a construction with:\n",
    "```python\n",
    "number = int(input('Enter a number (0 to stop): '))\n",
    "```\n",
    "together with `while`. Return the index of the first occurence of the largest element. Remember that indices are 0-based!\n",
    "\n",
    "## Example input\n",
    "\n",
    "```python\n",
    "1\n",
    "7\n",
    "9\n",
    "0\n",
    "```\n",
    "\n",
    "## Example return value\n",
    "\n",
    "```python\n",
    "2\n",
    "```"
   ]
  },
  {
   "cell_type": "code",
   "execution_count": 94,
   "metadata": {
    "deletable": false,
    "nbgrader": {
     "cell_type": "code",
     "checksum": "a69d6c53ea6f13efb46a802e1d0b39f4",
     "grade": false,
     "grade_id": "assignment-06-09-code",
     "locked": false,
     "schema_version": 3,
     "solution": true,
     "task": false
    }
   },
   "outputs": [],
   "source": [
    "# Code for assignment 6.9\n",
    "\n",
    "def assignment_6_9():\n",
    "    numbers = []\n",
    "    while True:\n",
    "        number = int(input('Enter a number (0 to stop): '))\n",
    "        if number == 0:\n",
    "            break\n",
    "        numbers.append(number)\n",
    "        \n",
    "    maximum = max(numbers) \n",
    "    return numbers.index(maximum) "
   ]
  },
  {
   "cell_type": "code",
   "execution_count": 82,
   "metadata": {
    "deletable": false,
    "editable": false,
    "nbgrader": {
     "cell_type": "code",
     "checksum": "cc20220b6c13c68ab20c4a5db9a2877f",
     "grade": false,
     "grade_id": "assignment-06-09-test",
     "locked": true,
     "schema_version": 3,
     "solution": false,
     "task": false
    }
   },
   "outputs": [
    {
     "name": "stdin",
     "output_type": "stream",
     "text": [
      "Enter a number (0 to stop):  2345\n",
      "Enter a number (0 to stop):  324\n",
      "Enter a number (0 to stop):  3\n",
      "Enter a number (0 to stop):  4\n",
      "Enter a number (0 to stop):  0\n"
     ]
    },
    {
     "name": "stdout",
     "output_type": "stream",
     "text": [
      "\n",
      "The index of the first occurence of the maximum in the numbers in the sequence before the 0 is: 0\n"
     ]
    }
   ],
   "source": [
    "# Test for assignment 6.9\n",
    "\n",
    "test_cell_6_9(assignment_6_9)"
   ]
  },
  {
   "cell_type": "code",
   "execution_count": 95,
   "metadata": {
    "deletable": false,
    "editable": false,
    "nbgrader": {
     "cell_type": "code",
     "checksum": "f5f0e001ff018f752f6a14e0cfcb6013",
     "grade": true,
     "grade_id": "assignment-06-09-assert",
     "locked": true,
     "points": 1,
     "schema_version": 3,
     "solution": false,
     "task": false
    }
   },
   "outputs": [
    {
     "name": "stdout",
     "output_type": "stream",
     "text": [
      "Call assignment_6_9()\n",
      "  with inputs ('1', '7', '9', '0') ... OK\n",
      "Call assignment_6_9()\n",
      "  with inputs ('1', '2', '3', '2', '1', '0') ... OK\n",
      "Call assignment_6_9()\n",
      "  with inputs ('1', '2', '3', '0') ... OK\n",
      "Call assignment_6_9()\n",
      "  with inputs ('1', '3', '2', '0') ... OK\n",
      "Call assignment_6_9()\n",
      "  with inputs ('2', '1', '3', '0') ... OK\n",
      "Call assignment_6_9()\n",
      "  with inputs ('2', '3', '1', '0') ... OK\n",
      "Call assignment_6_9()\n",
      "  with inputs ('3', '2', '1', '0') ... OK\n",
      "Call assignment_6_9()\n",
      "  with inputs ('3', '1', '2', '0') ... OK\n",
      "Call assignment_6_9()\n",
      "  with inputs ('1', '2', '3', '4', '5', '0') ... OK\n",
      "Call assignment_6_9()\n",
      "  with inputs ('5', '4', '3', '2', '1', '0') ... OK\n",
      "Call assignment_6_9()\n",
      "  with inputs ('3', '5', '1', '2', '5', '0') ... OK\n",
      "Call assignment_6_9()\n",
      "  with inputs ('80', '94', '78', '67', '24', '4', '22', '73', '26', '38', '7', '90', '37', '56', '95', '37', '96', '77', '51', '43', '25', '91', '71', '89', '99', '95', '29', '87', '64', '10', '0') ... OK\n",
      "\n",
      "Well done! You seem to have solved assignment_6_9!\n"
     ]
    }
   ],
   "source": [
    "# Assertion for assignment 6.9\n",
    "\n",
    "check_assertion(assignment_6_9)"
   ]
  },
  {
   "cell_type": "markdown",
   "metadata": {
    "deletable": false,
    "editable": false,
    "nbgrader": {
     "cell_type": "markdown",
     "checksum": "9afcb04a9065f070eda55a0a9a785d34",
     "grade": false,
     "grade_id": "assignment-6-10-spacer",
     "locked": true,
     "schema_version": 3,
     "solution": false,
     "task": false
    }
   },
   "source": [
    "<br />\n",
    "<br />\n",
    "<br />\n",
    "<br />"
   ]
  },
  {
   "cell_type": "markdown",
   "metadata": {
    "deletable": false,
    "editable": false,
    "nbgrader": {
     "cell_type": "markdown",
     "checksum": "477c0582923d505fa34e5e108e145d80",
     "grade": false,
     "grade_id": "assignments-6-10-text",
     "locked": true,
     "schema_version": 3,
     "solution": false,
     "task": false
    }
   },
   "source": [
    "# 6.10 The number of even elements of the sequence\n",
    "\n",
    "Determine the number of even elements in the sequence ending with the number `0`. Like in the previous assignment, make use of a construction with:\n",
    "```python\n",
    "number = int(input('Enter a number (0 to stop): '))\n",
    "```\n",
    "together with `while`. Return the number of even elements.\n",
    "\n",
    "## Example input\n",
    "\n",
    "```python\n",
    "2\n",
    "1\n",
    "4\n",
    "0\n",
    "```\n",
    "\n",
    "## Example return value\n",
    "\n",
    "```python\n",
    "2\n",
    "```"
   ]
  },
  {
   "cell_type": "code",
   "execution_count": 96,
   "metadata": {
    "deletable": false,
    "nbgrader": {
     "cell_type": "code",
     "checksum": "19471d261075287a66c570415af5a366",
     "grade": false,
     "grade_id": "assignment-6-10-code",
     "locked": false,
     "schema_version": 3,
     "solution": true,
     "task": false
    }
   },
   "outputs": [],
   "source": [
    "# Code for assignment 6.10\n",
    "\n",
    "def assignment_6_10():\n",
    "    numbers = []\n",
    "    while True:\n",
    "        number = int(input('Enter a number (0 to stop): '))\n",
    "        if number == 0:\n",
    "            break\n",
    "        numbers.append(number)\n",
    "    even = 0 \n",
    "    for i in numbers: \n",
    "        if i % 2 == 0:\n",
    "            even += 1 \n",
    "    return even "
   ]
  },
  {
   "cell_type": "code",
   "execution_count": 88,
   "metadata": {
    "deletable": false,
    "editable": false,
    "nbgrader": {
     "cell_type": "code",
     "checksum": "6189e33a9d526e08b2095ab39effe507",
     "grade": false,
     "grade_id": "assignment-6-10-test",
     "locked": true,
     "schema_version": 3,
     "solution": false,
     "task": false
    }
   },
   "outputs": [
    {
     "name": "stdin",
     "output_type": "stream",
     "text": [
      "Enter a number (0 to stop):  23\n",
      "Enter a number (0 to stop):  453\n",
      "Enter a number (0 to stop):  754\n",
      "Enter a number (0 to stop):  23\n",
      "Enter a number (0 to stop):  0\n"
     ]
    },
    {
     "name": "stdout",
     "output_type": "stream",
     "text": [
      "\n",
      "The number of even elements in the sequence ending with the number 0 is: 1\n"
     ]
    }
   ],
   "source": [
    "# Test for assignment 6.10\n",
    "\n",
    "test_cell_6_10(assignment_6_10)"
   ]
  },
  {
   "cell_type": "code",
   "execution_count": 97,
   "metadata": {
    "deletable": false,
    "editable": false,
    "nbgrader": {
     "cell_type": "code",
     "checksum": "88ed82825bd2bf11e845c25fa6fcfc7b",
     "grade": true,
     "grade_id": "assignment-6-10-assert",
     "locked": true,
     "points": 1,
     "schema_version": 3,
     "solution": false,
     "task": false
    }
   },
   "outputs": [
    {
     "name": "stdout",
     "output_type": "stream",
     "text": [
      "Call assignment_6_10()\n",
      "  with inputs ('2', '1', '4', '0') ... OK\n",
      "Call assignment_6_10()\n",
      "  with inputs ('1', '3', '5', '7', '9', '1', '3', '5', '7', '9', '0') ... OK\n",
      "Call assignment_6_10()\n",
      "  with inputs ('2', '4', '0') ... OK\n",
      "Call assignment_6_10()\n",
      "  with inputs ('7883', '0') ... OK\n",
      "Call assignment_6_10()\n",
      "  with inputs ('0',) ... OK\n",
      "Call assignment_6_10()\n",
      "  with inputs ('1', '2', '3', '4', '5', '6', '7', '0') ... OK\n",
      "Call assignment_6_10()\n",
      "  with inputs ('1', '2', '3', '4', '0', '5', '6', '7', '0', '8', '9', '0', '0') ... OK\n",
      "Call assignment_6_10()\n",
      "  with inputs ('5', '3', '6', '7', '4', '2', '4', '5', '6', '7', '4', '3', '4', '6', '7', '4', '5', '7', '8', '4', '4', '3', '6', '3', '7', '5', '5', '4', '3', '5', '0') ... OK\n",
      "Call assignment_6_10()\n",
      "  with inputs ('1', '0', '2', '0', '3', '0') ... OK\n",
      "Call assignment_6_10()\n",
      "  with inputs ('88', '69', '61', '66', '16', '39', '56', '97', '57', '84', '13', '84', '63', '26', '68', '50', '34', '68', '67', '33', '88', '89', '8', '35', '77', '22', '57', '43', '12', '92', '55', '45', '64', '86', '37', '65', '89', '10', '83', '21', '78', '19', '62', '28', '79', '48', '54', '7', '51', '30', '57', '43', '13', '24', '91', '99', '97', '10', '9', '25', '60', '37', '76', '33', '11', '43', '79', '39', '8', '95', '61', '52', '6', '15', '42', '5', '26', '83', '51', '41', '70', '48', '100', '13', '49', '20', '39', '7', '70', '75', '3', '29', '62', '47', '47', '99', '8', '73', '1', '78', '0') ... OK\n",
      "\n",
      "Well done! You seem to have solved assignment_6_10!\n"
     ]
    }
   ],
   "source": [
    "# Assertion for assignment 6.10\n",
    "\n",
    "check_assertion(assignment_6_10)"
   ]
  },
  {
   "cell_type": "markdown",
   "metadata": {
    "deletable": false,
    "editable": false,
    "nbgrader": {
     "cell_type": "markdown",
     "checksum": "9b4dfcf17d4581d7c894a9d39b0a6382",
     "grade": false,
     "grade_id": "assignment-6-11-spacer",
     "locked": true,
     "schema_version": 3,
     "solution": false,
     "task": false
    }
   },
   "source": [
    "<br />\n",
    "<br />\n",
    "<br />\n",
    "<br />"
   ]
  },
  {
   "cell_type": "markdown",
   "metadata": {
    "deletable": false,
    "editable": false,
    "nbgrader": {
     "cell_type": "markdown",
     "checksum": "9995dbb39dc550a99799c6b95a439d28",
     "grade": false,
     "grade_id": "assignment-6-11-text",
     "locked": true,
     "schema_version": 3,
     "solution": false,
     "task": false
    }
   },
   "source": [
    "# 6.11 The number of elements that are greater than the previous one\n",
    "\n",
    "A sequence consists of non-negative integer numbers and ends with the number `0`. Determine how many elements of this sequence are greater than their immediate predecessor. Like in the previous assignment, make use of a construction with:\n",
    "```python\n",
    "number = int(input('Enter a number (0 to stop): '))\n",
    "```\n",
    "together with `while`. Return the number of elements that are greater than the previous one.\n",
    "\n",
    "## Example input\n",
    "\n",
    "```python\n",
    "1\n",
    "7\n",
    "9\n",
    "0\n",
    "```\n",
    "\n",
    "## Example return value\n",
    "\n",
    "```python\n",
    "2\n",
    "```"
   ]
  },
  {
   "cell_type": "code",
   "execution_count": 98,
   "metadata": {
    "deletable": false,
    "nbgrader": {
     "cell_type": "code",
     "checksum": "2d56ecfa38e288258a844a09d5bb930f",
     "grade": false,
     "grade_id": "assignment-6-11-code",
     "locked": false,
     "schema_version": 3,
     "solution": true,
     "task": false
    }
   },
   "outputs": [],
   "source": [
    "# Code for assignment 6.11\n",
    "\n",
    "def assignment_6_11():\n",
    "    numbers = []\n",
    "    while True:\n",
    "        number = int(input('Enter a number (0 to stop): '))\n",
    "        if number == 0:\n",
    "            break\n",
    "        numbers.append(number)\n",
    "    counter = 0\n",
    "    for i in range(len(numbers)-1): \n",
    "        if numbers[i] < numbers[i+1]: \n",
    "            counter += 1\n",
    "    return counter"
   ]
  },
  {
   "cell_type": "code",
   "execution_count": null,
   "metadata": {
    "deletable": false,
    "editable": false,
    "nbgrader": {
     "cell_type": "code",
     "checksum": "c67d57f9a58c54d01b05182d0d27ba3d",
     "grade": false,
     "grade_id": "assignment-6-11-test",
     "locked": true,
     "schema_version": 3,
     "solution": false,
     "task": false
    }
   },
   "outputs": [],
   "source": [
    "# Test for assignment 6.11\n",
    "\n",
    "test_cell_6_11(assignment_6_11)"
   ]
  },
  {
   "cell_type": "code",
   "execution_count": 99,
   "metadata": {
    "deletable": false,
    "editable": false,
    "nbgrader": {
     "cell_type": "code",
     "checksum": "284b53e2f8e6a937aa6a8f0c98494b21",
     "grade": true,
     "grade_id": "assignment-6-11-assert",
     "locked": true,
     "points": 1,
     "schema_version": 3,
     "solution": false,
     "task": false
    }
   },
   "outputs": [
    {
     "name": "stdout",
     "output_type": "stream",
     "text": [
      "Call assignment_6_11()\n",
      "  with inputs ('1', '7', '9', '0') ... OK\n",
      "Call assignment_6_11()\n",
      "  with inputs ('1', '5', '2', '4', '3', '0') ... OK\n",
      "Call assignment_6_11()\n",
      "  with inputs ('1', '2', '3', '4', '5', '0') ... OK\n",
      "Call assignment_6_11()\n",
      "  with inputs ('5', '4', '3', '2', '1', '0') ... OK\n",
      "Call assignment_6_11()\n",
      "  with inputs ('1', '5', '1', '5', '1', '0') ... OK\n",
      "Call assignment_6_11()\n",
      "  with inputs ('5', '1', '5', '1', '5', '0') ... OK\n",
      "Call assignment_6_11()\n",
      "  with inputs ('5', '5', '5', '5', '5', '0') ... OK\n",
      "Call assignment_6_11()\n",
      "  with inputs ('1', '1', '1', '5', '1', '0') ... OK\n",
      "Call assignment_6_11()\n",
      "  with inputs ('345354', '0') ... OK\n",
      "Call assignment_6_11()\n",
      "  with inputs ('1', '465', '0') ... OK\n",
      "Call assignment_6_11()\n",
      "  with inputs ('4', '1', '0') ... OK\n",
      "Call assignment_6_11()\n",
      "  with inputs ('1', '2', '3', '0') ... OK\n",
      "Call assignment_6_11()\n",
      "  with inputs ('1', '2', '3', '4', '1', '0') ... OK\n",
      "\n",
      "Well done! You seem to have solved assignment_6_11!\n"
     ]
    }
   ],
   "source": [
    "# Assertion for assignment 6.11\n",
    "\n",
    "check_assertion(assignment_6_11)"
   ]
  },
  {
   "cell_type": "markdown",
   "metadata": {
    "deletable": false,
    "editable": false,
    "nbgrader": {
     "cell_type": "markdown",
     "checksum": "cb448c70f0368a04bd414db92c7aa068",
     "grade": false,
     "grade_id": "assignment-6-12-spacer",
     "locked": true,
     "schema_version": 3,
     "solution": false,
     "task": false
    }
   },
   "source": [
    "<br />\n",
    "<br />\n",
    "<br />\n",
    "<br />"
   ]
  },
  {
   "cell_type": "markdown",
   "metadata": {
    "deletable": false,
    "editable": false,
    "nbgrader": {
     "cell_type": "markdown",
     "checksum": "97550717e19442b82953cede5fb2b899",
     "grade": false,
     "grade_id": "assignment-6-12-text",
     "locked": true,
     "schema_version": 3,
     "solution": false,
     "task": false
    }
   },
   "source": [
    "# 6.12 The second maximum\n",
    "\n",
    "The sequence consists of distinct non-negative integer numbers and ends with the number `0`. Determine the value of the second largest element in this sequence. Please make sure that the sequences you enter will always have at least two elements. Like in the previous assignment, make use of a construction with:\n",
    "```python\n",
    "number = int(input('Enter a number (0 to stop): '))\n",
    "```\n",
    "together with `while`. Return the second maximum.\n",
    "\n",
    "## Example input\n",
    "\n",
    "```python\n",
    "1\n",
    "7\n",
    "9\n",
    "0\n",
    "```\n",
    "\n",
    "## Example return value\n",
    "\n",
    "```python\n",
    "7\n",
    "```"
   ]
  },
  {
   "cell_type": "code",
   "execution_count": 106,
   "metadata": {
    "deletable": false,
    "nbgrader": {
     "cell_type": "code",
     "checksum": "f05c5eeb366f65b2108ce6f1953ad167",
     "grade": false,
     "grade_id": "assignment-6-12-code",
     "locked": false,
     "schema_version": 3,
     "solution": true,
     "task": false
    }
   },
   "outputs": [],
   "source": [
    "# Code for assignment 6.12\n",
    "\n",
    "def assignment_6_12():\n",
    "    numbers = []\n",
    "    while True:\n",
    "        number = int(input('Enter a number (0 to stop): '))\n",
    "        if number == 0:\n",
    "            break\n",
    "        numbers.append(number)\n",
    "    numbers.remove(max(numbers))\n",
    "    return max(numbers)"
   ]
  },
  {
   "cell_type": "code",
   "execution_count": 108,
   "metadata": {
    "deletable": false,
    "editable": false,
    "nbgrader": {
     "cell_type": "code",
     "checksum": "761108afae177822fb514ce1b5c93069",
     "grade": false,
     "grade_id": "assignment-6-12-test",
     "locked": true,
     "schema_version": 3,
     "solution": false,
     "task": false
    }
   },
   "outputs": [
    {
     "name": "stdin",
     "output_type": "stream",
     "text": [
      "Enter a number (0 to stop):  4\n",
      "Enter a number (0 to stop):  65\n",
      "Enter a number (0 to stop):  4\n",
      "Enter a number (0 to stop):  3\n",
      "Enter a number (0 to stop):  7\n",
      "Enter a number (0 to stop):  0\n"
     ]
    },
    {
     "name": "stdout",
     "output_type": "stream",
     "text": [
      "\n",
      "The second largest item in the sequence is : 7\n"
     ]
    }
   ],
   "source": [
    "# Test for assignment 6.12\n",
    "\n",
    "test_cell_6_12(assignment_6_12)"
   ]
  },
  {
   "cell_type": "code",
   "execution_count": 109,
   "metadata": {
    "deletable": false,
    "editable": false,
    "nbgrader": {
     "cell_type": "code",
     "checksum": "ef71a3f5fd11e78b947b8621a4454bdc",
     "grade": true,
     "grade_id": "assignment-6-12-assert",
     "locked": true,
     "points": 1,
     "schema_version": 3,
     "solution": false,
     "task": false
    }
   },
   "outputs": [
    {
     "name": "stdout",
     "output_type": "stream",
     "text": [
      "Call assignment_6_12()\n",
      "  with inputs ('1', '7', '9', '0') ... OK\n",
      "Call assignment_6_12()\n",
      "  with inputs ('2', '1', '0') ... OK\n",
      "Call assignment_6_12()\n",
      "  with inputs ('1', '2', '0') ... OK\n",
      "Call assignment_6_12()\n",
      "  with inputs ('1', '2', '3', '0') ... OK\n",
      "Call assignment_6_12()\n",
      "  with inputs ('1', '3', '2', '0') ... OK\n",
      "Call assignment_6_12()\n",
      "  with inputs ('2', '3', '1', '0') ... OK\n",
      "Call assignment_6_12()\n",
      "  with inputs ('2', '1', '3', '0') ... OK\n",
      "Call assignment_6_12()\n",
      "  with inputs ('3', '1', '2', '0') ... OK\n",
      "Call assignment_6_12()\n",
      "  with inputs ('3', '2', '1', '0') ... OK\n",
      "Call assignment_6_12()\n",
      "  with inputs ('1', '4', '2', '3', '0') ... OK\n",
      "Call assignment_6_12()\n",
      "  with inputs ('1', '4', '3', '2', '0') ... OK\n",
      "Call assignment_6_12()\n",
      "  with inputs ('4', '1', '2', '3', '0') ... OK\n",
      "Call assignment_6_12()\n",
      "  with inputs ('4', '1', '3', '2', '0') ... OK\n",
      "Call assignment_6_12()\n",
      "  with inputs ('10', '1', '2', '3', '4', '5', '6', '7', '8', '9', '0') ... OK\n",
      "Call assignment_6_12()\n",
      "  with inputs ('1', '9', '2', '3', '4', '5', '6', '7', '8', '10', '0') ... OK\n",
      "Call assignment_6_12()\n",
      "  with inputs ('9', '1', '2', '3', '4', '5', '6', '7', '8', '10', '0') ... OK\n",
      "Call assignment_6_12()\n",
      "  with inputs ('9', '10', '8', '7', '6', '5', '4', '3', '2', '1', '0') ... OK\n",
      "Call assignment_6_12()\n",
      "  with inputs ('10', '9', '8', '7', '6', '5', '4', '3', '2', '1', '0') ... OK\n",
      "Call assignment_6_12()\n",
      "  with inputs ('1', '2', '3', '4', '5', '6', '7', '8', '9', '10', '0') ... OK\n",
      "Call assignment_6_12()\n",
      "  with inputs ('2', '1', '4', '3', '0') ... OK\n",
      "Call assignment_6_12()\n",
      "  with inputs ('2', '1', '3', '4', '0') ... OK\n",
      "Call assignment_6_12()\n",
      "  with inputs ('1', '2', '3', '4', '0') ... OK\n",
      "Call assignment_6_12()\n",
      "  with inputs ('1', '2', '4', '3', '0') ... OK\n",
      "Call assignment_6_12()\n",
      "  with inputs ('3', '1', '4', '2', '0') ... OK\n",
      "Call assignment_6_12()\n",
      "  with inputs ('3', '1', '2', '4', '0') ... OK\n",
      "\n",
      "Well done! You seem to have solved assignment_6_12!\n"
     ]
    }
   ],
   "source": [
    "# Assertion for assignment 6.12\n",
    "\n",
    "check_assertion(assignment_6_12)"
   ]
  },
  {
   "cell_type": "markdown",
   "metadata": {
    "deletable": false,
    "editable": false,
    "nbgrader": {
     "cell_type": "markdown",
     "checksum": "a7bafa8b36a3fbed192100c81d6805bb",
     "grade": false,
     "grade_id": "assignment-6-13-spacer",
     "locked": true,
     "schema_version": 3,
     "solution": false,
     "task": false
    }
   },
   "source": [
    "<br />\n",
    "<br />\n",
    "<br />\n",
    "<br />"
   ]
  },
  {
   "cell_type": "markdown",
   "metadata": {
    "deletable": false,
    "editable": false,
    "nbgrader": {
     "cell_type": "markdown",
     "checksum": "e174510f22604dc2702a92d9b6cdd50d",
     "grade": false,
     "grade_id": "assignment-6-13-text",
     "locked": true,
     "schema_version": 3,
     "solution": false,
     "task": false
    }
   },
   "source": [
    "# 6.13 The number of elements equal to the maximum\n",
    "\n",
    "A sequence consists of integer numbers and ends with the number `0`. Determine how many elements of this sequence are equal to its largest element. Like in the previous assignment, make use of a construction with:\n",
    "```python\n",
    "number = int(input('Enter a number (0 to stop): '))\n",
    "```\n",
    "together with `while`. Return the number of elements equal to the maximum.\n",
    "\n",
    "## Example input\n",
    "\n",
    "```python\n",
    "1\n",
    "7\n",
    "9\n",
    "0\n",
    "```\n",
    "\n",
    "## Example output\n",
    "\n",
    "```python\n",
    "1\n",
    "```"
   ]
  },
  {
   "cell_type": "code",
   "execution_count": 110,
   "metadata": {
    "deletable": false,
    "nbgrader": {
     "cell_type": "code",
     "checksum": "ece9568662356b5d26e63bdfc08a536e",
     "grade": false,
     "grade_id": "assignment-6-13-code",
     "locked": false,
     "schema_version": 3,
     "solution": true,
     "task": false
    }
   },
   "outputs": [],
   "source": [
    "# Code for assignment 6.13\n",
    "\n",
    "def assignment_6_13():\n",
    "    numbers = []\n",
    "    while True:\n",
    "        number = int(input('Enter a number (0 to stop): '))\n",
    "        if number == 0:\n",
    "            break\n",
    "        numbers.append(number)\n",
    "    counter = 0\n",
    "    maximum = max(numbers) \n",
    "    for i in numbers:\n",
    "        if i == maximum: \n",
    "            counter += 1\n",
    "    return counter"
   ]
  },
  {
   "cell_type": "code",
   "execution_count": null,
   "metadata": {
    "deletable": false,
    "editable": false,
    "nbgrader": {
     "cell_type": "code",
     "checksum": "5f043d949826c0cb75ecc22cf508f6c5",
     "grade": false,
     "grade_id": "assignment-6-13-test",
     "locked": true,
     "schema_version": 3,
     "solution": false,
     "task": false
    }
   },
   "outputs": [],
   "source": [
    "# Test for assignment 6.13\n",
    "\n",
    "test_cell_6_13(assignment_6_13)"
   ]
  },
  {
   "cell_type": "code",
   "execution_count": 111,
   "metadata": {
    "deletable": false,
    "editable": false,
    "nbgrader": {
     "cell_type": "code",
     "checksum": "59469bfd49cf8695f9808f3051dd70ec",
     "grade": true,
     "grade_id": "assignment-6-13-assert",
     "locked": true,
     "points": 1,
     "schema_version": 3,
     "solution": false,
     "task": false
    }
   },
   "outputs": [
    {
     "name": "stdout",
     "output_type": "stream",
     "text": [
      "Call assignment_6_13()\n",
      "  with inputs ('1', '7', '9', '0') ... OK\n",
      "Call assignment_6_13()\n",
      "  with inputs ('1', '3', '3', '1', '0') ... OK\n",
      "Call assignment_6_13()\n",
      "  with inputs ('1', '2', '3', '4', '5', '0') ... OK\n",
      "Call assignment_6_13()\n",
      "  with inputs ('5', '4', '3', '2', '1', '0') ... OK\n",
      "Call assignment_6_13()\n",
      "  with inputs ('1', '2', '3', '2', '3', '3', '3', '0') ... OK\n",
      "Call assignment_6_13()\n",
      "  with inputs ('1', '2', '3', '2', '3', '3', '3', '2', '0') ... OK\n",
      "Call assignment_6_13()\n",
      "  with inputs ('1', '1', '1', '1', '1', '1', '0') ... OK\n",
      "Call assignment_6_13()\n",
      "  with inputs ('179', '0') ... OK\n",
      "Call assignment_6_13()\n",
      "  with inputs ('5', '4', '3', '2', '1', '5', '0') ... OK\n",
      "Call assignment_6_13()\n",
      "  with inputs ('10', '39', '77', '33', '86', '79', '19', '62', '27', '79', '0') ... OK\n",
      "Call assignment_6_13()\n",
      "  with inputs ('74', '56', '70', '43', '28', '20', '97', '95', '58', '6', '56', '41', '96', '82', '44', '82', '42', '65', '14', '3', '0') ... OK\n",
      "Call assignment_6_13()\n",
      "  with inputs ('78', '25', '67', '79', '50', '60', '18', '84', '2', '64', '98', '42', '41', '20', '63', '65', '64', '53', '62', '62', '71', '93', '7', '86', '97', '90', '2', '2', '45', '58', '0') ... OK\n",
      "Call assignment_6_13()\n",
      "  with inputs ('5', '3', '3', '5', '7', '3', '1', '7', '4', '7', '7', '7', '2', '9', '1', '7', '5', '9', '8', '8', '8', '8', '0') ... OK\n",
      "\n",
      "Well done! You seem to have solved assignment_6_13!\n"
     ]
    }
   ],
   "source": [
    "# Code for assignment 6.13\n",
    "\n",
    "check_assertion(assignment_6_13)"
   ]
  },
  {
   "cell_type": "markdown",
   "metadata": {
    "deletable": false,
    "editable": false,
    "nbgrader": {
     "cell_type": "markdown",
     "checksum": "c85c2972c74c7e4599a434f71067a477",
     "grade": false,
     "grade_id": "assignment-6-14-spacer",
     "locked": true,
     "schema_version": 3,
     "solution": false,
     "task": false
    }
   },
   "source": [
    "<br />\n",
    "<br />\n",
    "<br />\n",
    "<br />"
   ]
  },
  {
   "cell_type": "markdown",
   "metadata": {
    "deletable": false,
    "editable": false,
    "nbgrader": {
     "cell_type": "markdown",
     "checksum": "939c59a9443a9ccf7559dbcee81c1043",
     "grade": false,
     "grade_id": "assignment-6-14-text",
     "locked": true,
     "schema_version": 3,
     "solution": false,
     "task": false
    }
   },
   "source": [
    "# 6.14 Fibonacci numbers\n",
    "\n",
    "The Fibonacci sequence is defined as follows:\n",
    "\n",
    "$F_{0} = 0$\n",
    "\n",
    "$F_{1} = 1$\n",
    "\n",
    "$F_{n} = F_{n−1} + F_{n−2}$\n",
    "\n",
    "Given a non-negative integer $n$, return the $n$th Fibonacci number $F_{n}$.\n",
    "\n",
    "This problem can also be solved with a `for` loop.\n",
    "\n",
    "## Example input\n",
    "\n",
    "```python\n",
    "6\n",
    "```\n",
    "## Example return value\n",
    "\n",
    "```python\n",
    "8\n",
    "```"
   ]
  },
  {
   "cell_type": "code",
   "execution_count": 141,
   "metadata": {
    "deletable": false,
    "nbgrader": {
     "cell_type": "code",
     "checksum": "72ca941d23692c7bbd053e46f7f49c58",
     "grade": false,
     "grade_id": "assignment-6-14-code",
     "locked": false,
     "schema_version": 3,
     "solution": true,
     "task": false
    }
   },
   "outputs": [],
   "source": [
    "# Code for assignment 6.14\n",
    "\n",
    "def assignment_6_14(n):\n",
    "    if n == 0:\n",
    "        return 0\n",
    "    \n",
    "    counter = 2\n",
    "    prev = 0\n",
    "    current = 1\n",
    "    \n",
    "    while counter <= n:\n",
    "        next_num = current + prev\n",
    "        prev = current\n",
    "        current = next_num\n",
    "        \n",
    "        counter +=1\n",
    "    return current"
   ]
  },
  {
   "cell_type": "code",
   "execution_count": 142,
   "metadata": {},
   "outputs": [
    {
     "name": "stdin",
     "output_type": "stream",
     "text": [
      "Please enter the index for the Fibonacci number (n) (Press Enter for default value 6):  \n"
     ]
    },
    {
     "name": "stdout",
     "output_type": "stream",
     "text": [
      "\n",
      "The 6th Fibonacci number is: \n",
      "8\n"
     ]
    }
   ],
   "source": [
    "# Test for assignment 6.14\n",
    "\n",
    "test_cell_6_14(assignment_6_14)"
   ]
  },
  {
   "cell_type": "code",
   "execution_count": 143,
   "metadata": {
    "deletable": false,
    "editable": false,
    "nbgrader": {
     "cell_type": "code",
     "checksum": "df8e57782528f450a3df12701ab06f3f",
     "grade": true,
     "grade_id": "assignment-6-14-assert",
     "locked": true,
     "points": 1,
     "schema_version": 3,
     "solution": false,
     "task": false
    }
   },
   "outputs": [
    {
     "name": "stdout",
     "output_type": "stream",
     "text": [
      "Call assignment_6_14(6) ... OK\n",
      "Call assignment_6_14(0) ... OK\n",
      "Call assignment_6_14(2) ... OK\n",
      "Call assignment_6_14(3) ... OK\n",
      "Call assignment_6_14(4) ... OK\n",
      "Call assignment_6_14(1) ... OK\n",
      "Call assignment_6_14(5) ... OK\n",
      "Call assignment_6_14(7) ... OK\n",
      "Call assignment_6_14(8) ... OK\n",
      "Call assignment_6_14(9) ... OK\n",
      "Call assignment_6_14(10) ... OK\n",
      "Call assignment_6_14(11) ... OK\n",
      "Call assignment_6_14(12) ... OK\n",
      "Call assignment_6_14(13) ... OK\n",
      "Call assignment_6_14(14) ... OK\n",
      "Call assignment_6_14(15) ... OK\n",
      "Call assignment_6_14(16) ... OK\n",
      "Call assignment_6_14(17) ... OK\n",
      "Call assignment_6_14(18) ... OK\n",
      "Call assignment_6_14(19) ... OK\n",
      "Call assignment_6_14(20) ... OK\n",
      "\n",
      "Well done! You seem to have solved assignment_6_14!\n"
     ]
    }
   ],
   "source": [
    "# Assertion for assignment 6.14\n",
    "\n",
    "check_assertion(assignment_6_14)"
   ]
  },
  {
   "cell_type": "markdown",
   "metadata": {
    "deletable": false,
    "editable": false,
    "nbgrader": {
     "cell_type": "markdown",
     "checksum": "294e656aeb01ba146f114eb3476aacbc",
     "grade": false,
     "grade_id": "assignment-6-15-spacer",
     "locked": true,
     "schema_version": 3,
     "solution": false,
     "task": false
    }
   },
   "source": [
    "<br />\n",
    "<br />\n",
    "<br />\n",
    "<br />"
   ]
  },
  {
   "cell_type": "markdown",
   "metadata": {
    "deletable": false,
    "editable": false,
    "nbgrader": {
     "cell_type": "markdown",
     "checksum": "4904025ae983c0272c28485201000668",
     "grade": false,
     "grade_id": "assignment-6-15-text",
     "locked": true,
     "schema_version": 3,
     "solution": false,
     "task": false
    }
   },
   "source": [
    "# 6.15 The index of a Fibonacci number\n",
    "\n",
    "The Fibonacci sequence is defined as in the previous assignment.\n",
    "\n",
    "Given an integer $x$, determine its index among the Fibonacci numbers, that is, return the number $n$ such that $F_{n} = x$. If $x$ is not a Fibonacci number, return `None`.\n",
    "\n",
    "**Please note** that the assertion cell will check your solution with very large numbers. One way many students tried to\n",
    "solve this in the past was by creating a list with the Fibonacci numbers and then determining the index of argument\n",
    "value 𝑥. This will create a very large list that might not even fit in memory. It is also not necessary.\n",
    "\n",
    "A suggestion to solve this efficiently is to create a loop in which the current Fibonacci number for the iterator is\n",
    "calculated, then it is compared to $x$. If it is equal to $x$, your function should return the current value of the\n",
    "iterator, if it is larger than $x$, your function should return ```None```, if it is still smaller, just continue with\n",
    "the next value for the iterator.\n",
    "\n",
    "## Example input\n",
    "\n",
    "```python\n",
    "8\n",
    "```\n",
    "\n",
    "## Example return value\n",
    "\n",
    "```python\n",
    "6\n",
    "```\n"
   ]
  },
  {
   "cell_type": "code",
   "execution_count": 149,
   "metadata": {
    "deletable": false,
    "nbgrader": {
     "cell_type": "code",
     "checksum": "37d8961d1deb674a1b1fd2e3670932e6",
     "grade": false,
     "grade_id": "assignment-6-15-code",
     "locked": false,
     "schema_version": 3,
     "solution": true,
     "task": false
    }
   },
   "outputs": [],
   "source": [
    "# Code for assignment 6.15\n",
    "\n",
    "def assignment_6_15(x):    \n",
    "    counter = 2\n",
    "    prev = 0\n",
    "    current = 1\n",
    "    \n",
    "    while True:\n",
    "        next_num = current + prev\n",
    "        prev = current\n",
    "        current = next_num\n",
    "        if current == x: \n",
    "            return counter\n",
    "        elif current > x:\n",
    "            return None\n",
    "        \n",
    "        counter +=1\n",
    "    return counter"
   ]
  },
  {
   "cell_type": "code",
   "execution_count": 150,
   "metadata": {},
   "outputs": [
    {
     "name": "stdin",
     "output_type": "stream",
     "text": [
      "Please enter an integer number (x) (Press Enter for default value 8):  \n"
     ]
    },
    {
     "name": "stdout",
     "output_type": "stream",
     "text": [
      "\n",
      "The number 8 is the 6th number in the Fibonacci series.\n"
     ]
    }
   ],
   "source": [
    "# Test for assignment 6.15\n",
    "\n",
    "test_cell_6_15(assignment_6_15)"
   ]
  },
  {
   "cell_type": "code",
   "execution_count": 151,
   "metadata": {
    "deletable": false,
    "editable": false,
    "nbgrader": {
     "cell_type": "code",
     "checksum": "d22dff8b28d979221138c61dab9e7bf7",
     "grade": true,
     "grade_id": "assignment-6-15-assert",
     "locked": true,
     "points": 1,
     "schema_version": 3,
     "solution": false,
     "task": false
    }
   },
   "outputs": [
    {
     "name": "stdout",
     "output_type": "stream",
     "text": [
      "Call assignment_6_15(8) ... OK\n",
      "Call assignment_6_15(10) ... OK\n",
      "Call assignment_6_15(13) ... OK\n",
      "Call assignment_6_15(55) ... OK\n",
      "Call assignment_6_15(56) ... OK\n",
      "Call assignment_6_15(57) ... OK\n",
      "Call assignment_6_15(54) ... OK\n",
      "Call assignment_6_15(2) ... OK\n",
      "Call assignment_6_15(3) ... OK\n",
      "Call assignment_6_15(4) ... OK\n",
      "Call assignment_6_15(5) ... OK\n",
      "Call assignment_6_15(6) ... OK\n",
      "Call assignment_6_15(1134903170) ... OK\n",
      "Call assignment_6_15(1134903171) ... OK\n",
      "Call assignment_6_15(1134903169) ... OK\n",
      "\n",
      "Well done! You seem to have solved assignment_6_15!\n"
     ]
    }
   ],
   "source": [
    "# Assertion for assignment 6.15\n",
    "\n",
    "check_assertion(assignment_6_15)"
   ]
  },
  {
   "cell_type": "markdown",
   "metadata": {
    "deletable": false,
    "editable": false,
    "nbgrader": {
     "cell_type": "markdown",
     "checksum": "f6c9fc64fa694fe2e0700b7a2d29a68b",
     "grade": false,
     "grade_id": "assignment-6-16-spacer",
     "locked": true,
     "schema_version": 3,
     "solution": false,
     "task": false
    }
   },
   "source": [
    "<br />\n",
    "<br />\n",
    "<br />\n",
    "<br />"
   ]
  },
  {
   "cell_type": "markdown",
   "metadata": {
    "deletable": false,
    "editable": false,
    "nbgrader": {
     "cell_type": "markdown",
     "checksum": "3f06dfe5203832becfa2d1479f76cd70",
     "grade": false,
     "grade_id": "assignment-6-16-text",
     "locked": true,
     "schema_version": 3,
     "solution": false,
     "task": false
    }
   },
   "source": [
    "# 6.16 The maximum number of consecutive equal elements\n",
    "\n",
    "Given a sequence of integer numbers ending with the number `0`. Determine the length of the widest fragment where all the elements are equal to each other. Like in earlier assignments above, make use of a construction with:\n",
    "```python\n",
    "number = int(input('Enter a number (0 to stop): '))\n",
    "```\n",
    "together with `while`. Return the maximum number of consecutive equal elements.\n",
    "\n",
    "## Example input\n",
    "\n",
    "```python\n",
    "1\n",
    "7\n",
    "7\n",
    "9\n",
    "1\n",
    "0\n",
    "```\n",
    "\n",
    "## Example return value\n",
    "\n",
    "```python\n",
    "2\n",
    "```\n"
   ]
  },
  {
   "cell_type": "code",
   "execution_count": 6,
   "metadata": {
    "deletable": false,
    "nbgrader": {
     "cell_type": "code",
     "checksum": "8ce5f81074127e2ba9bbde3e99e10c76",
     "grade": false,
     "grade_id": "assignment-6-16-code",
     "locked": false,
     "schema_version": 3,
     "solution": true,
     "task": false
    }
   },
   "outputs": [],
   "source": [
    "# Code for assignment 6.16\n",
    "\n",
    "def assignment_6_16():\n",
    "    numbers = []\n",
    "    while True:\n",
    "        number = int(input('Enter a number (0 to stop): '))\n",
    "        if number == 0:\n",
    "            break\n",
    "        numbers.append(number)\n",
    "        \n",
    "    counter = 1\n",
    "    consecutive = []\n",
    "    for i in range(len(numbers)-1): \n",
    "        if numbers[i+1] == numbers[i]:\n",
    "            counter += 1\n",
    "            continue\n",
    "        if numbers[i+1] != numbers[i]:\n",
    "            consecutive.append(counter)\n",
    "            counter = 1\n",
    "\n",
    "    consecutive.append(counter)\n",
    "    return max(consecutive)\n",
    "        \n",
    "    \n",
    "    "
   ]
  },
  {
   "cell_type": "code",
   "execution_count": 4,
   "metadata": {
    "deletable": false,
    "editable": false,
    "nbgrader": {
     "cell_type": "code",
     "checksum": "ea8bf882759c1032ed15f80a4713d343",
     "grade": false,
     "grade_id": "assignment-6-16-test",
     "locked": true,
     "schema_version": 3,
     "solution": false,
     "task": false
    }
   },
   "outputs": [
    {
     "name": "stdin",
     "output_type": "stream",
     "text": [
      "Enter a number (0 to stop):  5\n",
      "Enter a number (0 to stop):  6\n",
      "Enter a number (0 to stop):  7\n",
      "Enter a number (0 to stop):  5\n",
      "Enter a number (0 to stop):  5\n",
      "Enter a number (0 to stop):  5\n",
      "Enter a number (0 to stop):  3\n",
      "Enter a number (0 to stop):  3\n",
      "Enter a number (0 to stop):  1\n",
      "Enter a number (0 to stop):  0\n"
     ]
    },
    {
     "name": "stdout",
     "output_type": "stream",
     "text": [
      "[1, 1, 1, 3, 2, 1]\n",
      "\n",
      "The number of consecutive equal numbers is: 3\n"
     ]
    }
   ],
   "source": [
    "# Test for assignment 6.16\n",
    "\n",
    "test_cell_6_16(assignment_6_16)"
   ]
  },
  {
   "cell_type": "code",
   "execution_count": 7,
   "metadata": {
    "deletable": false,
    "editable": false,
    "nbgrader": {
     "cell_type": "code",
     "checksum": "ffae9cf54008393839d1b754df927bbc",
     "grade": true,
     "grade_id": "assignment-6-16-assert",
     "locked": true,
     "points": 1,
     "schema_version": 3,
     "solution": false,
     "task": false
    }
   },
   "outputs": [
    {
     "name": "stdout",
     "output_type": "stream",
     "text": [
      "Call assignment_6_16()\n",
      "  with inputs ('1', '7', '7', '9', '1', '0') ... OK\n",
      "Call assignment_6_16()\n",
      "  with inputs ('1', '2', '3', '4', '5', '6', '7', '8', '9', '10', '11', '0') ... OK\n",
      "Call assignment_6_16()\n",
      "  with inputs ('4', '4', '4', '4', '4', '4', '4', '4', '4', '4', '4', '4', '4', '4', '4', '0') ... OK\n",
      "Call assignment_6_16()\n",
      "  with inputs ('6', '0') ... OK\n",
      "Call assignment_6_16()\n",
      "  with inputs ('1', '2', '3', '2', '3', '3', '2', '4', '4', '4', '4', '2', '3', '3', '3', '2', '2', '3', '0') ... OK\n",
      "Call assignment_6_16()\n",
      "  with inputs ('1', '2', '2', '1', '2', '1', '2', '1', '2', '0') ... OK\n",
      "Call assignment_6_16()\n",
      "  with inputs ('1', '2', '2', '0') ... OK\n",
      "Call assignment_6_16()\n",
      "  with inputs ('2', '2', '1', '0') ... OK\n",
      "Call assignment_6_16()\n",
      "  with inputs ('1', '2', '3', '3', '2', '2', '4', '4', '4', '4', '4', '5', '5', '5', '6', '3', '3', '3', '3', '3', '3', '5', '5', '5', '5', '3', '3', '3', '4', '5', '5', '5', '0') ... OK\n",
      "Call assignment_6_16()\n",
      "  with inputs ('1', '2', '1', '1', '1', '2', '0') ... OK\n",
      "Call assignment_6_16()\n",
      "  with inputs ('2', '1', '1', '1', '1', '2', '1', '0') ... OK\n",
      "\n",
      "Well done! You seem to have solved assignment_6_16!\n"
     ]
    }
   ],
   "source": [
    "# Assertion for assignment 6.16\n",
    "\n",
    "check_assertion(assignment_6_16)"
   ]
  }
 ],
 "metadata": {
  "kernelspec": {
   "display_name": "Python 3 (ipykernel)",
   "language": "python",
   "name": "python3"
  },
  "language_info": {
   "codemirror_mode": {
    "name": "ipython",
    "version": 3
   },
   "file_extension": ".py",
   "mimetype": "text/x-python",
   "name": "python",
   "nbconvert_exporter": "python",
   "pygments_lexer": "ipython3",
   "version": "3.9.18"
  }
 },
 "nbformat": 4,
 "nbformat_minor": 4
}
