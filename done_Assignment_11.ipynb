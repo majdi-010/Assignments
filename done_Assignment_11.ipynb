{
 "cells": [
  {
   "cell_type": "markdown",
   "metadata": {
    "deletable": false,
    "editable": false,
    "nbgrader": {
     "cell_type": "markdown",
     "checksum": "4a3513c8caa6140f47035e40e594f993",
     "grade": false,
     "grade_id": "instructions",
     "locked": true,
     "schema_version": 3,
     "solution": false,
     "task": false
    }
   },
   "source": [
    "# 11. Dictionaries\n",
    "\n",
    "This Jupyter Notebook contains the [problems, or assignments, for Lesson 11](https://snakify.org/en/lessons/dictionaries_dicts/problems/), gratefully imported from the online course on [Snakify](https://snakify.org). If you get stuck, you can either ask the teacher and the teaching assistents, or skim through the [theory](https://snakify.org/en/lessons/dictionaries_dicts/) on Snakify."
   ]
  },
  {
   "cell_type": "code",
   "execution_count": 3,
   "metadata": {
    "deletable": false,
    "editable": false,
    "nbgrader": {
     "cell_type": "code",
     "checksum": "3d552f5c4c39249e5750262df758b85c",
     "grade": false,
     "grade_id": "import-assert",
     "locked": true,
     "schema_version": 3,
     "solution": false,
     "task": false
    }
   },
   "outputs": [
    {
     "name": "stdout",
     "output_type": "stream",
     "text": [
      "Assertions imported OK\n",
      "Test cells imported OK\n"
     ]
    }
   ],
   "source": [
    "# Please run the contents of this cell.\n",
    "# Select this cell and press Ctrl-Enter (or Command-Enter on mac).\n",
    "\n",
    "from assertions import *\n",
    "from test_cells import *"
   ]
  },
  {
   "cell_type": "markdown",
   "metadata": {
    "deletable": false,
    "editable": false,
    "nbgrader": {
     "cell_type": "markdown",
     "checksum": "244f0c90eab7aba30cbc7eeb01306a33",
     "grade": false,
     "grade_id": "assignment-11-01-spacer",
     "locked": true,
     "schema_version": 3,
     "solution": false,
     "task": false
    }
   },
   "source": [
    "<br />\n",
    "<br />\n",
    "<br />\n",
    "<br />"
   ]
  },
  {
   "cell_type": "markdown",
   "metadata": {
    "deletable": false,
    "editable": false,
    "nbgrader": {
     "cell_type": "markdown",
     "checksum": "bbae9b38099a35ea204f376ad25a87b6",
     "grade": false,
     "grade_id": "assignment-11-01-text",
     "locked": true,
     "schema_version": 3,
     "solution": false,
     "task": false
    }
   },
   "source": [
    "# 11.1 Number of occurrences\n",
    "\n",
    "The text is given in a single line. Return an alphabatically sorted dictionary with the word count for each unique word. Remember that in recent versions of Python, a dictionary will retain the order in which you added items to it.\n",
    "\n",
    "A word is a sequence of non-whitespace characters. Two consecutive words are separated by one or more spaces. Punctiation marks are a part of a word, by this definition.\n",
    "\n",
    "**Hint** You can use the power of `set()` to find unique words and turn it into a sorted list with `sorted()` and `list()`:\n",
    "```python\n",
    "unique_words = sorted(set(string.split()))\n",
    "```\n",
    "You can use `split()` without arguments to obtain a list of all the words in the string:\n",
    "```python\n",
    "all_words = string.split()\n",
    "```\n",
    "Build your dictionary with these two variables.\n",
    "\n",
    "## Example input\n",
    "```python\n",
    "one two one two three\n",
    "```\n",
    "\n",
    "## Example return value\n",
    "```python\n",
    "{'one': 2, 'three': 1, 'two': 2}\n",
    "```"
   ]
  },
  {
   "cell_type": "code",
   "execution_count": 86,
   "metadata": {
    "deletable": false,
    "nbgrader": {
     "cell_type": "code",
     "checksum": "93952b06b5b4cd30dbb81f980d3fb085",
     "grade": false,
     "grade_id": "assignment-11-01-code",
     "locked": false,
     "schema_version": 3,
     "solution": true,
     "task": false
    }
   },
   "outputs": [],
   "source": [
    "# Code for assignment 11.1\n",
    "\n",
    "def assignment_11_1(string):\n",
    "    words = string.split()\n",
    "    word_count = { word: words.count(word) for word in words}\n",
    "    \n",
    "    return word_count"
   ]
  },
  {
   "cell_type": "code",
   "execution_count": 87,
   "metadata": {
    "deletable": false,
    "editable": false,
    "nbgrader": {
     "cell_type": "code",
     "checksum": "f53ecab616ea18ca348f9677e1cb13cc",
     "grade": false,
     "grade_id": "assignment-11-01-test",
     "locked": true,
     "schema_version": 3,
     "solution": false,
     "task": false
    }
   },
   "outputs": [
    {
     "name": "stdin",
     "output_type": "stream",
     "text": [
      "Please enter a string (Press Enter for default \"one two one two three\"):  \n"
     ]
    },
    {
     "name": "stdout",
     "output_type": "stream",
     "text": [
      "\n",
      "The resulting dictionary is: \n",
      "{'one': 2, 'two': 2, 'three': 1}\n"
     ]
    }
   ],
   "source": [
    "# Test for assignment 11.1\n",
    "\n",
    "test_cell_11_1(assignment_11_1)"
   ]
  },
  {
   "cell_type": "code",
   "execution_count": 88,
   "metadata": {
    "deletable": false,
    "editable": false,
    "nbgrader": {
     "cell_type": "code",
     "checksum": "b3be47567095a6f37ca6387b1ecc403e",
     "grade": true,
     "grade_id": "assignment-11-01-assert",
     "locked": true,
     "points": 1,
     "schema_version": 3,
     "solution": false,
     "task": false
    }
   },
   "outputs": [
    {
     "name": "stdout",
     "output_type": "stream",
     "text": [
      "Call assignment_11_1('one two one two three') ... OK\n",
      "Call assignment_11_1('She sells sea shells on the sea shore; The shells that she sells are sea shells I'm sure. So if she sells sea shells on the sea shore, I'm sure that the shells are sea shore shells.') ... OK\n",
      "Call assignment_11_1('aba aba; aba @?\"') ... OK\n",
      "Call assignment_11_1('AA aa Aa aA') ... OK\n",
      "Call assignment_11_1('a a a a a a a a a a a a a a a a a a a a a a a a a a a a a a a a a a a a a') ... OK\n",
      "Call assignment_11_1('a b a c a b a d a b a c a b a') ... OK\n",
      "Call assignment_11_1('dsgsdf ' sdfg gdf ghgh sdfg sdh ghhfgjgj sdfg fhdh dfh dfh dfh') ... OK\n",
      "Call assignment_11_1('word') ... OK\n",
      "Call assignment_11_1('Lady of luck come out of your hiden course bless your light upon me as the light of the moon shines above and in the light of luck will be blessed i, when the moon is next to be full') ... OK\n",
      "Call assignment_11_1('As I prick this candle, I prick at thee Broken hearts unhappy be May you part another day Soon to go your separate ways') ... OK\n",
      "Call assignment_11_1('you will not solve this test. This @problem@ is unsolvable.') ... OK\n",
      "Call assignment_11_1('dfs bfs dejkstra bubble sort floid kmp z-function kormen bfs dejkstra bubble sort qsort merge sort heap sort genetic algorythm') ... OK\n",
      "\n",
      "Well done! You seem to have solved assignment_11_1!\n"
     ]
    }
   ],
   "source": [
    "# Assertion for assignment 11.1\n",
    "\n",
    "check_assertion(assignment_11_1)"
   ]
  },
  {
   "cell_type": "markdown",
   "metadata": {
    "deletable": false,
    "editable": false,
    "nbgrader": {
     "cell_type": "markdown",
     "checksum": "59e09fa0517deb0856ef43778e5d2c3b",
     "grade": false,
     "grade_id": "assignment-11-02-spacer",
     "locked": true,
     "schema_version": 3,
     "solution": false,
     "task": false
    }
   },
   "source": [
    "<br />\n",
    "<br />\n",
    "<br />\n",
    "<br />"
   ]
  },
  {
   "cell_type": "markdown",
   "metadata": {
    "deletable": false,
    "editable": false,
    "nbgrader": {
     "cell_type": "markdown",
     "checksum": "a9c4a20ab6076bc838af0a8897e7a302",
     "grade": false,
     "grade_id": "assignment-11-02-text",
     "locked": true,
     "schema_version": 3,
     "solution": false,
     "task": false
    }
   },
   "source": [
    "# 11.2 Dictionary of synonyms\n",
    "\n",
    "The function `assignment_11_2(synonyms, word)` takes two parameters: `synonyms` is a dictionary with synonyms. `synonyms` is built up by entering word pairs. `word` is the word that the synonym is requested for. \n",
    "\n",
    "In the test cell, you enter synonyms by entering **exactly** two words on a single line. The test cell will create a dictionary `synonyms` of the pairs for you.\n",
    "\n",
    "As last line of the input of the test cell, enter **a single word** - this will count as the `word` for which we are looking for a synonym.\n",
    "\n",
    "**Please note** that `word` can be both the key *and* the value of the dictionary.\n",
    "\n",
    "## Example input\n",
    "```python\n",
    "Hello Hi\n",
    "Bye Goodbye\n",
    "List Array\n",
    "Goodbye\n",
    "```\n",
    "\n",
    "## Example return value\n",
    "```python\n",
    "'Bye'\n",
    "```"
   ]
  },
  {
   "cell_type": "code",
   "execution_count": 20,
   "metadata": {
    "deletable": false,
    "nbgrader": {
     "cell_type": "code",
     "checksum": "c5e62214be93d6747b73cbbf5e2fb42a",
     "grade": false,
     "grade_id": "assignment-11-02-code",
     "locked": false,
     "schema_version": 3,
     "solution": true,
     "task": false
    }
   },
   "outputs": [],
   "source": [
    "# Code for assignment 11.2\n",
    "\n",
    "def assignment_11_2(synonyms, word):\n",
    "    for first_word, synonym in synonyms.items(): \n",
    "        if word == first_word: \n",
    "            return synonym\n",
    "        elif word == synonym: \n",
    "            return first_word"
   ]
  },
  {
   "cell_type": "code",
   "execution_count": 21,
   "metadata": {},
   "outputs": [
    {
     "name": "stdin",
     "output_type": "stream",
     "text": [
      "Please enter 2 words for a synonym or 1 word as lookup (or empty for default):  \n"
     ]
    },
    {
     "name": "stdout",
     "output_type": "stream",
     "text": [
      "\n",
      "Using default:\n",
      "Hello Hi\n",
      "Bye Goodbye\n",
      "List Array\n",
      "Goodbye\n",
      "\n",
      "Your function returned: 'Bye'\n"
     ]
    }
   ],
   "source": [
    "# Test for assignment 11.2\n",
    "\n",
    "test_cell_11_2(assignment_11_2)"
   ]
  },
  {
   "cell_type": "code",
   "execution_count": 22,
   "metadata": {
    "deletable": false,
    "editable": false,
    "nbgrader": {
     "cell_type": "code",
     "checksum": "acc6a46205a3eac08916495979c0bacb",
     "grade": true,
     "grade_id": "assignment-11-02-assert",
     "locked": true,
     "points": 1,
     "schema_version": 3,
     "solution": false,
     "task": false
    }
   },
   "outputs": [
    {
     "name": "stdout",
     "output_type": "stream",
     "text": [
      "Call assignment_11_2({'Hello': 'Hi', 'Bye': 'Goodbye', 'List': 'Array'}, 'Goodbye') ... OK\n",
      "Call assignment_11_2({'beep': 'Car'}, 'Car') ... OK\n",
      "Call assignment_11_2({'1234': '4321'}, '1234') ... OK\n",
      "Call assignment_11_2({'a': '1', 'b': '2', 'c': '3', 'd': '4', 'e': '5', 'f': '6', 'g': '7', 'h': '8', 'i': '9', 'j': '10'}, 'e') ... OK\n",
      "Call assignment_11_2({'a': '1', 'b': '2', 'c': '3', 'd': '4', 'e': '5', 'f': '6', 'g': '7', 'h': '8', 'i': '9', 'j': '10'}, '5') ... OK\n",
      "Call assignment_11_2({'95UUSA4P3K': '140YAZQF1W2', 'JIGCEL82Y3BXJ': '277WMID9GFAWGC', 'X36U1924TQ': 'GUDPNJ60NR3A', 'TR7JOPXQ0JK64CM': 'O6BJSY7MHMAI8S', '17HZOQO20CDQ1UG': 'VVIPAVTVY202R', '8T1A0XRRKKXEV': '7L2UKWCJ917G1Q', 'WLPOJYRN0G3MC': '5QWJPM4FG58', 'Z8TN35IQAF': 'GXUPQY7I3AJCX3', '5F382242HD25Q': '3IV9JL29DNP64', 'KZWNAOSV8H8APVF': 'LDAIALO4YMXE7'}, 'WLPOJYRN0G3MC') ... OK\n",
      "\n",
      "Well done! You seem to have solved assignment_11_2!\n"
     ]
    }
   ],
   "source": [
    "# Assertion for assignment 11.2\n",
    "\n",
    "check_assertion(assignment_11_2)"
   ]
  },
  {
   "cell_type": "markdown",
   "metadata": {
    "deletable": false,
    "editable": false,
    "nbgrader": {
     "cell_type": "markdown",
     "checksum": "f42866762f9ced317492fd99f84509a7",
     "grade": false,
     "grade_id": "assignment-11-03-spacer",
     "locked": true,
     "schema_version": 3,
     "solution": false,
     "task": false
    }
   },
   "source": [
    "<br />\n",
    "<br />\n",
    "<br />\n",
    "<br />"
   ]
  },
  {
   "cell_type": "markdown",
   "metadata": {
    "deletable": false,
    "editable": false,
    "nbgrader": {
     "cell_type": "markdown",
     "checksum": "e39047e1b4d3ed6685a60c9d2175d252",
     "grade": false,
     "grade_id": "assignment-11-03-text",
     "locked": true,
     "schema_version": 3,
     "solution": false,
     "task": false
    }
   },
   "source": [
    "# 11.3 Shopping items\n",
    "\n",
    "At the end of the week, a grocery shop owner wants to create an overview of the total number of fruit items he has sold. From his administration, he gets an overview of the fruit items he has sold to individual customers. This will be fed into the function as a *list of tuples*:\n",
    "```\n",
    "groceries = [('Oranges', 10), ('Oranges', 5), ('Kiwis', 9), ('Kiwis', 8), ('Oranges', 1)]\n",
    "```\n",
    "to `assignment_11_3(groceries)`. \n",
    "\n",
    "Finalize the function in such a way that it returns a **dictionary** with the fruit types as keys and the total number sold for of each of the fruit types as values.\n",
    "\n",
    "## Example input\n",
    "```python\n",
    "Oranges 10\n",
    "Oranges 5\n",
    "Kiwis 9\n",
    "Kiwis 8\n",
    "Oranges 1\n",
    "```\n",
    "\n",
    "## Example return value\n",
    "```python\n",
    "{'Oranges': 16, 'Kiwis': 17}\n",
    "```"
   ]
  },
  {
   "cell_type": "code",
   "execution_count": 25,
   "metadata": {
    "deletable": false,
    "nbgrader": {
     "cell_type": "code",
     "checksum": "58edb091148de1a66d5ee56d31e555c7",
     "grade": false,
     "grade_id": "assignment-11-03-code",
     "locked": false,
     "schema_version": 3,
     "solution": true,
     "task": false
    }
   },
   "outputs": [],
   "source": [
    "# Code for assignment 11.3\n",
    "\n",
    "def assignment_11_3(groceries):\n",
    "    result = {}\n",
    "    for product, amount in groceries: \n",
    "        if product in result.keys(): \n",
    "            result[product] += amount \n",
    "        else: \n",
    "            result[product] = amount\n",
    "            \n",
    "    return result"
   ]
  },
  {
   "cell_type": "code",
   "execution_count": 26,
   "metadata": {
    "deletable": false,
    "editable": false,
    "nbgrader": {
     "cell_type": "code",
     "checksum": "e9bcdc08e0c982dccf0e7a2620b3dea5",
     "grade": false,
     "grade_id": "assignment-11-03-test",
     "locked": true,
     "schema_version": 3,
     "solution": false,
     "task": false
    }
   },
   "outputs": [
    {
     "name": "stdin",
     "output_type": "stream",
     "text": [
      "Please enter combination 1 of a fruit type with the number sold (empty = default):  \n"
     ]
    },
    {
     "name": "stdout",
     "output_type": "stream",
     "text": [
      "\n",
      "Using default:  [('Oranges', 10), ('Oranges', 5), ('Kiwis', 9), ('Kiwis', 8), ('Oranges', 1)]\n",
      "\n",
      "Your function returned: {'Oranges': 16, 'Kiwis': 17}\n"
     ]
    }
   ],
   "source": [
    "# Test for assignment 11.3\n",
    "\n",
    "test_cell_11_3(assignment_11_3)"
   ]
  },
  {
   "cell_type": "code",
   "execution_count": 27,
   "metadata": {
    "deletable": false,
    "editable": false,
    "nbgrader": {
     "cell_type": "code",
     "checksum": "f9ccd8f318d59bcf051f542582c67de7",
     "grade": true,
     "grade_id": "assignment-11-03-assert",
     "locked": true,
     "points": 1,
     "schema_version": 3,
     "solution": false,
     "task": false
    }
   },
   "outputs": [
    {
     "name": "stdout",
     "output_type": "stream",
     "text": [
      "Call assignment_11_3((('Oranges', 10), ('Oranges', 5), ('Kiwis', 9), ('Kiwis', 8), ('Oranges', 1), ('Oranges', 16), ('Kiwis', 17))) ... OK\n",
      "Call assignment_11_3((('Oranges', 10), ('Oranges', 3), ('Kiwis', 19), ('Kiwis', 2), ('Oranges', 7), ('Oranges', 2), ('Kiwis', 6), ('Kiwis', 10), ('Oranges', 11), ('Oranges', 5), ('Kiwis', 3), ('Kiwis', 12), ('Oranges', 13), ('Oranges', 51), ('Kiwis', 52))) ... OK\n",
      "Call assignment_11_3((('Kiwis', 1), ('Kiwis', 1))) ... OK\n",
      "Call assignment_11_3((('Apples', 2), ('Bananas', 1), ('Pears', 100000), ('Apples', 1), ('Apples', 1), ('Apples', 0), ('Bananas', 100), ('Bananas', 101), ('Apples', 4), ('Pears', 100000))) ... OK\n",
      "Call assignment_11_3((('Kiwis', 1), ('Kiwis', 1), ('Kiwis', 1), ('Kiwis', 1), ('Kiwis', 1), ('Kiwis', 1), ('Kiwis', 1), ('Kiwis', 1), ('Kiwis', 1), ('Kiwis', 1), ('Kiwis', 1), ('Kiwis', 1), ('Kiwis', 1), ('Kiwis', 1), ('Kiwis', 1), ('Kiwis', 1), ('Kiwis', 1), ('Kiwis', 1), ('Kiwis', 1), ('Kiwis', 1), ('Kiwis', 1), ('Kiwis', 1), ('Kiwis', 1), ('Kiwis', 1), ('Kiwis', 1), ('Kiwis', 1), ('Kiwis', 1), ('Kiwis', 1), ('Kiwis', 1), ('Kiwis', 1), ('Kiwis', 1), ('Kiwis', 1), ('Kiwis', 1), ('Kiwis', 1), ('Kiwis', 1), ('Kiwis', 1), ('Kiwis', 1), ('Kiwis', 1), ('Kiwis', 1), ('Kiwis', 1), ('Kiwis', 1), ('Kiwis', 1), ('Kiwis', 1), ('Kiwis', 1), ('Kiwis', 1), ('Kiwis', 1), ('Kiwis', 1), ('Kiwis', 1), ('Kiwis', 1), ('Kiwis', 1), ('Kiwis', 1), ('Kiwis', 1), ('Kiwis', 1), ('Kiwis', 1), ('Kiwis', 1), ('Kiwis', 1), ('Kiwis', 1), ('Kiwis', 1), ('Kiwis', 1), ('Kiwis', 1), ('Oranges', 59))) ... OK\n",
      "\n",
      "Well done! You seem to have solved assignment_11_3!\n"
     ]
    }
   ],
   "source": [
    "# Assertion for assignment 11.3\n",
    "\n",
    "check_assertion(assignment_11_3)"
   ]
  },
  {
   "cell_type": "markdown",
   "metadata": {
    "deletable": false,
    "editable": false,
    "nbgrader": {
     "cell_type": "markdown",
     "checksum": "12918e5db802bd6604741b909ae9da28",
     "grade": false,
     "grade_id": "assignment-11-04-spacer",
     "locked": true,
     "schema_version": 3,
     "solution": false,
     "task": false
    }
   },
   "source": [
    "<br />\n",
    "<br />\n",
    "<br />\n",
    "<br />"
   ]
  },
  {
   "cell_type": "markdown",
   "metadata": {
    "deletable": false,
    "editable": false,
    "nbgrader": {
     "cell_type": "markdown",
     "checksum": "b57279b210813b98d0c8d778c48f183d",
     "grade": false,
     "grade_id": "assignment-11-04-text",
     "locked": true,
     "schema_version": 3,
     "solution": false,
     "task": false
    }
   },
   "source": [
    "# 11.4 The most frequent word\n",
    "\n",
    "Given a multiline text as list of strings `text`, return the word in the text that occurs most often. If there are many such words, print the one that appears first in alphabetical order.\n",
    "\n",
    "In the test cell, you can enter lines of text until you enter an empty line.\n",
    "\n",
    "## Example input\n",
    "```python\n",
    "apple orange banana\n",
    "banana orange\n",
    "```\n",
    "\n",
    "## Example return value\n",
    "```python\n",
    "'banana'\n",
    "```\n"
   ]
  },
  {
   "cell_type": "code",
   "execution_count": 90,
   "metadata": {
    "deletable": false,
    "nbgrader": {
     "cell_type": "code",
     "checksum": "e2324ae66bfdfa0906904a7d3eb50d9c",
     "grade": false,
     "grade_id": "assignment-11-04-code",
     "locked": false,
     "schema_version": 3,
     "solution": true,
     "task": false
    }
   },
   "outputs": [],
   "source": [
    "# Code for assignment 11.4\n",
    "\n",
    "def assignment_11_4(text):\n",
    "    words = []\n",
    "    for item in text: \n",
    "        splitting = item.split() \n",
    "        words.extend(splitting) \n",
    "    \n",
    "    words_unique = set(words)\n",
    "    word_count = {word: words.count(word) for word in words_unique}\n",
    "    \n",
    "    maximum_occurrence = max(word_count.values())\n",
    "    \n",
    "    frequent_words = []\n",
    "    \n",
    "    for word in word_count.keys():\n",
    "        if word_count[word] == maximum_occurrence: \n",
    "            frequent_words.append(word)\n",
    "        \n",
    "    frequent_words = sorted(frequent_words)\n",
    "    \n",
    "    return frequent_words[0]\n",
    "        \n",
    "        \n"
   ]
  },
  {
   "cell_type": "code",
   "execution_count": 91,
   "metadata": {
    "deletable": false,
    "editable": false,
    "nbgrader": {
     "cell_type": "code",
     "checksum": "812d7c396ca77453b5875e73fee4e80c",
     "grade": false,
     "grade_id": "assignment-11-04-test",
     "locked": true,
     "schema_version": 3,
     "solution": false,
     "task": false
    }
   },
   "outputs": [
    {
     "name": "stdin",
     "output_type": "stream",
     "text": [
      "Please enter a string with words (empty line is default):  \n"
     ]
    },
    {
     "name": "stdout",
     "output_type": "stream",
     "text": [
      "\n",
      "Using default: ['apple orange banana', 'banana orange']\n",
      "\n",
      "The word that occurs most often is: \n",
      "'banana'\n"
     ]
    }
   ],
   "source": [
    "# Test for assignment 11.4\n",
    "\n",
    "test_cell_11_4(assignment_11_4)"
   ]
  },
  {
   "cell_type": "code",
   "execution_count": 92,
   "metadata": {
    "deletable": false,
    "editable": false,
    "nbgrader": {
     "cell_type": "code",
     "checksum": "257abccdbd85b8a539e2ee817f566fe2",
     "grade": true,
     "grade_id": "assignment-11-04-assert",
     "locked": true,
     "points": 1,
     "schema_version": 3,
     "solution": false,
     "task": false
    }
   },
   "outputs": [
    {
     "name": "stdout",
     "output_type": "stream",
     "text": [
      "Call assignment_11_4(('apple orange banana banana orange',)) ... OK\n",
      "Call assignment_11_4(('q w e r t y u i o p', 'a s d f g h j k l', 'z x c v b n m')) ... OK\n",
      "Call assignment_11_4(('vqcg vqcg vqcg vqcg vqcg vqcg vqcg', 'vqcg vqcg', 'vqcg')) ... OK\n",
      "Call assignment_11_4(('taia ikm ikm ikm taia taia taia', 'ikm ikm ikm')) ... OK\n",
      "Call assignment_11_4(('zc gdwbsv uwsz j bqz cytzpsdpl q zczwrq e zvnisf cytzpsdpl gdwbsv cytzpsdpl e bqz bqz zczwrq gdwbsv gdwbsv e',)) ... OK\n",
      "Call assignment_11_4(('iawkvxlhqwjm rwcahhaesy kbfahrmup huq w rzllq pq ufszcjb', 'wmjdbhcwhxzlhlf', 'jeeyfhbsauapwnpmskgh rzllq rzllq wmjdbhcwhxzlhlf rzllq rzllq jeeyfhbsauapwnpmskgh wmjdbhcwhxzlhlf rzllq jeeyfhbsauapwnpmskgh jeeyfhbsauapwnpmskgh')) ... OK\n",
      "Call assignment_11_4(('enagtgufzhnmyzkf kaphgquvoanw tkvj sylaejugfsv vuszbsdsv kmyyed rnhcdrpx b ejqa vykiu fjmdqlgxmameddhiytv yy owmldhdcjnoi durqhg ftjnehww aq ou tqxlcnxdpnmo ssdhbcdzzp twjdcvcojgtj',)) ... OK\n",
      "Call assignment_11_4(('Death there mirth way the noisy merit. Piqued shy spring nor six though mutual living ask extent. Replying of dashwood advanced ladyship smallest disposal or. Attempt offices own improve now see. Called person are around county talked her esteem. Those fully these way nay thing seems.', 'At distant inhabit amongst by. Appetite welcomed interest the goodness boy not. Estimable education for disposing pronounce her. John size good gay plan sent old roof own. Inquietude saw understood his friendship frequently yet. Nature his marked ham wished.', 'Marianne or husbands if at stronger ye. Considered is as middletons uncommonly. Promotion perfectly ye consisted so. His chatty dining for effect ladies active. Equally journey wishing not several behaved chapter she two sir. Deficient procuring favourite extensive you two. Yet diminution she impossible understood age.', 'So if on advanced addition absolute received replying throwing he. Delighted consisted newspaper of unfeeling as neglected so. Tell size come hard mrs and four fond are. Of in commanded earnestly resources it. At quitting in strictly up wandered of relation answered felicity. Side need at in what dear ever upon if. Same down want joy neat ask pain help she. Alone three stuff use law walls fat asked. Near do that he help.', 'Betrayed cheerful declared end and. Questions we additions is extremely incommode. Next half add call them eat face. Age lived smile six defer bed their few. Had admitting concluded too behaviour him she. Of death to or to being other.', 'Consulted he eagerness unfeeling deficient existence of. Calling nothing end fertile for venture way boy. Esteem spirit temper too say adieus who direct esteem. It esteems luckily mr or picture placing drawing no. Apartments frequently or motionless on reasonable projecting expression. Way mrs end gave tall walk fact bed.', 'Offered say visited elderly and. Waited period are played family man formed. He ye body or made on pain part meet. You one delay nor begin our folly abode. By disposed replying mr me unpacked no. As moonlight of my resolving unwilling.', 'Folly words widow one downs few age every seven. If miss part by fact he park just shew. Discovered had get considered projection who favourable. Necessary up knowledge it tolerably. Unwilling departure education is be dashwoods or an. Use off agreeable law unwilling sir deficient curiosity instantly. Easy mind life fact with see has bore ten. Parish any chatty can elinor direct for former. Up as meant widow equal an share least.', 'With my them if up many. Lain week nay she them her she. Extremity so attending objection as engrossed gentleman something. Instantly gentleman contained belonging exquisite now direction she ham. West room at sent if year. Numerous indulged distance old law you. Total state as merit court green decay he. Steepest sex bachelor the may delicate its yourself. As he instantly on discovery concluded to. Open draw far pure miss felt say yet few sigh.', 'Out too the been like hard off. Improve enquire welcome own beloved matters her. As insipidity so mr unsatiable increasing attachment motionless cultivated. Addition mr husbands unpacked occasion he oh. Is unsatiable if projecting boisterous insensible. It recommend be resolving pretended middleton.')) ... OK\n",
      "\n",
      "Well done! You seem to have solved assignment_11_4!\n"
     ]
    }
   ],
   "source": [
    "# Assertion for assignment 11.4\n",
    "\n",
    "check_assertion(assignment_11_4)"
   ]
  },
  {
   "cell_type": "markdown",
   "metadata": {
    "deletable": false,
    "editable": false,
    "nbgrader": {
     "cell_type": "markdown",
     "checksum": "1dc0a2a0c9195dda44d512a72e22a4fc",
     "grade": false,
     "grade_id": "assignment-11-05-spacer",
     "locked": true,
     "schema_version": 3,
     "solution": false,
     "task": false
    }
   },
   "source": [
    "<br />\n",
    "<br />\n",
    "<br />\n",
    "<br />"
   ]
  },
  {
   "cell_type": "markdown",
   "metadata": {
    "deletable": false,
    "editable": false,
    "nbgrader": {
     "cell_type": "markdown",
     "checksum": "9ec53c40910e992822e563ed21bd1d49",
     "grade": false,
     "grade_id": "assignment-11-05-text",
     "locked": true,
     "schema_version": 3,
     "solution": false,
     "task": false
    }
   },
   "source": [
    "# 11.5 Access rights\n",
    "\n",
    "On many computers, every file has three types of \"permissions\", which can be set in any combination:\n",
    "* read `R`\n",
    "* write `W`\n",
    "* execute `X`\n",
    "\n",
    "The function `assignment_11_5(files, actions)` takes a list of files called `files`. Each item of the list is a tuple. The first element is the filename, the following elements are any combination of `R`, `W` and `X`. For example:\n",
    "```python\n",
    "[('info.csv', 'R'), ('job.sh', 'R', 'X'), ('thesis.doc', 'R', 'W')]\n",
    "```\n",
    "\n",
    "`actions` is a list of actions that need to be tested. This is also a list of tuples. The first element in the tuple is a keyword for the preferred action 'read', 'write' or 'execute'. The second element is the filename. For example:\n",
    "```python\n",
    "[('read', 'info.csv'), ('write', 'job.sh'), ('execute', 'thesis.doc')]\n",
    "```\n",
    "\n",
    "The function `assignment_11_5(files, actions)` should return a list of the same length as `actions` and contain the word `OK` if the test action succeeded or `Access denied` if it failed. For the example above:\n",
    "```python\n",
    "['OK', 'Access denied', 'Access denied']\n",
    "```\n",
    "\n",
    "In the test cell, first type in the files with their respective actions `R`, `W` and/or `X` separated by spaces, followed by an empty line. \n",
    "\n",
    "After the empty line, type in the test actions. First the action requested `read`, `write` or `execute` followed by the filename on which to apply the action.\n",
    "\n",
    "**Hints** \n",
    "1. Inside your function, initialize a dictionary `permissions` as follows:\n",
    "```python\n",
    "permissions = {'R': [], 'W': [], 'X': []}\n",
    "```\n",
    "1. Loop through your `files` and append the filename to each corresponding permission list\n",
    "1. Then, loop through your `actions` and check whether the filename is on the permissions list for that file\n",
    "\n",
    "\n",
    "## Example input\n",
    "```python\n",
    "info.txt R\n",
    "job.sh R X\n",
    "thesis.doc R W\n",
    "\n",
    "read info.txt\n",
    "write job.sh\n",
    "execute thesis.doc\n",
    "```\n",
    "\n",
    "## Example return value\n",
    "```python\n",
    "['OK', 'Access denied', 'Access denied']\n",
    "```"
   ]
  },
  {
   "cell_type": "code",
   "execution_count": 93,
   "metadata": {
    "deletable": false,
    "nbgrader": {
     "cell_type": "code",
     "checksum": "a74e697fa11593b5a340a50f32f30b29",
     "grade": false,
     "grade_id": "assignment-11-05-code",
     "locked": false,
     "schema_version": 3,
     "solution": true,
     "task": false
    }
   },
   "outputs": [],
   "source": [
    "# Code for assignment 11.5\n",
    "\n",
    "def assignment_11_5(files, actions):\n",
    "    result = []\n",
    "    files_permissions = {\"R\": [], \"W\": [], \"X\": []} \n",
    "    for file in files:\n",
    "        for permission in file[1:]: \n",
    "            files_permissions[permission].append(file[0])\n",
    "        \n",
    "    for action, file_name in actions: \n",
    "        if action == \"read\": \n",
    "            if file_name in files_permissions[\"R\"]:\n",
    "                result.append(\"OK\")\n",
    "            else:\n",
    "                result.append(\"Access denied\")\n",
    "        if action == \"write\": \n",
    "            if file_name in files_permissions[\"W\"]:\n",
    "                result.append(\"OK\")\n",
    "            else:\n",
    "                result.append(\"Access denied\")\n",
    "        if action == \"execute\": \n",
    "            if file_name in files_permissions[\"X\"]:\n",
    "                result.append(\"OK\")\n",
    "            else:\n",
    "                result.append(\"Access denied\")\n",
    "    return result"
   ]
  },
  {
   "cell_type": "code",
   "execution_count": 94,
   "metadata": {
    "deletable": false,
    "editable": false,
    "nbgrader": {
     "cell_type": "code",
     "checksum": "29035089771d51b4b3935ab110c31536",
     "grade": false,
     "grade_id": "assignment-11-05-test",
     "locked": true,
     "schema_version": 3,
     "solution": false,
     "task": false
    }
   },
   "outputs": [
    {
     "name": "stdin",
     "output_type": "stream",
     "text": [
      "Please enter Enter 1st filename with any combination of R, W and X separated by spaces. Empty for default:  \n"
     ]
    },
    {
     "name": "stdout",
     "output_type": "stream",
     "text": [
      "\n",
      "Using default files: [('info.txt', 'R'), ('job.sh', 'R', 'X'), ('thesis.doc', 'R', 'W')]\n",
      "Using default actions: [('read', 'info.txt'), ('write', 'job.sh'), ('execute', 'thesis.doc')]\n",
      "\n",
      "The result for the actions [('read', 'info.txt'), ('write', 'job.sh'), ('execute', 'thesis.doc')] are:\n",
      "['OK', 'Access denied', 'Access denied']\n"
     ]
    }
   ],
   "source": [
    "# Test for assignment 11.5\n",
    "\n",
    "test_cell_11_5(assignment_11_5)"
   ]
  },
  {
   "cell_type": "code",
   "execution_count": 95,
   "metadata": {
    "deletable": false,
    "editable": false,
    "nbgrader": {
     "cell_type": "code",
     "checksum": "c979071955eb06fd6a34bcb29713b46f",
     "grade": true,
     "grade_id": "assignment-11-05-assert",
     "locked": true,
     "points": 1,
     "schema_version": 3,
     "solution": false,
     "task": false
    }
   },
   "outputs": [
    {
     "name": "stdout",
     "output_type": "stream",
     "text": [
      "Call assignment_11_5([('helloworld.exe', 'R', 'X'), ('pinglog', 'W', 'R'), ('nya', 'R'), ('goodluck', 'X', 'W', 'R')], [('read', 'nya'), ('write', 'helloworld.exe'), ('execute', 'nya'), ('read', 'pinglog'), ('write', 'pinglog')]) ... OK\n",
      "Call assignment_11_5([('abacaba', 'X')], [('read', 'abacaba'), ('write', 'abacaba'), ('execute', 'abacaba')]) ... OK\n",
      "Call assignment_11_5([('tmp_909925047', 'W', 'X', 'R')], [('execute', 'tmp_909925047'), ('read', 'tmp_909925047'), ('write', 'tmp_909925047'), ('read', 'tmp_909925047'), ('execute', 'tmp_909925047'), ('execute', 'tmp_909925047'), ('read', 'tmp_909925047')]) ... OK\n",
      "Call assignment_11_5([('tmp_1017722015', 'W'), ('tmp_897110090', 'X', 'W', 'R'), ('tmp_651548400', 'W', 'X'), ('tmp_422551574', 'X', 'R', 'W'), ('tmp_477658548', 'W')], [('write', 'tmp_897110090')]) ... OK\n",
      "Call assignment_11_5([('tmp_584361681', 'R', 'X'), ('tmp_70361076', 'X')], [('read', 'tmp_70361076'), ('write', 'tmp_70361076'), ('write', 'tmp_70361076')]) ... OK\n",
      "Call assignment_11_5([('tmp_796487715', 'X', 'R', 'W'), ('tmp_31144126', 'X', 'R'), ('tmp_967334538', 'R'), ('tmp_264755563', 'R', 'W')], [('read', 'tmp_264755563'), ('execute', 'tmp_796487715'), ('execute', 'tmp_796487715')]) ... OK\n",
      "\n",
      "Well done! You seem to have solved assignment_11_5!\n"
     ]
    }
   ],
   "source": [
    "# Assertion for assignment 11.5\n",
    "\n",
    "check_assertion(assignment_11_5)"
   ]
  },
  {
   "cell_type": "markdown",
   "metadata": {
    "deletable": false,
    "editable": false,
    "nbgrader": {
     "cell_type": "markdown",
     "checksum": "bcccb7df16fd4f57fb8e0467c4f6b6f4",
     "grade": false,
     "grade_id": "assignment-11-06-spacer",
     "locked": true,
     "schema_version": 3,
     "solution": false,
     "task": false
    }
   },
   "source": [
    "<br />\n",
    "<br />\n",
    "<br />\n",
    "<br />"
   ]
  },
  {
   "cell_type": "markdown",
   "metadata": {
    "deletable": false,
    "editable": false,
    "nbgrader": {
     "cell_type": "markdown",
     "checksum": "1800c1e6a81b695307424b8bee70ffd8",
     "grade": false,
     "grade_id": "assignment-11-06-text",
     "locked": true,
     "schema_version": 3,
     "solution": false,
     "task": false
    }
   },
   "source": [
    "# 11.6 Countries and cities\n",
    "\n",
    "For this assignment, the function `assignment_11_6(cities, requested)` takes two lists of strings. `cities` contains the strings in which the first word represents a country, while the following words are the cities that are located in that particular country. `requested` is a list of single city names for which the country needs to be looked up in your function. \n",
    "\n",
    "Your function should return a list, having the same length as `cities`, with the country name for each city.\n",
    "\n",
    "In the test cell, the cities per country are given on a single line. The first word on the line is the name of the country, each next word is the name of a city. For this assignment, only use single-word countries and city names, and make sure that you don't have the same city occur in multiple countries. The entry of countries and cities is ended with an empty line. After that, enter single city names to be looked up.\n",
    "\n",
    "## Example input\n",
    "```\n",
    "USA Boston Pittsburgh Washington Seattle\n",
    "UK London Edinburgh Cardiff Belfast\n",
    "\n",
    "Cardiff\n",
    "Seattle\n",
    "London\n",
    "```\n",
    "\n",
    "## Example return value\n",
    "```python\n",
    "['UK', 'USA', 'UK']\n",
    "```"
   ]
  },
  {
   "cell_type": "code",
   "execution_count": 1,
   "metadata": {
    "deletable": false,
    "nbgrader": {
     "cell_type": "code",
     "checksum": "c639ac2bc5c2ffc762601e8baa1bbd08",
     "grade": false,
     "grade_id": "assignment-11-06-code",
     "locked": false,
     "schema_version": 3,
     "solution": true,
     "task": false
    }
   },
   "outputs": [],
   "source": [
    "# Code for assignment 11.6\n",
    "\n",
    "def assignment_11_6(cities, requested):\n",
    "    result= []\n",
    "    \n",
    "    \n",
    "    country_city_dict = {item.split(maxsplit = 1)[0]: item.split()[1:] for item in cities}\n",
    "\n",
    "    for city in requested:\n",
    "        for key in country_city_dict: \n",
    "            if city in country_city_dict[key]:\n",
    "                result.append(key)\n",
    "                \n",
    "    \n",
    "    return result \n",
    "        \n",
    "    "
   ]
  },
  {
   "cell_type": "code",
   "execution_count": 4,
   "metadata": {
    "deletable": false,
    "editable": false,
    "nbgrader": {
     "cell_type": "code",
     "checksum": "b29d8803b66f567265ad9d2ab4a1eddd",
     "grade": false,
     "grade_id": "assignment-11-06-test",
     "locked": true,
     "schema_version": 3,
     "solution": false,
     "task": false
    }
   },
   "outputs": [
    {
     "name": "stdin",
     "output_type": "stream",
     "text": [
      "Please enter first country, followed by a number of city names (empty for default):  \n"
     ]
    },
    {
     "name": "stdout",
     "output_type": "stream",
     "text": [
      "\n",
      "Using default cities: ['USA Boston Pittsburgh Washington Seattle', 'UK London Edinburgh Cardiff Belfast']\n",
      "Using default requested: ['Cardiff', 'Seattle', 'London']\n",
      "\n",
      "The result for cities ['Cardiff', 'Seattle', 'London'] are:\n",
      "['UK', 'USA', 'UK']\n"
     ]
    }
   ],
   "source": [
    "# Test for assignment 11.6\n",
    "\n",
    "test_cell_11_6(assignment_11_6)"
   ]
  },
  {
   "cell_type": "code",
   "execution_count": 5,
   "metadata": {
    "deletable": false,
    "editable": false,
    "nbgrader": {
     "cell_type": "code",
     "checksum": "8a51c2218079dac56e8491f0e3a89eb9",
     "grade": true,
     "grade_id": "assignment-11-06-assert",
     "locked": true,
     "points": 1,
     "schema_version": 3,
     "solution": false,
     "task": false
    }
   },
   "outputs": [
    {
     "name": "stdout",
     "output_type": "stream",
     "text": [
      "Call assignment_11_6(['USA Boston Pittsburgh Washington Seattle', 'UK London Edinburgh Cardiff Belfast'], ['Cardiff', 'Seattle', 'London']) ... OK\n",
      "Call assignment_11_6(['Russia Moscow Petersburg Novgorod Kaluga', 'Ukraine Kiev Donetsk Odessa'], ['Odessa', 'Moscow', 'Novgorod']) ... OK\n",
      "Call assignment_11_6(['A B', 'C D', 'E F', 'G H', 'I J'], ['J', 'H', 'F', 'D', 'B']) ... OK\n",
      "Call assignment_11_6(['A B', 'C D E', 'F G H I', 'J K L M N', 'O P Q R S T'], ['T', 'S', 'N', 'R', 'M', 'I', 'Q', 'L', 'H', 'E', 'P', 'K', 'G', 'D', 'B']) ... OK\n",
      "\n",
      "Well done! You seem to have solved assignment_11_6!\n"
     ]
    }
   ],
   "source": [
    "# Assertion for assignment 11.6\n",
    "\n",
    "check_assertion(assignment_11_6)"
   ]
  },
  {
   "cell_type": "markdown",
   "metadata": {
    "deletable": false,
    "editable": false,
    "nbgrader": {
     "cell_type": "markdown",
     "checksum": "c1b41e520f01ea4a046469ebccdc0db4",
     "grade": false,
     "grade_id": "assignment-11-07-spacer",
     "locked": true,
     "schema_version": 3,
     "solution": false,
     "task": false
    }
   },
   "source": [
    "<br />\n",
    "<br />\n",
    "<br />\n",
    "<br />"
   ]
  },
  {
   "cell_type": "markdown",
   "metadata": {
    "deletable": false,
    "editable": false,
    "nbgrader": {
     "cell_type": "markdown",
     "checksum": "89bc310ab23861a4b8ed348fd883296e",
     "grade": false,
     "grade_id": "assignment-11-07-text",
     "locked": true,
     "schema_version": 3,
     "solution": false,
     "task": false
    }
   },
   "source": [
    "# 11.7 Frequency analysis\n",
    "\n",
    "Given a list of strings called `text`, finalize `assignment_11_7(text)` in such a way that it returns a list with all words encountered in `text`, sorted in descending order according to their number of occurrences. All words with the same number of occurrences should be printed in alphabetical order.\n",
    "\n",
    "**Hint** After you create a dictionary of the words and their numbers of occurrences, you would like to sort it according to the occurrences. This can be achieved if you create a list whose elements are tuples of two elements: first the occurrences of a word and then the word itself. \n",
    "\n",
    "This works because the standard list `sort()` will handle a list of tuple by comparing the first elements of the tuples, and if those are equal comparing the second element, and so on. A trick to sort in *descending* order, is to multiply the count of words by $-1$.\n",
    "\n",
    "For example:\n",
    "```python\n",
    "my_list = [(-2, 'hi'), (-1, 'why'), (-3, 'is'), (-1, 'what')]\n",
    "my_list.sort()\n",
    "# Now the list is [(-3, 'is'), (-2, 'hi'), (-1, 'what'), (-1, 'why')]\n",
    "```\n",
    "\n",
    "Alternatively, you can use the `reverse` keyword-argument of the `sort()` function:\n",
    "```python\n",
    "my_list = [(2, 'hi'), (1, 'why'), (3, 'is'), (1, 'what')]\n",
    "my_list.sort(reverse=True)\n",
    "# Now the list is [(3, 'is'), (2, 'hi'), (1, 'what'), (1, 'why')]\n",
    "``` \n",
    "\n",
    "\n",
    "## Example input\n",
    "```\n",
    "hi\n",
    "hi\n",
    "what is your name\n",
    "my name is bond\n",
    "james bond\n",
    "my name is damme\n",
    "van damme\n",
    "claude van damme\n",
    "jean claude van damme\n",
    "```\n",
    "\n",
    "## Example return value\n",
    "```python\n",
    "[ 'damme', 'is', 'name', 'van', 'bond', 'claude', 'hi', 'my', 'james', 'jean', 'what', 'your']\n",
    "```"
   ]
  },
  {
   "cell_type": "code",
   "execution_count": 185,
   "metadata": {
    "deletable": false,
    "nbgrader": {
     "cell_type": "code",
     "checksum": "7d369a8bd4842958ac794af9ff1fa9bc",
     "grade": false,
     "grade_id": "assignment-11-07-code",
     "locked": false,
     "schema_version": 3,
     "solution": true,
     "task": false
    }
   },
   "outputs": [],
   "source": [
    "# Code for assignment 11.7\n",
    "\n",
    "def assignment_11_7(text):\n",
    "    text = [word for index in range(len(text)) for word in text[index].split() ]\n",
    "    unique_words = set(text) \n",
    "    word_count = {word: -text.count(word) for word in unique_words} \n",
    "    \n",
    "    pairs = [(occurrence, word) for word, occurrence in word_count.items()]\n",
    "    pairs.sort()\n",
    "    result = [word[1] for word in pairs]\n",
    "    \n",
    "    return result\n",
    "    "
   ]
  },
  {
   "cell_type": "code",
   "execution_count": 46,
   "metadata": {
    "deletable": false,
    "editable": false,
    "nbgrader": {
     "cell_type": "code",
     "checksum": "4e279e2b8e6c59bc519685d86bd7995d",
     "grade": false,
     "grade_id": "assignment-11-07-test",
     "locked": true,
     "schema_version": 3,
     "solution": false,
     "task": false
    }
   },
   "outputs": [
    {
     "name": "stdin",
     "output_type": "stream",
     "text": [
      "Please enter a string (empty to use default):  \n"
     ]
    },
    {
     "name": "stdout",
     "output_type": "stream",
     "text": [
      "\n",
      "Using default: ['hi', 'hi', 'what is your name', 'my name is bond', 'james bond', 'my name is damme', 'van damme', 'claude van damme', 'jean claude van damme']\n",
      "\n",
      "The resulting list is: \n",
      "['damme', 'is', 'name', 'van', 'bond', 'claude', 'hi', 'my', 'james', 'jean', 'what', 'your']\n"
     ]
    }
   ],
   "source": [
    "# Test for assignment 11.7\n",
    "\n",
    "test_cell_11_7(assignment_11_7)"
   ]
  },
  {
   "cell_type": "code",
   "execution_count": 47,
   "metadata": {
    "deletable": false,
    "editable": false,
    "nbgrader": {
     "cell_type": "code",
     "checksum": "650f93e3ca2f10e75e288ee5eef0b9ff",
     "grade": true,
     "grade_id": "assignment-11-07-assert",
     "locked": true,
     "points": 1,
     "schema_version": 3,
     "solution": false,
     "task": false
    }
   },
   "outputs": [
    {
     "name": "stdout",
     "output_type": "stream",
     "text": [
      "Call assignment_11_7(['hi', 'hi', 'what is your name', 'my name is bond', 'james bond', 'my name is damme', 'van damme', 'claude van damme', 'jean claude van damme']) ... OK\n",
      "Call assignment_11_7(['ai ai ai ai ai ai ai ai ai ai']) ... OK\n",
      "Call assignment_11_7(['iovjxotfvt h h iovjxotfvt h iovjxotfvt iovjxotfvt h', 'h iovjxotfvt']) ... OK\n",
      "Call assignment_11_7(['eqlbahbovv pzpumhz mlcgtbbnfr', 'axsjbontg emojwajtfi', 'basdu nzyh wpyirkmz xxkmrr blnlqwcpur eqlbahbovv nzyh mlcgtbbnfr', 'mlcgtbbnfr axsjbontg mlcgtbbnfr mlcgtbbnfr mlcgtbbnfr blnlqwcpur mlcgtbbnfr']) ... OK\n",
      "Call assignment_11_7(['That thou hast her it is not all my grief,', 'And yet it may be said I loved her dearly,', 'That she hath thee is of my wailing chief,', 'A loss in love that touches me more nearly.', 'Loving offenders thus I will excuse ye,', \"Thou dost love her, because thou know'st I love her,\", 'And for my sake even so doth she abuse me,', \"Suff'ring my friend for my sake to approve her.\", \"If I lose thee, my loss is my love's gain,\", 'And losing her, my friend hath found that loss,', 'Both find each other, and I lose both twain,', 'And both for my sake lay on me this cross,', \"But here's the joy, my friend and I are one,\", 'Sweet flattery, then she loves but me alone.']) ... OK\n",
      "Call assignment_11_7([]) ... OK\n",
      "\n",
      "Well done! You seem to have solved assignment_11_7!\n"
     ]
    }
   ],
   "source": [
    "# Assertion for assignment 11.7\n",
    "\n",
    "check_assertion(assignment_11_7)"
   ]
  },
  {
   "cell_type": "markdown",
   "metadata": {
    "deletable": false,
    "editable": false,
    "nbgrader": {
     "cell_type": "markdown",
     "checksum": "376e1a8819dd267d0fae174f87cafb76",
     "grade": false,
     "grade_id": "assignment-11-08-spacer",
     "locked": true,
     "schema_version": 3,
     "solution": false,
     "task": false
    }
   },
   "source": [
    "<br />\n",
    "<br />\n",
    "<br />\n",
    "<br />"
   ]
  },
  {
   "cell_type": "markdown",
   "metadata": {
    "deletable": false,
    "editable": false,
    "nbgrader": {
     "cell_type": "markdown",
     "checksum": "6d7e47ed9f67df11a5d9916d58573028",
     "grade": false,
     "grade_id": "assignment-11-08-text",
     "locked": true,
     "schema_version": 3,
     "solution": false,
     "task": false
    }
   },
   "source": [
    "# 11.8 English-Latin dictionary\n",
    "\n",
    "One day, going through old books in the attic, a student called Bob found an English-Latin dictionary. By that time he spoke English fluently, and his dream was to learn Latin. So finding the dictionary was a stroke of luck.\n",
    "\n",
    "Unfortunately, full-fledged language studying requires also another type of dictionary: Latin-English. Since Bob did not posess one of those, he decided to make that second dictionary using the first one.\n",
    "\n",
    "As you know, the dictionary consists of words, each of which contains multiple translations. For each Latin word that appears anywhere in the dictionary, Bob has to find all of its translations (that is, all English words, for which our Latin word is among its translations), and take those as the translations of this Latin word.\n",
    "\n",
    "Help Bob to create a Latin-English dictionary.\n",
    "\n",
    "Each entry is contained on a separate line, which contains first the English word, then the translations of this English word in Latin. All the words consist only of lowercase English letters.\n",
    "\n",
    "Return a list of strings with the corresponding Latin-English dictionary. Make sure that the first words (Latin) are sorted alphabetically and also that the English translation(s) are also sorted alphabetically.\n",
    "\n",
    "## Example input\n",
    "```python\n",
    "apple malum pomum popula\n",
    "fruit baca bacca popum\n",
    "punishment malum multa\n",
    "```\n",
    "\n",
    "## Example return value\n",
    "```python\n",
    "['baca fruit', 'bacca fruit', 'malum apple punishment', 'multa punishment', \\\n",
    " 'pomum apple', 'popula apple', 'popum fruit']\n",
    "```\n",
    "\n",
    "which corresponds to:\n",
    "\n",
    "```\n",
    "baca fruit\n",
    "bacca fruit\n",
    "malum apple punishment\n",
    "multa punishment\n",
    "pomum apple\n",
    "popula apple\n",
    "popum fruit\n",
    "```"
   ]
  },
  {
   "cell_type": "code",
   "execution_count": 184,
   "metadata": {
    "deletable": false,
    "nbgrader": {
     "cell_type": "code",
     "checksum": "cf72e25b677acb2f7f11efb6350a97f1",
     "grade": false,
     "grade_id": "assignment-11-08-code",
     "locked": false,
     "schema_version": 3,
     "solution": true,
     "task": false
    }
   },
   "outputs": [],
   "source": [
    "# Code for assignment 11.8\n",
    "\n",
    "def assignment_11_8(english_latin):\n",
    "    list_of_words = [string.split() for string in english_latin] \n",
    "    dictionary = {latin_word: [] for words in list_of_words for latin_word in words[1:]}\n",
    "    \n",
    "    for word in dictionary.keys(): \n",
    "        for step in list_of_words: \n",
    "            if word in step[1:]: \n",
    "                dictionary[word].append(step[0])\n",
    "    \n",
    "    dictionary = {k: sorted(v) for k, v in sorted(dictionary.items())}\n",
    "    result = [] \n",
    "    \n",
    "    for k, v in dictionary.items(): \n",
    "        string = k + \" \" + \" \".join(v)\n",
    "        result.append(string)\n",
    "    \n",
    "    return result"
   ]
  },
  {
   "cell_type": "code",
   "execution_count": 181,
   "metadata": {
    "deletable": false,
    "editable": false,
    "nbgrader": {
     "cell_type": "code",
     "checksum": "bf568db7069a9347c0a9fdad449b25a5",
     "grade": false,
     "grade_id": "assignment-11-08-test",
     "locked": true,
     "schema_version": 3,
     "solution": false,
     "task": false
    }
   },
   "outputs": [
    {
     "name": "stdin",
     "output_type": "stream",
     "text": [
      "Please enter 1st English word followed by Latin words (empty line for default):  \n"
     ]
    },
    {
     "name": "stdout",
     "output_type": "stream",
     "text": [
      "\n",
      "Using default: ['apple malum pomum popula', 'fruit baca bacca popum', 'punishment malum multa']\n",
      "\n",
      "The resulting Latin-English dictionary is: \n",
      "baca fruit\n",
      "bacca fruit\n",
      "malum apple punishment\n",
      "multa punishment\n",
      "pomum apple\n",
      "popula apple\n",
      "popum fruit\n"
     ]
    }
   ],
   "source": [
    "# Test for assignment 11.8\n",
    "\n",
    "test_cell_11_8(assignment_11_8)"
   ]
  },
  {
   "cell_type": "code",
   "execution_count": 182,
   "metadata": {
    "deletable": false,
    "editable": false,
    "nbgrader": {
     "cell_type": "code",
     "checksum": "053454174806f0b583b40d4b42171134",
     "grade": true,
     "grade_id": "assignment-11-08-assert",
     "locked": true,
     "points": 1,
     "schema_version": 3,
     "solution": false,
     "task": false
    }
   },
   "outputs": [
    {
     "name": "stdout",
     "output_type": "stream",
     "text": [
      "Call assignment_11_8(['apple malum pomum popula', 'fruit baca bacca popum', 'punishment malum multa']) ... OK\n",
      "Call assignment_11_8(['school schola']) ... OK\n",
      "Call assignment_11_8(['greet empfangen willkommen', 'silicon silicon', 'welcome willkommen']) ... OK\n",
      "Call assignment_11_8(['mef mqax xkr', 'wemu mqax']) ... OK\n",
      "Call assignment_11_8(['gfk whao', 'icfx nil whao', 'utzs brh']) ... OK\n",
      "Call assignment_11_8(['casy moxd oosz pfh wfp', 'cgsy pfh', 'dlx fma lyq', 'vja fma lyq moxd oosz pfh wfp xrwv', 'zfq fma lyq tnqq xrwv']) ... OK\n",
      "Call assignment_11_8(['drxpeycnkp fgoezltv fgqedltc fgqezltc fsqezltc tgqehltc', 'oaxpeycnkp fgqedltc pgqezltu tgqehltc', 'yaxpefcnkr fgqedltc fgqezljc fgqezlqc fgqezltc tgqehltc', 'yaxpeycnkp fgqedltc fgqezlqc fsqezltc', 'yaxpeycnks fgqedltc fsqezltc pgqezltu', 'yaxteyckp fgqedltc fgqezljc fgqezlqc fsqezltc pgqezltu']) ... OK\n",
      "Call assignment_11_8(['fnpa kbyip', 'kbyip kbyip ojawe ysye', 'ojawe fnpa kbyip', 'uyjge kbyip', 'ysye ojawe']) ... OK\n",
      "Call assignment_11_8(['ddf ngyj nrbb nrkh wryj', 'deds ngyj nrbb nrkh nryj wryj', 'dpds ngyj nrkh nryj', 'dudm ngyj nrkh nrni nryj wryj', 'duds ngyj nrbb nrkh nryj', 'dujs ngyj nrbb nrkh wryj']) ... OK\n",
      "Call assignment_11_8(['cdb cdb crke meqb pyk uel', 'crke cdb crke meqb pyk uel', 'fvl crke meqb', 'meqb cdb', 'pyk crke meqb uel', 'uel cdb crke fvl']) ... OK\n",
      "Call assignment_11_8([]) ... OK\n",
      "\n",
      "Well done! You seem to have solved assignment_11_8!\n"
     ]
    }
   ],
   "source": [
    "# Assertion for assignment 11.8\n",
    "\n",
    "check_assertion(assignment_11_8)"
   ]
  }
 ],
 "metadata": {
  "kernelspec": {
   "display_name": "Python 3 (ipykernel)",
   "language": "python",
   "name": "python3"
  },
  "language_info": {
   "codemirror_mode": {
    "name": "ipython",
    "version": 3
   },
   "file_extension": ".py",
   "mimetype": "text/x-python",
   "name": "python",
   "nbconvert_exporter": "python",
   "pygments_lexer": "ipython3",
   "version": "3.9.18"
  }
 },
 "nbformat": 4,
 "nbformat_minor": 4
}
