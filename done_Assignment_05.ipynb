{
 "cells": [
  {
   "cell_type": "markdown",
   "metadata": {
    "deletable": false,
    "editable": false,
    "nbgrader": {
     "cell_type": "markdown",
     "checksum": "75d274a1807b2b7d55b9d03736bb2d1a",
     "grade": false,
     "grade_id": "introduction",
     "locked": true,
     "schema_version": 3,
     "solution": false,
     "task": false
    }
   },
   "source": [
    "# 5. Strings\n",
    "\n",
    "This Jupyter Notebook contains the [problems, or assignments, for Lesson 5](https://snakify.org/en/lessons/strings_str/problems/), gratefully imported from the online course on [Snakify](https://snakify.org). If you get stuck, you can either ask the teacher and the teaching assistents, or skim through the [theory](https://snakify.org/en/lessons/strings_str/) and [explanation of the steps](https://snakify.org/en/lessons/strings_str/steps/1/) on Snakify."
   ]
  },
  {
   "cell_type": "code",
   "execution_count": 1,
   "metadata": {
    "deletable": false,
    "editable": false,
    "nbgrader": {
     "cell_type": "code",
     "checksum": "3d552f5c4c39249e5750262df758b85c",
     "grade": false,
     "grade_id": "import-assert",
     "locked": true,
     "schema_version": 3,
     "solution": false,
     "task": false
    }
   },
   "outputs": [
    {
     "name": "stdout",
     "output_type": "stream",
     "text": [
      "Assertions imported OK\n",
      "Test cells imported OK\n"
     ]
    }
   ],
   "source": [
    "# Please run the contents of this cell.\n",
    "# Select this cell and press Ctrl-Enter (or Command-Enter on mac).\n",
    "\n",
    "from assertions import *\n",
    "from test_cells import *"
   ]
  },
  {
   "cell_type": "markdown",
   "metadata": {
    "deletable": false,
    "editable": false,
    "nbgrader": {
     "cell_type": "markdown",
     "checksum": "4cb33b5cdc77b90f1265a8b0f12139c9",
     "grade": false,
     "grade_id": "assignment-05-01-a-spacer",
     "locked": true,
     "schema_version": 3,
     "solution": false,
     "task": false
    }
   },
   "source": [
    "<br />\n",
    "<br />\n",
    "<br />\n",
    "<br />"
   ]
  },
  {
   "cell_type": "markdown",
   "metadata": {
    "deletable": false,
    "editable": false,
    "nbgrader": {
     "cell_type": "markdown",
     "checksum": "1636d0daed73f2ddb2f4e1242c50aed9",
     "grade": false,
     "grade_id": "assignment-05-01-a-text",
     "locked": true,
     "schema_version": 3,
     "solution": false,
     "task": false
    }
   },
   "source": [
    "# 5.1 Slices (a)\n",
    "\n",
    "(Please note that this assignment has been split into three parts)\n",
    "\n",
    "You are given a string. Create a result list that contains the following three items:\n",
    "\n",
    "* The first item should contain the third character of this string.\n",
    "* The second item shoud contain the second to last character of this string.\n",
    "* The third item should contain the first five characters of this string.\n",
    "\n",
    "## Example input\n",
    "\n",
    "```python\n",
    "Abrakadabra\n",
    "```\n",
    "\n",
    "## Example return value\n",
    "\n",
    "```python\n",
    "['r', 'r', 'Abrak']\n",
    "```"
   ]
  },
  {
   "cell_type": "code",
   "execution_count": 2,
   "metadata": {
    "deletable": false,
    "nbgrader": {
     "cell_type": "code",
     "checksum": "a70684ae465017b3e3c59f336dcc7485",
     "grade": false,
     "grade_id": "assignment-05-01-a-code",
     "locked": false,
     "schema_version": 3,
     "solution": true,
     "task": false
    }
   },
   "outputs": [],
   "source": [
    "# Code for assignment 5.1a\n",
    "\n",
    "def assignment_5_1a(string):\n",
    "    list = [string[2], string[::-1][1], string[:5]]\n",
    "    return list"
   ]
  },
  {
   "cell_type": "code",
   "execution_count": 3,
   "metadata": {
    "deletable": false,
    "editable": false,
    "nbgrader": {
     "cell_type": "code",
     "checksum": "bf04b17976c869bb1a6ecb2236f9e14e",
     "grade": false,
     "grade_id": "assignment-05-01-a-test",
     "locked": true,
     "schema_version": 3,
     "solution": false,
     "task": false
    }
   },
   "outputs": [
    {
     "name": "stdin",
     "output_type": "stream",
     "text": [
      "Please enter a string (Press Enter for default \"Abrakadabra\"):  \n"
     ]
    },
    {
     "name": "stdout",
     "output_type": "stream",
     "text": [
      "\n",
      "For string 'Abrakadabra', this results in: \n",
      "['r', 'r', 'Abrak']\n"
     ]
    }
   ],
   "source": [
    "# Test for assignment 5.1a\n",
    "\n",
    "test_cell_5_1(assignment_5_1a)"
   ]
  },
  {
   "cell_type": "code",
   "execution_count": 4,
   "metadata": {
    "deletable": false,
    "editable": false,
    "nbgrader": {
     "cell_type": "code",
     "checksum": "69c4887e7b03e3fe932c11e4d5b9e970",
     "grade": true,
     "grade_id": "assignment-05-01-a-assert",
     "locked": true,
     "points": 1,
     "schema_version": 3,
     "solution": false,
     "task": false
    }
   },
   "outputs": [
    {
     "name": "stdout",
     "output_type": "stream",
     "text": [
      "Call assignment_5_1a('Abrakadabra') ... OK\n",
      "Call assignment_5_1a('Hello') ... OK\n",
      "Call assignment_5_1a('qwertyuiop') ... OK\n",
      "Call assignment_5_1a('asdfghjklzxcv') ... OK\n",
      "\n",
      "Well done! You seem to have solved assignment_5_1a!\n"
     ]
    }
   ],
   "source": [
    "# Assertion for assignment 5.1a\n",
    "\n",
    "check_assertion(assignment_5_1a)"
   ]
  },
  {
   "cell_type": "markdown",
   "metadata": {
    "deletable": false,
    "editable": false,
    "nbgrader": {
     "cell_type": "markdown",
     "checksum": "90c2c0d9494b88339f2d261c6083b22d",
     "grade": false,
     "grade_id": "assignment-05-01-b-spacer",
     "locked": true,
     "schema_version": 3,
     "solution": false,
     "task": false
    }
   },
   "source": [
    "<br />\n",
    "<br />\n",
    "<br />\n",
    "<br />"
   ]
  },
  {
   "cell_type": "markdown",
   "metadata": {
    "deletable": false,
    "editable": false,
    "nbgrader": {
     "cell_type": "markdown",
     "checksum": "ab932a1b9152b53e066dd0c30920fb21",
     "grade": false,
     "grade_id": "assignment-05-01-b-text",
     "locked": true,
     "schema_version": 3,
     "solution": false,
     "task": false
    }
   },
   "source": [
    "# 5.1 Slices (b)\n",
    "\n",
    "(Please note that this assignment has been split into three parts)\n",
    "\n",
    "You are given a string. Create a result list that contains the following three items:\n",
    "* The first item should contain all but the last two characters of this string.\n",
    "* The second item should contain all the characters of this string with even indices (remember indexing starts at 0, so the characters are displayed starting with the first).\n",
    "* The third item should contain all the characters of this string with odd indices (i.e. starting with the second character in the string).\n",
    "\n",
    "## Example input\n",
    "\n",
    "```python\n",
    "Abrakadabra\n",
    "```\n",
    "\n",
    "## Example return value\n",
    "\n",
    "```python\n",
    "['Abrakadab', 'Arkdba', 'baaar']\n",
    "```"
   ]
  },
  {
   "cell_type": "code",
   "execution_count": 12,
   "metadata": {
    "deletable": false,
    "nbgrader": {
     "cell_type": "code",
     "checksum": "83e5eb839ac846b5cb4af6a6f10e0ad5",
     "grade": false,
     "grade_id": "assignment-05-01-b-code",
     "locked": false,
     "schema_version": 3,
     "solution": true,
     "task": false
    }
   },
   "outputs": [],
   "source": [
    "# Code for assignment 5.1b\n",
    "\n",
    "def assignment_5_1b(string):\n",
    "    list = [string[:len(string)-2], string[::2], string[1::2]]\n",
    "    return list"
   ]
  },
  {
   "cell_type": "code",
   "execution_count": 13,
   "metadata": {
    "deletable": false,
    "editable": false,
    "nbgrader": {
     "cell_type": "code",
     "checksum": "d4c80750453c1060201a7244e0bdb65a",
     "grade": false,
     "grade_id": "assignment-05-01-b-test",
     "locked": true,
     "schema_version": 3,
     "solution": false,
     "task": false
    }
   },
   "outputs": [
    {
     "name": "stdin",
     "output_type": "stream",
     "text": [
      "Please enter a string (Press Enter for default \"Abrakadabra\"):  \n"
     ]
    },
    {
     "name": "stdout",
     "output_type": "stream",
     "text": [
      "\n",
      "For string 'Abrakadabra', this results in: \n",
      "['Abrakadab', 'Arkdba', 'baaar']\n"
     ]
    }
   ],
   "source": [
    "# Test for assignment 5.1b\n",
    "\n",
    "test_cell_5_1(assignment_5_1b)"
   ]
  },
  {
   "cell_type": "code",
   "execution_count": 14,
   "metadata": {
    "deletable": false,
    "editable": false,
    "nbgrader": {
     "cell_type": "code",
     "checksum": "5adbe130299a3dded49db7b2e86318a3",
     "grade": true,
     "grade_id": "assignment-05-01-b-assert",
     "locked": true,
     "points": 1,
     "schema_version": 3,
     "solution": false,
     "task": false
    }
   },
   "outputs": [
    {
     "name": "stdout",
     "output_type": "stream",
     "text": [
      "Call assignment_5_1b('Abrakadabra') ... OK\n",
      "Call assignment_5_1b('Hello') ... OK\n",
      "Call assignment_5_1b('qwertyuiop') ... OK\n",
      "Call assignment_5_1b('asdfghjklzxcv') ... OK\n",
      "\n",
      "Well done! You seem to have solved assignment_5_1b!\n"
     ]
    }
   ],
   "source": [
    "# Assertion for assignment 5.1b\n",
    "\n",
    "check_assertion(assignment_5_1b)"
   ]
  },
  {
   "cell_type": "markdown",
   "metadata": {
    "deletable": false,
    "editable": false,
    "nbgrader": {
     "cell_type": "markdown",
     "checksum": "05f8db4c7bbcdb1cf0885c18be070d15",
     "grade": false,
     "grade_id": "assignment-05-01-c-spacer",
     "locked": true,
     "schema_version": 3,
     "solution": false,
     "task": false
    }
   },
   "source": [
    "<br />\n",
    "<br />\n",
    "<br />\n",
    "<br />"
   ]
  },
  {
   "cell_type": "markdown",
   "metadata": {
    "deletable": false,
    "editable": false,
    "nbgrader": {
     "cell_type": "markdown",
     "checksum": "0b7c398b194ea10c2e78f513eae22184",
     "grade": false,
     "grade_id": "assignment-05-01-c-text",
     "locked": true,
     "schema_version": 3,
     "solution": false,
     "task": false
    }
   },
   "source": [
    "# 5.1 Slices (c)\n",
    "\n",
    "(Please note that this assignment has been split into three parts)\n",
    "\n",
    "You are given a string. Create a result list that contains the following three items:\n",
    "* The first item should contain all the characters of the string in reverse order.\n",
    "* The second item should contain every second character of the string in reverse order, starting from the last one.\n",
    "* The third item should contain the length of the given string (**this is an integer**).\n",
    "\n",
    "## Example input\n",
    "\n",
    "```python\n",
    "Abrakadabra\n",
    "```\n",
    "\n",
    "## Example return value\n",
    "\n",
    "```python\n",
    "['arbadakarbA', 'abdkrA', 11]\n",
    "```"
   ]
  },
  {
   "cell_type": "code",
   "execution_count": 32,
   "metadata": {
    "deletable": false,
    "nbgrader": {
     "cell_type": "code",
     "checksum": "ab8ee32c721a3bae82552ff2f34b830b",
     "grade": false,
     "grade_id": "assignment-05-01-c-code",
     "locked": false,
     "schema_version": 3,
     "solution": true,
     "task": false
    }
   },
   "outputs": [],
   "source": [
    "# Code for assignment 5.1c\n",
    "\n",
    "def assignment_5_1c(string):\n",
    "    list = [string[::-1], string[::-1][::2], len(string)]\n",
    "    return list\n"
   ]
  },
  {
   "cell_type": "code",
   "execution_count": 33,
   "metadata": {
    "deletable": false,
    "editable": false,
    "nbgrader": {
     "cell_type": "code",
     "checksum": "41b6ff237d337f8bca9bcb7c8526ef98",
     "grade": false,
     "grade_id": "assignment-05-01-c-test",
     "locked": true,
     "schema_version": 3,
     "solution": false,
     "task": false
    }
   },
   "outputs": [
    {
     "name": "stdin",
     "output_type": "stream",
     "text": [
      "Please enter a string (Press Enter for default \"Abrakadabra\"):  \n"
     ]
    },
    {
     "name": "stdout",
     "output_type": "stream",
     "text": [
      "\n",
      "For string 'Abrakadabra', this results in: \n",
      "['arbadakarbA', 'abdkrA', 11]\n"
     ]
    }
   ],
   "source": [
    "# Test for assignment 5.1c\n",
    "\n",
    "test_cell_5_1(assignment_5_1c)"
   ]
  },
  {
   "cell_type": "code",
   "execution_count": 34,
   "metadata": {
    "deletable": false,
    "editable": false,
    "nbgrader": {
     "cell_type": "code",
     "checksum": "b523129eb456beb343a708a4073ce3b9",
     "grade": true,
     "grade_id": "assignment-05-01-c-assert",
     "locked": true,
     "points": 1,
     "schema_version": 3,
     "solution": false,
     "task": false
    }
   },
   "outputs": [
    {
     "name": "stdout",
     "output_type": "stream",
     "text": [
      "Call assignment_5_1c('Abrakadabra') ... OK\n",
      "Call assignment_5_1c('Hello') ... OK\n",
      "Call assignment_5_1c('qwertyuiop') ... OK\n",
      "Call assignment_5_1c('asdfghjklzxcv') ... OK\n",
      "\n",
      "Well done! You seem to have solved assignment_5_1c!\n"
     ]
    }
   ],
   "source": [
    "# Assertion for assignment 5.1c\n",
    "\n",
    "check_assertion(assignment_5_1c)"
   ]
  },
  {
   "cell_type": "markdown",
   "metadata": {
    "deletable": false,
    "editable": false,
    "nbgrader": {
     "cell_type": "markdown",
     "checksum": "c3ebaa277bb502febe8326b7df8d9d1a",
     "grade": false,
     "grade_id": "assignment-05-02-spacer",
     "locked": true,
     "schema_version": 3,
     "solution": false,
     "task": false
    }
   },
   "source": [
    "<br />\n",
    "<br />\n",
    "<br />\n",
    "<br />"
   ]
  },
  {
   "cell_type": "markdown",
   "metadata": {
    "deletable": false,
    "editable": false,
    "nbgrader": {
     "cell_type": "markdown",
     "checksum": "fa5dfb9370b996f789ea61c97d898e41",
     "grade": false,
     "grade_id": "assignment-05-02-text",
     "locked": true,
     "schema_version": 3,
     "solution": false,
     "task": false
    }
   },
   "source": [
    "# 5.2 The number of words\n",
    "\n",
    "Given a string consisting of words separated by (single) spaces. Determine how many words it has. To solve the problem, use the method `count`.\n",
    "\n",
    "## Example input\n",
    "\n",
    "```python\n",
    "Hello world\n",
    "```\n",
    "\n",
    "## Example return value\n",
    "\n",
    "```python\n",
    "2\n",
    "```"
   ]
  },
  {
   "cell_type": "code",
   "execution_count": 35,
   "metadata": {
    "deletable": false,
    "nbgrader": {
     "cell_type": "code",
     "checksum": "1ac07495561be6a8b61612dd9da108d3",
     "grade": false,
     "grade_id": "assignment-05-02-code",
     "locked": false,
     "schema_version": 3,
     "solution": true,
     "task": false
    }
   },
   "outputs": [],
   "source": [
    "# Code for assignment 5.2\n",
    "\n",
    "def assignment_5_2(string):\n",
    "    list = string.split()\n",
    "    return len(list)"
   ]
  },
  {
   "cell_type": "code",
   "execution_count": 36,
   "metadata": {
    "deletable": false,
    "editable": false,
    "nbgrader": {
     "cell_type": "code",
     "checksum": "a7138e919ef65568307c67c22e6ef98d",
     "grade": false,
     "grade_id": "assignment-05-02-test",
     "locked": true,
     "schema_version": 3,
     "solution": false,
     "task": false
    }
   },
   "outputs": [
    {
     "name": "stdin",
     "output_type": "stream",
     "text": [
      "Please enter a string (Press Enter for default \"Hello world\"):  \n"
     ]
    },
    {
     "name": "stdout",
     "output_type": "stream",
     "text": [
      "\n",
      "The number of words in 'Hello world' is:\n",
      "2\n"
     ]
    }
   ],
   "source": [
    "# Test for assignment 5.2\n",
    "\n",
    "test_cell_5_2(assignment_5_2)"
   ]
  },
  {
   "cell_type": "code",
   "execution_count": 37,
   "metadata": {
    "deletable": false,
    "editable": false,
    "nbgrader": {
     "cell_type": "code",
     "checksum": "872622af5239acc5982bcfa7b696ccf5",
     "grade": true,
     "grade_id": "assignment-05-02-assert",
     "locked": true,
     "points": 1,
     "schema_version": 3,
     "solution": false,
     "task": false
    }
   },
   "outputs": [
    {
     "name": "stdout",
     "output_type": "stream",
     "text": [
      "Call assignment_5_2('Hello world') ... OK\n",
      "Call assignment_5_2('Hello') ... OK\n",
      "Call assignment_5_2('q w e') ... OK\n",
      "Call assignment_5_2('In the hole in the ground there lived a hobbit') ... OK\n",
      "Call assignment_5_2('One two three four five') ... OK\n",
      "\n",
      "Well done! You seem to have solved assignment_5_2!\n"
     ]
    }
   ],
   "source": [
    "# Assertion for assignment 5.2\n",
    "\n",
    "check_assertion(assignment_5_2)"
   ]
  },
  {
   "cell_type": "markdown",
   "metadata": {
    "deletable": false,
    "editable": false,
    "nbgrader": {
     "cell_type": "markdown",
     "checksum": "90df2ee2c826b580c3226ad740d98b35",
     "grade": false,
     "grade_id": "assignment-05-03-spacer",
     "locked": true,
     "schema_version": 3,
     "solution": false,
     "task": false
    }
   },
   "source": [
    "<br />\n",
    "<br />\n",
    "<br />\n",
    "<br />"
   ]
  },
  {
   "cell_type": "markdown",
   "metadata": {
    "deletable": false,
    "editable": false,
    "nbgrader": {
     "cell_type": "markdown",
     "checksum": "b3259522a43dd1a3f1ec7c7c8e4499cf",
     "grade": false,
     "grade_id": "assignment-05-03-text",
     "locked": true,
     "schema_version": 3,
     "solution": false,
     "task": false
    }
   },
   "source": [
    "# 5.3 The two halves\n",
    "\n",
    "Given a string. Cut it into two \"equal\" parts (If the length of the string is odd, place the middle character in the first string, so that the first string contains one more character than the second). Now `return` a new string with the first and second halves interchanged (second half first and the first half second).\n",
    "\n",
    "Don't use the statement `if` in this task.\n",
    "\n",
    "## Example input\n",
    "\n",
    "```python\n",
    "Hi\n",
    "```\n",
    "\n",
    "## Example return value\n",
    "\n",
    "```python\n",
    "iH\n",
    "```"
   ]
  },
  {
   "cell_type": "code",
   "execution_count": 90,
   "metadata": {
    "deletable": false,
    "nbgrader": {
     "cell_type": "code",
     "checksum": "979f0616b10c1895bcd5a732aabcc855",
     "grade": false,
     "grade_id": "assignment-05-03-code",
     "locked": false,
     "schema_version": 3,
     "solution": true,
     "task": false
    }
   },
   "outputs": [],
   "source": [
    "# Code for assignment 5.3\n",
    "def assignment_5_3(string):\n",
    "    middle = len(string) % 2 + len(string) // 2\n",
    "    return string[middle:] + string[:middle]\n",
    "    "
   ]
  },
  {
   "cell_type": "code",
   "execution_count": 91,
   "metadata": {
    "deletable": false,
    "editable": false,
    "nbgrader": {
     "cell_type": "code",
     "checksum": "be013dfef83b038b6897ad0d28a358d5",
     "grade": false,
     "grade_id": "assignment-05-03-test",
     "locked": true,
     "schema_version": 3,
     "solution": false,
     "task": false
    }
   },
   "outputs": [
    {
     "name": "stdin",
     "output_type": "stream",
     "text": [
      "Please enter a string (Press Enter for default \"Hi\"):  \n"
     ]
    },
    {
     "name": "stdout",
     "output_type": "stream",
     "text": [
      "\n",
      "The two halves of 'Hi' inverted are: \n",
      "iH\n"
     ]
    }
   ],
   "source": [
    "# Test for assignment 5.3\n",
    "\n",
    "test_cell_5_3(assignment_5_3)"
   ]
  },
  {
   "cell_type": "code",
   "execution_count": 92,
   "metadata": {
    "deletable": false,
    "editable": false,
    "nbgrader": {
     "cell_type": "code",
     "checksum": "e62d6f152b83fad91beffb05773a2bc2",
     "grade": true,
     "grade_id": "assignment-05-03-assert",
     "locked": true,
     "points": 1,
     "schema_version": 3,
     "solution": false,
     "task": false
    }
   },
   "outputs": [
    {
     "name": "stdout",
     "output_type": "stream",
     "text": [
      "Call assignment_5_3('Hi') ... OK\n",
      "Call assignment_5_3('Hello') ... OK\n",
      "Call assignment_5_3('Qwerty') ... OK\n",
      "Call assignment_5_3('Z') ... OK\n",
      "Call assignment_5_3('asdfghj') ... OK\n",
      "Call assignment_5_3('asdfghjzxc') ... OK\n",
      "\n",
      "Well done! You seem to have solved assignment_5_3!\n"
     ]
    }
   ],
   "source": [
    "# Assertion for assignment 5.3\n",
    "\n",
    "check_assertion(assignment_5_3)"
   ]
  },
  {
   "cell_type": "markdown",
   "metadata": {
    "deletable": false,
    "editable": false,
    "nbgrader": {
     "cell_type": "markdown",
     "checksum": "a2b0fe9dfc48bf444f966342202f5bb5",
     "grade": false,
     "grade_id": "assignment-05-04-spacer",
     "locked": true,
     "schema_version": 3,
     "solution": false,
     "task": false
    }
   },
   "source": [
    "<br />\n",
    "<br />\n",
    "<br />\n",
    "<br />"
   ]
  },
  {
   "cell_type": "markdown",
   "metadata": {
    "deletable": false,
    "editable": false,
    "nbgrader": {
     "cell_type": "markdown",
     "checksum": "8f5592cea9e7b4857d39d177e86ddbc6",
     "grade": false,
     "grade_id": "assignment-05-04-text",
     "locked": true,
     "schema_version": 3,
     "solution": false,
     "task": false
    }
   },
   "source": [
    "# 5.4 To swap the two words\n",
    "\n",
    "Given a string consisting of exactly two words separated by a space. Return a new string with the first and second words swapped (the second word is printed first).\n",
    "\n",
    "This task should not use loops and `if`.\n",
    "\n",
    "## Example input\n",
    "\n",
    "```python\n",
    "Hello, world!\n",
    "```\n",
    "\n",
    "## Example return value\n",
    "\n",
    "```python\n",
    "world! Hello,\n",
    "```"
   ]
  },
  {
   "cell_type": "code",
   "execution_count": 103,
   "metadata": {
    "deletable": false,
    "nbgrader": {
     "cell_type": "code",
     "checksum": "462738b8585e9ab429048966b4e931bf",
     "grade": false,
     "grade_id": "assignment-05-04-code",
     "locked": false,
     "schema_version": 3,
     "solution": true,
     "task": false
    }
   },
   "outputs": [],
   "source": [
    "# Code for assignment 5.4\n",
    "\n",
    "def assignment_5_4(string):\n",
    "    list = string.split()\n",
    "    return list[1] + ' ' + list[0]"
   ]
  },
  {
   "cell_type": "code",
   "execution_count": 104,
   "metadata": {
    "deletable": false,
    "editable": false,
    "nbgrader": {
     "cell_type": "code",
     "checksum": "5627ec2b39fbc636d7a81f55d5f27d63",
     "grade": false,
     "grade_id": "assignment-05-04-test",
     "locked": true,
     "schema_version": 3,
     "solution": false,
     "task": false
    }
   },
   "outputs": [
    {
     "name": "stdin",
     "output_type": "stream",
     "text": [
      "Please enter a string of exactly two words (Press Enter for default \"Hello, world!\"):  \n"
     ]
    },
    {
     "name": "stdout",
     "output_type": "stream",
     "text": [
      "The two words in 'Hello, world!' swapped are: \n",
      "world! Hello,\n"
     ]
    }
   ],
   "source": [
    "# Test for assignment 5.4\n",
    "\n",
    "test_cell_5_4(assignment_5_4)"
   ]
  },
  {
   "cell_type": "code",
   "execution_count": 105,
   "metadata": {
    "deletable": false,
    "editable": false,
    "nbgrader": {
     "cell_type": "code",
     "checksum": "7234698b0ea990fa56b9fa1fe247da9c",
     "grade": true,
     "grade_id": "assignment-05-04-assert",
     "locked": true,
     "points": 1,
     "schema_version": 3,
     "solution": false,
     "task": false
    }
   },
   "outputs": [
    {
     "name": "stdout",
     "output_type": "stream",
     "text": [
      "Call assignment_5_4('Hello, world!') ... OK\n",
      "Call assignment_5_4('A B') ... OK\n",
      "Call assignment_5_4('Q WERRTYUIOP') ... OK\n",
      "Call assignment_5_4('QWERTYUIOP M') ... OK\n",
      "Call assignment_5_4('sadfahsjkldfhasjkdfhaklsjdfhjkl asdlkfhasdjklfhaslkdfjhalskdfgalsdf') ... OK\n",
      "\n",
      "Well done! You seem to have solved assignment_5_4!\n"
     ]
    }
   ],
   "source": [
    "# Code for assignment 5.4\n",
    "\n",
    "check_assertion(assignment_5_4)"
   ]
  },
  {
   "cell_type": "markdown",
   "metadata": {
    "deletable": false,
    "editable": false,
    "nbgrader": {
     "cell_type": "markdown",
     "checksum": "d101c9e104deb6de5ccbd0fd57f7e951",
     "grade": false,
     "grade_id": "assignment-05-05-spacer",
     "locked": true,
     "schema_version": 3,
     "solution": false,
     "task": false
    }
   },
   "source": [
    "<br />\n",
    "<br />\n",
    "<br />\n",
    "<br />"
   ]
  },
  {
   "cell_type": "markdown",
   "metadata": {
    "deletable": false,
    "editable": false,
    "nbgrader": {
     "cell_type": "markdown",
     "checksum": "b2021bb78c6624c8240a9b0da6bc9228",
     "grade": false,
     "grade_id": "assignment-05-05-text",
     "locked": true,
     "schema_version": 3,
     "solution": false,
     "task": false
    }
   },
   "source": [
    "# 5.5 The first and last occurrence\n",
    "\n",
    "Given a string that may or may not contain a letter of interest. Return the index location of the first and last appearance of the letter `f`, as a tuple. If the letter `f` occurs only once, then return its index. If the letter `f` does not occur, then return nothing (`None`).\n",
    "\n",
    "## Example input\n",
    "\n",
    "```python\n",
    "comfort\n",
    "```\n",
    "\n",
    "## Example return value\n",
    "\n",
    "```python\n",
    "3\n",
    "```\n"
   ]
  },
  {
   "cell_type": "code",
   "execution_count": 111,
   "metadata": {
    "deletable": false,
    "nbgrader": {
     "cell_type": "code",
     "checksum": "9883186b808c3c6d31633a1dd3f97463",
     "grade": false,
     "grade_id": "assignment-05-05-code",
     "locked": false,
     "schema_version": 3,
     "solution": true,
     "task": false
    }
   },
   "outputs": [],
   "source": [
    "# Code for assignment 5.5\n",
    "\n",
    "def assignment_5_5(string):\n",
    "    i = 0\n",
    "    for letter in string:  \n",
    "        if letter in [\"f\"]: \n",
    "            i +=1\n",
    "    if i == 0:\n",
    "        return None\n",
    "    elif i == 1: \n",
    "        return string.index(\"f\")\n",
    "    else: \n",
    "        return (string.index(\"f\"), (len(string)-1) - string[::-1].index(\"f\"))\n",
    "                \n",
    "    \n",
    "    \n",
    "            "
   ]
  },
  {
   "cell_type": "code",
   "execution_count": 112,
   "metadata": {
    "deletable": false,
    "editable": false,
    "nbgrader": {
     "cell_type": "code",
     "checksum": "26524be5bb87facbedeb940c054bf30c",
     "grade": false,
     "grade_id": "assignment-05-05-test",
     "locked": true,
     "schema_version": 3,
     "solution": false,
     "task": false
    }
   },
   "outputs": [
    {
     "name": "stdin",
     "output_type": "stream",
     "text": [
      "Please enter a string (Press Enter for default \"comfort\"):  \n"
     ]
    },
    {
     "name": "stdout",
     "output_type": "stream",
     "text": [
      "\n",
      "The first (and last) occurrence of 'f' in 'comfort' is:\n",
      "3\n"
     ]
    }
   ],
   "source": [
    "# Test for assignment 5.5\n",
    "\n",
    "test_cell_5_5(assignment_5_5)"
   ]
  },
  {
   "cell_type": "code",
   "execution_count": 113,
   "metadata": {
    "deletable": false,
    "editable": false,
    "nbgrader": {
     "cell_type": "code",
     "checksum": "c462a1843105e94754acf46bdccc9277",
     "grade": true,
     "grade_id": "assignment-05-05-assert",
     "locked": true,
     "points": 1,
     "schema_version": 3,
     "solution": false,
     "task": false
    }
   },
   "outputs": [
    {
     "name": "stdout",
     "output_type": "stream",
     "text": [
      "Call assignment_5_5('comfort') ... OK\n",
      "Call assignment_5_5('office') ... OK\n",
      "Call assignment_5_5('hello') ... OK\n",
      "Call assignment_5_5('fffffffffffffff') ... OK\n",
      "Call assignment_5_5('aaaaaaaaaaaaaaaaaaaaafaaaaaaaaaaaaaaaaaaaaaaaa') ... OK\n",
      "Call assignment_5_5('aaaaaaaaaaaaaaaaaaaaaaaaffaaaaaaaaaaaaaaaaaaaa') ... OK\n",
      "Call assignment_5_5('afafafafafafafa') ... OK\n",
      "\n",
      "Well done! You seem to have solved assignment_5_5!\n"
     ]
    }
   ],
   "source": [
    "# Assertion for assignment 5.5\n",
    "\n",
    "check_assertion(assignment_5_5)"
   ]
  },
  {
   "cell_type": "markdown",
   "metadata": {
    "deletable": false,
    "editable": false,
    "nbgrader": {
     "cell_type": "markdown",
     "checksum": "523d6369a7da5b82b4d923660675ff38",
     "grade": false,
     "grade_id": "assignment-05-06-spacer",
     "locked": true,
     "schema_version": 3,
     "solution": false,
     "task": false
    }
   },
   "source": [
    "<br />\n",
    "<br />\n",
    "<br />\n",
    "<br />"
   ]
  },
  {
   "cell_type": "markdown",
   "metadata": {
    "deletable": false,
    "editable": false,
    "nbgrader": {
     "cell_type": "markdown",
     "checksum": "93305de51091a02b01d7e70fefe102a9",
     "grade": false,
     "grade_id": "assignment-05-06-text",
     "locked": true,
     "schema_version": 3,
     "solution": false,
     "task": false
    }
   },
   "source": [
    "# 5.6 The second occurrence\n",
    "\n",
    "Given a string that may or may not contain the letter of interest. Return the index location of the **second** occurrence of the letter `f`. If the string contains the letter `f` only once, then return `-1`, and if the string does not contain the letter `f`, then return `-2`.\n",
    "\n",
    "## Example input\n",
    "\n",
    "```python\n",
    "comfort\n",
    "```\n",
    "\n",
    "## Example return value\n",
    "\n",
    "```python\n",
    "-1\n",
    "```"
   ]
  },
  {
   "cell_type": "code",
   "execution_count": 121,
   "metadata": {
    "deletable": false,
    "nbgrader": {
     "cell_type": "code",
     "checksum": "029447bbc4b8788d3fc0f1852ad22730",
     "grade": false,
     "grade_id": "assignment-05-06-code",
     "locked": false,
     "schema_version": 3,
     "solution": true,
     "task": false
    }
   },
   "outputs": [],
   "source": [
    "# Code for assignment 5.6\n",
    "\n",
    "def assignment_5_6(string):\n",
    "    i=0\n",
    "    for letter in string: \n",
    "        if letter in [\"f\"]: \n",
    "            i+=1\n",
    "    if i == 1: \n",
    "        return -1\n",
    "    elif i == 0:\n",
    "        return -2\n",
    "    \n",
    "    letters = list(string)\n",
    "    first_appearance = letters.index(\"f\")\n",
    "    letters[first_appearance] = ' '\n",
    "    return letters.index(\"f\") \n",
    "    "
   ]
  },
  {
   "cell_type": "code",
   "execution_count": 122,
   "metadata": {
    "deletable": false,
    "editable": false,
    "nbgrader": {
     "cell_type": "code",
     "checksum": "4d8822b18aa1e7292e6b3c940e22bd89",
     "grade": false,
     "grade_id": "assignment-05-06-test",
     "locked": true,
     "schema_version": 3,
     "solution": false,
     "task": false
    }
   },
   "outputs": [
    {
     "name": "stdin",
     "output_type": "stream",
     "text": [
      "Please enter a string (Press Enter for default \"comfort\"):  \n"
     ]
    },
    {
     "name": "stdout",
     "output_type": "stream",
     "text": [
      "\n",
      "The string 'comfort' only contains a single 'f'.\n"
     ]
    }
   ],
   "source": [
    "# Test for assignment 5.6\n",
    "\n",
    "test_cell_5_6(assignment_5_6)"
   ]
  },
  {
   "cell_type": "code",
   "execution_count": 123,
   "metadata": {
    "deletable": false,
    "editable": false,
    "nbgrader": {
     "cell_type": "code",
     "checksum": "70fafee2c3656cbf4487c1ddc2ffa334",
     "grade": true,
     "grade_id": "assignment-05-06-assert",
     "locked": true,
     "points": 1,
     "schema_version": 3,
     "solution": false,
     "task": false
    }
   },
   "outputs": [
    {
     "name": "stdout",
     "output_type": "stream",
     "text": [
      "Call assignment_5_6('comfort') ... OK\n",
      "Call assignment_5_6('coffee') ... OK\n",
      "Call assignment_5_6('qwerty') ... OK\n",
      "Call assignment_5_6('f') ... OK\n",
      "Call assignment_5_6('oooooooooooooooooof') ... OK\n",
      "Call assignment_5_6('ff') ... OK\n",
      "Call assignment_5_6('ffffffffffffffff') ... OK\n",
      "Call assignment_5_6('foooooooooooooof') ... OK\n",
      "Call assignment_5_6('oooooooooooooff') ... OK\n",
      "Call assignment_5_6('ofofofofofofofofo') ... OK\n",
      "\n",
      "Well done! You seem to have solved assignment_5_6!\n"
     ]
    }
   ],
   "source": [
    "# Assertion for assignment 5.6\n",
    "\n",
    "check_assertion(assignment_5_6)"
   ]
  },
  {
   "cell_type": "markdown",
   "metadata": {
    "deletable": false,
    "editable": false,
    "nbgrader": {
     "cell_type": "markdown",
     "checksum": "a9ca897eacd4dbd7cb02481d634f5e6d",
     "grade": false,
     "grade_id": "assignment-05-07-spacer",
     "locked": true,
     "schema_version": 3,
     "solution": false,
     "task": false
    }
   },
   "source": [
    "<br />\n",
    "<br />\n",
    "<br />\n",
    "<br />"
   ]
  },
  {
   "cell_type": "markdown",
   "metadata": {
    "deletable": false,
    "editable": false,
    "nbgrader": {
     "cell_type": "markdown",
     "checksum": "0f9db2582e29c6ff4a0b9a4788374b2c",
     "grade": false,
     "grade_id": "assignment-05-07-text",
     "locked": true,
     "schema_version": 3,
     "solution": false,
     "task": false
    }
   },
   "source": [
    "# 5.7 Remove the fragment\n",
    "\n",
    "Given a string in which the letter `h` occurs at least twice. Remove from that string the first and the last occurrence of the letter `h`, as well as all of the characters between them. Return the resulting string.\n",
    "\n",
    "## Example input\n",
    "\n",
    "```python\n",
    "In the hole in the ground there lived a hobbit\n",
    "```\n",
    "\n",
    "## Example return value\n",
    "\n",
    "```python\n",
    "In tobbit\n",
    "```"
   ]
  },
  {
   "cell_type": "code",
   "execution_count": 126,
   "metadata": {
    "deletable": false,
    "nbgrader": {
     "cell_type": "code",
     "checksum": "7b91f04515fee60bdefc387ca610bacf",
     "grade": false,
     "grade_id": "assignment-05-07-code",
     "locked": false,
     "schema_version": 3,
     "solution": true,
     "task": false
    }
   },
   "outputs": [],
   "source": [
    "# Code for assignment 5.7\n",
    "\n",
    "def assignment_5_7(string):\n",
    "    first_occ = string.index(\"h\")\n",
    "    last_occ = (len(string) - 1) - string[::-1].index(\"h\")\n",
    "    return string.replace(string[first_occ:last_occ+1], \"\")\n",
    "    "
   ]
  },
  {
   "cell_type": "code",
   "execution_count": 127,
   "metadata": {
    "deletable": false,
    "editable": false,
    "nbgrader": {
     "cell_type": "code",
     "checksum": "44ebe2c1757215fafa59ef631c03179d",
     "grade": false,
     "grade_id": "assignment-05-07-test",
     "locked": true,
     "schema_version": 3,
     "solution": false,
     "task": false
    }
   },
   "outputs": [
    {
     "name": "stdin",
     "output_type": "stream",
     "text": [
      "Please enter a string with at least two h's (Press Enter for default \"In the hole in the ground there lived a hobbit\"):  \n"
     ]
    },
    {
     "name": "stdout",
     "output_type": "stream",
     "text": [
      "\n",
      "The resulting string is: \n",
      "In tobbit\n"
     ]
    }
   ],
   "source": [
    "# Test for assignment 5.7\n",
    "\n",
    "test_cell_5_7_8_11(assignment_5_7)"
   ]
  },
  {
   "cell_type": "code",
   "execution_count": 128,
   "metadata": {
    "deletable": false,
    "editable": false,
    "nbgrader": {
     "cell_type": "code",
     "checksum": "2a4a9042ec956754dcff690fdedee456",
     "grade": true,
     "grade_id": "assignment-05-07-assert",
     "locked": true,
     "points": 1,
     "schema_version": 3,
     "solution": false,
     "task": false
    }
   },
   "outputs": [
    {
     "name": "stdout",
     "output_type": "stream",
     "text": [
      "Call assignment_5_7('In the hole in the ground there lived a hobbit') ... OK\n",
      "Call assignment_5_7('qwertyhasdfghzxcvb') ... OK\n",
      "Call assignment_5_7('asdfghhzxcvb') ... OK\n",
      "Call assignment_5_7('ahahahahaha') ... OK\n",
      "Call assignment_5_7('haaaaaaaaaaaaaaaaaah') ... OK\n",
      "Call assignment_5_7('hh') ... OK\n",
      "Call assignment_5_7('ahaha') ... OK\n",
      "\n",
      "Well done! You seem to have solved assignment_5_7!\n"
     ]
    }
   ],
   "source": [
    "# Assertion for assignment 5.7\n",
    "\n",
    "check_assertion(assignment_5_7)"
   ]
  },
  {
   "cell_type": "markdown",
   "metadata": {
    "deletable": false,
    "editable": false,
    "nbgrader": {
     "cell_type": "markdown",
     "checksum": "bb26848944af7cb610dce9371c11eb76",
     "grade": false,
     "grade_id": "assignment-05-08-spacer",
     "locked": true,
     "schema_version": 3,
     "solution": false,
     "task": false
    }
   },
   "source": [
    "<br />\n",
    "<br />\n",
    "<br />\n",
    "<br />"
   ]
  },
  {
   "cell_type": "markdown",
   "metadata": {
    "deletable": false,
    "editable": false,
    "nbgrader": {
     "cell_type": "markdown",
     "checksum": "1ccc92fc5d8ba81ea52ec18e68b9da88",
     "grade": false,
     "grade_id": "assignment-05-08-text",
     "locked": true,
     "schema_version": 3,
     "solution": false,
     "task": false
    }
   },
   "source": [
    "# 5.8 Reverse the fragment\n",
    "\n",
    "Given a string in which the letter `h` occurs at least two times, reverse the sequence of characters enclosed between the first and last appearances. Return the resulting string.\n",
    "\n",
    "## Example input\n",
    "\n",
    "```python\n",
    "In the hole in the ground there lived a hobbit\n",
    "```\n",
    "\n",
    "## Example return value\n",
    "\n",
    "```python\n",
    "In th a devil ereht dnuorg eht ni eloh ehobbit\n",
    "```"
   ]
  },
  {
   "cell_type": "code",
   "execution_count": 133,
   "metadata": {
    "deletable": false,
    "nbgrader": {
     "cell_type": "code",
     "checksum": "fbfc8bed39cd4dee92b7daaf552fb8e2",
     "grade": false,
     "grade_id": "assignment-05-08-code",
     "locked": false,
     "schema_version": 3,
     "solution": true,
     "task": false
    }
   },
   "outputs": [],
   "source": [
    "# Code for assignment 5.8\n",
    "\n",
    "def assignment_5_8(string):\n",
    "    first_occ = string.index(\"h\")\n",
    "    last_occ = (len(string) - 1) - string[::-1].index(\"h\")\n",
    "    substring = string[first_occ:last_occ+1] \n",
    "    inverted_substring = substring[::-1]\n",
    "    return string[:first_occ] + inverted_substring + string[last_occ+1:]"
   ]
  },
  {
   "cell_type": "code",
   "execution_count": 134,
   "metadata": {
    "deletable": false,
    "editable": false,
    "nbgrader": {
     "cell_type": "code",
     "checksum": "861f810a3deabc4e51581a5948966bb4",
     "grade": false,
     "grade_id": "assignment-05-08-test",
     "locked": true,
     "schema_version": 3,
     "solution": false,
     "task": false
    }
   },
   "outputs": [
    {
     "name": "stdin",
     "output_type": "stream",
     "text": [
      "Please enter a string with at least two h's (Press Enter for default \"In the hole in the ground there lived a hobbit\"):  \n"
     ]
    },
    {
     "name": "stdout",
     "output_type": "stream",
     "text": [
      "\n",
      "The resulting string is: \n",
      "In th a devil ereht dnuorg eht ni eloh ehobbit\n"
     ]
    }
   ],
   "source": [
    "# Test for assignment 5.8\n",
    "\n",
    "test_cell_5_7_8_11(assignment_5_8)"
   ]
  },
  {
   "cell_type": "code",
   "execution_count": 135,
   "metadata": {
    "deletable": false,
    "editable": false,
    "nbgrader": {
     "cell_type": "code",
     "checksum": "7a9e871ab46bf0551fed80f9caba9a3e",
     "grade": true,
     "grade_id": "assignment-05-08-assert",
     "locked": true,
     "points": 1,
     "schema_version": 3,
     "solution": false,
     "task": false
    }
   },
   "outputs": [
    {
     "name": "stdout",
     "output_type": "stream",
     "text": [
      "Call assignment_5_8('In the hole in the ground there lived a hobbit') ... OK\n",
      "Call assignment_5_8('qwertyhasdfghzxcvb') ... OK\n",
      "Call assignment_5_8('asdfghhzxcvb') ... OK\n",
      "Call assignment_5_8('ahbhchdheha') ... OK\n",
      "Call assignment_5_8('habcdefgijklmnh') ... OK\n",
      "Call assignment_5_8('hh') ... OK\n",
      "Call assignment_5_8('hah') ... OK\n",
      "Call assignment_5_8('habh') ... OK\n",
      "Call assignment_5_8('ahcvbhs') ... OK\n",
      "\n",
      "Well done! You seem to have solved assignment_5_8!\n"
     ]
    }
   ],
   "source": [
    "# Assertion for assignment 5.8\n",
    "\n",
    "check_assertion(assignment_5_8)"
   ]
  },
  {
   "cell_type": "markdown",
   "metadata": {
    "deletable": false,
    "editable": false,
    "nbgrader": {
     "cell_type": "markdown",
     "checksum": "42d475094864e0759228ec106a174287",
     "grade": false,
     "grade_id": "assignment-05-09-spacer",
     "locked": true,
     "schema_version": 3,
     "solution": false,
     "task": false
    }
   },
   "source": [
    "<br />\n",
    "<br />\n",
    "<br />\n",
    "<br />"
   ]
  },
  {
   "cell_type": "markdown",
   "metadata": {
    "deletable": false,
    "editable": false,
    "nbgrader": {
     "cell_type": "markdown",
     "checksum": "814610f1ec3e783d364ab212117bd3ae",
     "grade": false,
     "grade_id": "assignment-05-09-text",
     "locked": true,
     "schema_version": 3,
     "solution": false,
     "task": false
    }
   },
   "source": [
    "# 5.9 Replace the substring\n",
    "\n",
    "Given a string, replace in this string all the numbers `1` by the word `one`. Return the resulting string.\n",
    "\n",
    "## Example input\n",
    "\n",
    "```python\n",
    "1+1=2\n",
    "```\n",
    "\n",
    "## Example return value\n",
    "\n",
    "```python\n",
    "one+one=2\n",
    "```"
   ]
  },
  {
   "cell_type": "code",
   "execution_count": 136,
   "metadata": {
    "deletable": false,
    "nbgrader": {
     "cell_type": "code",
     "checksum": "3ef9b2998d2b4d9ded5bd4e35c2af4e0",
     "grade": false,
     "grade_id": "assignment-05-09-code",
     "locked": false,
     "schema_version": 3,
     "solution": true,
     "task": false
    }
   },
   "outputs": [],
   "source": [
    "# Code for assignment 5.9\n",
    "\n",
    "def assignment_5_9(string):\n",
    "    return string.replace(\"1\", \"one\")"
   ]
  },
  {
   "cell_type": "code",
   "execution_count": 137,
   "metadata": {
    "deletable": false,
    "editable": false,
    "nbgrader": {
     "cell_type": "code",
     "checksum": "b1bc6020653ced92404908ebc939190b",
     "grade": false,
     "grade_id": "assignment-05-09-test",
     "locked": true,
     "schema_version": 3,
     "solution": false,
     "task": false
    }
   },
   "outputs": [
    {
     "name": "stdin",
     "output_type": "stream",
     "text": [
      "Please enter a string (Press Enter for default \"1+1=2\"):  \n"
     ]
    },
    {
     "name": "stdout",
     "output_type": "stream",
     "text": [
      "\n",
      "The resulting string with 1s replace by the word 'one' (if any): \n",
      "one+one=2\n"
     ]
    }
   ],
   "source": [
    "# Test for assignment 5.9\n",
    "\n",
    "test_cell_5_9(assignment_5_9)"
   ]
  },
  {
   "cell_type": "code",
   "execution_count": 138,
   "metadata": {
    "deletable": false,
    "editable": false,
    "nbgrader": {
     "cell_type": "code",
     "checksum": "810c325d098f28723777e76fb5f049be",
     "grade": true,
     "grade_id": "assignment-05-09-assertion",
     "locked": true,
     "points": 1,
     "schema_version": 3,
     "solution": false,
     "task": false
    }
   },
   "outputs": [
    {
     "name": "stdout",
     "output_type": "stream",
     "text": [
      "Call assignment_5_9('1+1=2') ... OK\n",
      "Call assignment_5_9('Hello, 2345678990') ... OK\n",
      "Call assignment_5_9('1') ... OK\n",
      "Call assignment_5_9('1111111111111111111111111111111111') ... OK\n",
      "Call assignment_5_9('1213141516171819101') ... OK\n",
      "\n",
      "Well done! You seem to have solved assignment_5_9!\n"
     ]
    }
   ],
   "source": [
    "# Assertion for assignment 5.9\n",
    "\n",
    "check_assertion(assignment_5_9)"
   ]
  },
  {
   "cell_type": "markdown",
   "metadata": {
    "deletable": false,
    "editable": false,
    "nbgrader": {
     "cell_type": "markdown",
     "checksum": "0e3d3f89d5cf346d1a80b4d577ffe147",
     "grade": false,
     "grade_id": "assignment-5-10-spacer",
     "locked": true,
     "schema_version": 3,
     "solution": false,
     "task": false
    }
   },
   "source": [
    "<br />\n",
    "<br />\n",
    "<br />\n",
    "<br />"
   ]
  },
  {
   "cell_type": "markdown",
   "metadata": {
    "deletable": false,
    "editable": false,
    "nbgrader": {
     "cell_type": "markdown",
     "checksum": "ae34c6210b60df4c3af685b2c51849f0",
     "grade": false,
     "grade_id": "assignment-5-10-text",
     "locked": true,
     "schema_version": 3,
     "solution": false,
     "task": false
    }
   },
   "source": [
    "# 5.10 Delete a character\n",
    "\n",
    "Given a string, remove from this string all the characters `@`. Return the resulting string.\n",
    "\n",
    "## Example input\n",
    "\n",
    "```python\n",
    "Bilbo.Baggins@bagend.hobbiton.shire.me\n",
    "```\n",
    "\n",
    "## Example return value\n",
    "\n",
    "```python\n",
    "Bilbo.Bagginsbagend.hobbiton.shire.me\n",
    "```"
   ]
  },
  {
   "cell_type": "code",
   "execution_count": 139,
   "metadata": {
    "deletable": false,
    "nbgrader": {
     "cell_type": "code",
     "checksum": "4d5b3c234cc379b80c99b9013b4a53f1",
     "grade": false,
     "grade_id": "assignment-5-10-code",
     "locked": false,
     "schema_version": 3,
     "solution": true,
     "task": false
    }
   },
   "outputs": [],
   "source": [
    "# Code for assignment 5.10\n",
    "\n",
    "def assignment_5_10(string):\n",
    "    return string.replace(\"@\", '')"
   ]
  },
  {
   "cell_type": "code",
   "execution_count": 140,
   "metadata": {
    "deletable": false,
    "editable": false,
    "nbgrader": {
     "cell_type": "code",
     "checksum": "09463b446a57e370488a0124b528f520",
     "grade": false,
     "grade_id": "assignment-5-10-test",
     "locked": true,
     "schema_version": 3,
     "solution": false,
     "task": false
    }
   },
   "outputs": [
    {
     "name": "stdin",
     "output_type": "stream",
     "text": [
      "Please enter a string (Press Enter for default \"Bilbo.Baggins@bagend.hobbiton.shire.me\"):  \n"
     ]
    },
    {
     "name": "stdout",
     "output_type": "stream",
     "text": [
      "\n",
      "The resulting string without @s: \n",
      "Bilbo.Bagginsbagend.hobbiton.shire.me\n"
     ]
    }
   ],
   "source": [
    "# Test for assignment 5.10\n",
    "\n",
    "test_cell_5_10(assignment_5_10)"
   ]
  },
  {
   "cell_type": "code",
   "execution_count": 141,
   "metadata": {
    "deletable": false,
    "editable": false,
    "nbgrader": {
     "cell_type": "code",
     "checksum": "8d471e2dac31299a2eccad88d490b7a6",
     "grade": true,
     "grade_id": "assignment-5-10-assert",
     "locked": true,
     "points": 1,
     "schema_version": 3,
     "solution": false,
     "task": false
    }
   },
   "outputs": [
    {
     "name": "stdout",
     "output_type": "stream",
     "text": [
      "Call assignment_5_10('Bilbo.Baggins@bagend.hobbiton.shire.me') ... OK\n",
      "Call assignment_5_10('dfa;sdkfj;ajva;bvna'sdasdfasdglJLHJKFHLDKJFh') ... OK\n",
      "Call assignment_5_10('@') ... OK\n",
      "Call assignment_5_10('@W@E@E@E@R') ... OK\n",
      "Call assignment_5_10('@@@@@@@@@@') ... OK\n",
      "Call assignment_5_10('H@K@M@J@M@L') ... OK\n",
      "Call assignment_5_10('@@@@@F@@@@KL@@@@@J@J@J@JJJH@JJKK@JJJ@JJ') ... OK\n",
      "\n",
      "Well done! You seem to have solved assignment_5_10!\n"
     ]
    }
   ],
   "source": [
    "# Assertion for assignment 5.10\n",
    "\n",
    "check_assertion(assignment_5_10)"
   ]
  },
  {
   "cell_type": "markdown",
   "metadata": {
    "deletable": false,
    "editable": false,
    "nbgrader": {
     "cell_type": "markdown",
     "checksum": "344f28d6570d1a82d83062eb58a4949d",
     "grade": false,
     "grade_id": "assignment-5-11-spacer",
     "locked": true,
     "schema_version": 3,
     "solution": false,
     "task": false
    }
   },
   "source": [
    "<br />\n",
    "<br />\n",
    "<br />\n",
    "<br />"
   ]
  },
  {
   "cell_type": "markdown",
   "metadata": {
    "deletable": false,
    "editable": false,
    "nbgrader": {
     "cell_type": "markdown",
     "checksum": "f05cc1b565b9de7ba7f8ae5d62c6abdc",
     "grade": false,
     "grade_id": "assignment-5-11-text",
     "locked": true,
     "schema_version": 3,
     "solution": false,
     "task": false
    }
   },
   "source": [
    "# 5.11 Replace within the fragment\n",
    "\n",
    "Given a string, replace every occurrence of the letter `h` by the letter `H`, **except** for the first and the last occurrence. Return the resulting string.\n",
    "\n",
    "## Example input\n",
    "\n",
    "```python\n",
    "In the hole in the ground there lived a hobbit\n",
    "```\n",
    "\n",
    "## Example return value\n",
    "\n",
    "```python\n",
    "In the Hole in tHe ground tHere lived a hobbit\n",
    "```"
   ]
  },
  {
   "cell_type": "code",
   "execution_count": 145,
   "metadata": {
    "deletable": false,
    "nbgrader": {
     "cell_type": "code",
     "checksum": "4799bd8af3f535a904ddd418a0be9628",
     "grade": false,
     "grade_id": "assignment-5-11-code",
     "locked": false,
     "schema_version": 3,
     "solution": true,
     "task": false
    }
   },
   "outputs": [],
   "source": [
    "# Code for assignment 5.11\n",
    "\n",
    "def assignment_5_11(string):\n",
    "    first_occ = string.index(\"h\")\n",
    "    last_occ = (len(string) - 1) - string[::-1].index(\"h\")\n",
    "    for i in range(first_occ + 1, last_occ): \n",
    "        if string[i] == \"h\": \n",
    "            string = string[:i] + \"H\" + string[i+1:]\n",
    "    return string"
   ]
  },
  {
   "cell_type": "code",
   "execution_count": 146,
   "metadata": {
    "deletable": false,
    "editable": false,
    "nbgrader": {
     "cell_type": "code",
     "checksum": "dd0f4e0bfbacf856e11ff910d4b90c00",
     "grade": false,
     "grade_id": "assignment-5-11-test",
     "locked": true,
     "schema_version": 3,
     "solution": false,
     "task": false
    }
   },
   "outputs": [
    {
     "name": "stdin",
     "output_type": "stream",
     "text": [
      "Please enter a string with at least two h's (Press Enter for default \"In the hole in the ground there lived a hobbit\"):  \n"
     ]
    },
    {
     "name": "stdout",
     "output_type": "stream",
     "text": [
      "\n",
      "The resulting string is: \n",
      "In the Hole in tHe ground tHere lived a hobbit\n"
     ]
    }
   ],
   "source": [
    "# Test for assignment 5.11\n",
    "\n",
    "test_cell_5_7_8_11(assignment_5_11)"
   ]
  },
  {
   "cell_type": "code",
   "execution_count": 147,
   "metadata": {
    "deletable": false,
    "editable": false,
    "nbgrader": {
     "cell_type": "code",
     "checksum": "b2badad132a8d6cc81adf68ffae236e7",
     "grade": true,
     "grade_id": "assignment-5-11-assert",
     "locked": true,
     "points": 1,
     "schema_version": 3,
     "solution": false,
     "task": false
    }
   },
   "outputs": [
    {
     "name": "stdout",
     "output_type": "stream",
     "text": [
      "Call assignment_5_11('In the hole in the ground there lived a hobbit') ... OK\n",
      "Call assignment_5_11('qwertyhahsdhfghzxcvb') ... OK\n",
      "Call assignment_5_11('asdfghhzxcvb') ... OK\n",
      "Call assignment_5_11('ahbhchdheha') ... OK\n",
      "Call assignment_5_11('habcdefgijklmnh') ... OK\n",
      "Call assignment_5_11('hh') ... OK\n",
      "Call assignment_5_11('hah') ... OK\n",
      "Call assignment_5_11('hhh') ... OK\n",
      "Call assignment_5_11('hhhhhhhhhhhhhhhhhhhhhhhhhhhhhhhhhhhhhhhhh') ... OK\n",
      "Call assignment_5_11('aHbhchdheha') ... OK\n",
      "\n",
      "Well done! You seem to have solved assignment_5_11!\n"
     ]
    }
   ],
   "source": [
    "# Assertion for assignment 5.11\n",
    "\n",
    "check_assertion(assignment_5_11)"
   ]
  },
  {
   "cell_type": "markdown",
   "metadata": {
    "deletable": false,
    "editable": false,
    "nbgrader": {
     "cell_type": "markdown",
     "checksum": "897c45f7c4875ea0efc35e623f408407",
     "grade": false,
     "grade_id": "assignment-5-12-spacer",
     "locked": true,
     "schema_version": 3,
     "solution": false,
     "task": false
    }
   },
   "source": [
    "<br />\n",
    "<br />\n",
    "<br />\n",
    "<br />"
   ]
  },
  {
   "cell_type": "markdown",
   "metadata": {
    "deletable": false,
    "editable": false,
    "nbgrader": {
     "cell_type": "markdown",
     "checksum": "5a5986826d95e03f340d3cf80f37b635",
     "grade": false,
     "grade_id": "assignment-5-12-text",
     "locked": true,
     "schema_version": 3,
     "solution": false,
     "task": false
    }
   },
   "source": [
    "# 5.12 Delete every third character\n",
    "\n",
    "Given a string, delete from it all the characters whose indices are divisible by 3. Return the resulting string. It is is possible to solve this without an `if` statement, by using the `step` argument to the `range` function.\n",
    "\n",
    "## Example input\n",
    "\n",
    "```python\n",
    "Python\n",
    "```\n",
    "\n",
    "## Example return value\n",
    "\n",
    "```python\n",
    "yton\n",
    "```"
   ]
  },
  {
   "cell_type": "code",
   "execution_count": 173,
   "metadata": {
    "deletable": false,
    "nbgrader": {
     "cell_type": "code",
     "checksum": "0eafcb6c3bd3f30b979b9180fc897728",
     "grade": false,
     "grade_id": "assignment-5-12-code",
     "locked": false,
     "schema_version": 3,
     "solution": true,
     "task": false
    }
   },
   "outputs": [],
   "source": [
    "# Code for assignment 5.12\n",
    "\n",
    "def assignment_5_12(string):\n",
    "    letters = list(string)\n",
    "    for i in range(0, len(letters), 3): \n",
    "        letters[i] = ''\n",
    "    string = ''.join(letters)\n",
    "    return string "
   ]
  },
  {
   "cell_type": "code",
   "execution_count": 174,
   "metadata": {
    "deletable": false,
    "editable": false,
    "nbgrader": {
     "cell_type": "code",
     "checksum": "3ed1ba8f2f3a0da3b0a2e39828cb3d57",
     "grade": false,
     "grade_id": "assignment-5-12-test",
     "locked": true,
     "schema_version": 3,
     "solution": false,
     "task": false
    }
   },
   "outputs": [
    {
     "name": "stdin",
     "output_type": "stream",
     "text": [
      "Please enter a string (Press Enter for default \"Python\"):  \n"
     ]
    },
    {
     "name": "stdout",
     "output_type": "stream",
     "text": [
      "\n",
      "The resulting string without characters which indices are divisible by 3:\n",
      "yton\n"
     ]
    }
   ],
   "source": [
    "# Test for assignment 5.12\n",
    "\n",
    "test_cell_5_12(assignment_5_12)"
   ]
  },
  {
   "cell_type": "code",
   "execution_count": 175,
   "metadata": {
    "deletable": false,
    "editable": false,
    "nbgrader": {
     "cell_type": "code",
     "checksum": "55ebe0a5ff6ac7ac15e9e0ae65e472af",
     "grade": true,
     "grade_id": "assignment-5-12-assert",
     "locked": true,
     "points": 1,
     "schema_version": 3,
     "solution": false,
     "task": false
    }
   },
   "outputs": [
    {
     "name": "stdout",
     "output_type": "stream",
     "text": [
      "Call assignment_5_12('Python') ... OK\n",
      "Call assignment_5_12('Hello') ... OK\n",
      "Call assignment_5_12('qwer') ... OK\n",
      "Call assignment_5_12('a') ... OK\n",
      "Call assignment_5_12('ab') ... OK\n",
      "Call assignment_5_12('abc') ... OK\n",
      "Call assignment_5_12('abcdefg') ... OK\n",
      "Call assignment_5_12('abcdefgh') ... OK\n",
      "Call assignment_5_12('abcdefghi') ... OK\n",
      "Call assignment_5_12('abcdefghij') ... OK\n",
      "Call assignment_5_12('abcdefghijk') ... OK\n",
      "Call assignment_5_12('abcdefghijkl') ... OK\n",
      "Call assignment_5_12('qwertyuiopasdfghjklzxcvbnm') ... OK\n",
      "\n",
      "Well done! You seem to have solved assignment_5_12!\n"
     ]
    }
   ],
   "source": [
    "# Assertion for assignment 5.12\n",
    "\n",
    "check_assertion(assignment_5_12)"
   ]
  }
 ],
 "metadata": {
  "kernelspec": {
   "display_name": "Python 3 (ipykernel)",
   "language": "python",
   "name": "python3"
  },
  "language_info": {
   "codemirror_mode": {
    "name": "ipython",
    "version": 3
   },
   "file_extension": ".py",
   "mimetype": "text/x-python",
   "name": "python",
   "nbconvert_exporter": "python",
   "pygments_lexer": "ipython3",
   "version": "3.9.18"
  }
 },
 "nbformat": 4,
 "nbformat_minor": 4
}
