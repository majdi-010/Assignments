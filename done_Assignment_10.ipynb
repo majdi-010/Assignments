{
 "cells": [
  {
   "cell_type": "markdown",
   "metadata": {
    "deletable": false,
    "editable": false,
    "nbgrader": {
     "cell_type": "markdown",
     "checksum": "fef69339659940b243f74c24056adb65",
     "grade": false,
     "grade_id": "instructions",
     "locked": true,
     "schema_version": 3,
     "solution": false,
     "task": false
    }
   },
   "source": [
    "# 10. Sets\n",
    "\n",
    "This Jupyter Notebook contains the [problems, or assignments, for Lesson 10](https://snakify.org/en/lessons/sets/problems/), gratefully imported from the online course on [Snakify](https://snakify.org). If you get stuck, you can either ask the teacher and the teaching assistents, or skim through the [theory](https://snakify.org/en/lessons/sets/) on Snakify."
   ]
  },
  {
   "cell_type": "code",
   "execution_count": 3,
   "metadata": {
    "deletable": false,
    "editable": false,
    "nbgrader": {
     "cell_type": "code",
     "checksum": "3d552f5c4c39249e5750262df758b85c",
     "grade": false,
     "grade_id": "import-assert",
     "locked": true,
     "schema_version": 3,
     "solution": false,
     "task": false
    }
   },
   "outputs": [
    {
     "name": "stdout",
     "output_type": "stream",
     "text": [
      "Assertions imported OK\n",
      "Test cells imported OK\n"
     ]
    }
   ],
   "source": [
    "# Please run the contents of this cell.\n",
    "# Select this cell and press Ctrl-Enter (or Command-Enter on mac).\n",
    "\n",
    "from assertions import *\n",
    "from test_cells import *"
   ]
  },
  {
   "cell_type": "markdown",
   "metadata": {
    "deletable": false,
    "editable": false,
    "nbgrader": {
     "cell_type": "markdown",
     "checksum": "88b7be339cd7d71179b176ba42d126a3",
     "grade": false,
     "grade_id": "assignment-10-01-spacer",
     "locked": true,
     "schema_version": 3,
     "solution": false,
     "task": false
    }
   },
   "source": [
    "<br />\n",
    "<br />\n",
    "<br />\n",
    "<br />"
   ]
  },
  {
   "cell_type": "markdown",
   "metadata": {
    "deletable": false,
    "editable": false,
    "nbgrader": {
     "cell_type": "markdown",
     "checksum": "cc1c80d92e0211a70042b2b84d0f9372",
     "grade": false,
     "grade_id": "assignment-10-01-text",
     "locked": true,
     "schema_version": 3,
     "solution": false,
     "task": false
    }
   },
   "source": [
    "# 10.1 The number of distinct numbers\n",
    "\n",
    "Given a list of integers. Determine (and return) how many distinct numbers there are.\n",
    "\n",
    "This task can be solved in one line of code.\n",
    "\n",
    "## Example input\n",
    "```python\n",
    "1 2 3 2 1\n",
    "```\n",
    "\n",
    "## Example return value\n",
    "```\n",
    "3\n",
    "```"
   ]
  },
  {
   "cell_type": "code",
   "execution_count": 4,
   "metadata": {
    "deletable": false,
    "nbgrader": {
     "cell_type": "code",
     "checksum": "025fff64f717b8c31e1a0ca62b0de881",
     "grade": false,
     "grade_id": "assignment-10-01-code",
     "locked": false,
     "schema_version": 3,
     "solution": true,
     "task": false
    }
   },
   "outputs": [],
   "source": [
    "# Code for assignment 10.1\n",
    "\n",
    "def assignment_10_1(numbers):\n",
    "    # YOUR CODE HERE\n",
    "    return len(set(numbers))"
   ]
  },
  {
   "cell_type": "code",
   "execution_count": 5,
   "metadata": {
    "deletable": false,
    "editable": false,
    "nbgrader": {
     "cell_type": "code",
     "checksum": "c125f252e260b6952fc00003bd3ab067",
     "grade": false,
     "grade_id": "assignment-10-01-test",
     "locked": true,
     "schema_version": 3,
     "solution": false,
     "task": false
    }
   },
   "outputs": [
    {
     "name": "stdin",
     "output_type": "stream",
     "text": [
      "Please enter a series of integer numbers, separated by spaces (Press Enter for default values 1 2 3 2 1):  \n"
     ]
    },
    {
     "name": "stdout",
     "output_type": "stream",
     "text": [
      "\n",
      "The list [1, 2, 3, 2, 1] has 3 unique numbers.\n"
     ]
    }
   ],
   "source": [
    "# Test for assignment 10.1\n",
    "\n",
    "test_cell_10_1(assignment_10_1)"
   ]
  },
  {
   "cell_type": "code",
   "execution_count": 6,
   "metadata": {
    "deletable": false,
    "editable": false,
    "nbgrader": {
     "cell_type": "code",
     "checksum": "93512c51799c99f6169bc475bb5d1883",
     "grade": true,
     "grade_id": "assignment-10-01-assert",
     "locked": true,
     "points": 1,
     "schema_version": 3,
     "solution": false,
     "task": false
    }
   },
   "outputs": [
    {
     "name": "stdout",
     "output_type": "stream",
     "text": [
      "Call assignment_10_1([1, 2, 3, 2, 1]) ... OK\n",
      "Call assignment_10_1([1, 2, 3, 4, 5, 6, 7, 8, 9, 10]) ... OK\n",
      "Call assignment_10_1([1, 2, 3, 4, 5, 1, 2, 1, 2, 7, 3]) ... OK\n",
      "Call assignment_10_1([1, 1, 1, 1, 1, 1, 1, 1, 1, 1, 1, 1]) ... OK\n",
      "\n",
      "Well done! You seem to have solved assignment_10_1!\n"
     ]
    }
   ],
   "source": [
    "# Assertion for assignment 10.1\n",
    "\n",
    "check_assertion(assignment_10_1)"
   ]
  },
  {
   "cell_type": "markdown",
   "metadata": {
    "deletable": false,
    "editable": false,
    "nbgrader": {
     "cell_type": "markdown",
     "checksum": "793f8627dc3cf33028ba982876cd6815",
     "grade": false,
     "grade_id": "assignment-10-02-spacer",
     "locked": true,
     "schema_version": 3,
     "solution": false,
     "task": false
    }
   },
   "source": [
    "<br />\n",
    "<br />\n",
    "<br />\n",
    "<br />"
   ]
  },
  {
   "cell_type": "markdown",
   "metadata": {
    "deletable": false,
    "editable": false,
    "nbgrader": {
     "cell_type": "markdown",
     "checksum": "8bd1db4bf5abd9702c4096f2c58226f9",
     "grade": false,
     "grade_id": "assignment-10-02-text",
     "locked": true,
     "schema_version": 3,
     "solution": false,
     "task": false
    }
   },
   "source": [
    "# 10.2 The number of equal numbers\n",
    "\n",
    "Given two lists of numbers. Count how many unique numbers both lists have in common and return that number.\n",
    "\n",
    "This task can be solved in one line of code.\n",
    "\n",
    "## Example input\n",
    "```python\n",
    "1 3 2\n",
    "4 3 2\n",
    "```\n",
    "\n",
    "## Example return value\n",
    "```python\n",
    "2\n",
    "```"
   ]
  },
  {
   "cell_type": "code",
   "execution_count": 7,
   "metadata": {
    "deletable": false,
    "nbgrader": {
     "cell_type": "code",
     "checksum": "5d2a8be95e64d1b04cf1614e39360a90",
     "grade": false,
     "grade_id": "assignment-10-02-code",
     "locked": false,
     "schema_version": 3,
     "solution": true,
     "task": false
    }
   },
   "outputs": [],
   "source": [
    "# Code for assignment 10.2\n",
    "\n",
    "def assignment_10_2(numbers1, numbers2):\n",
    "    # YOUR CODE HERE\n",
    "    return len(set(numbers1) & set(numbers2))"
   ]
  },
  {
   "cell_type": "code",
   "execution_count": 8,
   "metadata": {},
   "outputs": [
    {
     "name": "stdin",
     "output_type": "stream",
     "text": [
      "Please enter a series of integer numbers, separated by spaces (Press Enter for default values 1 3 2):  \n",
      "Please enter a series of integer numbers, separated by spaces (Press Enter for default values 4 3 2):  \n"
     ]
    },
    {
     "name": "stdout",
     "output_type": "stream",
     "text": [
      "\n",
      "The lists [1, 3, 2] and [4, 3, 2] have 2 numbers in common.\n"
     ]
    }
   ],
   "source": [
    "# Test for assignment 10.2\n",
    "\n",
    "test_cell_10_2(assignment_10_2)"
   ]
  },
  {
   "cell_type": "code",
   "execution_count": 9,
   "metadata": {
    "deletable": false,
    "editable": false,
    "nbgrader": {
     "cell_type": "code",
     "checksum": "98ffd02783f4998af107939ffd2f85be",
     "grade": true,
     "grade_id": "assignment-10-02-assert",
     "locked": true,
     "points": 1,
     "schema_version": 3,
     "solution": false,
     "task": false
    }
   },
   "outputs": [
    {
     "name": "stdout",
     "output_type": "stream",
     "text": [
      "Call assignment_10_2([1, 3, 2], [4, 3, 2]) ... OK\n",
      "Call assignment_10_2([1, 2, 6, 4, 5, 7], [10, 2, 3, 4, 8]) ... OK\n",
      "Call assignment_10_2([1, 7, 3, 8, 10, 2, 5], [6, 5, 2, 8, 4, 3, 7]) ... OK\n",
      "Call assignment_10_2([75, 8, 65, 66, 3, 30, 38, 45, 82, 93, 89, 81, 68, 20, 10, 99, 84, 71, 59, 36, 54, 50, 14, 86, 91, 16, 96, 37, 80, 79, 69, 52, 64, 88, 32, 28, 53, 2, 55, 95, 21, 62, 31, 5, 85, 22, 39, 78, 7, 83, 43, 18, 48, 33, 97, 11, 19, 100, 41, 12, 29, 58, 74], [26, 94, 17, 71, 84, 75, 5, 29, 21, 38, 2, 35, 6, 78, 89, 53, 58, 86, 93, 63, 36, 74, 27, 72, 76, 49, 52, 64, 65, 100, 28, 69, 8, 1, 48, 39, 50, 87, 73, 90, 70, 13, 11, 62, 66, 80, 37, 15, 14, 54, 67, 34, 59, 44, 43, 20, 57, 82, 45, 95, 92, 56, 47, 51, 33, 10, 98]) ... OK\n",
      "\n",
      "Well done! You seem to have solved assignment_10_2!\n"
     ]
    }
   ],
   "source": [
    "# Assertion for assignment 10.2\n",
    "\n",
    "check_assertion(assignment_10_2)"
   ]
  },
  {
   "cell_type": "markdown",
   "metadata": {
    "deletable": false,
    "editable": false,
    "nbgrader": {
     "cell_type": "markdown",
     "checksum": "732b45c83a9d82623443c8ebef77a712",
     "grade": false,
     "grade_id": "assignment-10-03-spacer",
     "locked": true,
     "schema_version": 3,
     "solution": false,
     "task": false
    }
   },
   "source": [
    "<br />\n",
    "<br />\n",
    "<br />\n",
    "<br />"
   ]
  },
  {
   "cell_type": "markdown",
   "metadata": {
    "deletable": false,
    "editable": false,
    "nbgrader": {
     "cell_type": "markdown",
     "checksum": "58963e91721d21d0dc013b6387ca7f9b",
     "grade": false,
     "grade_id": "assignment-10-03-text",
     "locked": true,
     "schema_version": 3,
     "solution": false,
     "task": false
    }
   },
   "source": [
    "# 10.3 The intersection of sets\n",
    "\n",
    "Given two lists of numbers. Find all the numbers that occur in both lists and return them in a new list, in ascending order.\n",
    "\n",
    "Even this task can be solved in one line of code, using the `sorted` builtin function.\n",
    "\n",
    "## Example input\n",
    "```python\n",
    "1 3 2\n",
    "4 3 2\n",
    "```\n",
    "\n",
    "## Example output\n",
    "```python\n",
    "[2, 3]\n",
    "```"
   ]
  },
  {
   "cell_type": "code",
   "execution_count": 25,
   "metadata": {
    "deletable": false,
    "nbgrader": {
     "cell_type": "code",
     "checksum": "3ebcdf1de7cdabeb88fd9a2af23c43ab",
     "grade": false,
     "grade_id": "assignment-10-03-code",
     "locked": false,
     "schema_version": 3,
     "solution": true,
     "task": false
    }
   },
   "outputs": [],
   "source": [
    "# Code for assignment 10.3\n",
    "\n",
    "def assignment_10_3(numbers1, numbers2):\n",
    "    # YOUR CODE HERE\n",
    "    return sorted(list(set(numbers1) & set(numbers2)))"
   ]
  },
  {
   "cell_type": "code",
   "execution_count": 26,
   "metadata": {
    "deletable": false,
    "editable": false,
    "nbgrader": {
     "cell_type": "code",
     "checksum": "176ccdc612e7661d186bfcf529ab639f",
     "grade": false,
     "grade_id": "assignment-10-03-test",
     "locked": true,
     "schema_version": 3,
     "solution": false,
     "task": false
    }
   },
   "outputs": [
    {
     "name": "stdin",
     "output_type": "stream",
     "text": [
      "Please enter a series of integer numbers, separated by spaces (Press Enter for default values 1 3 2):  \n",
      "Please enter a series of integer numbers, separated by spaces (Press Enter for default values 4 3 2):  \n"
     ]
    },
    {
     "name": "stdout",
     "output_type": "stream",
     "text": [
      "\n",
      "The lists [1, 3, 2] and [4, 3, 2] both contain [2, 3].\n"
     ]
    }
   ],
   "source": [
    "# Test for assignment 10.3\n",
    "\n",
    "test_cell_10_3(assignment_10_3)"
   ]
  },
  {
   "cell_type": "code",
   "execution_count": 27,
   "metadata": {
    "deletable": false,
    "editable": false,
    "nbgrader": {
     "cell_type": "code",
     "checksum": "6f2a3a9a84fc8cd9aa32332cb43295d3",
     "grade": true,
     "grade_id": "assignment-10-03-assert",
     "locked": true,
     "points": 1,
     "schema_version": 3,
     "solution": false,
     "task": false
    }
   },
   "outputs": [
    {
     "name": "stdout",
     "output_type": "stream",
     "text": [
      "Call assignment_10_3([1, 3, 2], [4, 3, 2]) ... OK\n",
      "Call assignment_10_3([1, 2, 6, 4, 5, 7], [10, 2, 3, 4, 8]) ... OK\n",
      "Call assignment_10_3([82, 54, 91, 100, 70, 33, 88, 14, 52, 48, 56, 20, 63, 16, 22, 23, 30, 8, 84, 75, 45], [10, 44, 77, 90, 43, 75, 25, 24, 5, 21, 71, 70, 83, 68, 18, 92, 81, 57, 27, 67, 48, 6]) ... OK\n",
      "\n",
      "Well done! You seem to have solved assignment_10_3!\n"
     ]
    }
   ],
   "source": [
    "# Assertion for assignment 10.3\n",
    "\n",
    "check_assertion(assignment_10_3)"
   ]
  },
  {
   "cell_type": "markdown",
   "metadata": {
    "deletable": false,
    "editable": false,
    "nbgrader": {
     "cell_type": "markdown",
     "checksum": "6aac4cbeae6ae5bb418e98a8242bc50f",
     "grade": false,
     "grade_id": "assignment-10-04-spacer",
     "locked": true,
     "schema_version": 3,
     "solution": false,
     "task": false
    }
   },
   "source": [
    "<br />\n",
    "<br />\n",
    "<br />\n",
    "<br />"
   ]
  },
  {
   "cell_type": "markdown",
   "metadata": {
    "deletable": false,
    "editable": false,
    "nbgrader": {
     "cell_type": "markdown",
     "checksum": "569bb01e0f9453de1041762c4f2a6e80",
     "grade": false,
     "grade_id": "assignment-10-04-text",
     "locked": true,
     "schema_version": 3,
     "solution": false,
     "task": false
    }
   },
   "source": [
    "# 10.4 Has the number been encountered before?\n",
    "\n",
    "Given a list of numbers, determine if the next number has already been encountered. Create a list with booleans. For each number, append  `True` if this number has already been encountered, and append `False`, if it has not already been encountered. The first element of your resulting list will always be `False`, of course, since no numbers were encountered at that point.\n",
    "\n",
    "## Example input\n",
    "```python\n",
    "1 2 3 2 3 4\n",
    "```\n",
    "\n",
    "## Example return value\n",
    "```python\n",
    "[False, False, False, True, True, False]\n",
    "```\n"
   ]
  },
  {
   "cell_type": "code",
   "execution_count": 28,
   "metadata": {
    "deletable": false,
    "nbgrader": {
     "cell_type": "code",
     "checksum": "b2b48ccf025c52b997867d1df3e338c1",
     "grade": false,
     "grade_id": "assignment-10-04-code",
     "locked": false,
     "schema_version": 3,
     "solution": true,
     "task": false
    }
   },
   "outputs": [],
   "source": [
    "# Code for assignment 10.4\n",
    "\n",
    "def assignment_10_4(numbers):\n",
    "    result = [False]\n",
    "    encountered_numbers = {numbers[0]} \n",
    "    for number in numbers[1:]: \n",
    "        if number in encountered_numbers: \n",
    "            result.append(True)\n",
    "        else: \n",
    "            encountered_numbers.add(number)\n",
    "            result.append(False)\n",
    "    \n",
    "    return result"
   ]
  },
  {
   "cell_type": "code",
   "execution_count": 29,
   "metadata": {
    "deletable": false,
    "editable": false,
    "nbgrader": {
     "cell_type": "code",
     "checksum": "23522d8fcfd9843743645f399a50a606",
     "grade": false,
     "grade_id": "assignment-10-04-test",
     "locked": true,
     "schema_version": 3,
     "solution": false,
     "task": false
    }
   },
   "outputs": [
    {
     "name": "stdin",
     "output_type": "stream",
     "text": [
      "Please enter a series of integer numbers, separated by spaces (Press Enter for default values 1 2 3 2 3 4):  \n"
     ]
    },
    {
     "name": "stdout",
     "output_type": "stream",
     "text": [
      "\n",
      "The list [1, 2, 3, 2, 3, 4] has the following result [False, False, False, True, True, False].\n"
     ]
    }
   ],
   "source": [
    "# Test for assignment 10.4\n",
    "\n",
    "test_cell_10_4(assignment_10_4)"
   ]
  },
  {
   "cell_type": "code",
   "execution_count": 30,
   "metadata": {
    "deletable": false,
    "editable": false,
    "nbgrader": {
     "cell_type": "code",
     "checksum": "b37774477786f97a585866229565c7ae",
     "grade": true,
     "grade_id": "assignment-10-04-assert",
     "locked": true,
     "points": 1,
     "schema_version": 3,
     "solution": false,
     "task": false
    }
   },
   "outputs": [
    {
     "name": "stdout",
     "output_type": "stream",
     "text": [
      "Call assignment_10_4([1, 2, 3, 2, 3, 4]) ... OK\n",
      "Call assignment_10_4([1, 1, 1, 1, 1, 1, 1, 1, 1, 1]) ... OK\n",
      "Call assignment_10_4([1, 2, 3, 4, 5, 6, 7, 8, 9, 10]) ... OK\n",
      "Call assignment_10_4([10, 10, 4, 2, 5, 5, 10, 4, 1, 10]) ... OK\n",
      "\n",
      "Well done! You seem to have solved assignment_10_4!\n"
     ]
    }
   ],
   "source": [
    "# Assertion for assignment 10.4\n",
    "\n",
    "check_assertion(assignment_10_4)"
   ]
  },
  {
   "cell_type": "markdown",
   "metadata": {
    "deletable": false,
    "editable": false,
    "nbgrader": {
     "cell_type": "markdown",
     "checksum": "e2153ae39d3293f995ea86b5e1ee6dff",
     "grade": false,
     "grade_id": "assignment-10-05-spacer",
     "locked": true,
     "schema_version": 3,
     "solution": false,
     "task": false
    }
   },
   "source": [
    "<br />\n",
    "<br />\n",
    "<br />\n",
    "<br />"
   ]
  },
  {
   "cell_type": "markdown",
   "metadata": {
    "deletable": false,
    "editable": false,
    "nbgrader": {
     "cell_type": "markdown",
     "checksum": "7173b6aa187d5c6ca96211bb7d44a4a8",
     "grade": false,
     "grade_id": "assignment-10-05-text",
     "locked": true,
     "schema_version": 3,
     "solution": false,
     "task": false
    }
   },
   "source": [
    "# 10.5 Blocks\n",
    "\n",
    "Alice and Bob like to play with colored blocks. Each child has its own set of blocks and each block has a distinct color. They want to know which block colors they have in common, and which block colors they have individually.\n",
    "\n",
    "Finalize the function `assignment_10_5(alice, bob)` that takes two lists with colors (a single word each). Make the function return  three lists with the:\n",
    "1. The colors of the blocks in both collections\n",
    "1. The colors of the blocks which are in Alice's collection but not in Bob's\n",
    "1. The colors of the blocks in Bob's collection but not in Alice's.\n",
    "\n",
    "**NB** Sort the colors in each list.\n",
    "\n",
    "## Example input\n",
    "```python\n",
    "red green orange yellow\n",
    "green blue red\n",
    "```\n",
    "\n",
    "## Example return value\n",
    "```python\n",
    "(['green', 'red'], ['orange', 'yellow'], ['blue'])\n",
    "```"
   ]
  },
  {
   "cell_type": "code",
   "execution_count": 34,
   "metadata": {
    "deletable": false,
    "nbgrader": {
     "cell_type": "code",
     "checksum": "0f6aa88023252bf463ea22bf99b1c834",
     "grade": false,
     "grade_id": "assignment-10-05-code",
     "locked": false,
     "schema_version": 3,
     "solution": true,
     "task": false
    }
   },
   "outputs": [],
   "source": [
    "# Code for assignment 10.5\n",
    "\n",
    "def assignment_10_5(alice, bob):\n",
    "    alice = set(alice) \n",
    "    bob = set(bob) \n",
    "    \n",
    "    both = sorted(list(alice & bob))\n",
    "    unique_alice = sorted(list(alice - bob))\n",
    "    unique_bob = sorted(list(bob - alice))\n",
    "    return (both, unique_alice, unique_bob) "
   ]
  },
  {
   "cell_type": "code",
   "execution_count": 35,
   "metadata": {
    "deletable": false,
    "editable": false,
    "nbgrader": {
     "cell_type": "code",
     "checksum": "c6efc46f642ac5881f18d747f6463062",
     "grade": false,
     "grade_id": "assignment-10-05-test",
     "locked": true,
     "schema_version": 3,
     "solution": false,
     "task": false
    }
   },
   "outputs": [
    {
     "name": "stdin",
     "output_type": "stream",
     "text": [
      "Please enter the single-word colors of each block in Alice's collection (Press Enter for default \"red green orange yellow\"):  \n",
      "Please enter the single-word colors of each block in Bob's collection (Press Enter for default \"green blue red\"):  \n"
     ]
    },
    {
     "name": "stdout",
     "output_type": "stream",
     "text": [
      "\n",
      "The colors both children have in common: ['green', 'red']\n",
      "The unqiue colors Alice has: ['orange', 'yellow']\n",
      "The unqiue colors Bob has: ['blue']\n"
     ]
    }
   ],
   "source": [
    "# Test for assignment 10.5\n",
    "\n",
    "test_cell_10_5(assignment_10_5)"
   ]
  },
  {
   "cell_type": "code",
   "execution_count": 36,
   "metadata": {
    "deletable": false,
    "editable": false,
    "nbgrader": {
     "cell_type": "code",
     "checksum": "c01167f6abe4e6c29ea42dfce47b9eab",
     "grade": true,
     "grade_id": "assignment-10-05-assert",
     "locked": true,
     "points": 1,
     "schema_version": 3,
     "solution": false,
     "task": false
    }
   },
   "outputs": [
    {
     "name": "stdout",
     "output_type": "stream",
     "text": [
      "Call assignment_10_5(['blue', 'pink', 'gray'], ['red', 'blue', 'yellow', 'brown', 'white', 'black']) ... OK\n",
      "Call assignment_10_5(['red', 'green', 'orange', 'pink', 'white', 'black', 'gray'], ['red', 'green', 'yellow', 'pink']) ... OK\n",
      "Call assignment_10_5(['blue', 'yellow', 'orange', 'pink'], ['red', 'green', 'yellow', 'brown', 'pink', 'black']) ... OK\n",
      "Call assignment_10_5(['red', 'brown', 'pink', 'gray'], ['red', 'blue', 'yellow', 'orange', 'pink', 'black', 'gray']) ... OK\n",
      "Call assignment_10_5(['red', 'green', 'blue', 'orange', 'pink'], ['red', 'blue', 'yellow', 'brown', 'pink', 'black']) ... OK\n",
      "Call assignment_10_5(['red', 'green', 'yellow', 'orange', 'pink', 'black'], ['red', 'yellow', 'orange', 'brown', 'pink', 'white', 'black']) ... OK\n",
      "\n",
      "Well done! You seem to have solved assignment_10_5!\n"
     ]
    }
   ],
   "source": [
    "# Assertion for assignment 10.5\n",
    "\n",
    "check_assertion(assignment_10_5)"
   ]
  },
  {
   "cell_type": "markdown",
   "metadata": {
    "deletable": false,
    "editable": false,
    "nbgrader": {
     "cell_type": "markdown",
     "checksum": "97b24f585bffa2ed87646856436a31b4",
     "grade": false,
     "grade_id": "assignment-10-06-spacer",
     "locked": true,
     "schema_version": 3,
     "solution": false,
     "task": false
    }
   },
   "source": [
    "<br />\n",
    "<br />\n",
    "<br />\n",
    "<br />"
   ]
  },
  {
   "cell_type": "markdown",
   "metadata": {
    "deletable": false,
    "editable": false,
    "nbgrader": {
     "cell_type": "markdown",
     "checksum": "0c1945cc69714cec02155df3d41374d3",
     "grade": false,
     "grade_id": "assignment-10-06-text",
     "locked": true,
     "schema_version": 3,
     "solution": false,
     "task": false
    }
   },
   "source": [
    "# 10.6 The number of distinct words in some text\n",
    "\n",
    "Given some lines of text, return the number of distinct words that appear in the text.\n",
    "\n",
    "For this, we define a word to be a sequence of non-whitespace characters, seperated by one or more whitespace characters. Note that punctuation marks, such as commas and periods, are part of a word according to this definition.\n",
    "\n",
    "## Example input\n",
    "```\n",
    "She sells sea shells on the sea shore;\n",
    "The shells that she sells are sea shells I'm sure.\n",
    "So if she sells sea shells on the sea shore,\n",
    "I'm sure that the shells are sea shore shells.\n",
    "```\n",
    "\n",
    "## Example return value\n",
    "```python\n",
    "19\n",
    "```"
   ]
  },
  {
   "cell_type": "code",
   "execution_count": 40,
   "metadata": {
    "deletable": false,
    "nbgrader": {
     "cell_type": "code",
     "checksum": "dd65c36c64f9b23e975c71cd7592dd5b",
     "grade": false,
     "grade_id": "assignment-10-06-code",
     "locked": false,
     "schema_version": 3,
     "solution": true,
     "task": false
    }
   },
   "outputs": [],
   "source": [
    "# Code for assignment 10.6\n",
    "\n",
    "def assignment_10_6(string):\n",
    "    return len(set(string.split()))\n",
    "    "
   ]
  },
  {
   "cell_type": "code",
   "execution_count": 41,
   "metadata": {
    "deletable": false,
    "editable": false,
    "nbgrader": {
     "cell_type": "code",
     "checksum": "1a894b5fbb063a49d5979091c2a25322",
     "grade": false,
     "grade_id": "assignment-10-06-test",
     "locked": true,
     "schema_version": 3,
     "solution": false,
     "task": false
    }
   },
   "outputs": [
    {
     "name": "stdin",
     "output_type": "stream",
     "text": [
      "Please enter a string (Press Enter for default \"\n",
      "    \n",
      "She sells sea shells on the sea shore;\n",
      "The shells that she sells are sea shells I'm sure.\n",
      "So if she sells sea shells on the sea shore,\n",
      "I'm sure that the shells are sea shore shells.\n",
      "\n",
      "\"):  \n"
     ]
    },
    {
     "name": "stdout",
     "output_type": "stream",
     "text": [
      "\n",
      "This text has 19 unique words.\n"
     ]
    }
   ],
   "source": [
    "# Test for assignment 10.6\n",
    "\n",
    "test_cell_10_6(assignment_10_6)"
   ]
  },
  {
   "cell_type": "code",
   "execution_count": 42,
   "metadata": {
    "deletable": false,
    "editable": false,
    "nbgrader": {
     "cell_type": "code",
     "checksum": "170cc7df633aa4ce4e89daccaa1a40ef",
     "grade": true,
     "grade_id": "assignment-10-06-assert",
     "locked": true,
     "points": 1,
     "schema_version": 3,
     "solution": false,
     "task": false
    }
   },
   "outputs": [
    {
     "name": "stdout",
     "output_type": "stream",
     "text": [
      "Call assignment_10_6('She sells sea shells on the sea shore; The shells that she sells are sea shells I'm sure. So if she sells sea shells on the sea shore, I'm sure that the shells are sea shore shells. ') ... OK\n",
      "Call assignment_10_6(' The other two, slight air, and purging fire, Are both with thee, wherever I abide, The first my thought, the other my desire, These present-absent with swift motion slide. For when these quicker elements are gone In tender embassy of love to thee, My life being made of four, with two alone, Sinks down to death, oppressed with melancholy. Until life's composition be recured, By those swift messengers returned from thee, Who even but now come back again assured, Of thy fair health, recounting it to me. This told, I joy, but then no longer glad, I send them back again and straight grow sad. ') ... OK\n",
      "Call assignment_10_6('a a a a a a a a a a a a a a a a a a a a a a a a a a a a a a a a a a a a a') ... OK\n",
      "Call assignment_10_6('a b a c a b a d a b a c a b a') ... OK\n",
      "Call assignment_10_6('Not much chance, completely cut loose from purpose, He was a young man riding a bus through North Carolina on the way to somewhere. And it began to snow. And the bus stopped at a little cafe in the hills and the passengers entered. And he sat at the counter with the others, and he ordered, the food arrived. And the meal was particularly good. And the coffee. The waitress was unlike the women he had known. She was unaffected, and there was a natural humor which came from her. And the fry cook said crazy things. And the dishwasher in back laughed a good clean pleasant laugh. And the young man watched the snow through the window. And he wanted to stay in that cafe forever. The curious feeling swam through him that everything was beautiful there. And it would always stay beautiful there. And then the bus driver told the passengers that it was time to board. And the young man thought: “I’ll just stay here, I’ll just stay here.” And then he rose and he followed the others into the bus. He found his seat and looked at the cafe through the window. And then the bus moved off, down a curve, downward, out of the hills. And the young man looked straight forward. And he heard the other passengers speaking of other things, or they were reading or trying to sleep. And they hadn’t noticed the magic. And the young man put his head to one side, closed his eyes, and pretended to sleep. There was nothing else to do, just to listen to the sound of the engine, and the sound of the tires in the snow.') ... OK\n",
      "\n",
      "Well done! You seem to have solved assignment_10_6!\n"
     ]
    }
   ],
   "source": [
    "# Assertion for assignment 10.6\n",
    "\n",
    "check_assertion(assignment_10_6)"
   ]
  },
  {
   "cell_type": "markdown",
   "metadata": {
    "deletable": false,
    "editable": false,
    "nbgrader": {
     "cell_type": "markdown",
     "checksum": "760458f33168d556a7890dd676215988",
     "grade": false,
     "grade_id": "assignment-10-07-spacer",
     "locked": true,
     "schema_version": 3,
     "solution": false,
     "task": false
    }
   },
   "source": [
    "<br />\n",
    "<br />\n",
    "<br />\n",
    "<br />"
   ]
  },
  {
   "cell_type": "markdown",
   "metadata": {
    "deletable": false,
    "editable": false,
    "nbgrader": {
     "cell_type": "markdown",
     "checksum": "8c56f413d2bbb4dbff9e23d3b2043cb6",
     "grade": false,
     "grade_id": "assignment-10-07-text",
     "locked": true,
     "schema_version": 3,
     "solution": false,
     "task": false
    }
   },
   "source": [
    "# 10.7 Guess the number\n",
    "\n",
    "Augustus and Beatrice play the following game. Augustus thinks of a secret integer number from 1 to $n$, where $n$ is a agreed upon beforehand. Beatrice tries to guess the number by providing a set of integers. Augustus answers `YES` if his secret number exists in the provided set, or `NO`, if his number does not exist in the provided numbers. Then after a few questions Beatrice, totally confused, asks you to `HELP` her determine Augustus's secret number.\n",
    "\n",
    "Finalize the function `assignment_10_7(n, turns)` which takes two arguments `n` and `turns`. The argument `n` corresponds to the highest possible number $n$ in Augustus' secret number range. The argument `turns` is a list of lists; each of these lists contains the guessed numbers for that turn including Augustus's answer: `True` if the secret number is present, or `False` if it is not.\n",
    "\n",
    "The function should return an **ordered** list of the remaining possible numbers in Augustus' secret range.\n",
    "\n",
    "If you press Enter without values, the default example input will be used in the test cell.\n",
    "\n",
    "## Example input\n",
    "```python\n",
    "10\n",
    "1 2 3 4 5\n",
    "YES\n",
    "2 4 6 8 10\n",
    "NO\n",
    "HELP\n",
    "```\n",
    "\n",
    "This will be converted in the test cell to this specific function call:\n",
    "```python\n",
    "assignment_10_7(10, [[1, 2, 3, 4, 5, True], [2, 4, 6, 8, 10, False]])\n",
    "```\n",
    "\n",
    "## Example return value\n",
    "```python\n",
    "[1, 3, 5]\n",
    "```"
   ]
  },
  {
   "cell_type": "code",
   "execution_count": 105,
   "metadata": {
    "deletable": false,
    "nbgrader": {
     "cell_type": "code",
     "checksum": "ffb41659b2e1f666ffe2f7c222f3464c",
     "grade": false,
     "grade_id": "assignment-10-07-code",
     "locked": false,
     "schema_version": 3,
     "solution": true,
     "task": false
    }
   },
   "outputs": [],
   "source": [
    "# Code for assignment 10.7\n",
    "\n",
    "def assignment_10_7(n, turns):\n",
    "    result = {x for x in range(1, n +1)}\n",
    "\n",
    "    for turn in turns:\n",
    "        if turn[-1]:\n",
    "            result = result & set(turn[:-1])\n",
    "        else:\n",
    "            result = result - set(turn[:-1])\n",
    "    \n",
    "    return sorted(list(result))\n",
    "    \n",
    "    "
   ]
  },
  {
   "cell_type": "code",
   "execution_count": 106,
   "metadata": {
    "deletable": false,
    "editable": false,
    "nbgrader": {
     "cell_type": "code",
     "checksum": "f6293c8362048e58e93c27ef0124dcb6",
     "grade": false,
     "grade_id": "assignment-10-07-test",
     "locked": true,
     "schema_version": 3,
     "solution": false,
     "task": false
    }
   },
   "outputs": [
    {
     "name": "stdin",
     "output_type": "stream",
     "text": [
      "Would you like to use the default example input (Y/n)?  \n"
     ]
    },
    {
     "name": "stdout",
     "output_type": "stream",
     "text": [
      "\n",
      "The numbers still possible in the secret range of Augustus between 1 and 10 are [1, 3, 5].\n"
     ]
    }
   ],
   "source": [
    "# Test cell for assignment 10.7\n",
    "\n",
    "test_cell_10_7(assignment_10_7)"
   ]
  },
  {
   "cell_type": "code",
   "execution_count": 107,
   "metadata": {
    "deletable": false,
    "editable": false,
    "nbgrader": {
     "cell_type": "code",
     "checksum": "b938f6449d3bcd9ce27871be33c94cbb",
     "grade": true,
     "grade_id": "assignment-10-07-assert",
     "locked": true,
     "points": 1,
     "schema_version": 3,
     "solution": false,
     "task": false
    }
   },
   "outputs": [
    {
     "name": "stdout",
     "output_type": "stream",
     "text": [
      "Call assignment_10_7(10, [[1, 2, 3, 4, 5, True], [2, 4, 6, 8, 10, False]]) ... OK\n",
      "Call assignment_10_7(10, [[1, 2, 3, 4, 5, 6, 7, 8, 9, 10, True], [1, False], [2, False], [3, False], [4, False], [6, False], [7, False], [8, False], [9, False], [10, False]]) ... OK\n",
      "Call assignment_10_7(100, [[3, 5, 8, 10, 11, 13, 14, 15, 16, 20, 21, 23, 25, 27, 29, 31, 32, 33, 35, 42, 43, 46, 47, 48, 51, 52, 57, 58, 67, 68, 72, 74, 75, 76, 79, 80, 81, 82, 83, 84, 86, 89, 90, 91, 92, 93, 94, 95, 96, 99, True], [1, 4, 7, 9, 14, 16, 17, 19, 20, 23, 25, 27, 28, 29, 30, 31, 32, 33, 41, 42, 45, 46, 48, 50, 52, 54, 59, 60, 61, 63, 66, 67, 68, 69, 70, 71, 73, 74, 79, 81, 82, 83, 89, 90, 91, 92, 93, 94, 95, 100, True], [3, 5, 6, 15, 16, 18, 19, 20, 21, 22, 23, 24, 26, 28, 29, 35, 37, 38, 39, 40, 41, 43, 44, 45, 46, 47, 53, 55, 56, 60, 61, 63, 64, 65, 68, 70, 71, 73, 76, 79, 80, 81, 82, 83, 86, 90, 91, 95, 96, 99, True], [1, 2, 3, 5, 11, 16, 17, 23, 25, 31, 32, 33, 34, 35, 38, 39, 41, 43, 44, 46, 47, 49, 51, 53, 58, 59, 62, 63, 68, 69, 70, 72, 73, 74, 76, 77, 78, 79, 80, 81, 82, 83, 85, 86, 93, 94, 95, 97, 99, 100, True], [3, 7, 8, 9, 10, 14, 17, 20, 22, 23, 24, 25, 26, 27, 28, 30, 34, 40, 42, 43, 45, 47, 48, 49, 50, 51, 52, 53, 54, 55, 59, 62, 63, 66, 67, 72, 73, 75, 77, 81, 83, 84, 86, 89, 92, 93, 94, 96, 98, 100, True]]) ... OK\n",
      "\n",
      "Well done! You seem to have solved assignment_10_7!\n"
     ]
    }
   ],
   "source": [
    "# Assertion for assignment 10.7\n",
    "\n",
    "check_assertion(assignment_10_7)"
   ]
  },
  {
   "cell_type": "markdown",
   "metadata": {
    "deletable": false,
    "editable": false,
    "nbgrader": {
     "cell_type": "markdown",
     "checksum": "a6d495b7385fa4d2ebdbdf0ca1f5b9fb",
     "grade": false,
     "grade_id": "assignment-10-08-spacer",
     "locked": true,
     "schema_version": 3,
     "solution": false,
     "task": false
    }
   },
   "source": [
    "<br />\n",
    "<br />\n",
    "<br />\n",
    "<br />"
   ]
  },
  {
   "cell_type": "markdown",
   "metadata": {
    "deletable": false,
    "editable": false,
    "nbgrader": {
     "cell_type": "markdown",
     "checksum": "f6bd6819bb4a7e672ce15bb81e0381c2",
     "grade": false,
     "grade_id": "assignment-10-08-text",
     "locked": true,
     "schema_version": 3,
     "solution": false,
     "task": false
    }
   },
   "source": [
    "# 10.8 Polyglots\n",
    "\n",
    "Each student at a certain school speaks a number of languages. We need to determine which languges are spoken by all the students, as well as which languages are spoken by at least one student.\n",
    "\n",
    "Finalize the function `assignment_10_8(polyglots)` in such a way that it returns two lists:\n",
    "1. a list with languages spoken by **all** students\n",
    "2. a list with languages spoken by **at least one** of the students\n",
    "\n",
    "**NB** Return the languages in alphabetic order in the lists.\n",
    "\n",
    "`polyglots` will be created by the test cell from space separated language names, one student per line. Or, if you start with just an Enter on the first input, you will be using the default example values.\n",
    "\n",
    "## Example input\n",
    "```python\n",
    "Russian English Japanese\n",
    "Russian English\n",
    "English\n",
    "```\n",
    "\n",
    "## Example return value\n",
    "```python\n",
    "(['English'], ['English', 'Japanese', 'Russian'])\n",
    "```"
   ]
  },
  {
   "cell_type": "code",
   "execution_count": 39,
   "metadata": {
    "deletable": false,
    "nbgrader": {
     "cell_type": "code",
     "checksum": "850ed9fbb8f398f5b34e3f985b9f261b",
     "grade": false,
     "grade_id": "assignment-10-08-code",
     "locked": false,
     "schema_version": 3,
     "solution": true,
     "task": false
    }
   },
   "outputs": [],
   "source": [
    "# Code for assignment 10.8\n",
    "\n",
    "def assignment_10_8(polyglots):\n",
    "    all_languages = set()\n",
    "    for language in polyglots: \n",
    "        all_languages.update(language)\n",
    "    \n",
    "    all_students_speak = set(polyglots[0])\n",
    "\n",
    "    for language in polyglots[1:]: \n",
    "        current_student = set(language) \n",
    "        all_students_speak = all_students_speak & current_student\n",
    "        \n",
    "    return (sorted(list(all_students_speak)), sorted(list(all_languages)))"
   ]
  },
  {
   "cell_type": "code",
   "execution_count": 40,
   "metadata": {
    "deletable": false,
    "editable": false,
    "nbgrader": {
     "cell_type": "code",
     "checksum": "a36dc362c1f22f4a3242c68eb91c353f",
     "grade": false,
     "grade_id": "assignment-10-08-test",
     "locked": true,
     "schema_version": 3,
     "solution": false,
     "task": false
    }
   },
   "outputs": [
    {
     "name": "stdout",
     "output_type": "stream",
     "text": [
      "Enter the languages separated by spaces spoken by student 1,\n",
      "or an empty line after all students have been entered.\n"
     ]
    },
    {
     "name": "stdin",
     "output_type": "stream",
     "text": [
      " \n"
     ]
    },
    {
     "name": "stdout",
     "output_type": "stream",
     "text": [
      "\n",
      "The result of your function is: (['English'], ['English', 'Japanese', 'Russian'])\n",
      "\n",
      "This means that ['English'] is/are spoken by all students,\n",
      "and ['English', 'Japanese', 'Russian'] is/are spoken by at least one student.\n"
     ]
    }
   ],
   "source": [
    "# Test for assignment 10.8\n",
    "\n",
    "test_cell_10_8(assignment_10_8)"
   ]
  },
  {
   "cell_type": "code",
   "execution_count": 41,
   "metadata": {
    "deletable": false,
    "editable": false,
    "nbgrader": {
     "cell_type": "code",
     "checksum": "6513660fdc6f2d49786548b81bd577dc",
     "grade": true,
     "grade_id": "assignment-10-08-assert",
     "locked": true,
     "points": 1,
     "schema_version": 3,
     "solution": false,
     "task": false
    }
   },
   "outputs": [
    {
     "name": "stdout",
     "output_type": "stream",
     "text": [
      "Call assignment_10_8([['Russian', 'English', 'Japanese'], ['Russian', 'English'], ['English']]) ... OK\n",
      "Call assignment_10_8([['German'], ['German'], ['German'], ['German'], ['German']]) ... OK\n",
      "Call assignment_10_8([['Russian', 'Spanish', 'German'], ['Russian', 'German', 'Spanish'], ['Spanish', 'Russian', 'German'], ['German', 'Russian', 'Spanish']]) ... OK\n",
      "\n",
      "Well done! You seem to have solved assignment_10_8!\n"
     ]
    }
   ],
   "source": [
    "# Assertion for assignment 10.8\n",
    "\n",
    "check_assertion(assignment_10_8)"
   ]
  }
 ],
 "metadata": {
  "kernelspec": {
   "display_name": "Python 3 (ipykernel)",
   "language": "python",
   "name": "python3"
  },
  "language_info": {
   "codemirror_mode": {
    "name": "ipython",
    "version": 3
   },
   "file_extension": ".py",
   "mimetype": "text/x-python",
   "name": "python",
   "nbconvert_exporter": "python",
   "pygments_lexer": "ipython3",
   "version": "3.9.18"
  }
 },
 "nbformat": 4,
 "nbformat_minor": 4
}
