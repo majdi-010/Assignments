{
 "cells": [
  {
   "cell_type": "markdown",
   "metadata": {
    "deletable": false,
    "editable": false,
    "nbgrader": {
     "cell_type": "markdown",
     "checksum": "450e1bf9d0651509f52fe5d116db1a30",
     "grade": false,
     "grade_id": "introduction",
     "locked": true,
     "schema_version": 3,
     "solution": false,
     "task": false
    }
   },
   "source": [
    "# 8. Functions and recursion\n",
    "\n",
    "This Jupyter Notebook contains the [problems, or assignments, for Lesson 8](https://snakify.org/en/lessons/functions/problems/), gratefully imported from the online course on [Snakify](https://snakify.org). If you get stuck, you can either ask the teacher and the teaching assistents, or skim through the [theory](https://snakify.org/en/lessons/functions/) and [explanation of the steps](https://snakify.org/en/lessons/functions/steps/1/) on Snakify.\n",
    "\n",
    "**NB** Since the focus of these assignments is on `functions`, you are requested to define the whole function yourself."
   ]
  },
  {
   "cell_type": "code",
   "execution_count": 1,
   "metadata": {
    "deletable": false,
    "editable": false,
    "nbgrader": {
     "cell_type": "code",
     "checksum": "3d552f5c4c39249e5750262df758b85c",
     "grade": false,
     "grade_id": "import-assert",
     "locked": true,
     "schema_version": 3,
     "solution": false,
     "task": false
    }
   },
   "outputs": [
    {
     "name": "stdout",
     "output_type": "stream",
     "text": [
      "Assertions imported OK\n",
      "Test cells imported OK\n"
     ]
    }
   ],
   "source": [
    "# Please run the contents of this cell.\n",
    "# Select this cell and press Ctrl-Enter (or Command-Enter on mac).\n",
    "\n",
    "from assertions import *\n",
    "from test_cells import *"
   ]
  },
  {
   "cell_type": "markdown",
   "metadata": {
    "deletable": false,
    "editable": false,
    "nbgrader": {
     "cell_type": "markdown",
     "checksum": "cf2a89beeedfa6cfcad1e24fc6631a7c",
     "grade": false,
     "grade_id": "assignment-08-01-spacer",
     "locked": true,
     "schema_version": 3,
     "solution": false,
     "task": false
    }
   },
   "source": [
    "<br />\n",
    "<br />\n",
    "<br />\n",
    "<br />"
   ]
  },
  {
   "cell_type": "markdown",
   "metadata": {
    "deletable": false,
    "editable": false,
    "nbgrader": {
     "cell_type": "markdown",
     "checksum": "9465c869c19e3b87822d271f2e3493b0",
     "grade": false,
     "grade_id": "assignment-08-01-text",
     "locked": true,
     "schema_version": 3,
     "solution": false,
     "task": false
    }
   },
   "source": [
    "# 8.1 The length of the segment\n",
    "\n",
    "Given four real numbers representing cartesian coordinates: $(x_1, y_1),(x_2, y_2)$.  \n",
    "Write a function `distance(x1, y1, x2, y2)` to compute the distance between the points $(x_1, y_1)$ and $(x_2, y_2)$. \n",
    "\n",
    "You can make use of the function that computes the square root from the `math` module.\n",
    "```python\n",
    "math.sqrt()\n",
    "```\n",
    "\n",
    "Make sure your function returns the distance.\n",
    "\n",
    "The formula for distance between two points can be found at [Wolfram](http://mathworld.wolfram.com/Distance.html).\n",
    "\n",
    "In the test cell, enter the four numbers separated by spaces.\n",
    "\n",
    "## Example input\n",
    "```python\n",
    "0 0 1 1\n",
    "```\n",
    "\n",
    "## Example return code\n",
    "```python\n",
    "1.4142135623730951\n",
    "```\n"
   ]
  },
  {
   "cell_type": "code",
   "execution_count": 6,
   "metadata": {
    "deletable": false,
    "nbgrader": {
     "cell_type": "code",
     "checksum": "40a028544239c34f38ab1ea24890ef4f",
     "grade": false,
     "grade_id": "assignment-08-01-code",
     "locked": false,
     "schema_version": 3,
     "solution": true,
     "task": false
    }
   },
   "outputs": [],
   "source": [
    "# Code for assignment 8.1\n",
    "import math\n",
    "\n",
    "# YOUR CODE HERE\n",
    "def distance(x1, y1, x2, y2): \n",
    "    return math.sqrt((y1-y2)**2 + (x1-x2)**2)"
   ]
  },
  {
   "cell_type": "code",
   "execution_count": 7,
   "metadata": {
    "deletable": false,
    "editable": false,
    "nbgrader": {
     "cell_type": "code",
     "checksum": "bc995ce8ec199eafe82fd54efc3b43ca",
     "grade": false,
     "grade_id": "assignment-08-01-test",
     "locked": true,
     "schema_version": 3,
     "solution": false,
     "task": false
    }
   },
   "outputs": [
    {
     "name": "stdin",
     "output_type": "stream",
     "text": [
      "Enter 4 numbers, separated by spaces:  \n",
      "Please enter a series of 4 numbers, separated by spaces (Press Enter for default values 0 0 1 1):  \n"
     ]
    },
    {
     "name": "stdout",
     "output_type": "stream",
     "text": [
      "\n",
      "The distance between the points (0.0, 0.0) and (1.0, 1.0):\n",
      "1.4142135623730951\n"
     ]
    }
   ],
   "source": [
    "# Test for assignment 8.1\n",
    "\n",
    "test_cell_8_1(distance)"
   ]
  },
  {
   "cell_type": "code",
   "execution_count": 8,
   "metadata": {
    "deletable": false,
    "editable": false,
    "nbgrader": {
     "cell_type": "code",
     "checksum": "fce690a5f42ff347beb0f9a460eeee34",
     "grade": true,
     "grade_id": "assignment-08-01-assert",
     "locked": true,
     "points": 1,
     "schema_version": 3,
     "solution": false,
     "task": false
    }
   },
   "outputs": [
    {
     "name": "stdout",
     "output_type": "stream",
     "text": [
      "Call distance(0.0, 0.0, 1.0, 1.0) ... OK\n",
      "Call distance(0.0, 0.0, 1.0, 0.0) ... OK\n",
      "Call distance(3.0, -2.0, -1.0, 7.0) ... OK\n",
      "Call distance(0.1, 0.1, 0.2, 0.2) ... OK\n",
      "Call distance(-1.0, -1.0, -3.0, -5.0) ... OK\n",
      "\n",
      "Well done! You seem to have solved distance!\n"
     ]
    }
   ],
   "source": [
    "# Assertion for assignment 8.1\n",
    "\n",
    "check_assertion(distance)"
   ]
  },
  {
   "cell_type": "markdown",
   "metadata": {
    "deletable": false,
    "editable": false,
    "nbgrader": {
     "cell_type": "markdown",
     "checksum": "beec61716157f01a9042460b8a19013f",
     "grade": false,
     "grade_id": "assignment-08-02-spacer",
     "locked": true,
     "schema_version": 3,
     "solution": false,
     "task": false
    }
   },
   "source": [
    "<br />\n",
    "<br />\n",
    "<br />\n",
    "<br />"
   ]
  },
  {
   "cell_type": "markdown",
   "metadata": {
    "deletable": false,
    "editable": false,
    "nbgrader": {
     "cell_type": "markdown",
     "checksum": "a527c531c274eea1636b2930c02986b1",
     "grade": false,
     "grade_id": "assignment-08-02-text",
     "locked": true,
     "schema_version": 3,
     "solution": false,
     "task": false
    }
   },
   "source": [
    "# 8.2 Exponentiation\n",
    "\n",
    "Given a real number $a$ and an integer $n$, compute $a^n$.\n",
    "\n",
    "Write a function `power(a, n)` that calculates $a^n$ and return the result of the expression.\n",
    "\n",
    "Don't use the `math.pow()` function from the standard library, nor the syntax `a**n`. Instead, use the definition of exponentiation to an integer power, which is to multipy the value $a$ by itself repeatedly.\n",
    "\n",
    "Please keep in mind that $n$ can also be negative, for this case you should use the fact that $a^{-n} = \\frac{1}{a^n}$. Therefore, you can compute the value just as if $n$ were positive, but you take the reciprocal before returning the result. Also keep in mind that $a^0 = 1$ for all values of $a$.\n",
    "\n",
    "## Example input\n",
    "```python\n",
    "2.0\n",
    "-3\n",
    "```\n",
    "\n",
    "## Example return value\n",
    "```python\n",
    "0.125\n",
    "```"
   ]
  },
  {
   "cell_type": "code",
   "execution_count": 15,
   "metadata": {
    "deletable": false,
    "nbgrader": {
     "cell_type": "code",
     "checksum": "be90f8bd92aab94066c10581ad8626ad",
     "grade": false,
     "grade_id": "assignment-08-02-code",
     "locked": false,
     "schema_version": 3,
     "solution": true,
     "task": false
    }
   },
   "outputs": [],
   "source": [
    "# Code for assignment 8.2\n",
    "\n",
    "# YOUR CODE HERE\n",
    "def power(a, n): \n",
    "    if n == 0:\n",
    "        return 1.0\n",
    "    result = 1\n",
    "    for i in range(abs(n)): \n",
    "        result *= a\n",
    "    \n",
    "    if n<0:\n",
    "        return 1/result \n",
    "    else:\n",
    "        return result\n",
    "        \n",
    "        "
   ]
  },
  {
   "cell_type": "code",
   "execution_count": 16,
   "metadata": {
    "deletable": false,
    "editable": false,
    "nbgrader": {
     "cell_type": "code",
     "checksum": "156a009a49cd8a1810588a2c674e9d71",
     "grade": false,
     "grade_id": "assignment-08-02-test",
     "locked": true,
     "schema_version": 3,
     "solution": false,
     "task": false
    }
   },
   "outputs": [
    {
     "name": "stdin",
     "output_type": "stream",
     "text": [
      "Please enter value a (Press Enter for default value 2.0):  \n",
      "Please enter integer value n (Press Enter for default value -3):  \n"
     ]
    },
    {
     "name": "stdout",
     "output_type": "stream",
     "text": [
      "\n",
      "The result of 2.0 to the power of -3 is:\n",
      "0.125\n"
     ]
    }
   ],
   "source": [
    "# Test for assignment 8.2\n",
    "\n",
    "test_cell_8_2_4(power)"
   ]
  },
  {
   "cell_type": "code",
   "execution_count": 17,
   "metadata": {
    "deletable": false,
    "editable": false,
    "nbgrader": {
     "cell_type": "code",
     "checksum": "a5ecad91ad2a710650683c89d2a7c695",
     "grade": true,
     "grade_id": "assignment-08-02-assert",
     "locked": true,
     "points": 1,
     "schema_version": 3,
     "solution": false,
     "task": false
    }
   },
   "outputs": [
    {
     "name": "stdout",
     "output_type": "stream",
     "text": [
      "Call power(2.0, -3) ... OK\n",
      "Call power(2.0, 1) ... OK\n",
      "Call power(2.0, 2) ... OK\n",
      "Call power(2.0, 3) ... OK\n",
      "Call power(2.0, 4) ... OK\n",
      "Call power(2.0, 9) ... OK\n",
      "Call power(2.0, 10) ... OK\n",
      "Call power(2.0, 15) ... OK\n",
      "Call power(2.0, 0) ... OK\n",
      "Call power(3.0, 1) ... OK\n",
      "Call power(3.0, 2) ... OK\n",
      "Call power(3.0, 3) ... OK\n",
      "Call power(3.0, 10) ... OK\n",
      "Call power(3.0, 0) ... OK\n",
      "Call power(1.1414, 2) ... OK\n",
      "Call power(1.5, 10) ... OK\n",
      "Call power(1.0, -1) ... OK\n",
      "Call power(2.0, -1) ... OK\n",
      "Call power(2.0, -2) ... OK\n",
      "Call power(2.0, -3) ... OK\n",
      "Call power(2.0, -4) ... OK\n",
      "Call power(2.0, -8) ... OK\n",
      "Call power(2.0, -9) ... OK\n",
      "Call power(2.0, -10) ... OK\n",
      "Call power(2.0, -15) ... OK\n",
      "Call power(3.0, -1) ... OK\n",
      "Call power(3.0, -2) ... OK\n",
      "Call power(3.0, -3) ... OK\n",
      "Call power(3.0, -4) ... OK\n",
      "Call power(3.0, -5) ... OK\n",
      "Call power(3.0, -10) ... OK\n",
      "Call power(3.0, -6) ... OK\n",
      "Call power(1.1414, -2) ... OK\n",
      "Call power(1.5, -10) ... OK\n",
      "\n",
      "Well done! You seem to have solved power!\n"
     ]
    }
   ],
   "source": [
    "# Assertion for assignment 8.2\n",
    "\n",
    "check_assertion(power)"
   ]
  },
  {
   "cell_type": "markdown",
   "metadata": {
    "deletable": false,
    "editable": false,
    "nbgrader": {
     "cell_type": "markdown",
     "checksum": "9edb6bf2b1273dbe2eabe6a8866b2fff",
     "grade": false,
     "grade_id": "assignment-08-03-spacer",
     "locked": true,
     "schema_version": 3,
     "solution": false,
     "task": false
    }
   },
   "source": [
    "<br />\n",
    "<br />\n",
    "<br />\n",
    "<br />"
   ]
  },
  {
   "cell_type": "markdown",
   "metadata": {
    "deletable": false,
    "editable": false,
    "nbgrader": {
     "cell_type": "markdown",
     "checksum": "c8be0c4644e84452f38b5ef9f7b6e78f",
     "grade": false,
     "grade_id": "assignment-08-03-text",
     "locked": true,
     "schema_version": 3,
     "solution": false,
     "task": false
    }
   },
   "source": [
    "# 8.3 Uppercase\n",
    "\n",
    "Write a function `capitalize(lower_case_words)` that takes a string with lower case words<br/>and returns a line with the first letter of each word capitalized, *e.g.*\n",
    "```python\n",
    "print(capitalize('hello world'))\n",
    "```\n",
    "should print `Hello World`. Assume that the words are separated by single spaces.\n",
    "\n",
    "**Hint** In Python there is a function `ord(character)`, which returns the character code for a character in the [the ASCII chart](https://en.wikipedia.org/wiki/ASCII).<br/>\n",
    "The function `chr(code)` returns the character itself from the ASCII code. For example,\n",
    "```python\n",
    "ord('a') == 97\n",
    "chr(97) == 'a'\n",
    "```\n",
    "\n",
    "**NB** Please note the difference in character value between small and capital letters. Use this in your function.\n",
    "\n",
    "It should be noted that this exercise is meant for experimenting with small functions, *i.e.* **ord()** and **chr()**. This does, in this case, *not* represent the most efficient or elegant way of solving this problem, which would be to just use the builtin `title()` method of strings."
   ]
  },
  {
   "cell_type": "code",
   "execution_count": 25,
   "metadata": {
    "deletable": false,
    "nbgrader": {
     "cell_type": "code",
     "checksum": "a94a526c3abc04a8eb1d909472497298",
     "grade": false,
     "grade_id": "assignment-08-03-code",
     "locked": false,
     "schema_version": 3,
     "solution": true,
     "task": false
    }
   },
   "outputs": [],
   "source": [
    "# Code for assignment 8.3\n",
    "\n",
    "def capitalize(string): \n",
    "    words = string.split()\n",
    "    new_string = []\n",
    "    for word in words: \n",
    "        new_word = chr(ord(word[0]) - 32) + word[1:]\n",
    "        new_string.append(new_word) \n",
    "        \n",
    "    new_string = \" \".join(new_string)\n",
    "    return(new_string) "
   ]
  },
  {
   "cell_type": "code",
   "execution_count": 26,
   "metadata": {
    "deletable": false,
    "editable": false,
    "nbgrader": {
     "cell_type": "code",
     "checksum": "0782c6c8807afede114757319764225f",
     "grade": false,
     "grade_id": "assignment-08-03-test",
     "locked": true,
     "schema_version": 3,
     "solution": false,
     "task": false
    }
   },
   "outputs": [
    {
     "name": "stdin",
     "output_type": "stream",
     "text": [
      "Please enter a string containing only lowercase letters (Press Enter for default \"hello world\"):  \n"
     ]
    },
    {
     "name": "stdout",
     "output_type": "stream",
     "text": [
      "\n",
      "The capitalized copy of \"hello world\" is: \n",
      "Hello World\n"
     ]
    }
   ],
   "source": [
    "# Test for assignment 8.3\n",
    "\n",
    "test_cell_8_3(capitalize)"
   ]
  },
  {
   "cell_type": "code",
   "execution_count": 27,
   "metadata": {
    "deletable": false,
    "editable": false,
    "nbgrader": {
     "cell_type": "code",
     "checksum": "b2cf5ab3dd2ea062d356e8502a364914",
     "grade": true,
     "grade_id": "assignment-08-03-assert",
     "locked": true,
     "points": 1,
     "schema_version": 3,
     "solution": false,
     "task": false
    }
   },
   "outputs": [
    {
     "name": "stdout",
     "output_type": "stream",
     "text": [
      "Call capitalize('harry potter') ... OK\n",
      "Call capitalize('procrastination') ... OK\n",
      "Call capitalize('we danced the mamushka at waterloo') ... OK\n",
      "Call capitalize('de noche todos los gatos son pardos') ... OK\n",
      "Call capitalize('all i see turns to brown') ... OK\n",
      "\n",
      "Well done! You seem to have solved capitalize!\n"
     ]
    }
   ],
   "source": [
    "# Assertion for assignment 8.3\n",
    "\n",
    "check_assertion(capitalize)"
   ]
  },
  {
   "cell_type": "markdown",
   "metadata": {
    "deletable": false,
    "editable": false,
    "nbgrader": {
     "cell_type": "markdown",
     "checksum": "60536d056bb6c2a04ae73994cba35488",
     "grade": false,
     "grade_id": "assignment-08-04-spacer",
     "locked": true,
     "schema_version": 3,
     "solution": false,
     "task": false
    }
   },
   "source": [
    "<br />\n",
    "<br />\n",
    "<br />\n",
    "<br />"
   ]
  },
  {
   "cell_type": "markdown",
   "metadata": {
    "deletable": false,
    "editable": false,
    "nbgrader": {
     "cell_type": "markdown",
     "checksum": "51e7768d14e6feeaa04cf00a8ee38a3f",
     "grade": false,
     "grade_id": "assignment-08-04-text",
     "locked": true,
     "schema_version": 3,
     "solution": false,
     "task": false
    }
   },
   "source": [
    "# 8.4 Exponentiation - recursive\n",
    "\n",
    "For this assignment, we are going to compute $a^n$ once again, like in assignment 8.2.  \n",
    "But, in this case, **without** making use of loops.\n",
    "\n",
    "To achieve our goal, we will write a recursive function, *i.e.* a function that calls itself.\n",
    "\n",
    "For example, if we consider multiplication instead of exponentiation, a recursive solution might look like this:\n",
    "```python\n",
    "def multiply_recursive(a, n):\n",
    "    if n == 0:\n",
    "        return 0.0\n",
    "    return a + multiply_recursive(a, n - 1)\n",
    "```\n",
    "This function compute the multiplication of $a$ by a non-negative integer $n$ using the definition of repeated addition, i.e. it adds $n$ copies of $a$ together.\n",
    "\n",
    "As you can see, on the last line, the function calls itself with $n-1$, unless $n = 0$ in which case it does not call itself and the chain of function calls ends.\n",
    "\n",
    "For this assignment, create a function `power_recursive(a, n)`  \n",
    "that takes a real number $a$ and a *positive* integer $n$ and computes $a^n$ recursively.\n",
    "\n",
    "## Example input\n",
    "```python\n",
    "2.0\n",
    "3\n",
    "```\n",
    "\n",
    "## Example output\n",
    "```python\n",
    "8.0\n",
    "```"
   ]
  },
  {
   "cell_type": "code",
   "execution_count": 28,
   "metadata": {},
   "outputs": [
    {
     "name": "stdout",
     "output_type": "stream",
     "text": [
      "12.0\n"
     ]
    }
   ],
   "source": [
    "# Trial cell for experimentation with recursive function\n",
    "\n",
    "def multiply_recursive(a, n):\n",
    "    if n == 0:\n",
    "        return 0.0\n",
    "    return a + multiply_recursive(a, n - 1)\n",
    "    \n",
    "print(multiply_recursive(3, 4))"
   ]
  },
  {
   "cell_type": "code",
   "execution_count": 29,
   "metadata": {
    "deletable": false,
    "nbgrader": {
     "cell_type": "code",
     "checksum": "4b48247afda761844b45a74629833b86",
     "grade": false,
     "grade_id": "assignment-08-04-code",
     "locked": false,
     "schema_version": 3,
     "solution": true,
     "task": false
    }
   },
   "outputs": [],
   "source": [
    "# Code for assignment 8.4\n",
    "\n",
    "# YOUR CODE HERE\n",
    "def power_recursive(a, n):\n",
    "    if n == 0:\n",
    "        return 1.0\n",
    "    return a * power_recursive(a, n - 1)"
   ]
  },
  {
   "cell_type": "code",
   "execution_count": 30,
   "metadata": {
    "deletable": false,
    "editable": false,
    "nbgrader": {
     "cell_type": "code",
     "checksum": "2bc11f06b04b25bf9369599f1fcfa148",
     "grade": false,
     "grade_id": "assignment-08-04-test",
     "locked": true,
     "schema_version": 3,
     "solution": false,
     "task": false
    }
   },
   "outputs": [
    {
     "name": "stdin",
     "output_type": "stream",
     "text": [
      "Please enter value a (Press Enter for default value 2.0):  \n",
      "Please enter integer value n (Press Enter for default value 3):  \n"
     ]
    },
    {
     "name": "stdout",
     "output_type": "stream",
     "text": [
      "\n",
      "The result of 2.0 to the power of 3 is:\n",
      "8.0\n"
     ]
    }
   ],
   "source": [
    "# Test for assignment 8.4\n",
    "\n",
    "test_cell_8_2_4(power_recursive)"
   ]
  },
  {
   "cell_type": "code",
   "execution_count": 31,
   "metadata": {
    "deletable": false,
    "editable": false,
    "nbgrader": {
     "cell_type": "code",
     "checksum": "69bd534c1ee45d132656ce4c52d06718",
     "grade": true,
     "grade_id": "assignment-08-04-assert",
     "locked": true,
     "points": 1,
     "schema_version": 3,
     "solution": false,
     "task": false
    }
   },
   "outputs": [
    {
     "name": "stdout",
     "output_type": "stream",
     "text": [
      "Call power_recursive(2.0, 3) ... OK\n",
      "Call power_recursive(2.0, 2) ... OK\n",
      "Call power_recursive(2.0, 1) ... OK\n",
      "Call power_recursive(2.0, 4) ... OK\n",
      "Call power_recursive(2.0, 5) ... OK\n",
      "Call power_recursive(2.0, 6) ... OK\n",
      "Call power_recursive(2.0, 7) ... OK\n",
      "Call power_recursive(2.0, 8) ... OK\n",
      "Call power_recursive(2.0, 9) ... OK\n",
      "Call power_recursive(2.0, 10) ... OK\n",
      "Call power_recursive(2.0, 15) ... OK\n",
      "Call power_recursive(2.0, 0) ... OK\n",
      "Call power_recursive(3.0, 1) ... OK\n",
      "Call power_recursive(3.0, 2) ... OK\n",
      "Call power_recursive(3.0, 3) ... OK\n",
      "Call power_recursive(3.0, 4) ... OK\n",
      "Call power_recursive(3.0, 5) ... OK\n",
      "Call power_recursive(3.0, 10) ... OK\n",
      "Call power_recursive(3.0, 0) ... OK\n",
      "Call power_recursive(1.1414, 2) ... OK\n",
      "Call power_recursive(1.5, 10) ... OK\n",
      "\n",
      "Well done! You seem to have solved power_recursive!\n"
     ]
    }
   ],
   "source": [
    "# Assertion for assignment 8.4\n",
    "\n",
    "check_assertion(power_recursive)"
   ]
  },
  {
   "cell_type": "markdown",
   "metadata": {
    "deletable": false,
    "editable": false,
    "nbgrader": {
     "cell_type": "markdown",
     "checksum": "f75276451c0dcc383b45918d688c1238",
     "grade": false,
     "grade_id": "assignment-08-05-spacer",
     "locked": true,
     "schema_version": 3,
     "solution": false,
     "task": false
    }
   },
   "source": [
    "<br />\n",
    "<br />\n",
    "<br />\n",
    "<br />"
   ]
  },
  {
   "cell_type": "markdown",
   "metadata": {
    "deletable": false,
    "editable": false,
    "nbgrader": {
     "cell_type": "markdown",
     "checksum": "5a12eca92eb356f7f5545740ac84f56a",
     "grade": false,
     "grade_id": "assignment-08-05-text",
     "locked": true,
     "schema_version": 3,
     "solution": false,
     "task": false
    }
   },
   "source": [
    "# 8.5 Factorial - recursively\n",
    "\n",
    "Create a function `factorial(n)` that takes $n$ and computes $n!$. \n",
    "`factorial(n)` should be a recursive function.\n",
    "\n",
    "Remember that the factorial of a positive integer $n$ is defined to be the product of all integers from $1$ up to and including $n$.\n",
    "\n",
    "## Example input\n",
    "```python\n",
    "10\n",
    "```\n",
    "\n",
    "## Example return value\n",
    "```python\n",
    "3628800\n",
    "```"
   ]
  },
  {
   "cell_type": "code",
   "execution_count": 35,
   "metadata": {
    "deletable": false,
    "nbgrader": {
     "cell_type": "code",
     "checksum": "9307dcb52e9f4603afa010d837488ab2",
     "grade": false,
     "grade_id": "assignment-08-05-code",
     "locked": false,
     "schema_version": 3,
     "solution": true,
     "task": false
    }
   },
   "outputs": [],
   "source": [
    "# Code for assignment 8.5\n",
    "\n",
    "def factorial(n):\n",
    "    if n == 0:\n",
    "        return 1\n",
    "    return n * factorial(n - 1)"
   ]
  },
  {
   "cell_type": "code",
   "execution_count": 36,
   "metadata": {
    "deletable": false,
    "editable": false,
    "nbgrader": {
     "cell_type": "code",
     "checksum": "589eeef81c9adcc8e04bd9fa9aae20fa",
     "grade": false,
     "grade_id": "assignment-08-05-test",
     "locked": true,
     "schema_version": 3,
     "solution": false,
     "task": false
    }
   },
   "outputs": [
    {
     "name": "stdin",
     "output_type": "stream",
     "text": [
      "Please enter integer value n (Press Enter for default value 10):  \n"
     ]
    },
    {
     "name": "stdout",
     "output_type": "stream",
     "text": [
      "\n",
      "The value 10! is:\n",
      "3628800\n"
     ]
    }
   ],
   "source": [
    "# Test cell for assignment 8.5\n",
    "\n",
    "test_cell_8_5(factorial)"
   ]
  },
  {
   "cell_type": "code",
   "execution_count": 37,
   "metadata": {
    "deletable": false,
    "editable": false,
    "nbgrader": {
     "cell_type": "code",
     "checksum": "bb9228dd87312c339facfb6cdc24deaa",
     "grade": true,
     "grade_id": "assignment-08-05-assert",
     "locked": true,
     "points": 1,
     "schema_version": 3,
     "solution": false,
     "task": false
    }
   },
   "outputs": [
    {
     "name": "stdout",
     "output_type": "stream",
     "text": [
      "Call factorial(10) ... OK\n",
      "Call factorial(9) ... OK\n",
      "Call factorial(1) ... OK\n",
      "Call factorial(2) ... OK\n",
      "Call factorial(3) ... OK\n",
      "Call factorial(4) ... OK\n",
      "Call factorial(5) ... OK\n",
      "\n",
      "Well done! You seem to have solved factorial!\n"
     ]
    }
   ],
   "source": [
    "check_assertion(factorial)"
   ]
  },
  {
   "cell_type": "markdown",
   "metadata": {
    "deletable": false,
    "editable": false,
    "nbgrader": {
     "cell_type": "markdown",
     "checksum": "766b36d9969ef47ed8c1bed232ad5353",
     "grade": false,
     "grade_id": "assignment-08-06-spacer",
     "locked": true,
     "schema_version": 3,
     "solution": false,
     "task": false
    }
   },
   "source": [
    "<br />\n",
    "<br />\n",
    "<br />\n",
    "<br />"
   ]
  },
  {
   "cell_type": "markdown",
   "metadata": {
    "deletable": false,
    "editable": false,
    "nbgrader": {
     "cell_type": "markdown",
     "checksum": "9c62f22ad5144647a57810f3a5779567",
     "grade": false,
     "grade_id": "assignment-08-06-text",
     "locked": true,
     "schema_version": 3,
     "solution": false,
     "task": false
    }
   },
   "source": [
    "# 8.6 Fibonacci - recursively\n",
    "\n",
    "Given a non-negative integer $n$, return the $n$th Fibonacci number.  \n",
    "Do this by writing a function `fib(n)` which takes the non-negative integer $n$ and returns the $n$th Fibonacci number.\n",
    "\n",
    "You can look at assignment 6.14 for the definition of the Fibonacci sequence.\n",
    "\n",
    "Don't use loops, try to use recursion instead.\n",
    "\n",
    "## Example input\n",
    "```python\n",
    "6\n",
    "```\n",
    "\n",
    "## Example return value\n",
    "```python\n",
    "8\n",
    "```"
   ]
  },
  {
   "cell_type": "code",
   "execution_count": 38,
   "metadata": {
    "deletable": false,
    "nbgrader": {
     "cell_type": "code",
     "checksum": "bc098fc5fd810a64f3272bde11fdb92d",
     "grade": false,
     "grade_id": "assignment-08-06-code",
     "locked": false,
     "schema_version": 3,
     "solution": true,
     "task": false
    }
   },
   "outputs": [],
   "source": [
    "# Code for assignment 8.6\n",
    "\n",
    "# YOUR CODE HERE\n",
    "def fib(n): \n",
    "    if n == 1 or n == 2:\n",
    "        return 1\n",
    "    \n",
    "    return fib(n-1) + fib(n-2) "
   ]
  },
  {
   "cell_type": "code",
   "execution_count": 39,
   "metadata": {
    "deletable": false,
    "editable": false,
    "nbgrader": {
     "cell_type": "code",
     "checksum": "5d9c1ec01c67f7c4df3183a3b2a477c9",
     "grade": false,
     "grade_id": "assignment-08-06-test",
     "locked": true,
     "schema_version": 3,
     "solution": false,
     "task": false
    }
   },
   "outputs": [
    {
     "name": "stdin",
     "output_type": "stream",
     "text": [
      "Please enter integer value n (max. 35) (Press Enter for default value 6):  \n"
     ]
    },
    {
     "name": "stdout",
     "output_type": "stream",
     "text": [
      "\n",
      "The 6th Fibonacci number is:\n",
      "8\n"
     ]
    }
   ],
   "source": [
    "# Test cell for assignment 8.6\n",
    "\n",
    "test_cell_8_6(fib)"
   ]
  },
  {
   "cell_type": "code",
   "execution_count": 40,
   "metadata": {
    "deletable": false,
    "editable": false,
    "nbgrader": {
     "cell_type": "code",
     "checksum": "5adeb086135221e67dd9cd72baac448e",
     "grade": true,
     "grade_id": "assignment-08-06-assert",
     "locked": true,
     "points": 1,
     "schema_version": 3,
     "solution": false,
     "task": false
    }
   },
   "outputs": [
    {
     "name": "stdout",
     "output_type": "stream",
     "text": [
      "Call fib(6) ... OK\n",
      "Call fib(1) ... OK\n",
      "Call fib(2) ... OK\n",
      "Call fib(3) ... OK\n",
      "Call fib(4) ... OK\n",
      "Call fib(5) ... OK\n",
      "Call fib(7) ... OK\n",
      "Call fib(8) ... OK\n",
      "\n",
      "Well done! You seem to have solved fib!\n"
     ]
    }
   ],
   "source": [
    "# Assertion for assignment 8.6\n",
    "\n",
    "check_assertion(fib)"
   ]
  }
 ],
 "metadata": {
  "kernelspec": {
   "display_name": "Python 3 (ipykernel)",
   "language": "python",
   "name": "python3"
  },
  "language_info": {
   "codemirror_mode": {
    "name": "ipython",
    "version": 3
   },
   "file_extension": ".py",
   "mimetype": "text/x-python",
   "name": "python",
   "nbconvert_exporter": "python",
   "pygments_lexer": "ipython3",
   "version": "3.9.18"
  }
 },
 "nbformat": 4,
 "nbformat_minor": 4
}
