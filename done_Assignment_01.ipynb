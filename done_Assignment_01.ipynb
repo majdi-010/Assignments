{
 "cells": [
  {
   "cell_type": "markdown",
   "metadata": {
    "deletable": false,
    "editable": false,
    "nbgrader": {
     "cell_type": "markdown",
     "checksum": "026442ed6c9fdc66c3e67cc44ee2f757",
     "grade": false,
     "grade_id": "introduction",
     "locked": true,
     "schema_version": 3,
     "solution": false,
     "task": false
    }
   },
   "source": [
    "# 1. Input, print and numbers\n",
    "\n",
    "This Jupyter Notebook contains the [problems, or assignments, for Lesson 1](https://snakify.org/en/lessons/print_input_numbers/problems/), gratefully imported from the online course on [Snakify](https://snakify.org). If you get stuck, you can either ask the teacher and the teaching assistents, or skim through the [theory](https://snakify.org/en/lessons/print_input_numbers/) and [explanation of the steps](https://snakify.org/en/lessons/print_input_numbers/steps/1/) on Snakify."
   ]
  },
  {
   "cell_type": "code",
   "execution_count": 1,
   "metadata": {
    "deletable": false,
    "editable": false,
    "nbgrader": {
     "cell_type": "code",
     "checksum": "3d552f5c4c39249e5750262df758b85c",
     "grade": false,
     "grade_id": "import-assert",
     "locked": true,
     "schema_version": 3,
     "solution": false,
     "task": false
    }
   },
   "outputs": [
    {
     "name": "stdout",
     "output_type": "stream",
     "text": [
      "Assertions imported OK\n",
      "Test cells imported OK\n"
     ]
    }
   ],
   "source": [
    "# Please run the contents of this cell.\n",
    "# Select this cell and press Ctrl-Enter (or Command-Enter on mac).\n",
    "\n",
    "from assertions import *\n",
    "from test_cells import *"
   ]
  },
  {
   "cell_type": "markdown",
   "metadata": {
    "deletable": false,
    "editable": false,
    "nbgrader": {
     "cell_type": "markdown",
     "checksum": "15b8288b8401c8f0b42a467f5a4570b1",
     "grade": false,
     "grade_id": "assignment-01-01-spacer",
     "locked": true,
     "schema_version": 3,
     "solution": false,
     "task": false
    }
   },
   "source": [
    "<br />\n",
    "<br />\n",
    "<br />\n",
    "<br />"
   ]
  },
  {
   "cell_type": "markdown",
   "metadata": {
    "deletable": false,
    "editable": false,
    "nbgrader": {
     "cell_type": "markdown",
     "checksum": "fa1c97da6382f296bdb5432463090819",
     "grade": false,
     "grade_id": "assignment-01-01-text",
     "locked": true,
     "schema_version": 3,
     "solution": false,
     "task": false
    }
   },
   "source": [
    "# 1.1 Sum of three numbers\n",
    "\n",
    "Finalize the function below that has three integer arguments `a`, `b` and `c`, and return their sum.\n",
    "\n",
    "## Example input\n",
    "\n",
    "```python\n",
    "2\n",
    "3\n",
    "6\n",
    "```\n",
    "\n",
    "## Example return value\n",
    "\n",
    "```python\n",
    "11\n",
    "```"
   ]
  },
  {
   "cell_type": "code",
   "execution_count": 1,
   "metadata": {
    "deletable": false,
    "nbgrader": {
     "cell_type": "code",
     "checksum": "7b7e10afa4d136d1a5bdc2326fdaa238",
     "grade": false,
     "grade_id": "assignment-01-01-code",
     "locked": false,
     "schema_version": 3,
     "solution": true,
     "task": false
    }
   },
   "outputs": [],
   "source": [
    "# Code for assignment 1.1\n",
    "\n",
    "def assignment_1_1(a, b, c):\n",
    "    # Hint: add c to \"return a + b\"\n",
    "    \n",
    "    # YOUR CODE HERE\n",
    "    return a + b + c"
   ]
  },
  {
   "cell_type": "code",
   "execution_count": 3,
   "metadata": {
    "deletable": false,
    "editable": false,
    "nbgrader": {
     "cell_type": "code",
     "checksum": "5f23aa6436443348bfed7c7eed3ba07f",
     "grade": false,
     "grade_id": "assignment-01-01-test",
     "locked": true,
     "schema_version": 3,
     "solution": false,
     "task": false
    }
   },
   "outputs": [
    {
     "name": "stdin",
     "output_type": "stream",
     "text": [
      "Please enter integer value 1 (Press Enter for default value 2):  2\n",
      "Please enter integer value 2 (Press Enter for default value 3):  3\n",
      "Please enter integer value 3 (Press Enter for default value 6):  4\n"
     ]
    },
    {
     "name": "stdout",
     "output_type": "stream",
     "text": [
      "\n",
      "The sum of the integers 2, 3 and 4 is:\n",
      "9\n"
     ]
    }
   ],
   "source": [
    "# Test for assignment 1.1\n",
    "\n",
    "test_cell_1_1(assignment_1_1)"
   ]
  },
  {
   "cell_type": "code",
   "execution_count": 4,
   "metadata": {
    "deletable": false,
    "editable": false,
    "nbgrader": {
     "cell_type": "code",
     "checksum": "127eee4d7e3b9d455b7a88092a302a00",
     "grade": true,
     "grade_id": "assignment-01-01-assert",
     "locked": true,
     "points": 1,
     "schema_version": 3,
     "solution": false,
     "task": false
    }
   },
   "outputs": [
    {
     "name": "stdout",
     "output_type": "stream",
     "text": [
      "Call assignment_1_1(2, 3, 6) ... OK\n",
      "Call assignment_1_1(0, 20, 300) ... OK\n",
      "Call assignment_1_1(-5, 180, -17) ... OK\n",
      "\n",
      "Well done! You seem to have solved assignment_1_1!\n"
     ]
    }
   ],
   "source": [
    "# Assertion for assignment 1.1\n",
    "\n",
    "check_assertion(assignment_1_1)"
   ]
  },
  {
   "cell_type": "markdown",
   "metadata": {
    "deletable": false,
    "editable": false,
    "nbgrader": {
     "cell_type": "markdown",
     "checksum": "8f634d43db99e1b5d7f9cab4687f0b12",
     "grade": false,
     "grade_id": "assignment-01-02-spacer",
     "locked": true,
     "schema_version": 3,
     "solution": false,
     "task": false
    }
   },
   "source": [
    "<br />\n",
    "<br />\n",
    "<br />\n",
    "<br />"
   ]
  },
  {
   "cell_type": "markdown",
   "metadata": {
    "deletable": false,
    "editable": false,
    "nbgrader": {
     "cell_type": "markdown",
     "checksum": "60f9553ce69c64719b89aba3e0f9777c",
     "grade": false,
     "grade_id": "assignment-01-02-text",
     "locked": true,
     "schema_version": 3,
     "solution": false,
     "task": false
    }
   },
   "source": [
    "# 1.2 Hi John\n",
    "\n",
    "Finalize the function below that takes 1 string argument `name` in such a way that it returns **\"Hi \"** followed by the name of the person. See the example below.\n",
    "\n",
    "## Example input\n",
    "\n",
    "```python\n",
    "John\n",
    "```\n",
    "\n",
    "## Example return value\n",
    "\n",
    "```python\n",
    "Hi John\n",
    "```"
   ]
  },
  {
   "cell_type": "code",
   "execution_count": 2,
   "metadata": {
    "deletable": false,
    "nbgrader": {
     "cell_type": "code",
     "checksum": "87538fcca0bf8ef1497a41c7254376b6",
     "grade": false,
     "grade_id": "assignment-01-02-code",
     "locked": false,
     "schema_version": 3,
     "solution": true,
     "task": false
    }
   },
   "outputs": [],
   "source": [
    "# Code for assignment 1.2\n",
    "\n",
    "def assignment_1_2(name):\n",
    "    # Hint: Do not forget the space between 'Hi' and name\n",
    "    \n",
    "    # YOUR CODE HERE\n",
    "    return f\"Hi {name}\""
   ]
  },
  {
   "cell_type": "code",
   "execution_count": 7,
   "metadata": {
    "deletable": false,
    "editable": false,
    "nbgrader": {
     "cell_type": "code",
     "checksum": "e9a15a96eefc3a988361e91a96187174",
     "grade": false,
     "grade_id": "assignment-01-02-test",
     "locked": true,
     "schema_version": 3,
     "solution": false,
     "task": false
    }
   },
   "outputs": [
    {
     "name": "stdin",
     "output_type": "stream",
     "text": [
      "Please enter a name (Press Enter for default \"John\"):  Majdi\n"
     ]
    },
    {
     "name": "stdout",
     "output_type": "stream",
     "text": [
      "\n",
      "Hi Majdi\n"
     ]
    }
   ],
   "source": [
    "# Test for assignment 1.2\n",
    "\n",
    "test_cell_1_2(assignment_1_2)"
   ]
  },
  {
   "cell_type": "code",
   "execution_count": 8,
   "metadata": {
    "deletable": false,
    "editable": false,
    "nbgrader": {
     "cell_type": "code",
     "checksum": "5287782425e788d9b8653a06e20d26cf",
     "grade": true,
     "grade_id": "assignment-01-02-assert",
     "locked": true,
     "points": 1,
     "schema_version": 3,
     "solution": false,
     "task": false
    }
   },
   "outputs": [
    {
     "name": "stdout",
     "output_type": "stream",
     "text": [
      "Call assignment_1_2('John') ... OK\n",
      "Call assignment_1_2('Alice') ... OK\n",
      "Call assignment_1_2('Bob') ... OK\n",
      "Call assignment_1_2('Tanner') ... OK\n",
      "Call assignment_1_2('Jake') ... OK\n",
      "\n",
      "Well done! You seem to have solved assignment_1_2!\n"
     ]
    }
   ],
   "source": [
    "# Assertion for assignment 1.2\n",
    "\n",
    "check_assertion(assignment_1_2)"
   ]
  },
  {
   "cell_type": "markdown",
   "metadata": {
    "deletable": false,
    "editable": false,
    "nbgrader": {
     "cell_type": "markdown",
     "checksum": "4f688991850aefbe0472d9f3edbead22",
     "grade": false,
     "grade_id": "assignment-01-03-spacer",
     "locked": true,
     "schema_version": 3,
     "solution": false,
     "task": false
    }
   },
   "source": [
    "<br />\n",
    "<br />\n",
    "<br />\n",
    "<br />"
   ]
  },
  {
   "cell_type": "markdown",
   "metadata": {
    "deletable": false,
    "editable": false,
    "nbgrader": {
     "cell_type": "markdown",
     "checksum": "aaac60c0cb436ac99f063dd27124fe8b",
     "grade": false,
     "grade_id": "assignment-01-03-text",
     "locked": true,
     "schema_version": 3,
     "solution": false,
     "task": false
    }
   },
   "source": [
    "# 1.3 Square\n",
    "\n",
    "Finalize the function below that has 1 integer argument `number` in such a way that it returns the square of `number`.\n",
    "\n",
    "## Example input\n",
    "\n",
    "```python\n",
    "5\n",
    "```\n",
    "\n",
    "## Example return value\n",
    "\n",
    "```python\n",
    "25\n",
    "```"
   ]
  },
  {
   "cell_type": "code",
   "execution_count": 3,
   "metadata": {
    "deletable": false,
    "nbgrader": {
     "cell_type": "code",
     "checksum": "bb2116914266841d9284a836883954ff",
     "grade": false,
     "grade_id": "assignment-01-03-code",
     "locked": false,
     "schema_version": 3,
     "solution": true,
     "task": false
    }
   },
   "outputs": [],
   "source": [
    "# Code for assignment 1.3\n",
    "\n",
    "def assignment_1_3(number):\n",
    "    # YOUR CODE HERE\n",
    "    return number * number"
   ]
  },
  {
   "cell_type": "code",
   "execution_count": 11,
   "metadata": {
    "deletable": false,
    "editable": false,
    "nbgrader": {
     "cell_type": "code",
     "checksum": "a2e51606b2c17783a12e68e92ad1c3aa",
     "grade": false,
     "grade_id": "assignment-01-03-test",
     "locked": true,
     "schema_version": 3,
     "solution": false,
     "task": false
    }
   },
   "outputs": [
    {
     "name": "stdin",
     "output_type": "stream",
     "text": [
      "Please enter an integer to be squared (Press Enter for default value 5):  9\n"
     ]
    },
    {
     "name": "stdout",
     "output_type": "stream",
     "text": [
      "\n",
      "The square of the integer 9 is:\n",
      "81\n"
     ]
    }
   ],
   "source": [
    "# Test for assignment 1.3\n",
    "\n",
    "test_cell_1_3(assignment_1_3)"
   ]
  },
  {
   "cell_type": "code",
   "execution_count": 12,
   "metadata": {
    "deletable": false,
    "editable": false,
    "nbgrader": {
     "cell_type": "code",
     "checksum": "eb9b29a9abbf146e94e94c3ae1f8b739",
     "grade": true,
     "grade_id": "assignment-01-03-assert",
     "locked": true,
     "points": 1,
     "schema_version": 3,
     "solution": false,
     "task": false
    }
   },
   "outputs": [
    {
     "name": "stdout",
     "output_type": "stream",
     "text": [
      "Call assignment_1_3(5) ... OK\n",
      "Call assignment_1_3(6) ... OK\n",
      "Call assignment_1_3(2) ... OK\n",
      "Call assignment_1_3(1) ... OK\n",
      "Call assignment_1_3(10) ... OK\n",
      "Call assignment_1_3(9) ... OK\n",
      "Call assignment_1_3(7) ... OK\n",
      "Call assignment_1_3(200) ... OK\n",
      "\n",
      "Well done! You seem to have solved assignment_1_3!\n"
     ]
    }
   ],
   "source": [
    "# Assertion for assignment 1.3\n",
    "\n",
    "check_assertion(assignment_1_3)"
   ]
  },
  {
   "cell_type": "markdown",
   "metadata": {
    "deletable": false,
    "editable": false,
    "nbgrader": {
     "cell_type": "markdown",
     "checksum": "3fbc27ae5ca126f3867147d7cd4d1c00",
     "grade": false,
     "grade_id": "assignment-01-04-spacer",
     "locked": true,
     "schema_version": 3,
     "solution": false,
     "task": false
    }
   },
   "source": [
    "<br />\n",
    "<br />\n",
    "<br />\n",
    "<br />"
   ]
  },
  {
   "cell_type": "markdown",
   "metadata": {
    "deletable": false,
    "editable": false,
    "nbgrader": {
     "cell_type": "markdown",
     "checksum": "89eb29ea480e417fcec12e08f92d11c7",
     "grade": false,
     "grade_id": "assignment-01-04-text",
     "locked": true,
     "schema_version": 3,
     "solution": false,
     "task": false
    }
   },
   "source": [
    "# 1.4 Area of right-angled triangle\n",
    "\n",
    "Finalize the function below that has two arguments `base` and `height` representing the length of the base and the height of a right-angled triangle and make it return the area. \n",
    "\n",
    "Use formula:\n",
    "\n",
    "```\n",
    "area = 0.5 * base * height\n",
    "```\n",
    "\n",
    "## Example input\n",
    "\n",
    "```python\n",
    "3\n",
    "5\n",
    "```\n",
    "\n",
    "## Example return value\n",
    "\n",
    "```python\n",
    "7.5\n",
    "```"
   ]
  },
  {
   "cell_type": "code",
   "execution_count": 4,
   "metadata": {
    "deletable": false,
    "nbgrader": {
     "cell_type": "code",
     "checksum": "4fe8382fd38515a4da0c82714c5a3830",
     "grade": false,
     "grade_id": "assignment-01-04-code",
     "locked": false,
     "schema_version": 3,
     "solution": true,
     "task": false
    }
   },
   "outputs": [],
   "source": [
    "# Code for assignment 1.4\n",
    "\n",
    "def assignment_1_4(base, height):\n",
    "    # YOUR CODE HERE\n",
    "    return 0.5 * base * height"
   ]
  },
  {
   "cell_type": "code",
   "execution_count": 15,
   "metadata": {
    "deletable": false,
    "editable": false,
    "nbgrader": {
     "cell_type": "code",
     "checksum": "1191d0554938f422d344d7711e8e9ddb",
     "grade": false,
     "grade_id": "assignment-01-04-test",
     "locked": true,
     "schema_version": 3,
     "solution": false,
     "task": false
    }
   },
   "outputs": [
    {
     "name": "stdin",
     "output_type": "stream",
     "text": [
      "Please enter the base (Press Enter for default value 3):  \n",
      "Please enter the height (Press Enter for default value 5):  \n"
     ]
    },
    {
     "name": "stdout",
     "output_type": "stream",
     "text": [
      "\n",
      "The area of a triangle with base 3 and height 5 is:\n",
      "7.5\n"
     ]
    }
   ],
   "source": [
    "# Test for assignment 1.4\n",
    "\n",
    "test_cell_1_4(assignment_1_4)"
   ]
  },
  {
   "cell_type": "code",
   "execution_count": 16,
   "metadata": {
    "deletable": false,
    "editable": false,
    "nbgrader": {
     "cell_type": "code",
     "checksum": "9d592ad2dee010f4a27112f5e27f2a0b",
     "grade": true,
     "grade_id": "assignment-01-04-assert",
     "locked": true,
     "points": 1,
     "schema_version": 3,
     "solution": false,
     "task": false
    }
   },
   "outputs": [
    {
     "name": "stdout",
     "output_type": "stream",
     "text": [
      "Call assignment_1_4(3, 5) ... OK\n",
      "Call assignment_1_4(10, 2) ... OK\n",
      "Call assignment_1_4(179, 1534) ... OK\n",
      "Call assignment_1_4(1543, 57) ... OK\n",
      "\n",
      "Well done! You seem to have solved assignment_1_4!\n"
     ]
    }
   ],
   "source": [
    "# Assertion for assignment 1.4\n",
    "\n",
    "check_assertion(assignment_1_4)"
   ]
  },
  {
   "cell_type": "markdown",
   "metadata": {
    "deletable": false,
    "editable": false,
    "nbgrader": {
     "cell_type": "markdown",
     "checksum": "804867bec0b298b148de3320751a99b7",
     "grade": false,
     "grade_id": "assignment-01-05-spacer",
     "locked": true,
     "schema_version": 3,
     "solution": false,
     "task": false
    }
   },
   "source": [
    "<br />\n",
    "<br />\n",
    "<br />\n",
    "<br />"
   ]
  },
  {
   "cell_type": "markdown",
   "metadata": {
    "deletable": false,
    "editable": false,
    "nbgrader": {
     "cell_type": "markdown",
     "checksum": "94da3b1220bc1e2ef632b893ef47fdd1",
     "grade": false,
     "grade_id": "assignment-01-05-text",
     "locked": true,
     "schema_version": 3,
     "solution": false,
     "task": false
    }
   },
   "source": [
    "# 1.5 Hello, Harry!\n",
    "\n",
    "Finalize the function below that has 1 string argument `name` in such a way that it returns a string combining the word \"Hello\", a comma, the name of the user and an exclamation mark after it. See the examples below.\n",
    "\n",
    "**Warning.** Your program's return value should strictly match the desired one, character by character. There shouldn't be any space between the name and the exclamation mark. You can use `+` operator to concatenate two strings. See the lesson for details.\n",
    "\n",
    "## Example input\n",
    "\n",
    "```python\n",
    "Harry\n",
    "```\n",
    "\n",
    "## Example return value\n",
    "\n",
    "```python\n",
    "Hello, Harry!\n",
    "```"
   ]
  },
  {
   "cell_type": "code",
   "execution_count": 3,
   "metadata": {
    "deletable": false,
    "nbgrader": {
     "cell_type": "code",
     "checksum": "6fb45c9defa17ed0dddf9f960e0ac780",
     "grade": false,
     "grade_id": "assignment-01-05-code",
     "locked": false,
     "schema_version": 3,
     "solution": true,
     "task": false
    }
   },
   "outputs": [],
   "source": [
    "# Code for assignment 1.5\n",
    "\n",
    "def assignment_1_5(name):\n",
    "    # YOUR CODE HERE\n",
    "    return f\"Hello, {name}!\" "
   ]
  },
  {
   "cell_type": "code",
   "execution_count": 4,
   "metadata": {
    "deletable": false,
    "editable": false,
    "nbgrader": {
     "cell_type": "code",
     "checksum": "3a96f79e2d16e2094245aa4ac7abd961",
     "grade": false,
     "grade_id": "assignment-01-05-test",
     "locked": true,
     "schema_version": 3,
     "solution": false,
     "task": false
    }
   },
   "outputs": [
    {
     "name": "stdin",
     "output_type": "stream",
     "text": [
      "Please enter a name (Press Enter for default \"Harry\"):  \n"
     ]
    },
    {
     "name": "stdout",
     "output_type": "stream",
     "text": [
      "\n",
      "Hello, Harry!\n"
     ]
    }
   ],
   "source": [
    "# Test for assignment 1.5\n",
    "\n",
    "test_cell_1_5(assignment_1_5)"
   ]
  },
  {
   "cell_type": "code",
   "execution_count": 5,
   "metadata": {
    "deletable": false,
    "editable": false,
    "nbgrader": {
     "cell_type": "code",
     "checksum": "2c77058baad38b46461036d0012270e8",
     "grade": true,
     "grade_id": "assignment-01-05-assert",
     "locked": true,
     "points": 1,
     "schema_version": 3,
     "solution": false,
     "task": false
    }
   },
   "outputs": [
    {
     "name": "stdout",
     "output_type": "stream",
     "text": [
      "Call assignment_1_5('Harry') ... OK\n",
      "Call assignment_1_5('Mr. Potter') ... OK\n",
      "Call assignment_1_5('Lord Voldemort') ... OK\n",
      "\n",
      "Well done! You seem to have solved assignment_1_5!\n"
     ]
    }
   ],
   "source": [
    "# Assertion for assignment 1.5\n",
    "\n",
    "check_assertion(assignment_1_5)"
   ]
  },
  {
   "cell_type": "markdown",
   "metadata": {
    "deletable": false,
    "editable": false,
    "nbgrader": {
     "cell_type": "markdown",
     "checksum": "54ef51f5813e988e315207d9744b174d",
     "grade": false,
     "grade_id": "assignment-01-06-spacer",
     "locked": true,
     "schema_version": 3,
     "solution": false,
     "task": false
    }
   },
   "source": [
    "<br />\n",
    "<br />\n",
    "<br />\n",
    "<br />"
   ]
  },
  {
   "cell_type": "markdown",
   "metadata": {
    "deletable": false,
    "editable": false,
    "nbgrader": {
     "cell_type": "markdown",
     "checksum": "910f27bf0a05199e9bcefa0f71c54cd4",
     "grade": false,
     "grade_id": "assignment-01-06-text",
     "locked": true,
     "schema_version": 3,
     "solution": false,
     "task": false
    }
   },
   "source": [
    "# 1.6 Apple sharing\n",
    "\n",
    "A number of students (`students`) take a number of apples (`apples`) and distribute them among each other evenly. The remaining (the undivisible) part remains in the basket. How many apples will each single student get? How many apples will remain in the basket?\n",
    "\n",
    "The function below has two integer arguments `students` and `apples`. It should return the two answers for the questions above. You can separate both values following your return statement with a comma, like:\n",
    "```python\n",
    "return a, b\n",
    "```\n",
    "\n",
    "**NB** It will return the values `a` and `b` as a tuple (to be recognized by the parentheses), which is a collection datatype. Collection datatypes will be explained in session 2 of this course.\n",
    "\n",
    "## Example input\n",
    "\n",
    "```python\n",
    "6\n",
    "50\n",
    "```\n",
    "\n",
    "## Example return value\n",
    "\n",
    "```python\n",
    "(8, 2)\n",
    "```"
   ]
  },
  {
   "cell_type": "code",
   "execution_count": 7,
   "metadata": {
    "deletable": false,
    "nbgrader": {
     "cell_type": "code",
     "checksum": "fa61c5858d1cd954a629377b9afea2b4",
     "grade": false,
     "grade_id": "assignment-01-06-code",
     "locked": false,
     "schema_version": 3,
     "solution": true,
     "task": false
    }
   },
   "outputs": [],
   "source": [
    "# Code for assignment 1.6\n",
    "\n",
    "def assignment_1_6(students, apples):\n",
    "    # Hint 1: use integer division with // and remainder with %\n",
    "    # Hint 2: use return a, b to return both \n",
    "    \n",
    "    # YOUR CODE HERE\n",
    "    return (apples // students, apples % students) "
   ]
  },
  {
   "cell_type": "code",
   "execution_count": 89,
   "metadata": {
    "deletable": false,
    "editable": false,
    "nbgrader": {
     "cell_type": "code",
     "checksum": "56f7603fb66873632fe98ef15348979f",
     "grade": false,
     "grade_id": "assignment-01-06-test",
     "locked": true,
     "schema_version": 3,
     "solution": false,
     "task": false
    }
   },
   "outputs": [
    {
     "name": "stdin",
     "output_type": "stream",
     "text": [
      "Please enter number of students (Press Enter for default value 6):  \n",
      "Please enter number of apples (Press Enter for default value 50):  \n"
     ]
    },
    {
     "name": "stdout",
     "output_type": "stream",
     "text": [
      "\n",
      "The number of apples per student, and the number of remaining appels, are:\n",
      "(8, 2)\n"
     ]
    }
   ],
   "source": [
    "# Test for assignment 1.6\n",
    "\n",
    "test_cell_1_6(assignment_1_6)"
   ]
  },
  {
   "cell_type": "code",
   "execution_count": 90,
   "metadata": {
    "deletable": false,
    "editable": false,
    "nbgrader": {
     "cell_type": "code",
     "checksum": "b433d9734566dd9099844e7d564b769f",
     "grade": true,
     "grade_id": "assignment-01-06-assert",
     "locked": true,
     "points": 1,
     "schema_version": 3,
     "solution": false,
     "task": false
    }
   },
   "outputs": [
    {
     "name": "stdout",
     "output_type": "stream",
     "text": [
      "Call assignment_1_6(6, 50) ... OK\n",
      "Call assignment_1_6(1, 10) ... OK\n",
      "Call assignment_1_6(5, 25) ... OK\n",
      "Call assignment_1_6(4, 2) ... OK\n",
      "\n",
      "Well done! You seem to have solved assignment_1_6!\n"
     ]
    }
   ],
   "source": [
    "# Assertion for assignment 1.6\n",
    "\n",
    "check_assertion(assignment_1_6)"
   ]
  },
  {
   "cell_type": "markdown",
   "metadata": {
    "deletable": false,
    "editable": false,
    "nbgrader": {
     "cell_type": "markdown",
     "checksum": "87f0bb84d1d9053b37ebe462738867c6",
     "grade": false,
     "grade_id": "assignment-01-07-spacer",
     "locked": true,
     "schema_version": 3,
     "solution": false,
     "task": false
    }
   },
   "source": [
    "<br />\n",
    "<br />\n",
    "<br />\n",
    "<br />"
   ]
  },
  {
   "cell_type": "markdown",
   "metadata": {
    "deletable": false,
    "editable": false,
    "nbgrader": {
     "cell_type": "markdown",
     "checksum": "6134d798409dec674a8a280c95cda6a2",
     "grade": false,
     "grade_id": "assignment-01-07-text",
     "locked": true,
     "schema_version": 3,
     "solution": false,
     "task": false
    }
   },
   "source": [
    "# 1.7 Previous and next\n",
    "Finalize the function below that has 1 integer argument `number` and make it **print** its previous and next numbers shaped in a nice sentence. See the examples below for the exact format your answers should take. There shouldn't be a space before the period.\n",
    "\n",
    "Remember that you can convert the numbers to strings using the function `str`.\n",
    "\n",
    "**NB** Please note that your function should **print** the strings rather than **return** the values.\n",
    "\n",
    "## Example input\n",
    "\n",
    "```python\n",
    "179\n",
    "```\n",
    "\n",
    "## Example output (**printed**)\n",
    "\n",
    "```python\n",
    "The number before 179 is 178.\n",
    "The number after 179 is 180.\n",
    "```"
   ]
  },
  {
   "cell_type": "code",
   "execution_count": 100,
   "metadata": {
    "deletable": false,
    "nbgrader": {
     "cell_type": "code",
     "checksum": "668f83dbf9b6257234e415da9ec5ef79",
     "grade": false,
     "grade_id": "assignment-01-07-code",
     "locked": false,
     "schema_version": 3,
     "solution": true,
     "task": false
    }
   },
   "outputs": [],
   "source": [
    "# Code for assignment 1.7\n",
    "\n",
    "def assignment_1_7(number):\n",
    "    # YOUR CODE HERE\n",
    "    next_number = number + 1\n",
    "    previous_number = number - 1 \n",
    "    print(f\"The number before {number} is {previous_number}.\")\n",
    "    print(f\"The number after {number} is {next_number}.\")"
   ]
  },
  {
   "cell_type": "code",
   "execution_count": 101,
   "metadata": {
    "deletable": false,
    "editable": false,
    "nbgrader": {
     "cell_type": "code",
     "checksum": "77f4bb1b45c38f765a9d766d716a7b41",
     "grade": false,
     "grade_id": "assignment-01-07-test",
     "locked": true,
     "schema_version": 3,
     "solution": false,
     "task": false
    }
   },
   "outputs": [
    {
     "name": "stdin",
     "output_type": "stream",
     "text": [
      "Please enter an integer value (Press Enter for default value 179):  \n"
     ]
    },
    {
     "name": "stdout",
     "output_type": "stream",
     "text": [
      "\n",
      "The number before 179 is 178.\n",
      "The number after 179 is 180.\n"
     ]
    }
   ],
   "source": [
    "# Test for assignment 1.7\n",
    "\n",
    "test_cell_1_7(assignment_1_7)"
   ]
  },
  {
   "cell_type": "code",
   "execution_count": 102,
   "metadata": {
    "deletable": false,
    "editable": false,
    "nbgrader": {
     "cell_type": "code",
     "checksum": "ba41a36faea800b4822a8a3400b7ba88",
     "grade": true,
     "grade_id": "assignment-01-07-assert",
     "locked": true,
     "points": 1,
     "schema_version": 3,
     "solution": false,
     "task": false
    }
   },
   "outputs": [
    {
     "name": "stdout",
     "output_type": "stream",
     "text": [
      "Call assignment_1_7(179) ... OK\n",
      "Call assignment_1_7(0) ... OK\n",
      "Call assignment_1_7(100) ... OK\n",
      "\n",
      "Well done! You seem to have solved assignment_1_7!\n"
     ]
    }
   ],
   "source": [
    "# Assertion for assignment 1.7\n",
    "\n",
    "check_assertion(assignment_1_7)"
   ]
  },
  {
   "cell_type": "markdown",
   "metadata": {
    "deletable": false,
    "editable": false,
    "nbgrader": {
     "cell_type": "markdown",
     "checksum": "e06ed5e2dd09548b5156fa4dd8d21445",
     "grade": false,
     "grade_id": "assignment-01-08-spacer",
     "locked": true,
     "schema_version": 3,
     "solution": false,
     "task": false
    }
   },
   "source": [
    "<br />\n",
    "<br />\n",
    "<br />\n",
    "<br />"
   ]
  },
  {
   "cell_type": "markdown",
   "metadata": {
    "deletable": false,
    "editable": false,
    "nbgrader": {
     "cell_type": "markdown",
     "checksum": "9585e55fc2ab34d31f490129aa3f519e",
     "grade": false,
     "grade_id": "assignment-01-08-text",
     "locked": true,
     "schema_version": 3,
     "solution": false,
     "task": false
    }
   },
   "source": [
    "# 1.8 Two timestamps\n",
    "\n",
    "A timestamp is three numbers: a number of hours, minutes and seconds. Given two timestamps, calculate how many seconds is between them and return that value. The moment of the first timestamp occurred before the moment of the second timestamp.\n",
    "\n",
    "## Example input\n",
    "\n",
    "```python\n",
    "1\n",
    "1\n",
    "1\n",
    "2\n",
    "2\n",
    "2\n",
    "```\n",
    "\n",
    "## Example return value\n",
    "\n",
    "```python\n",
    "3661\n",
    "```"
   ]
  },
  {
   "cell_type": "code",
   "execution_count": 8,
   "metadata": {
    "deletable": false,
    "nbgrader": {
     "cell_type": "code",
     "checksum": "b81a9a77a8dfff284d0b3f3db69872a0",
     "grade": false,
     "grade_id": "assignment-01-08-code",
     "locked": false,
     "schema_version": 3,
     "solution": true,
     "task": false
    }
   },
   "outputs": [],
   "source": [
    "# Code for assignment 1.8\n",
    "\n",
    "def assignment_1_8(hour1, minute1, second1, hour2, minute2, second2):\n",
    "    # Hint: convert both h1:m1:s1 and h2:m2:s2 to seconds and calculate the difference\n",
    "    # YOUR CODE HERE\n",
    "    return (hour2 * 3600 + minute2 * 60 + second2) - (hour1 * 3600 + minute1 * 60 + second1)"
   ]
  },
  {
   "cell_type": "code",
   "execution_count": 82,
   "metadata": {
    "deletable": false,
    "editable": false,
    "nbgrader": {
     "cell_type": "code",
     "checksum": "62a6daf3aa18da62c0785145dc4c77e5",
     "grade": false,
     "grade_id": "assignment-01-08-test",
     "locked": true,
     "schema_version": 3,
     "solution": false,
     "task": false
    }
   },
   "outputs": [
    {
     "name": "stdin",
     "output_type": "stream",
     "text": [
      "Please enter hours for time 1 (Press Enter for default value 1):  \n",
      "Please enter minutes for time 1 (Press Enter for default value 1):  \n",
      "Please enter seconds for time 1 (Press Enter for default value 1):  \n",
      "Please enter hours for time 2 (Press Enter for default value 2):  \n",
      "Please enter minutes for time 2 (Press Enter for default value 2):  \n",
      "Please enter seconds for time 2 (Press Enter for default value 2):  \n"
     ]
    },
    {
     "name": "stdout",
     "output_type": "stream",
     "text": [
      "\n",
      "The difference, in seconds, between 01:01:01 and 02:02:02 is:\n",
      "3661\n"
     ]
    }
   ],
   "source": [
    "# Test for assignment 1.8\n",
    "\n",
    "test_cell_1_8(assignment_1_8)"
   ]
  },
  {
   "cell_type": "code",
   "execution_count": 83,
   "metadata": {
    "deletable": false,
    "editable": false,
    "nbgrader": {
     "cell_type": "code",
     "checksum": "ce6b364d5adf61e658ef7d84842411e0",
     "grade": true,
     "grade_id": "assignment-01-08-assert",
     "locked": true,
     "points": 1,
     "schema_version": 3,
     "solution": false,
     "task": false
    }
   },
   "outputs": [
    {
     "name": "stdout",
     "output_type": "stream",
     "text": [
      "Call assignment_1_8(1, 1, 1, 2, 2, 2) ... OK\n",
      "Call assignment_1_8(6, 1, 30, 6, 2, 10) ... OK\n",
      "Call assignment_1_8(10, 8, 2, 10, 8, 2) ... OK\n",
      "Call assignment_1_8(2, 3, 4, 4, 7, 28) ... OK\n",
      "Call assignment_1_8(5, 50, 48, 10, 20, 35) ... OK\n",
      "Call assignment_1_8(1, 15, 39, 6, 15, 39) ... OK\n",
      "Call assignment_1_8(11, 7, 29, 11, 30, 29) ... OK\n",
      "Call assignment_1_8(5, 34, 4, 5, 34, 50) ... OK\n",
      "Call assignment_1_8(4, 19, 21, 7, 39, 45) ... OK\n",
      "\n",
      "Well done! You seem to have solved assignment_1_8!\n"
     ]
    }
   ],
   "source": [
    "# Assertion for assignment 1.8\n",
    "\n",
    "check_assertion(assignment_1_8)"
   ]
  },
  {
   "cell_type": "markdown",
   "metadata": {
    "deletable": false,
    "editable": false,
    "nbgrader": {
     "cell_type": "markdown",
     "checksum": "49560d640142328bab39a5b237d1b618",
     "grade": false,
     "grade_id": "assignment-01-09-spacer",
     "locked": true,
     "schema_version": 3,
     "solution": false,
     "task": false
    }
   },
   "source": [
    "<br />\n",
    "<br />\n",
    "<br />\n",
    "<br />"
   ]
  },
  {
   "cell_type": "markdown",
   "metadata": {
    "deletable": false,
    "editable": false,
    "nbgrader": {
     "cell_type": "markdown",
     "checksum": "d43af98b239e47fc0a132945d6de5253",
     "grade": false,
     "grade_id": "assignment-01-09-text",
     "locked": true,
     "schema_version": 3,
     "solution": false,
     "task": false
    }
   },
   "source": [
    "# 1.9 School desks\n",
    "\n",
    "A school decided to replace the desks in three classrooms. Each desk sits two students. Given the number of students in each class, return the smallest possible number of desks that can be purchased.\n",
    "\n",
    "The function below uses three integer argumentes: the number of students in each of the three classes, `students_a`, `students_b` and `students_c` respectively.\n",
    "\n",
    "In the example below there are three groups. The first group has 20 students and thus needs 10 desks. The second group has 21 students, so they can get by with no fewer than 11 desks. 11 desks is also enough for the third group of 22 students. So we need 32 desks in total.\n",
    "\n",
    "## Example input\n",
    "\n",
    "```python\n",
    "20\n",
    "21\n",
    "22\n",
    "```\n",
    "\n",
    "## Example return value\n",
    "\n",
    "```python\n",
    "32\n",
    "```"
   ]
  },
  {
   "cell_type": "code",
   "execution_count": 9,
   "metadata": {
    "deletable": false,
    "nbgrader": {
     "cell_type": "code",
     "checksum": "7dac31a9037a2ac055337564d5bbfa7c",
     "grade": false,
     "grade_id": "assignment-01-09-code",
     "locked": false,
     "schema_version": 3,
     "solution": true,
     "task": false
    }
   },
   "outputs": [],
   "source": [
    "# Code for assignment 1.9\n",
    "\n",
    "def assignment_1_9(students_a, students_b, students_c):\n",
    "    # Hint: use integer division with // and remainder with %\n",
    "    \n",
    "    # YOUR CODE HERE\n",
    "    return (students_a // 2 + students_a % 2) + (students_b // 2 + students_b % 2) + (students_c // 2 + students_c % 2) "
   ]
  },
  {
   "cell_type": "code",
   "execution_count": 79,
   "metadata": {
    "deletable": false,
    "editable": false,
    "nbgrader": {
     "cell_type": "code",
     "checksum": "2f8ec9bd42e645e4c415807608c25078",
     "grade": false,
     "grade_id": "assignment-01-09-test",
     "locked": true,
     "schema_version": 3,
     "solution": false,
     "task": false
    }
   },
   "outputs": [
    {
     "name": "stdin",
     "output_type": "stream",
     "text": [
      "Please enter number of students in class A (Press Enter for default value 20):  \n",
      "Please enter number of students in class B (Press Enter for default value 21):  \n",
      "Please enter number of students in class C (Press Enter for default value 22):  \n"
     ]
    },
    {
     "name": "stdout",
     "output_type": "stream",
     "text": [
      "\n",
      "The total number of desks needed is:\n",
      "32\n"
     ]
    }
   ],
   "source": [
    "# Test for assignment 1.9\n",
    "\n",
    "test_cell_1_9(assignment_1_9)"
   ]
  },
  {
   "cell_type": "code",
   "execution_count": 80,
   "metadata": {
    "deletable": false,
    "editable": false,
    "nbgrader": {
     "cell_type": "code",
     "checksum": "ffc32d03d5c823bb3525b7005f07b3e1",
     "grade": true,
     "grade_id": "assignment-01-09-assert",
     "locked": true,
     "points": 1,
     "schema_version": 3,
     "solution": false,
     "task": false
    }
   },
   "outputs": [
    {
     "name": "stdout",
     "output_type": "stream",
     "text": [
      "Call assignment_1_9(20, 21, 22) ... OK\n",
      "Call assignment_1_9(1, 1, 1) ... OK\n",
      "Call assignment_1_9(26, 20, 16) ... OK\n",
      "Call assignment_1_9(25, 21, 23) ... OK\n",
      "Call assignment_1_9(17, 19, 18) ... OK\n",
      "\n",
      "Well done! You seem to have solved assignment_1_9!\n"
     ]
    }
   ],
   "source": [
    "# Assertion for assignment 1.9\n",
    "\n",
    "check_assertion(assignment_1_9)"
   ]
  }
 ],
 "metadata": {
  "kernelspec": {
   "display_name": "Python 3 (ipykernel)",
   "language": "python",
   "name": "python3"
  },
  "language_info": {
   "codemirror_mode": {
    "name": "ipython",
    "version": 3
   },
   "file_extension": ".py",
   "mimetype": "text/x-python",
   "name": "python",
   "nbconvert_exporter": "python",
   "pygments_lexer": "ipython3",
   "version": "3.9.18"
  }
 },
 "nbformat": 4,
 "nbformat_minor": 4
}
