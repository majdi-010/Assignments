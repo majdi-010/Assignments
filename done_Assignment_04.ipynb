{
 "cells": [
  {
   "cell_type": "markdown",
   "metadata": {
    "deletable": false,
    "editable": false,
    "nbgrader": {
     "cell_type": "markdown",
     "checksum": "eefedbeb952facd8d39da578cb4ea277",
     "grade": false,
     "grade_id": "introduction",
     "locked": true,
     "schema_version": 3,
     "solution": false,
     "task": false
    }
   },
   "source": [
    "# 4. For loop with range\n",
    "\n",
    "This Jupyter Notebook contains the [problems, or assignments, for Lesson 4](https://snakify.org/en/lessons/for_loop_range/problems/), gratefully imported from the online course on [Snakify](https://snakify.org). If you get stuck, you can either ask the teacher and the teaching assistents, or skim through the [theory](https://snakify.org/en/lessons/for_loop_range) and [explanation of the steps](https://snakify.org/en/lessons/for_loop_range/steps/1/) on Snakify."
   ]
  },
  {
   "cell_type": "code",
   "execution_count": 71,
   "metadata": {
    "deletable": false,
    "editable": false,
    "nbgrader": {
     "cell_type": "code",
     "checksum": "3d552f5c4c39249e5750262df758b85c",
     "grade": false,
     "grade_id": "import-assert",
     "locked": true,
     "schema_version": 3,
     "solution": false,
     "task": false
    }
   },
   "outputs": [],
   "source": [
    "# Please run the contents of this cell.\n",
    "# Select this cell and press Ctrl-Enter (or Command-Enter on mac).\n",
    "\n",
    "from assertions import *\n",
    "from test_cells import *"
   ]
  },
  {
   "cell_type": "markdown",
   "metadata": {
    "deletable": false,
    "editable": false,
    "nbgrader": {
     "cell_type": "markdown",
     "checksum": "5c9513f794905a528943be364e292472",
     "grade": false,
     "grade_id": "assignment-04-01-spacer",
     "locked": true,
     "schema_version": 3,
     "solution": false,
     "task": false
    }
   },
   "source": [
    "<br />\n",
    "<br />\n",
    "<br />\n",
    "<br />"
   ]
  },
  {
   "cell_type": "markdown",
   "metadata": {
    "deletable": false,
    "editable": false,
    "nbgrader": {
     "cell_type": "markdown",
     "checksum": "26f7501d6eea4b238bb20a36008e885b",
     "grade": false,
     "grade_id": "assignment-04-01-text",
     "locked": true,
     "schema_version": 3,
     "solution": false,
     "task": false
    }
   },
   "source": [
    "# 4.1 Series - 1\n",
    "\n",
    "Given two integers `start` and `end` (`start` ≤ `end`). Return a list `result` that contains all numbers from `start` to `end`, including `start` and `end` themselves.\n",
    "\n",
    "## Example input\n",
    "\n",
    "```python\n",
    "1\n",
    "10\n",
    "```\n",
    "\n",
    "## Example return value\n",
    "\n",
    "```python\n",
    "[1, 2, 3, 4, 5, 6, 7, 8, 9, 10]\n",
    "```"
   ]
  },
  {
   "cell_type": "code",
   "execution_count": 4,
   "metadata": {
    "deletable": false,
    "nbgrader": {
     "cell_type": "code",
     "checksum": "9d33f4bb208f85f046ebdfc481470a49",
     "grade": false,
     "grade_id": "assignment-04-01-code",
     "locked": false,
     "schema_version": 3,
     "solution": true,
     "task": false
    }
   },
   "outputs": [],
   "source": [
    "# Code for assignment 4.1\n",
    "\n",
    "def assignment_4_1(start, end):\n",
    "    list = []\n",
    "    for i in range(start, end + 1):\n",
    "        list.append(i) \n",
    "    return list \n",
    "        "
   ]
  },
  {
   "cell_type": "code",
   "execution_count": 5,
   "metadata": {
    "deletable": false,
    "editable": false,
    "nbgrader": {
     "cell_type": "code",
     "checksum": "f0a8f3b05b3863dd7b0f851d00df9645",
     "grade": false,
     "grade_id": "assignment-04-01-test",
     "locked": true,
     "schema_version": 3,
     "solution": false,
     "task": false
    }
   },
   "outputs": [
    {
     "name": "stdin",
     "output_type": "stream",
     "text": [
      "Please enter value for start (Press Enter for default value 1):  \n",
      "Please enter value for end (Press Enter for default value 10):  \n"
     ]
    },
    {
     "name": "stdout",
     "output_type": "stream",
     "text": [
      "\n",
      "The list with all numbers from 1 to 10 (inclusive) is: \n",
      "[1, 2, 3, 4, 5, 6, 7, 8, 9, 10]\n"
     ]
    }
   ],
   "source": [
    "# Test for assignment 4.1\n",
    "\n",
    "test_cell_4_1(assignment_4_1)"
   ]
  },
  {
   "cell_type": "code",
   "execution_count": 6,
   "metadata": {
    "deletable": false,
    "editable": false,
    "nbgrader": {
     "cell_type": "code",
     "checksum": "0d86b4b9f30a29ed798e70dcd1467dbb",
     "grade": true,
     "grade_id": "assignment-04-01-assert",
     "locked": true,
     "points": 1,
     "schema_version": 3,
     "solution": false,
     "task": false
    }
   },
   "outputs": [
    {
     "name": "stdout",
     "output_type": "stream",
     "text": [
      "Call assignment_4_1(1, 10) ... OK\n",
      "Call assignment_4_1(-3, 14) ... OK\n",
      "Call assignment_4_1(0, 0) ... OK\n",
      "Call assignment_4_1(20, 20) ... OK\n",
      "\n",
      "Well done! You seem to have solved assignment_4_1!\n"
     ]
    }
   ],
   "source": [
    "# Assertion for assignment 4.1\n",
    "\n",
    "check_assertion(assignment_4_1)"
   ]
  },
  {
   "cell_type": "markdown",
   "metadata": {
    "deletable": false,
    "editable": false,
    "nbgrader": {
     "cell_type": "markdown",
     "checksum": "24f00c8ffd7eb81a144b48643d79d341",
     "grade": false,
     "grade_id": "assignment-04-02-spacer",
     "locked": true,
     "schema_version": 3,
     "solution": false,
     "task": false
    }
   },
   "source": [
    "<br />\n",
    "<br />\n",
    "<br />\n",
    "<br />"
   ]
  },
  {
   "cell_type": "markdown",
   "metadata": {
    "deletable": false,
    "editable": false,
    "nbgrader": {
     "cell_type": "markdown",
     "checksum": "e1400302227dff37a8fec93d26098599",
     "grade": false,
     "grade_id": "assignment-04-02-text",
     "locked": true,
     "schema_version": 3,
     "solution": false,
     "task": false
    }
   },
   "source": [
    "# 4.2 Series - 2\n",
    "\n",
    "Given two integers `start` and `end`. Create a list `result` that contains all numbers from `start` to `end` in ascending order, if `start` < `end`, or in descending order, if `start` ≥ `end`. The range should include both `start` and `end`. Return `result` at the end of your function.\n",
    "\n",
    "## Example input\n",
    "\n",
    "```python\n",
    "10\n",
    "1\n",
    "```\n",
    "\n",
    "## Example return value\n",
    "\n",
    "```python\n",
    "[10, 9, 8, 7, 6, 5, 4, 3, 2, 1]\n",
    "```"
   ]
  },
  {
   "cell_type": "code",
   "execution_count": 16,
   "metadata": {
    "deletable": false,
    "nbgrader": {
     "cell_type": "code",
     "checksum": "fc9844ace8df2721b61b8c7411e6ff03",
     "grade": false,
     "grade_id": "assignment-04-02-code",
     "locked": false,
     "schema_version": 3,
     "solution": true,
     "task": false
    }
   },
   "outputs": [],
   "source": [
    "# Code for assignment 4.2\n",
    "\n",
    "def assignment_4_2(start, end):\n",
    "    list = [] \n",
    "    if start < end:\n",
    "        for i in range(start, end + 1): \n",
    "            list.append(i)\n",
    "    else: \n",
    "        for i in range (start, end - 1, -1):\n",
    "            list.append(i) \n",
    "    return list"
   ]
  },
  {
   "cell_type": "code",
   "execution_count": 17,
   "metadata": {
    "deletable": false,
    "editable": false,
    "nbgrader": {
     "cell_type": "code",
     "checksum": "76999b98014a31b63cc91886c0b660ab",
     "grade": false,
     "grade_id": "assignment-04-02-test",
     "locked": true,
     "schema_version": 3,
     "solution": false,
     "task": false
    }
   },
   "outputs": [
    {
     "name": "stdin",
     "output_type": "stream",
     "text": [
      "Please enter value for start (Press Enter for default value 10):  \n",
      "Please enter value for end (Press Enter for default value 1):  \n"
     ]
    },
    {
     "name": "stdout",
     "output_type": "stream",
     "text": [
      "\n",
      "The list with all numbers from 10 to 1 (inclusive) are: \n",
      "[10, 9, 8, 7, 6, 5, 4, 3, 2, 1]\n"
     ]
    }
   ],
   "source": [
    "# Test for assignment 4.2\n",
    "\n",
    "test_cell_4_2(assignment_4_2)"
   ]
  },
  {
   "cell_type": "code",
   "execution_count": 18,
   "metadata": {
    "deletable": false,
    "editable": false,
    "nbgrader": {
     "cell_type": "code",
     "checksum": "1fbea2531813909b2856a6c9e3839e3b",
     "grade": true,
     "grade_id": "assignment-04-02-assert",
     "locked": true,
     "points": 1,
     "schema_version": 3,
     "solution": false,
     "task": false
    }
   },
   "outputs": [
    {
     "name": "stdout",
     "output_type": "stream",
     "text": [
      "Call assignment_4_2(1, 10) ... OK\n",
      "Call assignment_4_2(10, 1) ... OK\n",
      "Call assignment_4_2(179, 179) ... OK\n",
      "Call assignment_4_2(-14, 7) ... OK\n",
      "Call assignment_4_2(12, -5) ... OK\n",
      "Call assignment_4_2(-3, -7) ... OK\n",
      "\n",
      "Well done! You seem to have solved assignment_4_2!\n"
     ]
    }
   ],
   "source": [
    "# Assertion for assignment 4.2\n",
    "\n",
    "check_assertion(assignment_4_2)"
   ]
  },
  {
   "cell_type": "markdown",
   "metadata": {
    "deletable": false,
    "editable": false,
    "nbgrader": {
     "cell_type": "markdown",
     "checksum": "caa69a51bf18783d53bb1290e7739790",
     "grade": false,
     "grade_id": "assignment-04-03-spacer",
     "locked": true,
     "schema_version": 3,
     "solution": false,
     "task": false
    }
   },
   "source": [
    "<br />\n",
    "<br />\n",
    "<br />\n",
    "<br />"
   ]
  },
  {
   "cell_type": "markdown",
   "metadata": {
    "deletable": false,
    "editable": false,
    "nbgrader": {
     "cell_type": "markdown",
     "checksum": "2ec54699b4189ba5467201f6107fc9ec",
     "grade": false,
     "grade_id": "assignment-04-03-text",
     "locked": true,
     "schema_version": 3,
     "solution": false,
     "task": false
    }
   },
   "source": [
    "# 4.3 Sum of ten numbers\n",
    "\n",
    "The starting number `start` of a range is given. Return the sum of the 10 numbers in the range:\n",
    "\n",
    "`start`, `start + 1`, ... , `start + 9`. \n",
    "\n",
    "## Example input\n",
    "\n",
    "```python\n",
    "0\n",
    "```\n",
    "\n",
    "## Example return value\n",
    "\n",
    "```python\n",
    "45\n",
    "```"
   ]
  },
  {
   "cell_type": "code",
   "execution_count": 34,
   "metadata": {
    "deletable": false,
    "nbgrader": {
     "cell_type": "code",
     "checksum": "86c7dea961df7411f6d4289a61887efd",
     "grade": false,
     "grade_id": "assignment-04-03-code",
     "locked": false,
     "schema_version": 3,
     "solution": true,
     "task": false
    }
   },
   "outputs": [],
   "source": [
    "# Code for assignment 4.3\n",
    "\n",
    "def assignment_4_3(start):\n",
    "    return int((10*(2 * start + 9))/2)"
   ]
  },
  {
   "cell_type": "code",
   "execution_count": 35,
   "metadata": {},
   "outputs": [
    {
     "name": "stdin",
     "output_type": "stream",
     "text": [
      "Please enter start number of the range (Press Enter for default value 0):  \n"
     ]
    },
    {
     "name": "stdout",
     "output_type": "stream",
     "text": [
      "\n",
      "The sum of 0 and the 9 following numbers is:\n",
      "45\n"
     ]
    }
   ],
   "source": [
    "# Test for assignment 4.3\n",
    "\n",
    "test_cell_4_3(assignment_4_3)"
   ]
  },
  {
   "cell_type": "code",
   "execution_count": 36,
   "metadata": {
    "deletable": false,
    "editable": false,
    "nbgrader": {
     "cell_type": "code",
     "checksum": "3dff86dbcc71795d7f7fc14286bbdd92",
     "grade": true,
     "grade_id": "assignment-04-03-assert",
     "locked": true,
     "points": 1,
     "schema_version": 3,
     "solution": false,
     "task": false
    }
   },
   "outputs": [
    {
     "name": "stdout",
     "output_type": "stream",
     "text": [
      "Call assignment_4_3(0) ... OK\n",
      "Call assignment_4_3(3) ... OK\n",
      "Call assignment_4_3(-8) ... OK\n",
      "Call assignment_4_3(203) ... OK\n",
      "\n",
      "Well done! You seem to have solved assignment_4_3!\n"
     ]
    }
   ],
   "source": [
    "# Assertion for assignment 4.3\n",
    "\n",
    "check_assertion(assignment_4_3)"
   ]
  },
  {
   "cell_type": "markdown",
   "metadata": {
    "deletable": false,
    "editable": false,
    "nbgrader": {
     "cell_type": "markdown",
     "checksum": "09083103af24780011c4316a8cbb1b52",
     "grade": false,
     "grade_id": "assignment-04-04-spacer",
     "locked": true,
     "schema_version": 3,
     "solution": false,
     "task": false
    }
   },
   "source": [
    "<br />\n",
    "<br />\n",
    "<br />\n",
    "<br />"
   ]
  },
  {
   "cell_type": "markdown",
   "metadata": {
    "deletable": false,
    "editable": false,
    "nbgrader": {
     "cell_type": "markdown",
     "checksum": "e937ee1a8d7feaf2063f0192b9ca3137",
     "grade": false,
     "grade_id": "assignment-04-04-text",
     "locked": true,
     "schema_version": 3,
     "solution": false,
     "task": false
    }
   },
   "source": [
    "# 4.4 Sum of N numbers\n",
    "\n",
    "The starting number `start` of a range is given, together with `number`, the number of numbers in the sum. Return the sum of the `number` numbers in the range `start`, `start + 1`, ... , `start + (number - 1)`.\n",
    "\n",
    "## Example input\n",
    "\n",
    "```python\n",
    "0\n",
    "10\n",
    "```\n",
    "\n",
    "## Example return value\n",
    "\n",
    "```python\n",
    "45\n",
    "```"
   ]
  },
  {
   "cell_type": "code",
   "execution_count": 49,
   "metadata": {
    "deletable": false,
    "nbgrader": {
     "cell_type": "code",
     "checksum": "07fbbe1cb4225a0cdcb24d511ee3061c",
     "grade": false,
     "grade_id": "assignment-04-04-code",
     "locked": false,
     "schema_version": 3,
     "solution": true,
     "task": false
    }
   },
   "outputs": [],
   "source": [
    "# Code for assignment 4.4\n",
    "\n",
    "def assignment_4_4(start, number):\n",
    "    return int((number*(2 * start + (number-1)))/2)"
   ]
  },
  {
   "cell_type": "code",
   "execution_count": 50,
   "metadata": {
    "deletable": false,
    "editable": false,
    "nbgrader": {
     "cell_type": "code",
     "checksum": "c47afba6cfb96963bcd2475b1f12965e",
     "grade": false,
     "grade_id": "assignment-04-04-test",
     "locked": true,
     "schema_version": 3,
     "solution": false,
     "task": false
    }
   },
   "outputs": [
    {
     "name": "stdin",
     "output_type": "stream",
     "text": [
      "Please enter the start number of the range (start) (Press Enter for default value 0):  \n",
      "Please enter the number of numbers in the range (number) (Press Enter for default value 10):  \n"
     ]
    },
    {
     "name": "stdout",
     "output_type": "stream",
     "text": [
      "\n",
      "The sum of 0 and the 9 following numbers is:\n",
      "45\n"
     ]
    }
   ],
   "source": [
    "# Test for assignment 4.4\n",
    "\n",
    "test_cell_4_4(assignment_4_4)"
   ]
  },
  {
   "cell_type": "code",
   "execution_count": 51,
   "metadata": {
    "deletable": false,
    "editable": false,
    "nbgrader": {
     "cell_type": "code",
     "checksum": "57f1ab5d176bc52f0662b94bd019e90d",
     "grade": true,
     "grade_id": "assignment-04-04-assert",
     "locked": true,
     "points": 1,
     "schema_version": 3,
     "solution": false,
     "task": false
    }
   },
   "outputs": [
    {
     "name": "stdout",
     "output_type": "stream",
     "text": [
      "Call assignment_4_4(0, 10) ... OK\n",
      "Call assignment_4_4(10, 20) ... OK\n",
      "Call assignment_4_4(-12, 80) ... OK\n",
      "Call assignment_4_4(390, 15) ... OK\n",
      "Call assignment_4_4(12, 1) ... OK\n",
      "\n",
      "Well done! You seem to have solved assignment_4_4!\n"
     ]
    }
   ],
   "source": [
    "# Assertion for assignment 4.4\n",
    "\n",
    "check_assertion(assignment_4_4)"
   ]
  },
  {
   "cell_type": "markdown",
   "metadata": {
    "deletable": false,
    "editable": false,
    "nbgrader": {
     "cell_type": "markdown",
     "checksum": "65e84beef12815f3ed5b42abd0bd99c1",
     "grade": false,
     "grade_id": "assignment-04-05-spacer",
     "locked": true,
     "schema_version": 3,
     "solution": false,
     "task": false
    }
   },
   "source": [
    "<br />\n",
    "<br />\n",
    "<br />\n",
    "<br />"
   ]
  },
  {
   "cell_type": "markdown",
   "metadata": {
    "deletable": false,
    "editable": false,
    "nbgrader": {
     "cell_type": "markdown",
     "checksum": "1b1cea9df366616345214066b2c9bf8f",
     "grade": false,
     "grade_id": "assignment-04-05-text",
     "locked": true,
     "schema_version": 3,
     "solution": false,
     "task": false
    }
   },
   "source": [
    "# 4.5 Sum of cubes\n",
    "\n",
    "For the given integer $n$ calculate the following sum:\n",
    "\n",
    "${1}^{3} + {2}^{3} + \\cdots + {n}^{3}$\n",
    "\n",
    "## Example input\n",
    "\n",
    "```python\n",
    "3\n",
    "```\n",
    "\n",
    "## Example return value\n",
    "\n",
    "```python\n",
    "36\n",
    "```"
   ]
  },
  {
   "cell_type": "code",
   "execution_count": 59,
   "metadata": {
    "deletable": false,
    "nbgrader": {
     "cell_type": "code",
     "checksum": "dc27257351824ed665ebbb348740f354",
     "grade": false,
     "grade_id": "assignment-04-05-code",
     "locked": false,
     "schema_version": 3,
     "solution": true,
     "task": false
    }
   },
   "outputs": [],
   "source": [
    "# Code for assignment 4.5\n",
    "\n",
    "def assignment_4_5(n):\n",
    "    sum = 0\n",
    "    for i in range(n+1): \n",
    "        sum += i**3 \n",
    "    return sum \n",
    "        "
   ]
  },
  {
   "cell_type": "code",
   "execution_count": 60,
   "metadata": {
    "deletable": false,
    "editable": false,
    "nbgrader": {
     "cell_type": "code",
     "checksum": "c07cf594f50f0b1f25ad7f51357f721c",
     "grade": false,
     "grade_id": "assignment-04-05-test",
     "locked": true,
     "schema_version": 3,
     "solution": false,
     "task": false
    }
   },
   "outputs": [
    {
     "name": "stdin",
     "output_type": "stream",
     "text": [
      "Please enter the value for n (Press Enter for default value 3):  \n"
     ]
    },
    {
     "name": "stdout",
     "output_type": "stream",
     "text": [
      "\n",
      "The total sum for the cubes from 1 to 3 is: \n",
      "36\n"
     ]
    }
   ],
   "source": [
    "# Test for assignment 4.5\n",
    "\n",
    "test_cell_4_5(assignment_4_5)"
   ]
  },
  {
   "cell_type": "code",
   "execution_count": 61,
   "metadata": {
    "deletable": false,
    "editable": false,
    "nbgrader": {
     "cell_type": "code",
     "checksum": "a27f418ed2d073274ef8a77133854713",
     "grade": true,
     "grade_id": "assignment-04-05-assert",
     "locked": true,
     "points": 1,
     "schema_version": 3,
     "solution": false,
     "task": false
    }
   },
   "outputs": [
    {
     "name": "stdout",
     "output_type": "stream",
     "text": [
      "Call assignment_4_5(3) ... OK\n",
      "Call assignment_4_5(1) ... OK\n",
      "Call assignment_4_5(2) ... OK\n",
      "Call assignment_4_5(4) ... OK\n",
      "Call assignment_4_5(5) ... OK\n",
      "Call assignment_4_5(6) ... OK\n",
      "Call assignment_4_5(7) ... OK\n",
      "Call assignment_4_5(8) ... OK\n",
      "Call assignment_4_5(9) ... OK\n",
      "Call assignment_4_5(20) ... OK\n",
      "Call assignment_4_5(30) ... OK\n",
      "\n",
      "Well done! You seem to have solved assignment_4_5!\n"
     ]
    }
   ],
   "source": [
    "# Assertion for assignment 4.5\n",
    "\n",
    "check_assertion(assignment_4_5)"
   ]
  },
  {
   "cell_type": "markdown",
   "metadata": {
    "deletable": false,
    "editable": false,
    "nbgrader": {
     "cell_type": "markdown",
     "checksum": "b12379e50e59671f488000ebc7cee6d5",
     "grade": false,
     "grade_id": "assignment-04-06-spacer",
     "locked": true,
     "schema_version": 3,
     "solution": false,
     "task": false
    }
   },
   "source": [
    "<br />\n",
    "<br />\n",
    "<br />\n",
    "<br />"
   ]
  },
  {
   "cell_type": "markdown",
   "metadata": {
    "deletable": false,
    "editable": false,
    "nbgrader": {
     "cell_type": "markdown",
     "checksum": "c2dcb461f30241e1317cd96cda4d85c8",
     "grade": false,
     "grade_id": "assignment-04-06-text",
     "locked": true,
     "schema_version": 3,
     "solution": false,
     "task": false
    }
   },
   "source": [
    "# 4.6 Factorial\n",
    "\n",
    "In mathematics, the factorial of a positive integer $n$, denoted by $n!$ is the following product:\n",
    "\n",
    "$n! = 1 \\times 2 \\times \\cdots \\times n$\n",
    "\n",
    "By convention, $0!$ is defined to be $1$. For the given integer n calculate the value $n!$.\n",
    "\n",
    "Don't use math module in this exercise.\n",
    "\n",
    "## Example input\n",
    "\n",
    "```python\n",
    "4\n",
    "```\n",
    "\n",
    "## Example return value\n",
    "\n",
    "```python\n",
    "24\n",
    "```"
   ]
  },
  {
   "cell_type": "code",
   "execution_count": 62,
   "metadata": {
    "deletable": false,
    "nbgrader": {
     "cell_type": "code",
     "checksum": "f3eebc341474cd6ff273edc416284040",
     "grade": false,
     "grade_id": "assignment-04-06-code",
     "locked": false,
     "schema_version": 3,
     "solution": true,
     "task": false
    }
   },
   "outputs": [],
   "source": [
    "# Code for assignment 4.6\n",
    "\n",
    "def assignment_4_6(n):\n",
    "    if n == 0:\n",
    "        return 1 \n",
    "    else: \n",
    "        result = 1 \n",
    "        i = n \n",
    "        while i != 1: \n",
    "            result = result * i\n",
    "            i = i - 1 \n",
    "        return result "
   ]
  },
  {
   "cell_type": "code",
   "execution_count": 63,
   "metadata": {
    "deletable": false,
    "editable": false,
    "nbgrader": {
     "cell_type": "code",
     "checksum": "653ae589f0812bcac145498f52a8cc36",
     "grade": false,
     "grade_id": "assignment-04-06-test",
     "locked": true,
     "schema_version": 3,
     "solution": false,
     "task": false
    }
   },
   "outputs": [
    {
     "name": "stdin",
     "output_type": "stream",
     "text": [
      "Please enter the value for n (Press Enter for default value 4):  \n"
     ]
    },
    {
     "name": "stdout",
     "output_type": "stream",
     "text": [
      "\n",
      "The value of 4! is:\n",
      "24\n"
     ]
    }
   ],
   "source": [
    "# Test for assignment 4.6\n",
    "\n",
    "test_cell_4_6(assignment_4_6)"
   ]
  },
  {
   "cell_type": "code",
   "execution_count": 64,
   "metadata": {
    "deletable": false,
    "editable": false,
    "nbgrader": {
     "cell_type": "code",
     "checksum": "45cf89fb6c3094e1496e82687b28d866",
     "grade": true,
     "grade_id": "assignment-04-06-assert",
     "locked": true,
     "points": 1,
     "schema_version": 3,
     "solution": false,
     "task": false
    }
   },
   "outputs": [
    {
     "name": "stdout",
     "output_type": "stream",
     "text": [
      "Call assignment_4_6(4) ... OK\n",
      "Call assignment_4_6(1) ... OK\n",
      "Call assignment_4_6(2) ... OK\n",
      "Call assignment_4_6(3) ... OK\n",
      "Call assignment_4_6(5) ... OK\n",
      "Call assignment_4_6(6) ... OK\n",
      "Call assignment_4_6(7) ... OK\n",
      "Call assignment_4_6(8) ... OK\n",
      "Call assignment_4_6(9) ... OK\n",
      "Call assignment_4_6(10) ... OK\n",
      "Call assignment_4_6(11) ... OK\n",
      "Call assignment_4_6(12) ... OK\n",
      "Call assignment_4_6(0) ... OK\n",
      "\n",
      "Well done! You seem to have solved assignment_4_6!\n"
     ]
    }
   ],
   "source": [
    "# Assertion for assignment 4.6\n",
    "\n",
    "check_assertion(assignment_4_6)"
   ]
  },
  {
   "cell_type": "markdown",
   "metadata": {
    "deletable": false,
    "editable": false,
    "nbgrader": {
     "cell_type": "markdown",
     "checksum": "0a97ae446d1d5ffd0a74f0d3d7306f3c",
     "grade": false,
     "grade_id": "assignment-04-07-spacer",
     "locked": true,
     "schema_version": 3,
     "solution": false,
     "task": false
    }
   },
   "source": [
    "<br />\n",
    "<br />\n",
    "<br />\n",
    "<br />"
   ]
  },
  {
   "cell_type": "markdown",
   "metadata": {
    "deletable": false,
    "editable": false,
    "nbgrader": {
     "cell_type": "markdown",
     "checksum": "912d2d8a97ac4ba892a837f8dd37ffa7",
     "grade": false,
     "grade_id": "assignment-04-07-text",
     "locked": true,
     "schema_version": 3,
     "solution": false,
     "task": false
    }
   },
   "source": [
    "## 4.7 The number of multiples of 3\n",
    "\n",
    "Given the start of range with `start`, containing `number` numbers: `start`, `start + 1`, ..., `start + (number - 1)`, count how many of these are multiples of 3. Examples are 3, 6, 9, 12, etc.\n",
    "\n",
    "## Example input\n",
    "\n",
    "```python\n",
    "10\n",
    "20\n",
    "```\n",
    "\n",
    "## Example return value\n",
    "\n",
    "```python\n",
    "6\n",
    "```\n"
   ]
  },
  {
   "cell_type": "code",
   "execution_count": 78,
   "metadata": {
    "deletable": false,
    "nbgrader": {
     "cell_type": "code",
     "checksum": "dc3ee69033b39c5d1adfbb80748fb719",
     "grade": false,
     "grade_id": "assignment-04-07-code",
     "locked": false,
     "schema_version": 3,
     "solution": true,
     "task": false
    }
   },
   "outputs": [],
   "source": [
    "# Code for assignment 4.7\n",
    "\n",
    "def assignment_4_7(start, number):\n",
    "    mod_3 = 0\n",
    "    for i in range (start, start + number): \n",
    "        if i % 3 == 0: \n",
    "            mod_3 += 1 \n",
    "    return mod_3"
   ]
  },
  {
   "cell_type": "code",
   "execution_count": 79,
   "metadata": {
    "deletable": false,
    "editable": false,
    "nbgrader": {
     "cell_type": "code",
     "checksum": "4a89eedad60142fa8f48d9f61a7635ee",
     "grade": false,
     "grade_id": "assignment-04-07-test",
     "locked": true,
     "schema_version": 3,
     "solution": false,
     "task": false
    }
   },
   "outputs": [
    {
     "name": "stdin",
     "output_type": "stream",
     "text": [
      "Please enter the start number of the range (start) (Press Enter for default value 10):  \n",
      "Please enter the number of numbers in the range (number) (Press Enter for default value 20):  \n"
     ]
    },
    {
     "name": "stdout",
     "output_type": "stream",
     "text": [
      "\n",
      "The number of multiples of 3 for a range of 20 numbers starting with 10 is:\n",
      "6\n"
     ]
    }
   ],
   "source": [
    "# Test for assignment 4.7\n",
    "\n",
    "test_cell_4_7(assignment_4_7)"
   ]
  },
  {
   "cell_type": "code",
   "execution_count": 80,
   "metadata": {
    "deletable": false,
    "editable": false,
    "nbgrader": {
     "cell_type": "code",
     "checksum": "65257fe19c25c3919391f496c1761e28",
     "grade": true,
     "grade_id": "assignment-04-07-assert",
     "locked": true,
     "points": 1,
     "schema_version": 3,
     "solution": false,
     "task": false
    }
   },
   "outputs": [
    {
     "name": "stdout",
     "output_type": "stream",
     "text": [
      "Call assignment_4_7(10, 20) ... OK\n",
      "Call assignment_4_7(8, 13) ... OK\n",
      "Call assignment_4_7(0, 0) ... OK\n",
      "Call assignment_4_7(25, 250) ... OK\n",
      "Call assignment_4_7(-100, 300) ... OK\n",
      "\n",
      "Well done! You seem to have solved assignment_4_7!\n"
     ]
    }
   ],
   "source": [
    "# Assertion for assignment 4.7\n",
    "\n",
    "check_assertion(assignment_4_7)"
   ]
  },
  {
   "cell_type": "markdown",
   "metadata": {
    "deletable": false,
    "editable": false,
    "nbgrader": {
     "cell_type": "markdown",
     "checksum": "bc127d72cd0888e2195e0d60591707ca",
     "grade": false,
     "grade_id": "assignment-04-08-spacer",
     "locked": true,
     "schema_version": 3,
     "solution": false,
     "task": false
    }
   },
   "source": [
    "<br />\n",
    "<br />\n",
    "<br />\n",
    "<br />"
   ]
  },
  {
   "cell_type": "markdown",
   "metadata": {
    "deletable": false,
    "editable": false,
    "nbgrader": {
     "cell_type": "markdown",
     "checksum": "0897915ddf66eb18acf311c2ff3a769a",
     "grade": false,
     "grade_id": "assignment-04-08-text",
     "locked": true,
     "schema_version": 3,
     "solution": false,
     "task": false
    }
   },
   "source": [
    "# 4.8 Adding factorials\n",
    "\n",
    "Given a positive integer $n$, print the sum $1! + 2! + 3! + \\cdots +n!$.\n",
    "\n",
    "This problem has a solution with only one loop, so try to discover it. And don't use the math library :)\n",
    "\n",
    "## Example input\n",
    "\n",
    "```python\n",
    "4\n",
    "```\n",
    "\n",
    "## Example return value\n",
    "\n",
    "```python\n",
    "33\n",
    "```"
   ]
  },
  {
   "cell_type": "code",
   "execution_count": 81,
   "metadata": {
    "deletable": false,
    "nbgrader": {
     "cell_type": "code",
     "checksum": "8efdad0119484ac97f77b9dfd3f48ef9",
     "grade": false,
     "grade_id": "assignment-04-08-code",
     "locked": false,
     "schema_version": 3,
     "solution": true,
     "task": false
    }
   },
   "outputs": [],
   "source": [
    "# Code for assignment 4.8\n",
    "\n",
    "def assignment_4_8(n):\n",
    "    sum = 0 \n",
    "    fac_i = 1\n",
    "    for i in range (1, n + 1): \n",
    "        fac_i = fac_i * i\n",
    "        sum += fac_i\n",
    "    return sum "
   ]
  },
  {
   "cell_type": "code",
   "execution_count": 82,
   "metadata": {
    "deletable": false,
    "editable": false,
    "nbgrader": {
     "cell_type": "code",
     "checksum": "bb0992b05a46ed0f5ddbb567f351799c",
     "grade": false,
     "grade_id": "assignment-04-08-test",
     "locked": true,
     "schema_version": 3,
     "solution": false,
     "task": false
    }
   },
   "outputs": [
    {
     "name": "stdin",
     "output_type": "stream",
     "text": [
      "Please enter integer value n (Press Enter for default value 4):  \n"
     ]
    },
    {
     "name": "stdout",
     "output_type": "stream",
     "text": [
      "\n",
      "The value of the sum of the factorials for 4 is:\n",
      "33\n"
     ]
    }
   ],
   "source": [
    "# Test for assignment 4.8\n",
    "\n",
    "test_cell_4_8(assignment_4_8)"
   ]
  },
  {
   "cell_type": "code",
   "execution_count": 83,
   "metadata": {
    "deletable": false,
    "editable": false,
    "nbgrader": {
     "cell_type": "code",
     "checksum": "cba587180dc67c3d1a071ca89d640c18",
     "grade": true,
     "grade_id": "assignment-04-08-assert",
     "locked": true,
     "points": 1,
     "schema_version": 3,
     "solution": false,
     "task": false
    }
   },
   "outputs": [
    {
     "name": "stdout",
     "output_type": "stream",
     "text": [
      "Call assignment_4_8(1) ... OK\n",
      "Call assignment_4_8(2) ... OK\n",
      "Call assignment_4_8(3) ... OK\n",
      "Call assignment_4_8(4) ... OK\n",
      "Call assignment_4_8(5) ... OK\n",
      "Call assignment_4_8(6) ... OK\n",
      "Call assignment_4_8(7) ... OK\n",
      "Call assignment_4_8(8) ... OK\n",
      "Call assignment_4_8(9) ... OK\n",
      "Call assignment_4_8(10) ... OK\n",
      "\n",
      "Well done! You seem to have solved assignment_4_8!\n"
     ]
    }
   ],
   "source": [
    "# Assertion for assignment 4.8\n",
    "\n",
    "check_assertion(assignment_4_8)"
   ]
  },
  {
   "cell_type": "markdown",
   "metadata": {
    "deletable": false,
    "editable": false,
    "nbgrader": {
     "cell_type": "markdown",
     "checksum": "8b9e113005efb950d2c218ed4433def1",
     "grade": false,
     "grade_id": "assignment-04-09-spacer",
     "locked": true,
     "schema_version": 3,
     "solution": false,
     "task": false
    }
   },
   "source": [
    "<br />\n",
    "<br />\n",
    "<br />\n",
    "<br />"
   ]
  },
  {
   "cell_type": "markdown",
   "metadata": {
    "deletable": false,
    "editable": false,
    "nbgrader": {
     "cell_type": "markdown",
     "checksum": "1325e2aaba425df2c41641c36a869c3c",
     "grade": false,
     "grade_id": "assignment-04-09-text",
     "locked": true,
     "schema_version": 3,
     "solution": false,
     "task": false
    }
   },
   "source": [
    "# 4.9 Ladder\n",
    "\n",
    "For given integer `steps` ≤ 9 return a list with \"ladders\" of `steps` steps. The ladder always starts with **1**, the next step is achieved by adding a 2 to the end, resulting in **12**. The third step is adding a 3 to the end, resulting in **123**.\n",
    "\n",
    "Store all ladders in a list called `result` and return that.\n",
    "\n",
    "**NB** Please note that all items in the list should be integers!\n",
    "\n",
    "## Example input\n",
    "\n",
    "```python\n",
    "3\n",
    "```\n",
    "\n",
    "## Example return value\n",
    "\n",
    "```python\n",
    "[1, 12, 123]\n",
    "```"
   ]
  },
  {
   "cell_type": "code",
   "execution_count": 91,
   "metadata": {
    "deletable": false,
    "nbgrader": {
     "cell_type": "code",
     "checksum": "e9666006473433cd60c60cbe9bbfb69c",
     "grade": false,
     "grade_id": "assignment-04-09-code",
     "locked": false,
     "schema_version": 3,
     "solution": true,
     "task": false
    }
   },
   "outputs": [],
   "source": [
    "# Code for assignment 4.9\n",
    "\n",
    "def assignment_4_9(steps):\n",
    "    list = [] \n",
    "    num_str = \"\"\n",
    "    for i in range (1, steps+1): \n",
    "        num_str = num_str + str(i) \n",
    "        list.append(int(num_str))\n",
    "    return list "
   ]
  },
  {
   "cell_type": "code",
   "execution_count": 92,
   "metadata": {
    "deletable": false,
    "editable": false,
    "nbgrader": {
     "cell_type": "code",
     "checksum": "ba51f38a9cf36cf925b5e42b37a24efd",
     "grade": false,
     "grade_id": "assignment-04-09-test",
     "locked": true,
     "schema_version": 3,
     "solution": false,
     "task": false
    }
   },
   "outputs": [
    {
     "name": "stdin",
     "output_type": "stream",
     "text": [
      "Please enter an integer for steps (≤ 9) (Press Enter for default value 3):  \n"
     ]
    },
    {
     "name": "stdout",
     "output_type": "stream",
     "text": [
      "\n",
      "The output for 3 steps is: \n",
      "[1, 12, 123]\n"
     ]
    }
   ],
   "source": [
    "# Test for assignment 4.9\n",
    "\n",
    "test_cell_4_9(assignment_4_9)"
   ]
  },
  {
   "cell_type": "code",
   "execution_count": 93,
   "metadata": {
    "deletable": false,
    "editable": false,
    "nbgrader": {
     "cell_type": "code",
     "checksum": "6c68e5c295fc71d8bc9003266a6d1fe1",
     "grade": true,
     "grade_id": "assignment-04-09-assert",
     "locked": true,
     "points": 1,
     "schema_version": 3,
     "solution": false,
     "task": false
    }
   },
   "outputs": [
    {
     "name": "stdout",
     "output_type": "stream",
     "text": [
      "Call assignment_4_9(3) ... OK\n",
      "Call assignment_4_9(4) ... OK\n",
      "Call assignment_4_9(2) ... OK\n",
      "Call assignment_4_9(5) ... OK\n",
      "Call assignment_4_9(1) ... OK\n",
      "Call assignment_4_9(7) ... OK\n",
      "Call assignment_4_9(8) ... OK\n",
      "Call assignment_4_9(9) ... OK\n",
      "Call assignment_4_9(6) ... OK\n",
      "\n",
      "Well done! You seem to have solved assignment_4_9!\n"
     ]
    }
   ],
   "source": [
    "# Assertion for assignment 4.9\n",
    "\n",
    "check_assertion(assignment_4_9)"
   ]
  },
  {
   "cell_type": "markdown",
   "metadata": {
    "deletable": false,
    "editable": false,
    "nbgrader": {
     "cell_type": "markdown",
     "checksum": "e63eeb309c86e7d1b1a95511f6e75379",
     "grade": false,
     "grade_id": "assignment-4-10-spacer",
     "locked": true,
     "schema_version": 3,
     "solution": false,
     "task": false
    }
   },
   "source": [
    "<br />\n",
    "<br />\n",
    "<br />\n",
    "<br />"
   ]
  },
  {
   "cell_type": "markdown",
   "metadata": {
    "deletable": false,
    "editable": false,
    "nbgrader": {
     "cell_type": "markdown",
     "checksum": "b8f6317c617648235602ec3d901b3896",
     "grade": false,
     "grade_id": "assignment-4-10-text",
     "locked": true,
     "schema_version": 3,
     "solution": false,
     "task": false
    }
   },
   "source": [
    "## 4.10 Lost card\n",
    "\n",
    "There was a set of cards with numbers from 1 to `top`. One of the card is now lost. Determine the number on that lost card given the numbers for the remaining cards.\n",
    "\n",
    "Given a number `top`, followed by `top - 1` integers - representing the numbers on the remaining cards (distinct integers in the range from 1 to `top`). Find and return the number on the lost card.\n",
    "\n",
    "## Example input\n",
    "\n",
    "```python\n",
    "5\n",
    "\n",
    "1\n",
    "2\n",
    "3\n",
    "4\n",
    "```\n",
    "\n",
    "## Example return value\n",
    "\n",
    "```python\n",
    "5\n",
    "```\n",
    "\n",
    "**Hint** Make use of the fact that the number on the missing card is the difference between the sum of *all* cards minus the sum of the cards entered.\n"
   ]
  },
  {
   "cell_type": "code",
   "execution_count": 101,
   "metadata": {
    "deletable": false,
    "nbgrader": {
     "cell_type": "code",
     "checksum": "53ceb5f1e12124eda4a3926f57ccaf51",
     "grade": false,
     "grade_id": "assignment-4-10-code",
     "locked": false,
     "schema_version": 3,
     "solution": true,
     "task": false
    }
   },
   "outputs": [],
   "source": [
    "# Code for assignment 4.10\n",
    "\n",
    "def assignment_4_10(list_of_numbers):\n",
    "    n = list_of_numbers[0]\n",
    "    cards_present = list_of_numbers[1:]\n",
    "    sum = 0\n",
    "    for i in cards_present:\n",
    "        sum += i\n",
    "    card_lost = int(((n*(n+1))/2) - sum)\n",
    "    return card_lost \n",
    "        \n",
    "        \n",
    "    "
   ]
  },
  {
   "cell_type": "code",
   "execution_count": 102,
   "metadata": {
    "deletable": false,
    "editable": false,
    "nbgrader": {
     "cell_type": "code",
     "checksum": "7a6ff357d85b10f8db16dacef90f5997",
     "grade": false,
     "grade_id": "assignment-4-10-test",
     "locked": true,
     "schema_version": 3,
     "solution": false,
     "task": false
    }
   },
   "outputs": [
    {
     "name": "stdin",
     "output_type": "stream",
     "text": [
      "Please enter the number of cards (top) (Press Enter for default value 5):  \n",
      "Please enter the value for card 1 (Press Enter for default value 1):  \n",
      "Please enter the value for card 2 (Press Enter for default value 2):  \n",
      "Please enter the value for card 3 (Press Enter for default value 3):  \n",
      "Please enter the value for card 4 (Press Enter for default value 4):  \n"
     ]
    },
    {
     "name": "stdout",
     "output_type": "stream",
     "text": [
      "\n",
      "The missing card has face value: \n",
      "5\n"
     ]
    }
   ],
   "source": [
    "# Test for assignment 4.10\n",
    "\n",
    "test_cell_4_10(assignment_4_10)"
   ]
  },
  {
   "cell_type": "code",
   "execution_count": 103,
   "metadata": {
    "deletable": false,
    "editable": false,
    "nbgrader": {
     "cell_type": "code",
     "checksum": "38c5a44a38d3bead75354d0840dbfe71",
     "grade": true,
     "grade_id": "assignment-4-10-assert",
     "locked": true,
     "points": 1,
     "schema_version": 3,
     "solution": false,
     "task": false
    }
   },
   "outputs": [
    {
     "name": "stdout",
     "output_type": "stream",
     "text": [
      "Call assignment_4_10([5, 1, 2, 3, 4]) ... OK\n",
      "Call assignment_4_10([5, 3, 5, 2, 1]) ... OK\n",
      "Call assignment_4_10([4, 2, 3, 4]) ... OK\n",
      "Call assignment_4_10([3, 1, 2]) ... OK\n",
      "Call assignment_4_10([3, 3, 2]) ... OK\n",
      "Call assignment_4_10([3, 3, 1]) ... OK\n",
      "Call assignment_4_10([1]) ... OK\n",
      "Call assignment_4_10([10, 4, 1, 7, 8, 3, 5, 9, 10, 6]) ... OK\n",
      "\n",
      "Well done! You seem to have solved assignment_4_10!\n"
     ]
    }
   ],
   "source": [
    "# Assertion for assignment 4.10\n",
    "\n",
    "check_assertion(assignment_4_10)"
   ]
  }
 ],
 "metadata": {
  "kernelspec": {
   "display_name": "Python 3 (ipykernel)",
   "language": "python",
   "name": "python3"
  },
  "language_info": {
   "codemirror_mode": {
    "name": "ipython",
    "version": 3
   },
   "file_extension": ".py",
   "mimetype": "text/x-python",
   "name": "python",
   "nbconvert_exporter": "python",
   "pygments_lexer": "ipython3",
   "version": "3.9.18"
  }
 },
 "nbformat": 4,
 "nbformat_minor": 4
}
