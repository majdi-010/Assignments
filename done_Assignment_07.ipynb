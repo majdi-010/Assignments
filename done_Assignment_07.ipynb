{
 "cells": [
  {
   "cell_type": "markdown",
   "metadata": {
    "deletable": false,
    "editable": false,
    "nbgrader": {
     "cell_type": "markdown",
     "checksum": "4c752c3b99b6f71467022227bd0c5d62",
     "grade": false,
     "grade_id": "introduction",
     "locked": true,
     "schema_version": 3,
     "solution": false,
     "task": false
    }
   },
   "source": [
    "# 7. Lists\n",
    "\n",
    "This Jupyter Notebook contains the [problems, or assignments, for Lesson 7](https://snakify.org/en/lessons/lists/problems/), gratefully imported from the online course on [Snakify](https://snakify.org). If you get stuck, you can either ask the teacher and the teaching assistents, or skim through the [theory](https://snakify.org/en/lessons/lists/) and [explanation of the steps](https://snakify.org/en/lessons/lists/steps/1/) on Snakify.\n",
    "\n",
    "Some of these assignments can be solved with \"comprehensions\" -- which, as mentioned during the lecture, are not compulsory material. So you can try those if you have looked at them, but you can always fall back on using `for` loops."
   ]
  },
  {
   "cell_type": "code",
   "execution_count": 4,
   "metadata": {
    "deletable": false,
    "editable": false,
    "nbgrader": {
     "cell_type": "code",
     "checksum": "3d552f5c4c39249e5750262df758b85c",
     "grade": false,
     "grade_id": "import-assert",
     "locked": true,
     "schema_version": 3,
     "solution": false,
     "task": false
    }
   },
   "outputs": [
    {
     "name": "stdout",
     "output_type": "stream",
     "text": [
      "Assertions imported OK\n",
      "Test cells imported OK\n"
     ]
    }
   ],
   "source": [
    "# Please run the contents of this cell.\n",
    "# Select this cell and press Ctrl-Enter (or Command-Enter on mac).\n",
    "\n",
    "from assertions import *\n",
    "from test_cells import *"
   ]
  },
  {
   "cell_type": "markdown",
   "metadata": {
    "deletable": false,
    "editable": false,
    "nbgrader": {
     "cell_type": "markdown",
     "checksum": "d39e0cdc74fc3f3bd228f3d7dfc63395",
     "grade": false,
     "grade_id": "assignment-07-01-spacer",
     "locked": true,
     "schema_version": 3,
     "solution": false,
     "task": false
    }
   },
   "source": [
    "<br />\n",
    "<br />\n",
    "<br />\n",
    "<br />"
   ]
  },
  {
   "cell_type": "markdown",
   "metadata": {
    "deletable": false,
    "editable": false,
    "nbgrader": {
     "cell_type": "markdown",
     "checksum": "c47f6771d98cce696883c1991f305b17",
     "grade": false,
     "grade_id": "assginment-7-1-text",
     "locked": true,
     "schema_version": 3,
     "solution": false,
     "task": false
    }
   },
   "source": [
    "# 7.1 Even indices\n",
    "\n",
    "Given a list of integers, find all the list elements with an even index and return them in a new list, *i.e*:\n",
    "```python\n",
    "[A[0], A[2], A[4], ... ]\n",
    "```\n",
    "\n",
    "The input list is created by entering a single line with numbers separated by spaces in the test cell.  \n",
    "The test cell will take care of converting the input to a list of **integers** for you, which is then passed to your function.\n",
    "\n",
    "## Example input\n",
    "\n",
    "```python\n",
    "1 2 3 4 5\n",
    "```\n",
    "\n",
    "## Example return value\n",
    "\n",
    "```python\n",
    "[1, 3, 5]\n",
    "```"
   ]
  },
  {
   "cell_type": "code",
   "execution_count": 6,
   "metadata": {
    "deletable": false,
    "nbgrader": {
     "cell_type": "code",
     "checksum": "ca1d7c70fd4c231b3a26a81bfbe6fdd7",
     "grade": false,
     "grade_id": "assignment-07-01-code",
     "locked": false,
     "schema_version": 3,
     "solution": true,
     "task": false
    }
   },
   "outputs": [],
   "source": [
    "# Code for assignment 7.1\n",
    "\n",
    "def assignment_7_1(numbers):\n",
    "    return numbers[0::2]"
   ]
  },
  {
   "cell_type": "code",
   "execution_count": 7,
   "metadata": {
    "deletable": false,
    "editable": false,
    "nbgrader": {
     "cell_type": "code",
     "checksum": "5b76d84f06f4e12bf7c225ec825636b8",
     "grade": false,
     "grade_id": "assignment-07-01-test",
     "locked": true,
     "schema_version": 3,
     "solution": false,
     "task": false
    }
   },
   "outputs": [
    {
     "name": "stdin",
     "output_type": "stream",
     "text": [
      "Please enter a series of integer numbers, separated by spaces (Press Enter for default values 1 2 3 4 5):  \n"
     ]
    },
    {
     "name": "stdout",
     "output_type": "stream",
     "text": [
      "\n",
      "The elements in the list with even indices in [1, 2, 3, 4, 5] are:\n",
      "[1, 3, 5]\n"
     ]
    }
   ],
   "source": [
    "# Test for assignment 7.1\n",
    "\n",
    "test_cell_7_1(assignment_7_1)"
   ]
  },
  {
   "cell_type": "code",
   "execution_count": 8,
   "metadata": {
    "deletable": false,
    "editable": false,
    "nbgrader": {
     "cell_type": "code",
     "checksum": "00bf19988c1f4047091146a7684f4ec9",
     "grade": true,
     "grade_id": "assignment-07-01-assert",
     "locked": true,
     "points": 1,
     "schema_version": 3,
     "solution": false,
     "task": false
    }
   },
   "outputs": [
    {
     "name": "stdout",
     "output_type": "stream",
     "text": [
      "Call assignment_7_1([1, 2, 3, 4, 5]) ... OK\n",
      "Call assignment_7_1([4, 5, 3, 4, 2, 3]) ... OK\n",
      "Call assignment_7_1([9, 4, 5, 2, 3]) ... OK\n",
      "Call assignment_7_1([6]) ... OK\n",
      "Call assignment_7_1([7, 8]) ... OK\n",
      "Call assignment_7_1([1, 2, 3]) ... OK\n",
      "Call assignment_7_1([90, 45, 3, 43]) ... OK\n",
      "Call assignment_7_1([40, 64, -80, -98, -68, 56, 85, 87, -68, -78]) ... OK\n",
      "Call assignment_7_1([-1, -11, -40, 3, -47, -37, -18, -100, 6, -29, 14, -1, -89, -20, -36, 7, 5, 78, -5, 85]) ... OK\n",
      "\n",
      "Well done! You seem to have solved assignment_7_1!\n"
     ]
    }
   ],
   "source": [
    "# Assertion for assignment 7.1\n",
    "\n",
    "check_assertion(assignment_7_1)"
   ]
  },
  {
   "cell_type": "markdown",
   "metadata": {
    "deletable": false,
    "editable": false,
    "nbgrader": {
     "cell_type": "markdown",
     "checksum": "bf68489dd2912fa3ba3c7b77761ae089",
     "grade": false,
     "grade_id": "assignment-07-02-spacer",
     "locked": true,
     "schema_version": 3,
     "solution": false,
     "task": false
    }
   },
   "source": [
    "<br />\n",
    "<br />\n",
    "<br />\n",
    "<br />"
   ]
  },
  {
   "cell_type": "markdown",
   "metadata": {
    "deletable": false,
    "editable": false,
    "nbgrader": {
     "cell_type": "markdown",
     "checksum": "70b10f02ad380d5c359b2feef3bbd343",
     "grade": false,
     "grade_id": "assignment-07-02-text",
     "locked": true,
     "schema_version": 3,
     "solution": false,
     "task": false
    }
   },
   "source": [
    "# 7.2 Even elements\n",
    "\n",
    "Given a list of integers, find and return all elements that are an even number.  \n",
    "In this case use a for-loop that iterates over the items in list, and not over its indices! That is, don't use `range()`!  \n",
    "\n",
    "The input list is created by entering a single line with numbers separated by spaces in the test cell.  \n",
    "The test cell will take care of converting the input to a list of **integers** for you, which is then passed to your function.\n",
    "\n",
    "## Example input\n",
    "```python\n",
    "1 2 2 3 3 3 4\n",
    "```\n",
    "\n",
    "## Example return value\n",
    "```python\n",
    "[2, 2, 4]\n",
    "```"
   ]
  },
  {
   "cell_type": "code",
   "execution_count": 10,
   "metadata": {
    "deletable": false,
    "nbgrader": {
     "cell_type": "code",
     "checksum": "4401bc194b304699c60b1323f3e309c3",
     "grade": false,
     "grade_id": "assignment-07-02-code",
     "locked": false,
     "schema_version": 3,
     "solution": true,
     "task": false
    }
   },
   "outputs": [],
   "source": [
    "# Code for assignment 7.2\n",
    "\n",
    "def assignment_7_2(numbers):\n",
    "    even_numbers = []\n",
    "    for number in numbers: \n",
    "        if number % 2 == 0: \n",
    "            even_numbers.append(number)\n",
    "    return even_numbers\n",
    "        \n",
    "    "
   ]
  },
  {
   "cell_type": "code",
   "execution_count": 11,
   "metadata": {
    "deletable": false,
    "editable": false,
    "nbgrader": {
     "cell_type": "code",
     "checksum": "f80a5ee213714c9b5dd808d8ee15d028",
     "grade": false,
     "grade_id": "assignment-07-02-test",
     "locked": true,
     "schema_version": 3,
     "solution": false,
     "task": false
    }
   },
   "outputs": [
    {
     "name": "stdin",
     "output_type": "stream",
     "text": [
      "Please enter a series of integer numbers, separated by spaces (Press Enter for default values 1 2 2 3 3 3 4):  \n"
     ]
    },
    {
     "name": "stdout",
     "output_type": "stream",
     "text": [
      "\n",
      "The even elements in the list [1, 2, 2, 3, 3, 3, 4] are:\n",
      "[2, 2, 4]\n"
     ]
    }
   ],
   "source": [
    "# Test for assignment 7.2\n",
    "\n",
    "test_cell_7_2(assignment_7_2)"
   ]
  },
  {
   "cell_type": "code",
   "execution_count": 12,
   "metadata": {
    "deletable": false,
    "editable": false,
    "nbgrader": {
     "cell_type": "code",
     "checksum": "6fb3bda5c242c28516d3dc5f31ddb2d0",
     "grade": true,
     "grade_id": "assignment-07-02-assert",
     "locked": true,
     "points": 1,
     "schema_version": 3,
     "solution": false,
     "task": false
    }
   },
   "outputs": [
    {
     "name": "stdout",
     "output_type": "stream",
     "text": [
      "Call assignment_7_2([1, 2, 2, 3, 3, 3, 4]) ... OK\n",
      "Call assignment_7_2([1, 2, 3, 4, 5]) ... OK\n",
      "Call assignment_7_2([2, 4, 6, 8]) ... OK\n",
      "Call assignment_7_2([1, 1, 1, 1, 1, 1, 2]) ... OK\n",
      "Call assignment_7_2([44, -51, 32, -60, -7, -67, 62, 91, 26, -14]) ... OK\n",
      "Call assignment_7_2([32, -95, -78, -15, -71, -73, -83, 53, -91, -82, -71, -52, -60, -18, 12, 8, 98, -92, -83, 7]) ... OK\n",
      "Call assignment_7_2([39, 55, -88, 56, -39, -92, -30, 54, 15, 94, 27, -87, -85, -53, -44, -87, 33, 38, -22, 56]) ... OK\n",
      "\n",
      "Well done! You seem to have solved assignment_7_2!\n"
     ]
    }
   ],
   "source": [
    "# Assertion for assignment 7.2\n",
    "\n",
    "check_assertion(assignment_7_2)"
   ]
  },
  {
   "cell_type": "markdown",
   "metadata": {
    "deletable": false,
    "editable": false,
    "nbgrader": {
     "cell_type": "markdown",
     "checksum": "3bd45de49c67e024dffbeb8e253977df",
     "grade": false,
     "grade_id": "assignment-07-03-spacer",
     "locked": true,
     "schema_version": 3,
     "solution": false,
     "task": false
    }
   },
   "source": [
    "<br />\n",
    "<br />\n",
    "<br />\n",
    "<br />"
   ]
  },
  {
   "cell_type": "markdown",
   "metadata": {
    "deletable": false,
    "editable": false,
    "nbgrader": {
     "cell_type": "markdown",
     "checksum": "6fb1953e139e9f4ad6e442b5cb1e3f36",
     "grade": false,
     "grade_id": "assignment-07-03-text",
     "locked": true,
     "schema_version": 3,
     "solution": false,
     "task": false
    }
   },
   "source": [
    "# 7.3 Greater than previous\n",
    "\n",
    "Given a list of integers, find and return all the elements that are greater than the previous element.  \n",
    "If there are no value greater than their previous element, return an empty list.\n",
    "The first item of the list shouldn't be considered because it doesn't have a predecessor.\n",
    "\n",
    "The input list is created by entering a single line with numbers separated by spaces in the test cell.  \n",
    "The test cell will take care of converting the input to a list of **integers** for you, which is then passed to your function.\n",
    "\n",
    "## Example input\n",
    "```python\n",
    "1 5 2 4 3\n",
    "```\n",
    "\n",
    "## Example return value\n",
    "```python\n",
    "[5, 4]\n",
    "```"
   ]
  },
  {
   "cell_type": "code",
   "execution_count": 55,
   "metadata": {
    "deletable": false,
    "nbgrader": {
     "cell_type": "code",
     "checksum": "c9062d1f6ea1ab2ce3c3dae29ac60d07",
     "grade": false,
     "grade_id": "assignment-07-03-code",
     "locked": false,
     "schema_version": 3,
     "solution": true,
     "task": false
    }
   },
   "outputs": [],
   "source": [
    "# Code for assignment 7.3\n",
    "\n",
    "def assignment_7_3(numbers):\n",
    "    result = []\n",
    "    for index, number in enumerate(numbers[1:], start=1):\n",
    "        if number > numbers[index - 1]:\n",
    "            result.append(number)\n",
    "    return result\n",
    "               \n",
    "    "
   ]
  },
  {
   "cell_type": "code",
   "execution_count": 56,
   "metadata": {
    "deletable": false,
    "editable": false,
    "nbgrader": {
     "cell_type": "code",
     "checksum": "75449d59e2d5ce7f0386944d3df6cd0c",
     "grade": false,
     "grade_id": "assignment-07-03-test",
     "locked": true,
     "schema_version": 3,
     "solution": false,
     "task": false
    }
   },
   "outputs": [
    {
     "name": "stdin",
     "output_type": "stream",
     "text": [
      "Please enter a series of integer numbers, separated by spaces (Press Enter for default values 1 5 2 4 3):  \n"
     ]
    },
    {
     "name": "stdout",
     "output_type": "stream",
     "text": [
      "\n",
      "The elements in the list [1, 5, 2, 4, 3] that are bigger than their predecessor are:\n",
      "[5, 4]\n"
     ]
    }
   ],
   "source": [
    "# Test for assignment 7.3\n",
    "\n",
    "test_cell_7_3(assignment_7_3)"
   ]
  },
  {
   "cell_type": "code",
   "execution_count": 57,
   "metadata": {
    "deletable": false,
    "editable": false,
    "nbgrader": {
     "cell_type": "code",
     "checksum": "171908a33e52f97e57fcc89201930a06",
     "grade": true,
     "grade_id": "assignment-07-03-assert",
     "locked": true,
     "points": 1,
     "schema_version": 3,
     "solution": false,
     "task": false
    }
   },
   "outputs": [
    {
     "name": "stdout",
     "output_type": "stream",
     "text": [
      "Call assignment_7_3([1, 5, 2, 4, 3]) ... OK\n",
      "Call assignment_7_3([1, 2, 3, 4, 5]) ... OK\n",
      "Call assignment_7_3([5, 4, 3, 2, 1]) ... OK\n",
      "Call assignment_7_3([1, 5, 1, 5, 1]) ... OK\n",
      "Call assignment_7_3([5, 1, 5, 1, 5]) ... OK\n",
      "Call assignment_7_3([5, 5, 5, 5, 5]) ... OK\n",
      "Call assignment_7_3([1, 1, 1, 5, 1]) ... OK\n",
      "Call assignment_7_3([345354]) ... OK\n",
      "Call assignment_7_3([1, 465]) ... OK\n",
      "Call assignment_7_3([4, -54643]) ... OK\n",
      "Call assignment_7_3([2147483647, 0, 1, 2, 3]) ... OK\n",
      "Call assignment_7_3([1, 2, 3, 4, -2147483648]) ... OK\n",
      "Call assignment_7_3([-9, 29, -100, 64, 26, 73, -96, 28, -92, 11, -14, -86, -54, -67]) ... OK\n",
      "\n",
      "Well done! You seem to have solved assignment_7_3!\n"
     ]
    }
   ],
   "source": [
    "# Assertion for assignment 7.3\n",
    "\n",
    "check_assertion(assignment_7_3)"
   ]
  },
  {
   "cell_type": "markdown",
   "metadata": {
    "deletable": false,
    "editable": false,
    "nbgrader": {
     "cell_type": "markdown",
     "checksum": "0377e390995e4fde9a5f479e7a44448e",
     "grade": false,
     "grade_id": "assignment-07-04-spacer",
     "locked": true,
     "schema_version": 3,
     "solution": false,
     "task": false
    }
   },
   "source": [
    "<br />\n",
    "<br />\n",
    "<br />\n",
    "<br />"
   ]
  },
  {
   "cell_type": "markdown",
   "metadata": {
    "deletable": false,
    "editable": false,
    "nbgrader": {
     "cell_type": "markdown",
     "checksum": "47f8f67ba06bd7d96086323bfa11eeee",
     "grade": false,
     "grade_id": "assignment-07-04-text",
     "locked": true,
     "schema_version": 3,
     "solution": false,
     "task": false
    }
   },
   "source": [
    "# 7.4 Neighbors of the same sign\n",
    "\n",
    "Given a list of integers, find and return the first adjacent elements which have the same sign.  \n",
    "Return the pair as a `tuple`. If there is no such pair, return `None` (default when nothing is returned from a function).\n",
    "\n",
    "The input list is created by entering a single line with numbers separated by spaces in the test cell.  \n",
    "The test cell will take care of converting the input to a list of **integers** for you, which is then passed to your function.\n",
    "\n",
    "You may assume that none of the input numbers are zero.\n",
    "\n",
    "## Example input\n",
    "```python\n",
    "-1 2 3 -1 -2\n",
    "```\n",
    "\n",
    "## Example return value\n",
    "```python\n",
    "(2, 3)\n",
    "```"
   ]
  },
  {
   "cell_type": "code",
   "execution_count": 58,
   "metadata": {
    "deletable": false,
    "nbgrader": {
     "cell_type": "code",
     "checksum": "dbce8621c86d2c529a77db87d7e0ea42",
     "grade": false,
     "grade_id": "assignment-07-04-code",
     "locked": false,
     "schema_version": 3,
     "solution": true,
     "task": false
    }
   },
   "outputs": [],
   "source": [
    "# Code for assignment 7.4\n",
    "\n",
    "def assignment_7_4(numbers):\n",
    "    result = [numbers[0]]\n",
    "    for number in numbers[1:]: \n",
    "        result.append(number)\n",
    "        if result[0] * result[1] > 0:\n",
    "            return tuple(result)\n",
    "        else:\n",
    "            del result[0]\n"
   ]
  },
  {
   "cell_type": "code",
   "execution_count": 59,
   "metadata": {
    "deletable": false,
    "editable": false,
    "nbgrader": {
     "cell_type": "code",
     "checksum": "c1a631d029af3e04cb23e5dbad64b85f",
     "grade": false,
     "grade_id": "assignment-07-04-test",
     "locked": true,
     "schema_version": 3,
     "solution": false,
     "task": false
    }
   },
   "outputs": [
    {
     "name": "stdin",
     "output_type": "stream",
     "text": [
      "Please enter a series of integer numbers, separated by spaces (Press Enter for default values -1 2 3 -1 -2):  \n"
     ]
    },
    {
     "name": "stdout",
     "output_type": "stream",
     "text": [
      "\n",
      "The first pair with the same sign in the list [-1, 2, 3, -1, -2] (if any) is:\n",
      "(2, 3)\n"
     ]
    }
   ],
   "source": [
    "# Test for assignment 7.4\n",
    "\n",
    "test_cell_7_4(assignment_7_4)"
   ]
  },
  {
   "cell_type": "code",
   "execution_count": 60,
   "metadata": {
    "deletable": false,
    "editable": false,
    "nbgrader": {
     "cell_type": "code",
     "checksum": "d6b038d9dae9f889509504357092a518",
     "grade": true,
     "grade_id": "assignment-07-04-assert",
     "locked": true,
     "points": 1,
     "schema_version": 3,
     "solution": false,
     "task": false
    }
   },
   "outputs": [
    {
     "name": "stdout",
     "output_type": "stream",
     "text": [
      "Call assignment_7_4([-1, 2, 3, -1, -2]) ... OK\n",
      "Call assignment_7_4([1, -3, 4, -2, 1]) ... OK\n",
      "Call assignment_7_4([1, 2, -3, -4, -5]) ... OK\n",
      "Call assignment_7_4([1, -2, 3, -4, -5]) ... OK\n",
      "Call assignment_7_4([1, -2, 3, -4, 5, 6]) ... OK\n",
      "Call assignment_7_4([-1, 2, -3, 4, -5, 6]) ... OK\n",
      "Call assignment_7_4([1, -2, 3, -4, 5, -6]) ... OK\n",
      "Call assignment_7_4([1, -2, 3, -4]) ... OK\n",
      "Call assignment_7_4([-1, 2, -3, 4]) ... OK\n",
      "Call assignment_7_4([1, 2, 3, 4]) ... OK\n",
      "Call assignment_7_4([-1, -2, -3, -4]) ... OK\n",
      "Call assignment_7_4([1, -1, 1, -1, -1, 1, -1, 1, -1, 1]) ... OK\n",
      "Call assignment_7_4([1, -1, 1, -1, 1, 1, -1, 1, -1, 1]) ... OK\n",
      "Call assignment_7_4([1, -1, 1, -1, 1]) ... OK\n",
      "Call assignment_7_4([-1, 1, -1, 1, -1]) ... OK\n",
      "\n",
      "Well done! You seem to have solved assignment_7_4!\n"
     ]
    }
   ],
   "source": [
    "# Assertion for assignment 7.4\n",
    "\n",
    "check_assertion(assignment_7_4)"
   ]
  },
  {
   "cell_type": "markdown",
   "metadata": {
    "deletable": false,
    "editable": false,
    "nbgrader": {
     "cell_type": "markdown",
     "checksum": "52960b95048840a26b95696713e09ad4",
     "grade": false,
     "grade_id": "assignment-07-05-spacer",
     "locked": true,
     "schema_version": 3,
     "solution": false,
     "task": false
    }
   },
   "source": [
    "<br />\n",
    "<br />\n",
    "<br />\n",
    "<br />"
   ]
  },
  {
   "cell_type": "markdown",
   "metadata": {
    "deletable": false,
    "editable": false,
    "nbgrader": {
     "cell_type": "markdown",
     "checksum": "812496971b5da35c08e3d8e58b8324ca",
     "grade": false,
     "grade_id": "assignment-07-05-text",
     "locked": true,
     "schema_version": 3,
     "solution": false,
     "task": false
    }
   },
   "source": [
    "# 7.5 Greater than neighbors\n",
    "\n",
    "Given a list of integers, determine and return how many of the elements are greater than both of their neighbours (i.e. greater than its predecessor as well as its successor).\n",
    "\n",
    "The first and the last items of the list shouldn't be considered because they don't have two neighbours.\n",
    "\n",
    "The input list is created by entering a single line with numbers separated by spaces in the test cell.  \n",
    "The test cell will take care of converting the input to a list of **integers** for you, which is then passed to your function.\n",
    "\n",
    "## Example input\n",
    "```python\n",
    "1 2 5 4 3\n",
    "```\n",
    "\n",
    "## Example return value\n",
    "```python\n",
    "1\n",
    "```"
   ]
  },
  {
   "cell_type": "code",
   "execution_count": 70,
   "metadata": {
    "deletable": false,
    "nbgrader": {
     "cell_type": "code",
     "checksum": "59b20de3fc9af7e344e3d288e8ce9d91",
     "grade": false,
     "grade_id": "assignment-07-05-code",
     "locked": false,
     "schema_version": 3,
     "solution": true,
     "task": false
    }
   },
   "outputs": [],
   "source": [
    "# Code for assignment 7.5\n",
    "\n",
    "def assignment_7_5(numbers):\n",
    "    result = []\n",
    "    for pos, number in enumerate(numbers[1:len(numbers)-1], start = 1): \n",
    "        if number > max(numbers[pos - 1], numbers[pos + 1]):\n",
    "            result.append(number)\n",
    "    return len(result)"
   ]
  },
  {
   "cell_type": "code",
   "execution_count": 71,
   "metadata": {
    "deletable": false,
    "editable": false,
    "nbgrader": {
     "cell_type": "code",
     "checksum": "50247e40d6ca30e8c5b238d7f7b3ff2c",
     "grade": false,
     "grade_id": "assignment-07-05-test",
     "locked": true,
     "schema_version": 3,
     "solution": false,
     "task": false
    }
   },
   "outputs": [
    {
     "name": "stdin",
     "output_type": "stream",
     "text": [
      "Please enter a series of integer numbers, separated by spaces (Press Enter for default values 1 2 5 4 3):  \n"
     ]
    },
    {
     "name": "stdout",
     "output_type": "stream",
     "text": [
      "\n",
      "The number of elements in [1, 2, 5, 4, 3] that are greater than both neighbors is:\n",
      "1\n"
     ]
    }
   ],
   "source": [
    "## Test for assignment 7.5\n",
    "\n",
    "test_cell_7_5(assignment_7_5)"
   ]
  },
  {
   "cell_type": "code",
   "execution_count": 72,
   "metadata": {
    "deletable": false,
    "editable": false,
    "nbgrader": {
     "cell_type": "code",
     "checksum": "5aa60006c4e4997dd4f0d95d9bbc9be0",
     "grade": true,
     "grade_id": "assignment-07-05-assert",
     "locked": true,
     "points": 1,
     "schema_version": 3,
     "solution": false,
     "task": false
    }
   },
   "outputs": [
    {
     "name": "stdout",
     "output_type": "stream",
     "text": [
      "Call assignment_7_5([1, 2, 3, 4, 5]) ... OK\n",
      "Call assignment_7_5([5, 4, 3, 2, 1]) ... OK\n",
      "Call assignment_7_5([1, 5, 1, 5, 1]) ... OK\n",
      "Call assignment_7_5([5, 1, 5, 1, 5]) ... OK\n",
      "Call assignment_7_5([5, 5, 5, 5, 5]) ... OK\n",
      "Call assignment_7_5([1, 1, 1, 5, 1]) ... OK\n",
      "Call assignment_7_5([345354]) ... OK\n",
      "Call assignment_7_5([1, 465]) ... OK\n",
      "Call assignment_7_5([4, -54643]) ... OK\n",
      "Call assignment_7_5([2147483647, 0, 1, 2, 3]) ... OK\n",
      "Call assignment_7_5([1, 2, 3, 4, -2147483648]) ... OK\n",
      "Call assignment_7_5([-9, 29, -100, 64, 26, 73, -96, 28, -92, 11, -14, -86, -54, -67]) ... OK\n",
      "Call assignment_7_5([2147483647, 0, 1, 0, 2147483647]) ... OK\n",
      "\n",
      "Well done! You seem to have solved assignment_7_5!\n"
     ]
    }
   ],
   "source": [
    "# Assertion for assignment 7.5\n",
    "\n",
    "check_assertion(assignment_7_5)"
   ]
  },
  {
   "cell_type": "markdown",
   "metadata": {
    "deletable": false,
    "editable": false,
    "nbgrader": {
     "cell_type": "markdown",
     "checksum": "3e028ab22b6da4b652d09911f9225301",
     "grade": false,
     "grade_id": "assignment-07-06-spacer",
     "locked": true,
     "schema_version": 3,
     "solution": false,
     "task": false
    }
   },
   "source": [
    "<br />\n",
    "<br />\n",
    "<br />\n",
    "<br />"
   ]
  },
  {
   "cell_type": "markdown",
   "metadata": {
    "deletable": false,
    "editable": false,
    "nbgrader": {
     "cell_type": "markdown",
     "checksum": "d84e7869fa515d410901a6088b531668",
     "grade": false,
     "grade_id": "assignment-07-06-text",
     "locked": true,
     "schema_version": 3,
     "solution": false,
     "task": false
    }
   },
   "source": [
    "# 7.6 The largest element\n",
    "\n",
    "Given a list of integers. Determine the element in the list with the largest value.  \n",
    "Return a tuple with the value of the largest element and the corresponding index.  \n",
    "If the highest element is not unique, return the index of the first instance.\n",
    "\n",
    "The input list is created by entering a single line with numbers separated by spaces in the test cell.  \n",
    "The test cell will take care of converting the input to a list of **integers** for you, which is then passed to your function.\n",
    "\n",
    "## Example input\n",
    "```python\n",
    "1 2 3 2 1\n",
    "```\n",
    "\n",
    "## Example return value\n",
    "```python\n",
    "(3, 2)\n",
    "```"
   ]
  },
  {
   "cell_type": "code",
   "execution_count": 73,
   "metadata": {
    "deletable": false,
    "nbgrader": {
     "cell_type": "code",
     "checksum": "e02ec503c19bbfe4585676429de735bc",
     "grade": false,
     "grade_id": "assignment-07-06-code",
     "locked": false,
     "schema_version": 3,
     "solution": true,
     "task": false
    }
   },
   "outputs": [],
   "source": [
    "# Code for assignment 7.6\n",
    "\n",
    "def assignment_7_6(numbers):\n",
    "    return (max(numbers), numbers.index(max(numbers)))"
   ]
  },
  {
   "cell_type": "code",
   "execution_count": 74,
   "metadata": {
    "deletable": false,
    "editable": false,
    "nbgrader": {
     "cell_type": "code",
     "checksum": "15f9dfe9f628d9779847429a66dc3225",
     "grade": false,
     "grade_id": "assignment-07-06-test",
     "locked": true,
     "schema_version": 3,
     "solution": false,
     "task": false
    }
   },
   "outputs": [
    {
     "name": "stdin",
     "output_type": "stream",
     "text": [
      "Please enter a series of integer numbers, separated by spaces (Press Enter for default values 1 2 3 2 1):  \n"
     ]
    },
    {
     "name": "stdout",
     "output_type": "stream",
     "text": [
      "\n",
      "The largest element and its index in [1, 2, 3, 2, 1] are:\n",
      "(3, 2)\n"
     ]
    }
   ],
   "source": [
    "# Test for assignment 7.6\n",
    "\n",
    "test_cell_7_6(assignment_7_6)"
   ]
  },
  {
   "cell_type": "code",
   "execution_count": 75,
   "metadata": {
    "deletable": false,
    "editable": false,
    "nbgrader": {
     "cell_type": "code",
     "checksum": "3ba945f24d5b893690a6129b9c3b799a",
     "grade": true,
     "grade_id": "assignment-07-06-assert",
     "locked": true,
     "points": 1,
     "schema_version": 3,
     "solution": false,
     "task": false
    }
   },
   "outputs": [
    {
     "name": "stdout",
     "output_type": "stream",
     "text": [
      "Call assignment_7_6([1, 2, 3, 2, 1]) ... OK\n",
      "Call assignment_7_6([1, 2, 3]) ... OK\n",
      "Call assignment_7_6([1, 3, 2]) ... OK\n",
      "Call assignment_7_6([2, 1, 3]) ... OK\n",
      "Call assignment_7_6([2, 3, 1]) ... OK\n",
      "Call assignment_7_6([3, 2, 1]) ... OK\n",
      "Call assignment_7_6([3, 1, 2]) ... OK\n",
      "Call assignment_7_6([1, 2, 3, 4, 5]) ... OK\n",
      "Call assignment_7_6([5, 4, 3, 2, 1]) ... OK\n",
      "Call assignment_7_6([-1, -2, -3, -4, -5]) ... OK\n",
      "Call assignment_7_6([-5, -4, -3, -2, -1]) ... OK\n",
      "Call assignment_7_6([2147483647, 2147483646, 2147483645]) ... OK\n",
      "Call assignment_7_6([-2147483648, -2147483647, -2147483646]) ... OK\n",
      "Call assignment_7_6([-2147483648, -2147483648, -2147483648]) ... OK\n",
      "Call assignment_7_6([-2147483646, -2147483647, -2147483648]) ... OK\n",
      "Call assignment_7_6([-100, -100, -100, -100, -100]) ... OK\n",
      "Call assignment_7_6([-2147483648, 0, 2147483647]) ... OK\n",
      "Call assignment_7_6([2147483647, 0, -2147483648]) ... OK\n",
      "Call assignment_7_6([-79, 92, 70, 72, 28, 45, 37, -86, -12, 0, -27, -14, -69, 63, -68, 74, 45, 49, 96, -20]) ... OK\n",
      "Call assignment_7_6([53, 14, 53, -77, -31, 48, 51, 49, -73, -23, -19, 93, 85, -50, -73, 59, 67, -99, 98, 11]) ... OK\n",
      "Call assignment_7_6([-2147483648]) ... OK\n",
      "\n",
      "Well done! You seem to have solved assignment_7_6!\n"
     ]
    }
   ],
   "source": [
    "# Assertion for assignment 7.6\n",
    "\n",
    "check_assertion(assignment_7_6)"
   ]
  },
  {
   "cell_type": "markdown",
   "metadata": {
    "deletable": false,
    "editable": false,
    "nbgrader": {
     "cell_type": "markdown",
     "checksum": "fe5834708bb086918a43b4beac9eb311",
     "grade": false,
     "grade_id": "assignment-07-07-spacer",
     "locked": true,
     "schema_version": 3,
     "solution": false,
     "task": false
    }
   },
   "source": [
    "<br />\n",
    "<br />\n",
    "<br />\n",
    "<br />"
   ]
  },
  {
   "cell_type": "markdown",
   "metadata": {
    "deletable": false,
    "editable": false,
    "nbgrader": {
     "cell_type": "markdown",
     "checksum": "f5c2a4c5f1a70e7b5255ceaf8e52a8f1",
     "grade": false,
     "grade_id": "assignment-07-07-text",
     "locked": true,
     "schema_version": 3,
     "solution": false,
     "task": false
    }
   },
   "source": [
    "# 7.7 The number of distinct elements\n",
    "\n",
    "Given a list of integers with all of its elements sorted in ascending order, determine and return how many distinct elements it contains.\n",
    "\n",
    "The input list is created by entering a single line with numbers separated by spaces in the test cell.  \n",
    "The test cell will take care of converting the input to a list of **integers** for you, which is then passed to your function.\n",
    "\n",
    "## Example input\n",
    "```python\n",
    "1 2 2 3 3 3\n",
    "```\n",
    "\n",
    "## Example return value\n",
    "```python\n",
    "3\n",
    "```"
   ]
  },
  {
   "cell_type": "code",
   "execution_count": 76,
   "metadata": {
    "deletable": false,
    "nbgrader": {
     "cell_type": "code",
     "checksum": "4316d4726631da448b30d8e1938ce5a2",
     "grade": false,
     "grade_id": "assignment-07-07-code",
     "locked": false,
     "schema_version": 3,
     "solution": true,
     "task": false
    }
   },
   "outputs": [],
   "source": [
    "# Code for assignment 7.7\n",
    "\n",
    "def assignment_7_7(numbers):\n",
    "    result = []\n",
    "    for number in numbers:\n",
    "        if number not in result:\n",
    "            result.append(number)\n",
    "    return len(result) "
   ]
  },
  {
   "cell_type": "code",
   "execution_count": 77,
   "metadata": {
    "deletable": false,
    "editable": false,
    "nbgrader": {
     "cell_type": "code",
     "checksum": "3acdaca64e43ad159745ad70f3718586",
     "grade": false,
     "grade_id": "assignment-07-07-test",
     "locked": true,
     "schema_version": 3,
     "solution": false,
     "task": false
    }
   },
   "outputs": [
    {
     "name": "stdin",
     "output_type": "stream",
     "text": [
      "Please enter a series of integer numbers, separated by spaces (Press Enter for default values 1 2 2 3 3 3):  \n"
     ]
    },
    {
     "name": "stdout",
     "output_type": "stream",
     "text": [
      "\n",
      "The quantity of distinct elements in [1, 2, 2, 3, 3, 3] is:\n",
      "3\n"
     ]
    }
   ],
   "source": [
    "# Test for assignment 7.7\n",
    "    \n",
    "test_cell_7_7(assignment_7_7)"
   ]
  },
  {
   "cell_type": "code",
   "execution_count": 78,
   "metadata": {
    "deletable": false,
    "editable": false,
    "nbgrader": {
     "cell_type": "code",
     "checksum": "1031d30b5f5738e26d47b138cfcb9f75",
     "grade": true,
     "grade_id": "assignment-07-07-assert",
     "locked": true,
     "points": 1,
     "schema_version": 3,
     "solution": false,
     "task": false
    }
   },
   "outputs": [
    {
     "name": "stdout",
     "output_type": "stream",
     "text": [
      "Call assignment_7_7([1, 2, 2, 3, 3, 3]) ... OK\n",
      "Call assignment_7_7([1, 2, 3, 4, 5]) ... OK\n",
      "Call assignment_7_7([1, 1, 1, 1, 1]) ... OK\n",
      "Call assignment_7_7([1, 1, 2, 2, 2, 3, 4, 5, 6, 7]) ... OK\n",
      "Call assignment_7_7([-100, -99, -98, -97, -96]) ... OK\n",
      "Call assignment_7_7([-100, -100, -98, -50, 1]) ... OK\n",
      "Call assignment_7_7([-64, -45, -38, -16, -14, -7, 2, 53, 70, 80, 80]) ... OK\n",
      "\n",
      "Well done! You seem to have solved assignment_7_7!\n"
     ]
    }
   ],
   "source": [
    "# Assertion for assignment 7.7\n",
    "\n",
    "check_assertion(assignment_7_7)"
   ]
  },
  {
   "cell_type": "markdown",
   "metadata": {
    "deletable": false,
    "editable": false,
    "nbgrader": {
     "cell_type": "markdown",
     "checksum": "9c15ff8cc3c3266e473e6c608b78a030",
     "grade": false,
     "grade_id": "assignment-07-08-spacer",
     "locked": true,
     "schema_version": 3,
     "solution": false,
     "task": false
    }
   },
   "source": [
    "<br />\n",
    "<br />\n",
    "<br />\n",
    "<br />"
   ]
  },
  {
   "cell_type": "markdown",
   "metadata": {
    "deletable": false,
    "editable": false,
    "nbgrader": {
     "cell_type": "markdown",
     "checksum": "51b2c696c21b76951fdd0dcc9d90d77a",
     "grade": false,
     "grade_id": "assignment-07-08-text",
     "locked": true,
     "schema_version": 3,
     "solution": false,
     "task": false
    }
   },
   "source": [
    "# 7.8 Swap neighbors\n",
    "\n",
    "Given a list of integers, swap adjacent items in pairs (so swap `A[0]` with `A[1]`, swap `A[2]` with `A[3]`, etc).  \n",
    "Return the resulting list. If a list has an odd number of elements, leave the last element in its place.\n",
    "\n",
    "The input list is created by entering a single line with numbers separated by spaces in the test cell.  \n",
    "The test cell will take care of converting the input to a list of **integers** for you, which is then passed to your function.\n",
    "\n",
    "## Example input\n",
    "```python\n",
    "1 2 3 4 5\n",
    "```\n",
    "\n",
    "## Example return value\n",
    "```python\n",
    "[2, 1, 4, 3, 5]\n",
    "```"
   ]
  },
  {
   "cell_type": "code",
   "execution_count": 92,
   "metadata": {
    "deletable": false,
    "nbgrader": {
     "cell_type": "code",
     "checksum": "490982ca7dd45d72ef66d6f3fa1d39d6",
     "grade": false,
     "grade_id": "assignment-07-08-code",
     "locked": false,
     "schema_version": 3,
     "solution": true,
     "task": false
    }
   },
   "outputs": [],
   "source": [
    "# Code for assignment 7.8\n",
    "\n",
    "def assignment_7_8(numbers):\n",
    "    result = []\n",
    "    \n",
    "    if len(numbers) % 2 == 0:\n",
    "        for index in range(0, len(numbers), 2):\n",
    "            result += [numbers[index + 1], numbers[index]]\n",
    "    \n",
    "    if len(numbers) % 2 == 1: \n",
    "        for index in range(0, len(numbers)-1, 2):\n",
    "            result += [numbers[index + 1], numbers[index]]\n",
    "        result.append(numbers[-1])\n",
    "                    \n",
    "    return result \n",
    "        \n",
    "            \n",
    "            \n",
    "            \n",
    "            "
   ]
  },
  {
   "cell_type": "code",
   "execution_count": 93,
   "metadata": {
    "deletable": false,
    "editable": false,
    "nbgrader": {
     "cell_type": "code",
     "checksum": "db0c8bdd6748a7353d0f55c0db3b9218",
     "grade": false,
     "grade_id": "assignment-07-08-test",
     "locked": true,
     "schema_version": 3,
     "solution": false,
     "task": false
    }
   },
   "outputs": [
    {
     "name": "stdin",
     "output_type": "stream",
     "text": [
      "Please enter a series of integer numbers, separated by spaces (Press Enter for default values 1 2 3 4 5):  \n"
     ]
    },
    {
     "name": "stdout",
     "output_type": "stream",
     "text": [
      "\n",
      "The result after swapping adjacent numbers in [1, 2, 3, 4, 5] is:\n",
      "[2, 1, 4, 3, 5]\n"
     ]
    }
   ],
   "source": [
    "# Test for assignment 7.8\n",
    "\n",
    "test_cell_7_8(assignment_7_8)"
   ]
  },
  {
   "cell_type": "code",
   "execution_count": 94,
   "metadata": {
    "deletable": false,
    "editable": false,
    "nbgrader": {
     "cell_type": "code",
     "checksum": "8e4f450b4484ab69d19126d2f75a40e2",
     "grade": true,
     "grade_id": "assignment-07-08-assert",
     "locked": true,
     "points": 1,
     "schema_version": 3,
     "solution": false,
     "task": false
    }
   },
   "outputs": [
    {
     "name": "stdout",
     "output_type": "stream",
     "text": [
      "Call assignment_7_8([1, 2, 3, 4, 5]) ... OK\n",
      "Call assignment_7_8([4, 5, 3, 4, 2, 3]) ... OK\n",
      "Call assignment_7_8([9, 4, 5, 2, 3]) ... OK\n",
      "Call assignment_7_8([6]) ... OK\n",
      "Call assignment_7_8([7, 8]) ... OK\n",
      "Call assignment_7_8([1, 2, 3]) ... OK\n",
      "Call assignment_7_8([90, 45, 3, 43]) ... OK\n",
      "Call assignment_7_8([40, 64, -80, -98, -68, 56, 85, 87, -68, -78]) ... OK\n",
      "Call assignment_7_8([-1, -11, -40, 3, -47, -37, -18, -100, 6, -29, 14, -1, -89, -20, -36, 7, 5, 78, -5, 85]) ... OK\n",
      "Call assignment_7_8([-46, 35, 72, -79, 38, -32, 1, 23, -84, -84, 50, -46, -57, -44, 72, 33, 91, -6, 88, 91, -12, -76, -78, 95, 63, 45, 54, 13, 58, -19, 30, 48, -98, 37, 97]) ... OK\n",
      "\n",
      "Well done! You seem to have solved assignment_7_8!\n"
     ]
    }
   ],
   "source": [
    "# Assertion for assignment 7.8\n",
    "\n",
    "check_assertion(assignment_7_8)"
   ]
  },
  {
   "cell_type": "markdown",
   "metadata": {
    "deletable": false,
    "editable": false,
    "nbgrader": {
     "cell_type": "markdown",
     "checksum": "9ddcd5f4d07329181b3d290ff3ddc624",
     "grade": false,
     "grade_id": "assignment-07-09-spacer",
     "locked": true,
     "schema_version": 3,
     "solution": false,
     "task": false
    }
   },
   "source": [
    "<br />\n",
    "<br />\n",
    "<br />\n",
    "<br />"
   ]
  },
  {
   "cell_type": "markdown",
   "metadata": {
    "deletable": false,
    "editable": false,
    "nbgrader": {
     "cell_type": "markdown",
     "checksum": "544c930bb568972c7964ad86932ea741",
     "grade": false,
     "grade_id": "assignment-07-09-text",
     "locked": true,
     "schema_version": 3,
     "solution": false,
     "task": false
    }
   },
   "source": [
    "# 7.9 Swap min and max\n",
    "\n",
    "Given a list of distinct integers, swap the smallest and largest elements of this list, leaving all of the other elements in place.\n",
    "\n",
    "Return the resulting list.\n",
    "\n",
    "The input list is created by entering a single line with numbers separated by spaces in the test cell.  \n",
    "The test cell will take care of converting the input to a list of **integers** for you, which is then passed to your function.\n",
    "\n",
    "## Example input\n",
    "```python\n",
    "3 4 5 2 1\n",
    "```\n",
    "\n",
    "## Example return value\n",
    "```python\n",
    "[3, 4, 1, 2, 5]\n",
    "```"
   ]
  },
  {
   "cell_type": "code",
   "execution_count": 95,
   "metadata": {
    "deletable": false,
    "nbgrader": {
     "cell_type": "code",
     "checksum": "16ceb12c12fc20797a2964e9686222fc",
     "grade": false,
     "grade_id": "assignment-07-09-code",
     "locked": false,
     "schema_version": 3,
     "solution": true,
     "task": false
    }
   },
   "outputs": [],
   "source": [
    "# Code for assignment 7.9\n",
    "\n",
    "def assignment_7_9(numbers):\n",
    "    max_num = max(numbers)\n",
    "    min_num = min(numbers)\n",
    "    \n",
    "    index_max = numbers.index(max_num)\n",
    "    index_min = numbers.index(min_num) \n",
    "    \n",
    "    numbers[index_max] = min_num\n",
    "    numbers[index_min] = max_num \n",
    "    \n",
    "    return numbers"
   ]
  },
  {
   "cell_type": "code",
   "execution_count": 96,
   "metadata": {
    "deletable": false,
    "editable": false,
    "nbgrader": {
     "cell_type": "code",
     "checksum": "9250c0defc47edd8249b8320e4842de6",
     "grade": false,
     "grade_id": "assignment-07-09-test",
     "locked": true,
     "schema_version": 3,
     "solution": false,
     "task": false
    }
   },
   "outputs": [
    {
     "name": "stdin",
     "output_type": "stream",
     "text": [
      "Please enter a series of integer numbers, separated by spaces (Press Enter for default values 3 4 5 2 1):  \n"
     ]
    },
    {
     "name": "stdout",
     "output_type": "stream",
     "text": [
      "\n",
      "The result of swapping the minimum and maximum values in [3, 4, 5, 2, 1] is:\n",
      "[3, 4, 1, 2, 5]\n"
     ]
    }
   ],
   "source": [
    "# Test for assignment 7.9\n",
    "\n",
    "test_cell_7_9(assignment_7_9)"
   ]
  },
  {
   "cell_type": "code",
   "execution_count": 97,
   "metadata": {
    "deletable": false,
    "editable": false,
    "nbgrader": {
     "cell_type": "code",
     "checksum": "4cec5bd54c7da9e6d632e30cd1baa897",
     "grade": true,
     "grade_id": "assignment-07-09-assert",
     "locked": true,
     "points": 1,
     "schema_version": 3,
     "solution": false,
     "task": false
    }
   },
   "outputs": [
    {
     "name": "stdout",
     "output_type": "stream",
     "text": [
      "Call assignment_7_9([3, 4, 5, 2, 1]) ... OK\n",
      "Call assignment_7_9([1, 5, 4, 3, 2]) ... OK\n",
      "Call assignment_7_9([-30000, 30000]) ... OK\n",
      "Call assignment_7_9([1]) ... OK\n",
      "Call assignment_7_9([2147483647, -2147483648]) ... OK\n",
      "Call assignment_7_9([1, 2, 3, 4, 5, 6, 7, 8, 9, 10, 11, 12, 13, 14, 15, 16, 17, 18, 17, 16, 15, 14]) ... OK\n",
      "Call assignment_7_9([1, 2, 3, 4, 5, 6, 7, 8, 9, 10]) ... OK\n",
      "Call assignment_7_9([10, 9, 8, 7, 6, 5, 4, 3, 2, 1]) ... OK\n",
      "\n",
      "Well done! You seem to have solved assignment_7_9!\n"
     ]
    }
   ],
   "source": [
    "# Assertion for assignment 7.9\n",
    "\n",
    "check_assertion(assignment_7_9)"
   ]
  },
  {
   "cell_type": "markdown",
   "metadata": {
    "deletable": false,
    "editable": false,
    "nbgrader": {
     "cell_type": "markdown",
     "checksum": "b599549a023af3f44cb6da77c4cc6436",
     "grade": false,
     "grade_id": "assignment-7-10-spacer",
     "locked": true,
     "schema_version": 3,
     "solution": false,
     "task": false
    }
   },
   "source": [
    "<br />\n",
    "<br />\n",
    "<br />\n",
    "<br />"
   ]
  },
  {
   "cell_type": "markdown",
   "metadata": {
    "deletable": false,
    "editable": false,
    "nbgrader": {
     "cell_type": "markdown",
     "checksum": "e8fb642d3b0155036ea46356bf77ef81",
     "grade": false,
     "grade_id": "assignment-7-10-text",
     "locked": true,
     "schema_version": 3,
     "solution": false,
     "task": false
    }
   },
   "source": [
    "# 7.10 The number of equal pairs\n",
    "\n",
    "Given a list of integers, count and return how many element pairs have the same value (are equal).  \n",
    "Any two elements that are equal to each other should be counted exactly once.\n",
    "Note that the elements that you inspect as a pair do not have to be adjacent!\n",
    "\n",
    "The input list is created by entering a single line with numbers separated by spaces in the test cell.  \n",
    "The test cell will take care of converting the input to a list of **integers** for you, which is then passed to your function.\n",
    "\n",
    "**Hint**\n",
    "You will need to use a `for` loop inside of another `for` loop. The outer loop should cover all indices `idx1` of the list, and the inner list should cover all indices `idx2` which are greater than the current `idx1`. In this way, you will visit every distinct pair `idx1, idx2` exactly once.\n",
    "\n",
    "\n",
    "## Example input\n",
    "```python\n",
    "1 2 3 2 3\n",
    "```\n",
    "\n",
    "## Example return value\n",
    "```python\n",
    "2\n",
    "```"
   ]
  },
  {
   "cell_type": "code",
   "execution_count": 104,
   "metadata": {
    "deletable": false,
    "nbgrader": {
     "cell_type": "code",
     "checksum": "33a6854f6d3eb7160792961cf4416d36",
     "grade": false,
     "grade_id": "assignment-7-10-code",
     "locked": false,
     "schema_version": 3,
     "solution": true,
     "task": false
    }
   },
   "outputs": [],
   "source": [
    "# Code for assignment 7.10\n",
    "\n",
    "def assignment_7_10(numbers):\n",
    "    pairs = 0\n",
    "    counter = 0\n",
    "    for number in numbers[:-1]: \n",
    "        for pair in numbers[counter+1:]: \n",
    "            if number == pair: \n",
    "                pairs += 1\n",
    "        counter += 1\n",
    "        \n",
    "    return pairs \n",
    "                "
   ]
  },
  {
   "cell_type": "code",
   "execution_count": 105,
   "metadata": {},
   "outputs": [
    {
     "name": "stdin",
     "output_type": "stream",
     "text": [
      "Please enter a series of integer numbers, separated by spaces (Press Enter for default values 1 2 3 2 3):  \n"
     ]
    },
    {
     "name": "stdout",
     "output_type": "stream",
     "text": [
      "\n",
      "The number of equal pairs in [1, 2, 3, 2, 3] is:\n",
      "2\n"
     ]
    }
   ],
   "source": [
    "# Test for assignment 7.10\n",
    "\n",
    "test_cell_7_10(assignment_7_10)"
   ]
  },
  {
   "cell_type": "code",
   "execution_count": 106,
   "metadata": {
    "deletable": false,
    "editable": false,
    "nbgrader": {
     "cell_type": "code",
     "checksum": "1a4611b5939188bc636ea54a44a79eea",
     "grade": true,
     "grade_id": "assignment-7-10-assert",
     "locked": true,
     "points": 1,
     "schema_version": 3,
     "solution": false,
     "task": false
    }
   },
   "outputs": [
    {
     "name": "stdout",
     "output_type": "stream",
     "text": [
      "Call assignment_7_10([1, 2, 3, 2, 3]) ... OK\n",
      "Call assignment_7_10([1, 1, 1, 1, 1]) ... OK\n",
      "Call assignment_7_10([1, 2, 3]) ... OK\n",
      "Call assignment_7_10([1, 1, 1]) ... OK\n",
      "Call assignment_7_10([2, 3]) ... OK\n",
      "Call assignment_7_10([2, 2]) ... OK\n",
      "Call assignment_7_10([0, 0]) ... OK\n",
      "Call assignment_7_10([0, 0, 6, 1, 1, 4, 2, 1, 2, 2]) ... OK\n",
      "Call assignment_7_10([0, 1, 43, 10, 13, 33, 15, 8, 18, 21]) ... OK\n",
      "Call assignment_7_10([3, 2, 1, 2, 2, 4, 3, 2, 5, 3, 2]) ... OK\n",
      "\n",
      "Well done! You seem to have solved assignment_7_10!\n"
     ]
    }
   ],
   "source": [
    "# Assertion for assignment 7.10\n",
    "\n",
    "check_assertion(assignment_7_10)"
   ]
  },
  {
   "cell_type": "markdown",
   "metadata": {
    "deletable": false,
    "editable": false,
    "nbgrader": {
     "cell_type": "markdown",
     "checksum": "ec5072b64617a3709ee31d9731bd98a0",
     "grade": false,
     "grade_id": "assignment-7-11-spacer",
     "locked": true,
     "schema_version": 3,
     "solution": false,
     "task": false
    }
   },
   "source": [
    "<br />\n",
    "<br />\n",
    "<br />\n",
    "<br />"
   ]
  },
  {
   "cell_type": "markdown",
   "metadata": {
    "deletable": false,
    "editable": false,
    "nbgrader": {
     "cell_type": "markdown",
     "checksum": "4def3fb72bebadcea670830d278062f3",
     "grade": false,
     "grade_id": "assignment-7-11-text",
     "locked": true,
     "schema_version": 3,
     "solution": false,
     "task": false
    }
   },
   "source": [
    "# 7.11 Unique elements\n",
    "\n",
    "Given a list of integers, find and return the elements that appear in the list only once.  \n",
    "The elements in the returned list must be in the same order in which they occur in the original list.  \n",
    "Return an empty list in case there are no elements that only appear once.\n",
    "\n",
    "The input list is created by entering a single line with numbers separated by spaces in the test cell.  \n",
    "The test cell will take care of converting the input to a list of **integers** for you, which is then passed to your function.\n",
    "\n",
    "## Example input\n",
    "```python\n",
    "1 2 2 3 3 3\n",
    "```\n",
    "\n",
    "## Example return value\n",
    "```python\n",
    "[1]\n",
    "```"
   ]
  },
  {
   "cell_type": "code",
   "execution_count": 119,
   "metadata": {
    "deletable": false,
    "nbgrader": {
     "cell_type": "code",
     "checksum": "8923558ad420f89f19df2b88d241f5cc",
     "grade": false,
     "grade_id": "assignment-7-11-code",
     "locked": false,
     "schema_version": 3,
     "solution": true,
     "task": false
    }
   },
   "outputs": [],
   "source": [
    "# Code for assignment 7.11\n",
    "\n",
    "def assignment_7_11(numbers):\n",
    "    result = []\n",
    "    for number in numbers: \n",
    "        if number not in result:\n",
    "            counter = 0 \n",
    "            for occurrence in numbers: \n",
    "                if number == occurrence:\n",
    "                    counter += 1\n",
    "        if counter == 1:\n",
    "            result.append(number) \n",
    "    \n",
    "    return result \n",
    "        "
   ]
  },
  {
   "cell_type": "code",
   "execution_count": 120,
   "metadata": {
    "deletable": false,
    "editable": false,
    "nbgrader": {
     "cell_type": "code",
     "checksum": "532c4b6a643aeccc3687879b44416d02",
     "grade": false,
     "grade_id": "assignment-7-11-test",
     "locked": true,
     "schema_version": 3,
     "solution": false,
     "task": false
    }
   },
   "outputs": [
    {
     "name": "stdin",
     "output_type": "stream",
     "text": [
      "Please enter a series of integer numbers, separated by spaces (Press Enter for default values 1 2 2 3 3 3):  \n"
     ]
    },
    {
     "name": "stdout",
     "output_type": "stream",
     "text": [
      "\n",
      "The numbers that only occur once in [1, 2, 2, 3, 3, 3] are:\n",
      "[1]\n"
     ]
    }
   ],
   "source": [
    "# Test for assignment 7.11\n",
    "\n",
    "test_cell_7_11(assignment_7_11)"
   ]
  },
  {
   "cell_type": "code",
   "execution_count": 121,
   "metadata": {
    "deletable": false,
    "editable": false,
    "nbgrader": {
     "cell_type": "code",
     "checksum": "631aae129d49a210cd26e6c494ff23b9",
     "grade": true,
     "grade_id": "assignment-7-11-assert",
     "locked": true,
     "points": 1,
     "schema_version": 3,
     "solution": false,
     "task": false
    }
   },
   "outputs": [
    {
     "name": "stdout",
     "output_type": "stream",
     "text": [
      "Call assignment_7_11([1, 2, 2, 3, 3, 3]) ... OK\n",
      "Call assignment_7_11([4, 3, 5, 2, 5, 1, 3, 5]) ... OK\n",
      "Call assignment_7_11([6, 9, 6, 23, 12, 19, 14, 26]) ... OK\n",
      "Call assignment_7_11([21, 21, 16, 20, 28, 28, 7]) ... OK\n",
      "Call assignment_7_11([21]) ... OK\n",
      "Call assignment_7_11([5, 2, 29, 4, 28, 8]) ... OK\n",
      "Call assignment_7_11([4, 2, 9, 3, 2, 9, 7, 8, 4]) ... OK\n",
      "\n",
      "Well done! You seem to have solved assignment_7_11!\n"
     ]
    }
   ],
   "source": [
    "# Assertion for assignment 7.11\n",
    "\n",
    "check_assertion(assignment_7_11)"
   ]
  },
  {
   "cell_type": "markdown",
   "metadata": {
    "deletable": false,
    "editable": false,
    "nbgrader": {
     "cell_type": "markdown",
     "checksum": "5767c9403a32862174253ca8e602f018",
     "grade": false,
     "grade_id": "assignment-7-12-spacer",
     "locked": true,
     "schema_version": 3,
     "solution": false,
     "task": false
    }
   },
   "source": [
    "<br />\n",
    "<br />\n",
    "<br />\n",
    "<br />"
   ]
  },
  {
   "cell_type": "markdown",
   "metadata": {
    "deletable": false,
    "editable": false,
    "nbgrader": {
     "cell_type": "markdown",
     "checksum": "afe1ff6c1d7a5c5162ad312ac573ae06",
     "grade": false,
     "grade_id": "assignment-7-12-text",
     "locked": true,
     "schema_version": 3,
     "solution": false,
     "task": false
    }
   },
   "source": [
    "# 7.12 Queens\n",
    "\n",
    "In chess it is known to be possible to place 8 queens on an 8×8 chess board such that none of them can attack another.  \n",
    "Given a placement of 8 queens on the board, determine if there is a pair of queens that can attach each other on the next move.\n",
    "\n",
    "Return `False` if no queen can attack another, otherwise return `True`.\n",
    "\n",
    "In assignment 3.9, you have been working with the movement of the queen already.  \n",
    "As a refresher, the picture from that assignment is shown here again:\n",
    "\n",
    "<img src=\"figures/queen_move.svg\" alt=\"Queen move\" width=\"50%\"/>\n",
    "\n",
    "You probably can use (some of) the logic from that assignment here.\n",
    "\n",
    "In the test cell, the coordinates for each queen is requested as input. These are passed as a list of 8 tuples to your function. Each tuple contains the row and column index for each queen.\n",
    "\n",
    "You will notice that it is tougher to position 8 queens on a chess board where no queen is attacking another than when one or more are attacking each other. The example is one of those fewer positions.\n",
    "\n",
    "## Example input\n",
    "```python\n",
    "0 6\n",
    "1 3\n",
    "2 1\n",
    "3 7\n",
    "4 5\n",
    "5 0\n",
    "6 2\n",
    "7 4 \n",
    "```\n",
    "\n",
    "## Example return value\n",
    "```python\n",
    "False\n",
    "```"
   ]
  },
  {
   "cell_type": "code",
   "execution_count": 14,
   "metadata": {
    "deletable": false,
    "nbgrader": {
     "cell_type": "code",
     "checksum": "7c5dde3b588592bb117a405353e89067",
     "grade": false,
     "grade_id": "assignment-7-12-code",
     "locked": false,
     "schema_version": 3,
     "solution": true,
     "task": false
    }
   },
   "outputs": [],
   "source": [
    "# Code for assignment 7.12\n",
    "\n",
    "def assignment_7_12(coordinates):\n",
    "    counter = 0\n",
    "    is_attacking = False\n",
    "    for ref in coordinates[:-1]: \n",
    "        counter += 1\n",
    "        for i in coordinates[counter:]: \n",
    "            if (ref[0] == i[0]) or (ref[1] == i[1]) or (abs(ref[1]-i[1]) == abs(ref[0]-i[0])):\n",
    "                is_attacking = True\n",
    "                break\n",
    "        if is_attacking:\n",
    "            break\n",
    "    return is_attacking\n",
    "                "
   ]
  },
  {
   "cell_type": "code",
   "execution_count": 15,
   "metadata": {
    "deletable": false,
    "editable": false,
    "nbgrader": {
     "cell_type": "code",
     "checksum": "95f09e145d77bf5b5a6a42aba6d5698c",
     "grade": false,
     "grade_id": "assigment-7-12-test",
     "locked": true,
     "schema_version": 3,
     "solution": false,
     "task": false
    }
   },
   "outputs": [
    {
     "name": "stdin",
     "output_type": "stream",
     "text": [
      "Please enter a series of coordinates of for queen 1, separated by spaces (Press Enter for default values 0 6):  \n",
      "Please enter a series of coordinates of for queen 2, separated by spaces (Press Enter for default values 1 3):  \n",
      "Please enter a series of coordinates of for queen 3, separated by spaces (Press Enter for default values 2 1):  \n",
      "Please enter a series of coordinates of for queen 4, separated by spaces (Press Enter for default values 3 7):  \n",
      "Please enter a series of coordinates of for queen 5, separated by spaces (Press Enter for default values 4 5):  \n",
      "Please enter a series of coordinates of for queen 6, separated by spaces (Press Enter for default values 5 0):  \n",
      "Please enter a series of coordinates of for queen 7, separated by spaces (Press Enter for default values 6 2):  \n",
      "Please enter a series of coordinates of for queen 8, separated by spaces (Press Enter for default values 7 4):  \n"
     ]
    },
    {
     "name": "stdout",
     "output_type": "stream",
     "text": [
      "\n",
      "With queens on [(0, 6), (1, 3), (2, 1), (3, 7), (4, 5), (5, 0), (6, 2), (7, 4)],\n",
      "no queen is attacking any other queen.\n"
     ]
    }
   ],
   "source": [
    "# Test for assignment 7.12\n",
    "\n",
    "test_cell_7_12(assignment_7_12)"
   ]
  },
  {
   "cell_type": "code",
   "execution_count": 16,
   "metadata": {
    "deletable": false,
    "editable": false,
    "nbgrader": {
     "cell_type": "code",
     "checksum": "fea325dd060da653f0093e1cf9ab7f4c",
     "grade": true,
     "grade_id": "assignment-7-12-assert",
     "locked": true,
     "points": 1,
     "schema_version": 3,
     "solution": false,
     "task": false
    }
   },
   "outputs": [
    {
     "name": "stdout",
     "output_type": "stream",
     "text": [
      "Call assignment_7_12([(0, 6), (1, 3), (2, 1), (3, 7), (4, 5), (5, 0), (6, 2), (7, 4)]) ... OK\n",
      "Call assignment_7_12([(0, 7), (1, 6), (2, 5), (3, 4), (4, 3), (5, 2), (6, 1), (7, 0)]) ... OK\n",
      "Call assignment_7_12([(0, 6), (1, 1), (2, 3), (3, 0), (4, 7), (5, 5), (6, 2), (7, 4)]) ... OK\n",
      "Call assignment_7_12([(0, 1), (1, 4), (2, 6), (3, 0), (4, 2), (5, 7), (6, 5), (7, 3)]) ... OK\n",
      "Call assignment_7_12([(0, 2), (1, 6), (2, 1), (3, 7), (4, 4), (5, 0), (6, 3), (7, 5)]) ... OK\n",
      "Call assignment_7_12([(0, 3), (1, 1), (2, 5), (3, 2), (4, 6), (5, 0), (6, 7), (7, 4)]) ... OK\n",
      "Call assignment_7_12([(0, 3), (1, 1), (2, 6), (3, 0), (4, 5), (5, 7), (6, 4), (7, 2)]) ... OK\n",
      "Call assignment_7_12([(0, 3), (1, 1), (2, 6), (3, 5), (4, 0), (5, 7), (6, 4), (7, 2)]) ... OK\n",
      "Call assignment_7_12([(0, 3), (1, 1), (2, 4), (3, 2), (4, 0), (5, 6), (6, 3), (7, 5)]) ... OK\n",
      "Call assignment_7_12([(0, 4), (1, 1), (2, 3), (3, 0), (3, 6), (4, 2), (5, 7), (6, 5)]) ... OK\n",
      "Call assignment_7_12([(0, 2), (1, 0), (2, 5), (3, 7), (4, 5), (5, 3), (6, 6), (7, 4)]) ... OK\n",
      "Call assignment_7_12([(0, 1), (2, 0), (3, 5), (4, 7), (5, 2), (5, 4), (6, 6), (7, 3)]) ... OK\n",
      "Call assignment_7_12([(0, 0), (1, 1), (2, 2), (3, 3), (4, 4), (5, 5), (6, 6), (7, 7)]) ... OK\n",
      "Call assignment_7_12([(0, 6), (1, 0), (2, 1), (3, 2), (4, 3), (5, 5), (6, 7), (7, 4)]) ... OK\n",
      "\n",
      "Well done! You seem to have solved assignment_7_12!\n"
     ]
    }
   ],
   "source": [
    "check_assertion(assignment_7_12)"
   ]
  },
  {
   "cell_type": "markdown",
   "metadata": {
    "deletable": false,
    "editable": false,
    "nbgrader": {
     "cell_type": "markdown",
     "checksum": "4195e5574514e5bc0b8ff0553b524742",
     "grade": false,
     "grade_id": "assignment-7-13-spacer",
     "locked": true,
     "schema_version": 3,
     "solution": false,
     "task": false
    }
   },
   "source": [
    "<br />\n",
    "<br />\n",
    "<br />\n",
    "<br />"
   ]
  },
  {
   "cell_type": "markdown",
   "metadata": {
    "deletable": false,
    "editable": false,
    "nbgrader": {
     "cell_type": "markdown",
     "checksum": "c435bf493110e86182c9b2ebc443db09",
     "grade": false,
     "grade_id": "assignment-7-13-text",
     "locked": true,
     "schema_version": 3,
     "solution": false,
     "task": false
    }
   },
   "source": [
    "# 7.13 The bowling alley\n",
    "\n",
    "In bowling, the player starts with 10 pins at the far end of a lane.  \n",
    "The objective is to knock all the pins down with two balls.  \n",
    "A schematic overview is shown in the figure below.\n",
    "\n",
    "<img src=\"figures/bowling.jpg\" alt=\"Bowling pins\" width=\"50%\"/>\n",
    "\n",
    "In our representation, the bowling pins are represented by a list of booleans (`True` or `False`).\n",
    "At the start of the bowling turn, all pins are standing.  \n",
    "This is represented by a list with 10 `True` values.  \n",
    "The four pins in the back (from left to right) are represented in the list with indices 0, 1, 2 and 3.  \n",
    "Continuing in reading direction, the pin in front will be index 9. That is, the pins will be assigned positions as follows:\n",
    "\n",
    "```python\n",
    "0 1 2 3\n",
    " 4 5 6\n",
    "  7 8 \n",
    "   9\n",
    "```\n",
    "\n",
    "The assignment function takes a list of two tuples as input.  \n",
    "Each tuple contains the indices of the pins being knocked down with the ball.\n",
    "\n",
    "All pins standing (represented by an asterix) at the start of the round:\n",
    "```python\n",
    "* * * *\n",
    " * * *\n",
    "  * * \n",
    "   *\n",
    "```\n",
    "\n",
    "After a bowling **turn** with the list of two tuples:\n",
    "```python\n",
    "[[4, 7, 9], [8,]]\n",
    "```\n",
    "the following pins will still be standing (dots for knocked down pins):\n",
    "\n",
    "```python\n",
    "* * * *\n",
    " . * *\n",
    "  . .\n",
    "   .\n",
    "```\n",
    "\n",
    "The assignment function should return a list with 10 booleans indicating which pins are still standing (`True`)<br/>and which ones are knocked down (`False`). \n",
    "\n",
    "The test cell will request two lines with integers (0..9). Type them in separated by spaces.\n",
    "\n",
    "## Example input\n",
    "```python\n",
    "4 7 9\n",
    "8\n",
    "```\n",
    "\n",
    "## Example return value\n",
    "```python\n",
    "[True, True, True, True, False, True, True, False, False, False]\n",
    "```\n",
    "\n",
    "Represented as:\n",
    "```python\n",
    "* * * *\n",
    " . * *\n",
    "  . .\n",
    "   .\n",
    "```"
   ]
  },
  {
   "cell_type": "code",
   "execution_count": 33,
   "metadata": {
    "deletable": false,
    "nbgrader": {
     "cell_type": "code",
     "checksum": "690ebe8100977ec980647eedbf914225",
     "grade": false,
     "grade_id": "assignment-7-13-code",
     "locked": false,
     "schema_version": 3,
     "solution": true,
     "task": false
    }
   },
   "outputs": [],
   "source": [
    "# Code for assignment 7.13\n",
    "\n",
    "def assignment_7_13(turn):\n",
    "    result =[True for _ in range(10)]\n",
    "    \n",
    "    for i in turn: \n",
    "        for k in i: \n",
    "            result[k] = False\n",
    "    \n",
    "    return result"
   ]
  },
  {
   "cell_type": "code",
   "execution_count": 35,
   "metadata": {
    "deletable": false,
    "editable": false,
    "nbgrader": {
     "cell_type": "code",
     "checksum": "9dfd8ffeaee18a82b8847c83cf0084f4",
     "grade": false,
     "grade_id": "assignment-7-13-test",
     "locked": true,
     "schema_version": 3,
     "solution": false,
     "task": false
    }
   },
   "outputs": [
    {
     "name": "stdin",
     "output_type": "stream",
     "text": [
      "Please enter a series of pins knocked down in throw 1, separated by spaces (Press Enter for default values 4 7 9):  \n",
      "Please enter a series of pins knocked down in throw 2, separated by spaces (Press Enter for default values 8):  \n"
     ]
    },
    {
     "name": "stdout",
     "output_type": "stream",
     "text": [
      "Input as list of lists: [[4, 7, 9], [8]]\n",
      "\n",
      "\n",
      "You returned [True, True, True, True, False, True, True, False, False, False], representing:\n",
      "\n",
      "* * * * \n",
      " . * * \n",
      "  . . \n",
      "   .\n"
     ]
    }
   ],
   "source": [
    "# Test for assignment 7.13\n",
    "\n",
    "test_cell_7_13(assignment_7_13)"
   ]
  },
  {
   "cell_type": "code",
   "execution_count": 36,
   "metadata": {
    "deletable": false,
    "editable": false,
    "nbgrader": {
     "cell_type": "code",
     "checksum": "7138ecccb8fac20922f54fec020f5ba1",
     "grade": true,
     "grade_id": "assignment-7-13-assert",
     "locked": true,
     "points": 1,
     "schema_version": 3,
     "solution": false,
     "task": false
    }
   },
   "outputs": [
    {
     "name": "stdout",
     "output_type": "stream",
     "text": [
      "Call assignment_7_13([(4, 7, 9), (8,)]) ... OK\n",
      "Call assignment_7_13([(0, 1), (2, 3)]) ... OK\n",
      "Call assignment_7_13([(), ()]) ... OK\n",
      "Call assignment_7_13([(0, 1, 2, 3, 4), (5, 6, 7, 8, 9)]) ... OK\n",
      "Call assignment_7_13([(0, 2, 4), (6, 8)]) ... OK\n",
      "Call assignment_7_13([(1, 3, 5), (7, 9)]) ... OK\n",
      "\n",
      "Well done! You seem to have solved assignment_7_13!\n"
     ]
    }
   ],
   "source": [
    "# Assertion for assignment 7.13\n",
    "\n",
    "check_assertion(assignment_7_13)"
   ]
  }
 ],
 "metadata": {
  "kernelspec": {
   "display_name": "Python 3 (ipykernel)",
   "language": "python",
   "name": "python3"
  },
  "language_info": {
   "codemirror_mode": {
    "name": "ipython",
    "version": 3
   },
   "file_extension": ".py",
   "mimetype": "text/x-python",
   "name": "python",
   "nbconvert_exporter": "python",
   "pygments_lexer": "ipython3",
   "version": "3.9.18"
  }
 },
 "nbformat": 4,
 "nbformat_minor": 4
}
