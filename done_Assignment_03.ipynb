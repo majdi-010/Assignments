{
 "cells": [
  {
   "cell_type": "markdown",
   "metadata": {
    "deletable": false,
    "editable": false,
    "nbgrader": {
     "cell_type": "markdown",
     "checksum": "636a3e7efa7e045f0fd43c35365475a6",
     "grade": false,
     "grade_id": "introduction",
     "locked": true,
     "schema_version": 3,
     "solution": false,
     "task": false
    }
   },
   "source": [
    "# 3. Conditions: if, then, else\n",
    "\n",
    "This Jupyter Notebook contains the [problems, or assignments, for Lesson 3](https://snakify.org/en/lessons/if_then_else_conditions/problems/), gratefully imported from the online course on [Snakify](https://snakify.org). If you get stuck, you can either ask the teacher and the teaching assistents, or skim through the [theory](https://snakify.org/en/lessons/if_then_else_conditions/) and [explanation of the steps](https://snakify.org/en/lessons/if_then_else_conditions/steps/1/) on Snakify."
   ]
  },
  {
   "cell_type": "code",
   "execution_count": 6,
   "metadata": {
    "deletable": false,
    "editable": false,
    "nbgrader": {
     "cell_type": "code",
     "checksum": "3d552f5c4c39249e5750262df758b85c",
     "grade": false,
     "grade_id": "import-assert",
     "locked": true,
     "schema_version": 3,
     "solution": false,
     "task": false
    }
   },
   "outputs": [
    {
     "name": "stdout",
     "output_type": "stream",
     "text": [
      "Assertions imported OK\n",
      "Test cells imported OK\n"
     ]
    }
   ],
   "source": [
    "# Please run the contents of this cell.\n",
    "# Select this cell and press Ctrl-Enter (or Command-Enter on mac).\n",
    "\n",
    "from assertions import *\n",
    "from test_cells import *"
   ]
  },
  {
   "cell_type": "markdown",
   "metadata": {
    "deletable": false,
    "editable": false,
    "nbgrader": {
     "cell_type": "markdown",
     "checksum": "8fb53ac59e4fbe4687f3f688faaf3734",
     "grade": false,
     "grade_id": "assignmet-3-1-spacer",
     "locked": true,
     "schema_version": 3,
     "solution": false,
     "task": false
    }
   },
   "source": [
    "<br />\n",
    "<br />\n",
    "<br />\n",
    "<br />"
   ]
  },
  {
   "cell_type": "markdown",
   "metadata": {
    "deletable": false,
    "editable": false,
    "nbgrader": {
     "cell_type": "markdown",
     "checksum": "32bcfce62870270f413eb4823d6d8241",
     "grade": false,
     "grade_id": "assignment-03-01-text",
     "locked": true,
     "schema_version": 3,
     "solution": false,
     "task": false
    }
   },
   "source": [
    "# 3.1 Minimum of two numbers\n",
    "\n",
    "Given two integers `a` and `b`, return the lesser value.\n",
    "\n",
    "## Example input\n",
    "\n",
    "```python\n",
    "3\n",
    "7\n",
    "```\n",
    "\n",
    "## Example return value\n",
    "\n",
    "```python\n",
    "3\n",
    "```"
   ]
  },
  {
   "cell_type": "code",
   "execution_count": 10,
   "metadata": {
    "deletable": false,
    "nbgrader": {
     "cell_type": "code",
     "checksum": "b2abee3478ddfd6a7c019ec7c8e5107b",
     "grade": false,
     "grade_id": "assignment-03-01-code",
     "locked": false,
     "schema_version": 3,
     "solution": true,
     "task": false
    }
   },
   "outputs": [],
   "source": [
    "# Code for assignment 3.1\n",
    "\n",
    "def assignment_3_1(a, b):\n",
    "    if a < b: \n",
    "        return a \n",
    "    else: \n",
    "        return b \n",
    "#Did not take into consideration the case when given a = b"
   ]
  },
  {
   "cell_type": "code",
   "execution_count": 11,
   "metadata": {
    "deletable": false,
    "editable": false,
    "nbgrader": {
     "cell_type": "code",
     "checksum": "ec85ae58c3860d73f1d44e1cc8c3286e",
     "grade": false,
     "grade_id": "assignment-03-01-test",
     "locked": true,
     "schema_version": 3,
     "solution": false,
     "task": false
    }
   },
   "outputs": [
    {
     "name": "stdin",
     "output_type": "stream",
     "text": [
      "Please enter integer value a (Press Enter for default value 3):  \n",
      "Please enter integer value b (Press Enter for default value 7):  \n"
     ]
    },
    {
     "name": "stdout",
     "output_type": "stream",
     "text": [
      "\n",
      "The minimum of 3 and 7 is:\n",
      "3\n"
     ]
    }
   ],
   "source": [
    "# Test for assignment 3.1\n",
    "\n",
    "test_cell_3_1(assignment_3_1)"
   ]
  },
  {
   "cell_type": "code",
   "execution_count": 12,
   "metadata": {
    "deletable": false,
    "editable": false,
    "nbgrader": {
     "cell_type": "code",
     "checksum": "19c10dc75c390b2acd33a63c1388e07d",
     "grade": true,
     "grade_id": "assignment-03-01-assert",
     "locked": true,
     "points": 1,
     "schema_version": 3,
     "solution": false,
     "task": false
    }
   },
   "outputs": [
    {
     "name": "stdout",
     "output_type": "stream",
     "text": [
      "Call assignment_3_1(3, 7) ... OK\n",
      "Call assignment_3_1(2, 2) ... OK\n",
      "Call assignment_3_1(15, 8) ... OK\n",
      "Call assignment_3_1(-15, -8) ... OK\n",
      "\n",
      "Well done! You seem to have solved assignment_3_1!\n"
     ]
    }
   ],
   "source": [
    "# Assertion for assignment 3.1\n",
    "\n",
    "check_assertion(assignment_3_1)"
   ]
  },
  {
   "cell_type": "markdown",
   "metadata": {
    "deletable": false,
    "editable": false,
    "nbgrader": {
     "cell_type": "markdown",
     "checksum": "ad289158e0bd434c7b700161d35beab0",
     "grade": false,
     "grade_id": "assignment-03-02-spacer",
     "locked": true,
     "schema_version": 3,
     "solution": false,
     "task": false
    }
   },
   "source": [
    "<br />\n",
    "<br />\n",
    "<br />\n",
    "<br />"
   ]
  },
  {
   "cell_type": "markdown",
   "metadata": {
    "deletable": false,
    "editable": false,
    "nbgrader": {
     "cell_type": "markdown",
     "checksum": "4b6331895dc5a144dc7efebc8406d653",
     "grade": false,
     "grade_id": "assignment-03-02-text",
     "locked": true,
     "schema_version": 3,
     "solution": false,
     "task": false
    }
   },
   "source": [
    "# 3.2 Sign function\n",
    "\n",
    "For the given integer `number` return `1` if it's positive, `-1` if it's negative, or `0` if it's equal to zero.\n",
    "Try to use the cascade `if-elif-else` for it.\n",
    "\n",
    "## Example input\n",
    "\n",
    "```python\n",
    "179\n",
    "```\n",
    "\n",
    "## Example return value\n",
    "\n",
    "```python\n",
    "1\n",
    "```"
   ]
  },
  {
   "cell_type": "code",
   "execution_count": 13,
   "metadata": {
    "deletable": false,
    "nbgrader": {
     "cell_type": "code",
     "checksum": "3f7ad44328bfb509d69a14d3d56ce419",
     "grade": false,
     "grade_id": "assignment-03-02-code",
     "locked": false,
     "schema_version": 3,
     "solution": true,
     "task": false
    }
   },
   "outputs": [],
   "source": [
    "# Code for assignment 3.2\n",
    "\n",
    "def assignment_3_2(number):\n",
    "    if number > 0:\n",
    "        return 1 \n",
    "    elif number < 0:\n",
    "        return -1 \n",
    "    else: \n",
    "        return 0 "
   ]
  },
  {
   "cell_type": "code",
   "execution_count": 14,
   "metadata": {
    "deletable": false,
    "editable": false,
    "nbgrader": {
     "cell_type": "code",
     "checksum": "b11d9bac7bd8845b5d7baa00bac0bb92",
     "grade": false,
     "grade_id": "assignment-03-02-test",
     "locked": true,
     "schema_version": 3,
     "solution": false,
     "task": false
    }
   },
   "outputs": [
    {
     "name": "stdin",
     "output_type": "stream",
     "text": [
      "Please enter an integer value (Press Enter for default value 179):  \n"
     ]
    },
    {
     "name": "stdout",
     "output_type": "stream",
     "text": [
      "\n",
      "For number 179 the returned value (-1 or 1) is: \n",
      "1\n"
     ]
    }
   ],
   "source": [
    "# Test for assignment 3.2\n",
    "\n",
    "test_cell_3_2(assignment_3_2)"
   ]
  },
  {
   "cell_type": "code",
   "execution_count": 15,
   "metadata": {
    "deletable": false,
    "editable": false,
    "nbgrader": {
     "cell_type": "code",
     "checksum": "76516d6fa370c7d09fb93b6ca478f668",
     "grade": true,
     "grade_id": "assignment-03-02-assert",
     "locked": true,
     "points": 1,
     "schema_version": 3,
     "solution": false,
     "task": false
    }
   },
   "outputs": [
    {
     "name": "stdout",
     "output_type": "stream",
     "text": [
      "Call assignment_3_2(179) ... OK\n",
      "Call assignment_3_2(-42) ... OK\n",
      "Call assignment_3_2(0) ... OK\n",
      "Call assignment_3_2(17) ... OK\n",
      "Call assignment_3_2(-100) ... OK\n",
      "\n",
      "Well done! You seem to have solved assignment_3_2!\n"
     ]
    }
   ],
   "source": [
    "# Assertion for assignment 3.2\n",
    "\n",
    "check_assertion(assignment_3_2)"
   ]
  },
  {
   "cell_type": "markdown",
   "metadata": {
    "deletable": false,
    "editable": false,
    "nbgrader": {
     "cell_type": "markdown",
     "checksum": "4ffefff3c83a758ee6ead24f50aa725a",
     "grade": false,
     "grade_id": "assignment-03-03-spacer",
     "locked": true,
     "schema_version": 3,
     "solution": false,
     "task": false
    }
   },
   "source": [
    "<br />\n",
    "<br />\n",
    "<br />\n",
    "<br />"
   ]
  },
  {
   "cell_type": "markdown",
   "metadata": {
    "deletable": false,
    "editable": false,
    "nbgrader": {
     "cell_type": "markdown",
     "checksum": "c98cfcfcf2fec06c105eb98387852fa1",
     "grade": false,
     "grade_id": "assignment-03-03-text",
     "locked": true,
     "schema_version": 3,
     "solution": false,
     "task": false
    }
   },
   "source": [
    "# 3.3 Minimum of three numbers\n",
    "\n",
    "Given three integers `a`, `b` and `c`, return the smallest value.\n",
    "\n",
    "## Example input\n",
    "\n",
    "```python\n",
    "5\n",
    "3\n",
    "7\n",
    "```\n",
    "\n",
    "## Example return value\n",
    "\n",
    "```python\n",
    "3\n",
    "```"
   ]
  },
  {
   "cell_type": "code",
   "execution_count": 16,
   "metadata": {
    "deletable": false,
    "nbgrader": {
     "cell_type": "code",
     "checksum": "7d5ce7211a8a0de82305abfce1abc41a",
     "grade": false,
     "grade_id": "assignment-03-03-code",
     "locked": false,
     "schema_version": 3,
     "solution": true,
     "task": false
    }
   },
   "outputs": [],
   "source": [
    "# Code for assignment 3.3\n",
    "\n",
    "def assignment_3_3(a,b,c):\n",
    "    list = [a,b,c] \n",
    "    return min(list) "
   ]
  },
  {
   "cell_type": "code",
   "execution_count": 17,
   "metadata": {
    "deletable": false,
    "editable": false,
    "nbgrader": {
     "cell_type": "code",
     "checksum": "f897f18f9050951737252020e1fe932d",
     "grade": false,
     "grade_id": "assignment-03-03-test",
     "locked": true,
     "schema_version": 3,
     "solution": false,
     "task": false
    }
   },
   "outputs": [
    {
     "name": "stdin",
     "output_type": "stream",
     "text": [
      "Please enter integer value a (Press Enter for default value 5):  \n",
      "Please enter integer value b (Press Enter for default value 3):  \n",
      "Please enter integer value c (Press Enter for default value 7):  \n"
     ]
    },
    {
     "name": "stdout",
     "output_type": "stream",
     "text": [
      "\n",
      "The smallest number of 5, 3 and 7 is:\n",
      "3\n"
     ]
    }
   ],
   "source": [
    "# Test for assignment 3.3\n",
    "\n",
    "test_cell_3_3(assignment_3_3)"
   ]
  },
  {
   "cell_type": "code",
   "execution_count": 18,
   "metadata": {
    "deletable": false,
    "editable": false,
    "nbgrader": {
     "cell_type": "code",
     "checksum": "621710d83edefa754967cedd6fc232da",
     "grade": true,
     "grade_id": "assignment-03-03-assert",
     "locked": true,
     "points": 1,
     "schema_version": 3,
     "solution": false,
     "task": false
    }
   },
   "outputs": [
    {
     "name": "stdout",
     "output_type": "stream",
     "text": [
      "Call assignment_3_3(5, 3, 7) ... OK\n",
      "Call assignment_3_3(10, 30, 4) ... OK\n",
      "Call assignment_3_3(-5, -3, -3) ... OK\n",
      "Call assignment_3_3(1, 10, 20) ... OK\n",
      "Call assignment_3_3(74, 32, 11) ... OK\n",
      "Call assignment_3_3(50, 80, 25) ... OK\n",
      "\n",
      "Well done! You seem to have solved assignment_3_3!\n"
     ]
    }
   ],
   "source": [
    "# Assertion for assignment 3.3\n",
    "\n",
    "check_assertion(assignment_3_3)"
   ]
  },
  {
   "cell_type": "markdown",
   "metadata": {
    "deletable": false,
    "editable": false,
    "nbgrader": {
     "cell_type": "markdown",
     "checksum": "25912c0b01ff9d9d6872ec1ffb60624e",
     "grade": false,
     "grade_id": "assignment-03-04-spacer",
     "locked": true,
     "schema_version": 3,
     "solution": false,
     "task": false
    }
   },
   "source": [
    "<br />\n",
    "<br />\n",
    "<br />\n",
    "<br />"
   ]
  },
  {
   "cell_type": "markdown",
   "metadata": {
    "deletable": false,
    "editable": false,
    "nbgrader": {
     "cell_type": "markdown",
     "checksum": "eba3deb0540ff3cb8ccb8f561ac7bb68",
     "grade": false,
     "grade_id": "assignment-03-04-text",
     "locked": true,
     "schema_version": 3,
     "solution": false,
     "task": false
    }
   },
   "source": [
    "# 3.4 Equal numbers\n",
    "\n",
    "Given three integers `a`, `b` and `c`, determine how many of them are equal to each other. The function must return one of these numbers: 3 (if all are the same), 2 (if two of them are equal to each other and the third is different) or 0 (if all numbers are different).\n",
    "\n",
    "## Example input\n",
    "\n",
    "```python\n",
    "10\n",
    "5\n",
    "10\n",
    "```\n",
    "\n",
    "## Example return value\n",
    "\n",
    "```python\n",
    "2\n",
    "```"
   ]
  },
  {
   "cell_type": "code",
   "execution_count": 59,
   "metadata": {
    "deletable": false,
    "nbgrader": {
     "cell_type": "code",
     "checksum": "9796d392196ce765c28e125e9675179b",
     "grade": false,
     "grade_id": "assignment-03-04-code",
     "locked": false,
     "schema_version": 3,
     "solution": true,
     "task": false
    }
   },
   "outputs": [],
   "source": [
    "# Code for assignment 3.4\n",
    "\n",
    "def assignment_3_4(a, b, c):\n",
    "    if a != b: \n",
    "        if c == b or c == a: \n",
    "            return 2\n",
    "        else:\n",
    "            return 0 \n",
    "    elif a == b: \n",
    "        if c == b or c == a: \n",
    "            return 3 \n",
    "        else: \n",
    "            return 2 \n",
    "    \n",
    "    "
   ]
  },
  {
   "cell_type": "code",
   "execution_count": 60,
   "metadata": {
    "deletable": false,
    "editable": false,
    "nbgrader": {
     "cell_type": "code",
     "checksum": "63ac4ff62531fdf4b4a385bf9179b9ad",
     "grade": false,
     "grade_id": "assignment-03-04-test",
     "locked": true,
     "schema_version": 3,
     "solution": false,
     "task": false
    }
   },
   "outputs": [
    {
     "name": "stdin",
     "output_type": "stream",
     "text": [
      "Please enter integer value a (Press Enter for default value 10):  \n",
      "Please enter integer value b (Press Enter for default value 5):  \n",
      "Please enter integer value c (Press Enter for default value 10):  \n"
     ]
    },
    {
     "name": "stdout",
     "output_type": "stream",
     "text": [
      "\n",
      "Of 10, 5 and 10, the number of equal numbers is: \n",
      "2\n"
     ]
    }
   ],
   "source": [
    "# Test for assignment 3.4\n",
    "\n",
    "test_cell_3_4(assignment_3_4)"
   ]
  },
  {
   "cell_type": "code",
   "execution_count": 61,
   "metadata": {
    "deletable": false,
    "editable": false,
    "nbgrader": {
     "cell_type": "code",
     "checksum": "08a06ce52c3970d15177ed3850ac5859",
     "grade": true,
     "grade_id": "assignment-03-04-assert",
     "locked": true,
     "points": 1,
     "schema_version": 3,
     "solution": false,
     "task": false
    }
   },
   "outputs": [
    {
     "name": "stdout",
     "output_type": "stream",
     "text": [
      "Call assignment_3_4(10, 5, 10) ... OK\n",
      "Call assignment_3_4(17, 17, -9) ... OK\n",
      "Call assignment_3_4(4, -82, -82) ... OK\n",
      "Call assignment_3_4(5, 2, 4) ... OK\n",
      "Call assignment_3_4(-149, -146, -142) ... OK\n",
      "Call assignment_3_4(666, 666, 666) ... OK\n",
      "\n",
      "Well done! You seem to have solved assignment_3_4!\n"
     ]
    }
   ],
   "source": [
    "# Assertion for assignment 3.4\n",
    "\n",
    "check_assertion(assignment_3_4)"
   ]
  },
  {
   "cell_type": "markdown",
   "metadata": {
    "deletable": false,
    "editable": false,
    "nbgrader": {
     "cell_type": "markdown",
     "checksum": "2a0d444dd99a0347aa9a65ec56ead013",
     "grade": false,
     "grade_id": "assignment-03-05-spacer",
     "locked": true,
     "schema_version": 3,
     "solution": false,
     "task": false
    }
   },
   "source": [
    "<br />\n",
    "<br />\n",
    "<br />\n",
    "<br />"
   ]
  },
  {
   "cell_type": "markdown",
   "metadata": {
    "deletable": false,
    "editable": false,
    "nbgrader": {
     "cell_type": "markdown",
     "checksum": "4b500eb229aaa507529f907dbf4c4103",
     "grade": false,
     "grade_id": "assignment-03-05-text",
     "locked": true,
     "schema_version": 3,
     "solution": false,
     "task": false
    }
   },
   "source": [
    "# 3.5 Car route\n",
    "\n",
    "A car can cover distance of number of kilometers per day (`kms_per_day`). How many days will it take to cover a route of length `total_distance` kilometers? The function takes two integer arguments: `kms_per_day` and `total_distance`. Please note that your function should return an integer, representing a whole number of days.\n",
    "\n",
    "\n",
    "## Example input\n",
    "\n",
    "```python\n",
    "700\n",
    "750\n",
    "```\n",
    "\n",
    "## Example return value\n",
    "\n",
    "```python\n",
    "2\n",
    "```"
   ]
  },
  {
   "cell_type": "code",
   "execution_count": 62,
   "metadata": {
    "deletable": false,
    "nbgrader": {
     "cell_type": "code",
     "checksum": "f7d57fb15ba70b8d7a4682b31c93a002",
     "grade": false,
     "grade_id": "assignment-03-05-code",
     "locked": false,
     "schema_version": 3,
     "solution": true,
     "task": false
    }
   },
   "outputs": [],
   "source": [
    "# Code for assignment 3.5\n",
    "\n",
    "def assignment_3_5(kms_per_day, total_distance):\n",
    "    if total_distance % kms_per_day != 0: \n",
    "        return (total_distance // kms_per_day) + 1 \n",
    "    else: \n",
    "        return total_distance // kms_per_day "
   ]
  },
  {
   "cell_type": "code",
   "execution_count": 63,
   "metadata": {
    "deletable": false,
    "editable": false,
    "nbgrader": {
     "cell_type": "code",
     "checksum": "12e997754fffd2be6a33b658e7e29583",
     "grade": false,
     "grade_id": "assignment-03-05-test",
     "locked": true,
     "schema_version": 3,
     "solution": false,
     "task": false
    }
   },
   "outputs": [
    {
     "name": "stdin",
     "output_type": "stream",
     "text": [
      "Please enter kilometers per day (Press Enter for default value 700):  \n",
      "Please enter total distance (Press Enter for default value 750):  \n"
     ]
    },
    {
     "name": "stdout",
     "output_type": "stream",
     "text": [
      "\n",
      "The number of days it takes a car to drive 750 at 700 kilometers per day is: \n",
      "2\n"
     ]
    }
   ],
   "source": [
    "# Test for assignment 3.5\n",
    "\n",
    "test_cell_3_5(assignment_3_5)"
   ]
  },
  {
   "cell_type": "code",
   "execution_count": 64,
   "metadata": {
    "deletable": false,
    "editable": false,
    "nbgrader": {
     "cell_type": "code",
     "checksum": "da99c86188d23a515120c6b8f7a62349",
     "grade": true,
     "grade_id": "assignment-03-05-assert",
     "locked": true,
     "points": 1,
     "schema_version": 3,
     "solution": false,
     "task": false
    }
   },
   "outputs": [
    {
     "name": "stdout",
     "output_type": "stream",
     "text": [
      "Call assignment_3_5(700, 750) ... OK\n",
      "Call assignment_3_5(700, 2100) ... OK\n",
      "Call assignment_3_5(10, 15) ... OK\n",
      "Call assignment_3_5(10, 16) ... OK\n",
      "Call assignment_3_5(10, 19) ... OK\n",
      "Call assignment_3_5(10, 70) ... OK\n",
      "Call assignment_3_5(10, 81) ... OK\n",
      "Call assignment_3_5(10, 1000) ... OK\n",
      "Call assignment_3_5(10, 1001) ... OK\n",
      "Call assignment_3_5(10, 999) ... OK\n",
      "Call assignment_3_5(10, 1) ... OK\n",
      "Call assignment_3_5(10, 9) ... OK\n",
      "Call assignment_3_5(483, 9382) ... OK\n",
      "Call assignment_3_5(123, 234234) ... OK\n",
      "\n",
      "Well done! You seem to have solved assignment_3_5!\n"
     ]
    }
   ],
   "source": [
    "# Assertion for assignment 3.5\n",
    "\n",
    "check_assertion(assignment_3_5)"
   ]
  },
  {
   "cell_type": "markdown",
   "metadata": {
    "deletable": false,
    "editable": false,
    "nbgrader": {
     "cell_type": "markdown",
     "checksum": "3378002c636c8f6b4989a5e746cf95f0",
     "grade": false,
     "grade_id": "assignment-03-06-spacer",
     "locked": true,
     "schema_version": 3,
     "solution": false,
     "task": false
    },
    "tags": []
   },
   "source": [
    "<br />\n",
    "<br />\n",
    "<br />\n",
    "<br />"
   ]
  },
  {
   "cell_type": "markdown",
   "metadata": {
    "deletable": false,
    "editable": false,
    "nbgrader": {
     "cell_type": "markdown",
     "checksum": "9d55d370790dedc770b95739d5b09fc9",
     "grade": false,
     "grade_id": "assignment-03-06-text",
     "locked": true,
     "schema_version": 3,
     "solution": false,
     "task": false
    },
    "tags": []
   },
   "source": [
    "# 3.6 Rook move\n",
    "\n",
    "In the next couple of assignments, you will encounter multiple chess exercises. The notation for squares in chess is `a...h` for the columns and `1...8` for the rows. Since Python is zero-based, we will be using `0...7` for both row and column indices. See the same position with a white rook in both chess notation (`d4`) and Python notation (`3,3`).\n",
    "\n",
    "<table><tr>\n",
    "<td style=\"text-align: center; vertical-align: middle;\"><img src=\"figures/rook_move.svg\" alt=\"Chess\" width=\"150%\"/> <h2>Chess</h2></td>\n",
    "<td style=\"text-align: center; vertical-align: middle;\"><h2><--></h2></td>\n",
    "\n",
    "<td style=\"text-align: center; vertical-align: middle;\"><img src=\"figures/rook_python.svg\" alt=\"Python\" width=\"150%\"/> <h2>Python</h2></td>\n",
    "</tr></table>\n",
    "\n",
    "\n",
    "The rook in chess moves horizontally or vertically. Given two different squares of the chessboard, determine whether a rook can go from the first square to the second in one move.\n",
    "\n",
    "The function has four arguments, numbers from 0 to 7, each specifying the column and row number, first two - for the first square, and then the last two - for the second square. The function should return `YES` if a rook can go from the first square to the second in one move, or `NO` otherwise.\n",
    "\n",
    "## Example input\n",
    "\n",
    "```python\n",
    "3\n",
    "3\n",
    "4\n",
    "4\n",
    "```\n",
    "\n",
    "## Example return value\n",
    "\n",
    "```python\n",
    "NO\n",
    "```"
   ]
  },
  {
   "cell_type": "markdown",
   "metadata": {
    "editable": false,
    "nbgrader": {
     "cell_type": "markdown",
     "checksum": "9d55d370790dedc770b95739d5b09fc9",
     "grade": false,
     "grade_id": "assignment-03-06-text",
     "locked": true,
     "schema_version": 3,
     "solution": false,
     "task": false
    },
    "tags": []
   },
   "source": [
    "# 3.6 Rook move\n",
    "\n",
    "In the next couple of assignments, you will encounter multiple chess exercises. The notation for squares in chess is `a...h` for the columns and `1...8` for the rows. Since Python is zero-based, we will be using `0...7` for both row and column indices. See the same position with a white rook in both chess notation (`d4`) and Python notation (`3,3`).\n",
    "\n",
    "<table><tr>\n",
    "<td style=\"text-align: center; vertical-align: middle;\"><img src=\"figures/rook_move.svg\" alt=\"Chess\" width=\"150%\"/> <h2>Chess</h2></td>\n",
    "<td style=\"text-align: center; vertical-align: middle;\"><h2><--></h2></td>\n",
    "\n",
    "<td style=\"text-align: center; vertical-align: middle;\"><img src=\"figures/rook_python.svg\" alt=\"Python\" width=\"150%\"/> <h2>Python</h2></td>\n",
    "</tr></table>\n",
    "\n",
    "\n",
    "The rook in chess moves horizontally or vertically. Given two different squares of the chessboard, determine whether a rook can go from the first square to the second in one move.\n",
    "\n",
    "The function has four arguments, numbers from 0 to 7, each specifying the column and row number, first two - for the first square, and then the last two - for the second square. The function should return `YES` if a rook can go from the first square to the second in one move, or `NO` otherwise.\n",
    "\n",
    "## Example input\n",
    "\n",
    "```python\n",
    "3\n",
    "3\n",
    "4\n",
    "4\n",
    "```\n",
    "\n",
    "## Example return value\n",
    "\n",
    "```python\n",
    "NO\n",
    "```"
   ]
  },
  {
   "cell_type": "markdown",
   "metadata": {
    "editable": false,
    "jp-MarkdownHeadingCollapsed": true,
    "nbgrader": {
     "cell_type": "markdown",
     "checksum": "9d55d370790dedc770b95739d5b09fc9",
     "grade": false,
     "grade_id": "assignment-03-06-text",
     "locked": true,
     "schema_version": 3,
     "solution": false,
     "task": false
    },
    "tags": []
   },
   "source": [
    "# 3.6 Rook move\n",
    "\n",
    "In the next couple of assignments, you will encounter multiple chess exercises. The notation for squares in chess is `a...h` for the columns and `1...8` for the rows. Since Python is zero-based, we will be using `0...7` for both row and column indices. See the same position with a white rook in both chess notation (`d4`) and Python notation (`3,3`).\n",
    "\n",
    "<table><tr>\n",
    "<td style=\"text-align: center; vertical-align: middle;\"><img src=\"figures/rook_move.svg\" alt=\"Chess\" width=\"150%\"/> <h2>Chess</h2></td>\n",
    "<td style=\"text-align: center; vertical-align: middle;\"><h2><--></h2></td>\n",
    "\n",
    "<td style=\"text-align: center; vertical-align: middle;\"><img src=\"figures/rook_python.svg\" alt=\"Python\" width=\"150%\"/> <h2>Python</h2></td>\n",
    "</tr></table>\n",
    "\n",
    "\n",
    "The rook in chess moves horizontally or vertically. Given two different squares of the chessboard, determine whether a rook can go from the first square to the second in one move.\n",
    "\n",
    "The function has four arguments, numbers from 0 to 7, each specifying the column and row number, first two - for the first square, and then the last two - for the second square. The function should return `YES` if a rook can go from the first square to the second in one move, or `NO` otherwise.\n",
    "\n",
    "## Example input\n",
    "\n",
    "```python\n",
    "3\n",
    "3\n",
    "4\n",
    "4\n",
    "```\n",
    "\n",
    "## Example return value\n",
    "\n",
    "```python\n",
    "NO\n",
    "```"
   ]
  },
  {
   "cell_type": "markdown",
   "metadata": {
    "editable": false,
    "nbgrader": {
     "cell_type": "markdown",
     "checksum": "9d55d370790dedc770b95739d5b09fc9",
     "grade": false,
     "grade_id": "assignment-03-06-text",
     "locked": true,
     "schema_version": 3,
     "solution": false,
     "task": false
    },
    "tags": []
   },
   "source": [
    "# 3.6 Rook move\n",
    "\n",
    "In the next couple of assignments, you will encounter multiple chess exercises. The notation for squares in chess is `a...h` for the columns and `1...8` for the rows. Since Python is zero-based, we will be using `0...7` for both row and column indices. See the same position with a white rook in both chess notation (`d4`) and Python notation (`3,3`).\n",
    "\n",
    "<table><tr>\n",
    "<td style=\"text-align: center; vertical-align: middle;\"><img src=\"figures/rook_move.svg\" alt=\"Chess\" width=\"150%\"/> <h2>Chess</h2></td>\n",
    "<td style=\"text-align: center; vertical-align: middle;\"><h2><--></h2></td>\n",
    "\n",
    "<td style=\"text-align: center; vertical-align: middle;\"><img src=\"figures/rook_python.svg\" alt=\"Python\" width=\"150%\"/> <h2>Python</h2></td>\n",
    "</tr></table>\n",
    "\n",
    "\n",
    "The rook in chess moves horizontally or vertically. Given two different squares of the chessboard, determine whether a rook can go from the first square to the second in one move.\n",
    "\n",
    "The function has four arguments, numbers from 0 to 7, each specifying the column and row number, first two - for the first square, and then the last two - for the second square. The function should return `YES` if a rook can go from the first square to the second in one move, or `NO` otherwise.\n",
    "\n",
    "## Example input\n",
    "\n",
    "```python\n",
    "3\n",
    "3\n",
    "4\n",
    "4\n",
    "```\n",
    "\n",
    "## Example return value\n",
    "\n",
    "```python\n",
    "NO\n",
    "```"
   ]
  },
  {
   "cell_type": "code",
   "execution_count": 68,
   "metadata": {
    "deletable": false,
    "nbgrader": {
     "cell_type": "code",
     "checksum": "f2b04668222e1f31477c33845fe42039",
     "grade": false,
     "grade_id": "assignment-03-06-code",
     "locked": false,
     "schema_version": 3,
     "solution": true,
     "task": false
    }
   },
   "outputs": [],
   "source": [
    "# Code for assignment 3.6\n",
    "\n",
    "def assignment_3_6(col1, row1, col2, row2):\n",
    "    if col1 == col2 and row1 != row2:\n",
    "        return \"YES\" \n",
    "    elif col1 != col2 and row1 == row2:\n",
    "        return \"YES\" \n",
    "    else: \n",
    "        return \"NO\"\n",
    "        "
   ]
  },
  {
   "cell_type": "code",
   "execution_count": 69,
   "metadata": {
    "deletable": false,
    "editable": false,
    "nbgrader": {
     "cell_type": "code",
     "checksum": "2e4dce370568632694dd08f4b32baccf",
     "grade": false,
     "grade_id": "assignment-03-06-test",
     "locked": true,
     "schema_version": 3,
     "solution": false,
     "task": false
    }
   },
   "outputs": [
    {
     "name": "stdin",
     "output_type": "stream",
     "text": [
      "Please enter column number of From field (col1) (Press Enter for default value 3):  \n",
      "Please enter row number of From field (row1) (Press Enter for default value 3):  \n",
      "Please enter column number of To field (col2) (Press Enter for default value 4):  \n",
      "Please enter row number of To field (row2) (Press Enter for default value 4):  \n"
     ]
    },
    {
     "name": "stdout",
     "output_type": "stream",
     "text": [
      "\n",
      "The rook can move from (3,3) to (4,4)? \n",
      "NO\n"
     ]
    }
   ],
   "source": [
    "# Test for assignment 3.6\n",
    "\n",
    "test_cell_3_6(assignment_3_6)"
   ]
  },
  {
   "cell_type": "code",
   "execution_count": 70,
   "metadata": {
    "deletable": false,
    "editable": false,
    "nbgrader": {
     "cell_type": "code",
     "checksum": "149df66db8e9f18a6bc3c9f921345263",
     "grade": true,
     "grade_id": "assignment-03-06-assert",
     "locked": true,
     "points": 1,
     "schema_version": 3,
     "solution": false,
     "task": false
    }
   },
   "outputs": [
    {
     "name": "stdout",
     "output_type": "stream",
     "text": [
      "Call assignment_3_6(3, 3, 4, 4) ... OK\n",
      "Call assignment_3_6(3, 3, 4, 3) ... OK\n",
      "Call assignment_3_6(3, 3, 4, 2) ... OK\n",
      "Call assignment_3_6(3, 3, 3, 4) ... OK\n",
      "Call assignment_3_6(3, 3, 2, 4) ... OK\n",
      "Call assignment_3_6(3, 3, 3, 2) ... OK\n",
      "Call assignment_3_6(3, 3, 2, 3) ... OK\n",
      "Call assignment_3_6(3, 3, 2, 2) ... OK\n",
      "Call assignment_3_6(0, 0, 0, 7) ... OK\n",
      "Call assignment_3_6(0, 0, 7, 7) ... OK\n",
      "Call assignment_3_6(0, 0, 7, 0) ... OK\n",
      "Call assignment_3_6(0, 7, 7, 7) ... OK\n",
      "Call assignment_3_6(0, 7, 7, 0) ... OK\n",
      "Call assignment_3_6(0, 7, 0, 0) ... OK\n",
      "Call assignment_3_6(7, 7, 7, 0) ... OK\n",
      "Call assignment_3_6(7, 7, 0, 0) ... OK\n",
      "Call assignment_3_6(7, 7, 0, 7) ... OK\n",
      "Call assignment_3_6(7, 0, 0, 0) ... OK\n",
      "Call assignment_3_6(7, 0, 0, 7) ... OK\n",
      "Call assignment_3_6(7, 0, 7, 7) ... OK\n",
      "\n",
      "Well done! You seem to have solved assignment_3_6!\n"
     ]
    }
   ],
   "source": [
    "# Assertion for assignment 3.6\n",
    "\n",
    "check_assertion(assignment_3_6)"
   ]
  },
  {
   "cell_type": "markdown",
   "metadata": {
    "deletable": false,
    "editable": false,
    "nbgrader": {
     "cell_type": "markdown",
     "checksum": "e72574068a57170b6c5af87963dab1a3",
     "grade": false,
     "grade_id": "assignment-03-07-spacer",
     "locked": true,
     "schema_version": 3,
     "solution": false,
     "task": false
    }
   },
   "source": [
    "<br />\n",
    "<br />\n",
    "<br />\n",
    "<br />"
   ]
  },
  {
   "cell_type": "markdown",
   "metadata": {
    "deletable": false,
    "editable": false,
    "nbgrader": {
     "cell_type": "markdown",
     "checksum": "d44ceeaaf2c54dee96b71620eb11482b",
     "grade": false,
     "grade_id": "assignment-03-07-text",
     "locked": true,
     "schema_version": 3,
     "solution": false,
     "task": false
    }
   },
   "source": [
    "# 3.7 Chess board - same color\n",
    "\n",
    "Given two squares of a chessboard. Finalize the assignment function in such a way that, if the squares entered have the same color, the word `YES` is being returned, and `NO` otherwise.\n",
    "\n",
    "The function has four arguments, numbers from 0 to 7, each specifying the column and row numbers: the first two designate the column and row of the first square, the latter two the column and row of the second square.\n",
    "\n",
    "<table><tr>\n",
    "<td style=\"text-align: center; vertical-align: middle;\"><img src=\"figures/chess_board.svg\" alt=\"Squares a1 (0,0) and b6 (1,5)\" width=\"100%\"/> <h2>Squares a1 (0,0) and b6 (1,5)</h2></td>\n",
    "</tr></table>\n",
    "\n",
    "## Example input\n",
    "\n",
    "```python\n",
    "0\n",
    "0\n",
    "1\n",
    "5\n",
    "```\n",
    "\n",
    "## Example return value\n",
    "\n",
    "```python\n",
    "YES\n",
    "```"
   ]
  },
  {
   "cell_type": "code",
   "execution_count": 71,
   "metadata": {
    "deletable": false,
    "nbgrader": {
     "cell_type": "code",
     "checksum": "f333d4cfa708fb1330654bcc0f5cf6a4",
     "grade": false,
     "grade_id": "assignment-03-07-code",
     "locked": false,
     "schema_version": 3,
     "solution": true,
     "task": false
    }
   },
   "outputs": [],
   "source": [
    "# Code for assignment 3.7\n",
    "\n",
    "def assignment_3_7(col1, row1, col2, row2):\n",
    "    col1_even = col1 % 2 == 0 \n",
    "    row1_even = row1 % 2 == 0 \n",
    "    col2_even = col2 % 2 == 0 \n",
    "    row2_even = row2 % 2 == 0 \n",
    "    if row1_even == col1_even: \n",
    "        if row2_even == col2_even: \n",
    "            return \"YES\" \n",
    "        else:\n",
    "            return \"NO\"\n",
    "    elif row1_even != col1_even: \n",
    "        if row2_even != col2_even:\n",
    "            return \"YES\" \n",
    "        else: \n",
    "            return \"NO\" "
   ]
  },
  {
   "cell_type": "code",
   "execution_count": 72,
   "metadata": {
    "deletable": false,
    "editable": false,
    "nbgrader": {
     "cell_type": "code",
     "checksum": "7e55f34aa67c5adf2989ed0dd6be69b9",
     "grade": false,
     "grade_id": "assignment-03-07-test",
     "locked": true,
     "schema_version": 3,
     "solution": false,
     "task": false
    }
   },
   "outputs": [
    {
     "name": "stdin",
     "output_type": "stream",
     "text": [
      "Please enter column number of From field (col1) (Press Enter for default value 0):  \n",
      "Please enter row number of From field (row1) (Press Enter for default value 0):  \n",
      "Please enter column number of To field (col2) (Press Enter for default value 1):  \n",
      "Please enter row number of To field (row2) (Press Enter for default value 5):  \n"
     ]
    },
    {
     "name": "stdout",
     "output_type": "stream",
     "text": [
      "\n",
      "Do the squares (0,0) and (1,5) have the same color? \n",
      "YES\n"
     ]
    }
   ],
   "source": [
    "# Test for assignment 3.7\n",
    "\n",
    "test_cell_3_7(assignment_3_7)"
   ]
  },
  {
   "cell_type": "code",
   "execution_count": 73,
   "metadata": {
    "deletable": false,
    "editable": false,
    "nbgrader": {
     "cell_type": "code",
     "checksum": "04980f4b67cf89245912df68bb41c95c",
     "grade": true,
     "grade_id": "assignment-03-07-assert",
     "locked": true,
     "points": 1,
     "schema_version": 3,
     "solution": false,
     "task": false
    }
   },
   "outputs": [
    {
     "name": "stdout",
     "output_type": "stream",
     "text": [
      "Call assignment_3_7(0, 0, 1, 5) ... OK\n",
      "Call assignment_3_7(1, 1, 1, 4) ... OK\n",
      "Call assignment_3_7(1, 1, 1, 3) ... OK\n",
      "Call assignment_3_7(1, 2, 2, 1) ... OK\n",
      "Call assignment_3_7(1, 2, 6, 7) ... OK\n",
      "Call assignment_3_7(1, 2, 7, 7) ... OK\n",
      "Call assignment_3_7(4, 6, 4, 6) ... OK\n",
      "Call assignment_3_7(1, 5, 2, 0) ... OK\n",
      "Call assignment_3_7(1, 2, 3, 4) ... OK\n",
      "Call assignment_3_7(6, 1, 1, 2) ... OK\n",
      "Call assignment_3_7(0, 5, 6, 1) ... OK\n",
      "\n",
      "Well done! You seem to have solved assignment_3_7!\n"
     ]
    }
   ],
   "source": [
    "# Assertion for assignment 3.7\n",
    "\n",
    "check_assertion(assignment_3_7)"
   ]
  },
  {
   "cell_type": "markdown",
   "metadata": {
    "deletable": false,
    "editable": false,
    "nbgrader": {
     "cell_type": "markdown",
     "checksum": "dde666f6fe082e1a08db4f3f75edc613",
     "grade": false,
     "grade_id": "assignment-03-08-spacer",
     "locked": true,
     "schema_version": 3,
     "solution": false,
     "task": false
    }
   },
   "source": [
    "<br />\n",
    "<br />\n",
    "<br />\n",
    "<br />"
   ]
  },
  {
   "cell_type": "markdown",
   "metadata": {
    "deletable": false,
    "editable": false,
    "nbgrader": {
     "cell_type": "markdown",
     "checksum": "e02803ba630dba4d746bed11c83735ff",
     "grade": false,
     "grade_id": "assignment-03-08-text",
     "locked": true,
     "schema_version": 3,
     "solution": false,
     "task": false
    }
   },
   "source": [
    "# 3.8 King move\n",
    "\n",
    "\n",
    "The chess king moves horizontally, vertically or diagonally to any adjacent square. Given two different squares of the chessboard, determine whether a king can go from the first square to the second in one move.\n",
    "\n",
    "The function has four arguments, numbers from 0 to 7, each specifying the column and row number, first two - for the first square, and then the last two - for the second sqaure. The function should return `YES` if the king can go from the first square to the second in one move, or `NO` otherwise.\n",
    "\n",
    "<table><tr>\n",
    "<td style=\"text-align: center; vertical-align: middle;\"><img src=\"figures/king_move.svg\" alt=\"Possible moves for king on e4 (4,3)\" width=\"100%\"/> <h2>Possible moves for king on e4 (4,3)</h2></td>\n",
    "</tr></table>\n",
    "\n",
    "## Example input\n",
    "\n",
    "```python\n",
    "4\n",
    "3\n",
    "5\n",
    "4\n",
    "```\n",
    "\n",
    "## Example return value\n",
    "\n",
    "```python\n",
    "YES\n",
    "```"
   ]
  },
  {
   "cell_type": "code",
   "execution_count": 90,
   "metadata": {
    "deletable": false,
    "nbgrader": {
     "cell_type": "code",
     "checksum": "5b5d581eb336f9b2d64841a0cd559689",
     "grade": false,
     "grade_id": "assignment-03-08-code",
     "locked": false,
     "schema_version": 3,
     "solution": true,
     "task": false
    }
   },
   "outputs": [],
   "source": [
    "# Code for assignment 3.8\n",
    "\n",
    "def assignment_3_8(col1, row1, col2, row2):\n",
    "    col_diff = abs(col1 - col2) \n",
    "    row_diff = abs(row1 - row2) \n",
    "    if col_diff != 1 and col_diff != 0:\n",
    "        return \"NO\"\n",
    "    if row_diff == 1 or row_diff == 0: \n",
    "        return \"YES\" \n",
    "    else: \n",
    "        return \"NO\" \n",
    "        "
   ]
  },
  {
   "cell_type": "code",
   "execution_count": 91,
   "metadata": {
    "deletable": false,
    "editable": false,
    "nbgrader": {
     "cell_type": "code",
     "checksum": "275dddec68859c3824a305946344c859",
     "grade": false,
     "grade_id": "assignment-03-08-test",
     "locked": true,
     "schema_version": 3,
     "solution": false,
     "task": false
    }
   },
   "outputs": [
    {
     "name": "stdin",
     "output_type": "stream",
     "text": [
      "Please enter column number of From field (col1) (Press Enter for default value 4):  \n",
      "Please enter row number of From field (row1) (Press Enter for default value 3):  \n",
      "Please enter column number of To field (col2) (Press Enter for default value 5):  \n",
      "Please enter row number of To field (row2) (Press Enter for default value 4):  \n"
     ]
    },
    {
     "name": "stdout",
     "output_type": "stream",
     "text": [
      "\n",
      "The king can move from (4,3) to (5,4)? \n",
      "YES\n"
     ]
    }
   ],
   "source": [
    "# Test for assignment 3.8\n",
    "\n",
    "test_cell_3_8(assignment_3_8)"
   ]
  },
  {
   "cell_type": "code",
   "execution_count": 92,
   "metadata": {
    "deletable": false,
    "editable": false,
    "nbgrader": {
     "cell_type": "code",
     "checksum": "5f00ae6c0ab556ecfb5740e284322dca",
     "grade": true,
     "grade_id": "assignment-03-08-assert",
     "locked": true,
     "points": 1,
     "schema_version": 3,
     "solution": false,
     "task": false
    }
   },
   "outputs": [
    {
     "name": "stdout",
     "output_type": "stream",
     "text": [
      "Call assignment_3_8(3, 3, 4, 4) ... OK\n",
      "Call assignment_3_8(3, 3, 4, 3) ... OK\n",
      "Call assignment_3_8(3, 3, 4, 2) ... OK\n",
      "Call assignment_3_8(3, 3, 3, 4) ... OK\n",
      "Call assignment_3_8(3, 3, 2, 4) ... OK\n",
      "Call assignment_3_8(3, 3, 3, 2) ... OK\n",
      "Call assignment_3_8(3, 3, 2, 3) ... OK\n",
      "Call assignment_3_8(3, 3, 2, 2) ... OK\n",
      "Call assignment_3_8(0, 0, 0, 7) ... OK\n",
      "Call assignment_3_8(0, 0, 7, 7) ... OK\n",
      "Call assignment_3_8(0, 0, 7, 0) ... OK\n",
      "Call assignment_3_8(0, 7, 7, 7) ... OK\n",
      "Call assignment_3_8(0, 7, 7, 0) ... OK\n",
      "Call assignment_3_8(0, 7, 0, 0) ... OK\n",
      "Call assignment_3_8(7, 7, 7, 0) ... OK\n",
      "Call assignment_3_8(7, 7, 0, 0) ... OK\n",
      "Call assignment_3_8(7, 7, 0, 7) ... OK\n",
      "Call assignment_3_8(7, 0, 0, 0) ... OK\n",
      "Call assignment_3_8(7, 0, 0, 7) ... OK\n",
      "Call assignment_3_8(7, 0, 7, 7) ... OK\n",
      "Call assignment_3_8(0, 0, 0, 1) ... OK\n",
      "Call assignment_3_8(0, 0, 1, 1) ... OK\n",
      "Call assignment_3_8(0, 0, 1, 0) ... OK\n",
      "Call assignment_3_8(3, 3, 5, 5) ... OK\n",
      "Call assignment_3_8(3, 3, 1, 1) ... OK\n",
      "Call assignment_3_8(3, 3, 5, 1) ... OK\n",
      "Call assignment_3_8(3, 3, 1, 5) ... OK\n",
      "Call assignment_3_8(3, 3, 1, 6) ... OK\n",
      "Call assignment_3_8(3, 3, 3, 5) ... OK\n",
      "Call assignment_3_8(3, 3, 1, 3) ... OK\n",
      "Call assignment_3_8(3, 3, 4, 5) ... OK\n",
      "Call assignment_3_8(0, 6, 0, 7) ... OK\n",
      "Call assignment_3_8(3, 2, 1, 1) ... OK\n",
      "\n",
      "Well done! You seem to have solved assignment_3_8!\n"
     ]
    }
   ],
   "source": [
    "# Assertion for assignment 3.8\n",
    "\n",
    "check_assertion(assignment_3_8)"
   ]
  },
  {
   "cell_type": "markdown",
   "metadata": {
    "deletable": false,
    "editable": false,
    "nbgrader": {
     "cell_type": "markdown",
     "checksum": "e58f4b356b43b457d5604cbc33d6c520",
     "grade": false,
     "grade_id": "assignment-03-09-spacer",
     "locked": true,
     "schema_version": 3,
     "solution": false,
     "task": false
    }
   },
   "source": [
    "<br />\n",
    "<br />\n",
    "<br />\n",
    "<br />"
   ]
  },
  {
   "cell_type": "markdown",
   "metadata": {
    "deletable": false,
    "editable": false,
    "nbgrader": {
     "cell_type": "markdown",
     "checksum": "6f86da7f10675486048556bb80a163a1",
     "grade": false,
     "grade_id": "assignment-03-09-text",
     "locked": true,
     "schema_version": 3,
     "solution": false,
     "task": false
    }
   },
   "source": [
    "# 3.9 Bishop move\n",
    "\n",
    "In chess, the bishop moves diagonally, any number of squares. Given two different squares of the chessboard, determine whether a bishop can go from the first to the second in one move.\n",
    "\n",
    "The function has four arguments, numbers from 0 to 7, specifying the column and row numbers of the starting square and the column and row numbers of the ending square. The function should return `YES` if a Bishop can go from the first square to the second in one move, or `NO` otherwise.\n",
    "\n",
    "<table><tr>\n",
    "<td style=\"text-align: center; vertical-align: middle;\"><img src=\"figures/bishop_move.svg\" alt=\"Possible moves for bishop on e3 (4,2)\" width=\"100%\"/> <h2>Possible moves for bishop on e3 (4,2)</h2></td>\n",
    "</tr></table>\n",
    "\n",
    "## Example input\n",
    "\n",
    "```python\n",
    "4\n",
    "2\n",
    "1\n",
    "5\n",
    "```\n",
    "\n",
    "## Example return value\n",
    "\n",
    "```python\n",
    "YES\n",
    "```"
   ]
  },
  {
   "cell_type": "code",
   "execution_count": 93,
   "metadata": {
    "deletable": false,
    "nbgrader": {
     "cell_type": "code",
     "checksum": "e15ed62b0048c30af7021a751754badd",
     "grade": false,
     "grade_id": "assignment-03-09-code",
     "locked": false,
     "schema_version": 3,
     "solution": true,
     "task": false
    }
   },
   "outputs": [],
   "source": [
    "# Code for assignment 3.9\n",
    "\n",
    "def assignment_3_9(col1, row1, col2, row2):\n",
    "    if abs(col1 - col2) == abs(row1 - row2): \n",
    "        return \"YES\" \n",
    "    else: \n",
    "        return \"NO\""
   ]
  },
  {
   "cell_type": "code",
   "execution_count": 94,
   "metadata": {
    "deletable": false,
    "editable": false,
    "nbgrader": {
     "cell_type": "code",
     "checksum": "a5f822071bf4088f765b201d755215fb",
     "grade": false,
     "grade_id": "assignment-03-09-test",
     "locked": true,
     "schema_version": 3,
     "solution": false,
     "task": false
    }
   },
   "outputs": [
    {
     "name": "stdin",
     "output_type": "stream",
     "text": [
      "Please enter column number of From field (col1) (Press Enter for default value 4):  \n",
      "Please enter row number of From field (row1) (Press Enter for default value 2):  \n",
      "Please enter column number of To field (col2) (Press Enter for default value 1):  \n",
      "Please enter row number of To field (row2) (Press Enter for default value 5):  \n"
     ]
    },
    {
     "name": "stdout",
     "output_type": "stream",
     "text": [
      "\n",
      "The bishop can move from (4,2) to (1,5)? \n",
      "YES\n"
     ]
    }
   ],
   "source": [
    "# Test for assignment 3.9\n",
    "\n",
    "test_cell_3_9(assignment_3_9)"
   ]
  },
  {
   "cell_type": "code",
   "execution_count": 95,
   "metadata": {
    "deletable": false,
    "editable": false,
    "nbgrader": {
     "cell_type": "code",
     "checksum": "e5952fc6cb5b09319c05cc87dcd55101",
     "grade": true,
     "grade_id": "assignment-03-09-assert",
     "locked": true,
     "points": 1,
     "schema_version": 3,
     "solution": false,
     "task": false
    }
   },
   "outputs": [
    {
     "name": "stdout",
     "output_type": "stream",
     "text": [
      "Call assignment_3_9(3, 3, 4, 4) ... OK\n",
      "Call assignment_3_9(3, 3, 4, 3) ... OK\n",
      "Call assignment_3_9(3, 3, 4, 2) ... OK\n",
      "Call assignment_3_9(3, 3, 3, 4) ... OK\n",
      "Call assignment_3_9(3, 3, 2, 4) ... OK\n",
      "Call assignment_3_9(3, 3, 3, 2) ... OK\n",
      "Call assignment_3_9(3, 3, 2, 3) ... OK\n",
      "Call assignment_3_9(3, 3, 2, 2) ... OK\n",
      "Call assignment_3_9(0, 0, 0, 7) ... OK\n",
      "Call assignment_3_9(0, 0, 7, 7) ... OK\n",
      "Call assignment_3_9(0, 0, 7, 0) ... OK\n",
      "Call assignment_3_9(0, 7, 7, 7) ... OK\n",
      "Call assignment_3_9(0, 7, 7, 0) ... OK\n",
      "Call assignment_3_9(0, 7, 0, 0) ... OK\n",
      "Call assignment_3_9(7, 7, 7, 0) ... OK\n",
      "Call assignment_3_9(7, 7, 0, 0) ... OK\n",
      "Call assignment_3_9(7, 7, 0, 7) ... OK\n",
      "Call assignment_3_9(7, 0, 0, 0) ... OK\n",
      "Call assignment_3_9(7, 0, 0, 7) ... OK\n",
      "Call assignment_3_9(7, 0, 7, 7) ... OK\n",
      "Call assignment_3_9(0, 0, 0, 1) ... OK\n",
      "Call assignment_3_9(0, 0, 1, 1) ... OK\n",
      "Call assignment_3_9(0, 0, 1, 0) ... OK\n",
      "Call assignment_3_9(3, 3, 5, 5) ... OK\n",
      "Call assignment_3_9(3, 3, 1, 1) ... OK\n",
      "Call assignment_3_9(3, 3, 5, 1) ... OK\n",
      "Call assignment_3_9(3, 3, 1, 5) ... OK\n",
      "Call assignment_3_9(3, 3, 1, 6) ... OK\n",
      "Call assignment_3_9(3, 3, 3, 5) ... OK\n",
      "Call assignment_3_9(3, 3, 1, 3) ... OK\n",
      "Call assignment_3_9(6, 3, 1, 4) ... OK\n",
      "Call assignment_3_9(6, 4, 0, 0) ... OK\n",
      "\n",
      "Well done! You seem to have solved assignment_3_9!\n"
     ]
    }
   ],
   "source": [
    "# Assertion for assignment 3.9\n",
    "\n",
    "check_assertion(assignment_3_9)"
   ]
  },
  {
   "cell_type": "markdown",
   "metadata": {
    "deletable": false,
    "editable": false,
    "nbgrader": {
     "cell_type": "markdown",
     "checksum": "37b138f830fcebce727f4a92804bb800",
     "grade": false,
     "grade_id": "assignment-3-10-spacer",
     "locked": true,
     "schema_version": 3,
     "solution": false,
     "task": false
    }
   },
   "source": [
    "<br />\n",
    "<br />\n",
    "<br />\n",
    "<br />"
   ]
  },
  {
   "cell_type": "markdown",
   "metadata": {
    "deletable": false,
    "editable": false,
    "nbgrader": {
     "cell_type": "markdown",
     "checksum": "2d20c327bd4102bdd904395df7c64b21",
     "grade": false,
     "grade_id": "assignment-3-10-text",
     "locked": true,
     "schema_version": 3,
     "solution": false,
     "task": false
    }
   },
   "source": [
    "# 3.10 Queen move\n",
    "\n",
    "Chess queens can move horizontally, vertically or diagonally. Given two different squares of the chessboard, determine whether a queen can go from the first square to the second in one move.\n",
    "\n",
    "The function has four arguments, numbers from 0 to 7, each specifying the column and row number, first two - for the first square, and then the last two - for the second square. The function should return `YES` if a queen can go from the first square to the second in one move, or `NO` otherwise.\n",
    "\n",
    "<table><tr>\n",
    "<td style=\"text-align: center; vertical-align: middle;\"><img src=\"figures/queen_move.svg\" alt=\"Possible moves for queen on e5 (4,4)\" width=\"100%\"/> <h2>Possible moves for queen on e5 (4,4)</h2></td>\n",
    "</tr></table>\n",
    "\n",
    "## Example input\n",
    "\n",
    "```python\n",
    "4\n",
    "4\n",
    "6\n",
    "6\n",
    "```\n",
    "\n",
    "## Example return value\n",
    "\n",
    "```python\n",
    "YES\n",
    "```"
   ]
  },
  {
   "cell_type": "code",
   "execution_count": 96,
   "metadata": {
    "deletable": false,
    "nbgrader": {
     "cell_type": "code",
     "checksum": "953f8b82151bcecb60c11d5db9324246",
     "grade": false,
     "grade_id": "assignment-3-10-code",
     "locked": false,
     "schema_version": 3,
     "solution": true,
     "task": false
    }
   },
   "outputs": [],
   "source": [
    "# Code for assignment 3.10\n",
    "\n",
    "def assignment_3_10(col1, row1, col2, row2): \n",
    "        same_col = col1 == col2 and row1 != row2\n",
    "        same_row = row1 == row2 and col1 != col2 \n",
    "        bishop_mov = abs(col1 - col2) == abs(row1 - row2) \n",
    "        if same_col or same_row: \n",
    "            return \"YES\" \n",
    "        elif bishop_mov: \n",
    "            return \"YES\" \n",
    "        else:\n",
    "            return \"NO\" "
   ]
  },
  {
   "cell_type": "code",
   "execution_count": 97,
   "metadata": {
    "deletable": false,
    "editable": false,
    "nbgrader": {
     "cell_type": "code",
     "checksum": "8d0924f9de34adcaf14252792d3183b1",
     "grade": false,
     "grade_id": "assignment-3-10-test",
     "locked": true,
     "schema_version": 3,
     "solution": false,
     "task": false
    }
   },
   "outputs": [
    {
     "name": "stdin",
     "output_type": "stream",
     "text": [
      "Please enter column number of From field (col1) (Press Enter for default value 4):  \n",
      "Please enter row number of From field (row1) (Press Enter for default value 4):  \n",
      "Please enter column number of To field (col2) (Press Enter for default value 6):  \n",
      "Please enter row number of To field (row2) (Press Enter for default value 6):  \n"
     ]
    },
    {
     "name": "stdout",
     "output_type": "stream",
     "text": [
      "\n",
      "The queen can move from (4,4) to (6,6)? \n",
      "YES\n"
     ]
    }
   ],
   "source": [
    "# Test for assignment 3.10\n",
    "\n",
    "test_cell_3_10(assignment_3_10)"
   ]
  },
  {
   "cell_type": "code",
   "execution_count": 98,
   "metadata": {
    "deletable": false,
    "editable": false,
    "nbgrader": {
     "cell_type": "code",
     "checksum": "008793d5d05c57650e89b56eca07f896",
     "grade": true,
     "grade_id": "assignment-3-10-assert",
     "locked": true,
     "points": 1,
     "schema_version": 3,
     "solution": false,
     "task": false
    }
   },
   "outputs": [
    {
     "name": "stdout",
     "output_type": "stream",
     "text": [
      "Call assignment_3_10(0, 0, 1, 1) ... OK\n",
      "Call assignment_3_10(0, 0, 1, 2) ... OK\n",
      "Call assignment_3_10(4, 5, 2, 2) ... OK\n",
      "Call assignment_3_10(2, 2, 0, 0) ... OK\n",
      "Call assignment_3_10(5, 4, 1, 4) ... OK\n",
      "Call assignment_3_10(6, 5, 4, 1) ... OK\n",
      "Call assignment_3_10(1, 6, 5, 6) ... OK\n",
      "Call assignment_3_10(1, 6, 3, 5) ... OK\n",
      "Call assignment_3_10(6, 3, 1, 4) ... OK\n",
      "Call assignment_3_10(6, 4, 0, 0) ... OK\n",
      "Call assignment_3_10(1, 3, 4, 6) ... OK\n",
      "Call assignment_3_10(2, 4, 6, 0) ... OK\n",
      "Call assignment_3_10(4, 1, 4, 7) ... OK\n",
      "Call assignment_3_10(0, 1, 2, 0) ... OK\n",
      "Call assignment_3_10(1, 0, 0, 2) ... OK\n",
      "\n",
      "Well done! You seem to have solved assignment_3_10!\n"
     ]
    }
   ],
   "source": [
    "# Assertion for assignment 3.10\n",
    "\n",
    "check_assertion(assignment_3_10)"
   ]
  },
  {
   "cell_type": "markdown",
   "metadata": {
    "deletable": false,
    "editable": false,
    "nbgrader": {
     "cell_type": "markdown",
     "checksum": "95e4c5ca99a1631e50ac37d7bcd25269",
     "grade": false,
     "grade_id": "assignment-3-11-spacer",
     "locked": true,
     "schema_version": 3,
     "solution": false,
     "task": false
    }
   },
   "source": [
    "<br />\n",
    "<br />\n",
    "<br />\n",
    "<br />"
   ]
  },
  {
   "cell_type": "markdown",
   "metadata": {
    "deletable": false,
    "editable": false,
    "nbgrader": {
     "cell_type": "markdown",
     "checksum": "77b3f86f21373553de5d0b120793877f",
     "grade": false,
     "grade_id": "assignment-3-11-text",
     "locked": true,
     "schema_version": 3,
     "solution": false,
     "task": false
    }
   },
   "source": [
    "# 3.11 Knight move\n",
    "\n",
    "The moves of the knights in chess resemble the letter **L**. A knight can move two squares horizontally and one square vertically, or two squares vertically and one square horizontally. Given two different squares of the chessboard, determine whether a knight can go from the first square to the second in one move.\n",
    "\n",
    "The function has four arguments, numbers from 0 to 7, each specifying the column and row number, first two - for the first square, and then the last two - for the second square. The function should return `YES` if a knight can go from the first square to the second in one move, or `NO` otherwise.\n",
    "\n",
    "<table><tr>\n",
    "<td style=\"text-align: center; vertical-align: middle;\"><img src=\"figures/knight_move.svg\" alt=\"Possible moves for knight on e4 (4,3)\" width=\"100%\"/> <h2>Possible moves for knight on e4 (4,3)</h2></td>\n",
    "</tr></table>\n",
    "\n",
    "## Example input\n",
    "\n",
    "```python\n",
    "4\n",
    "3\n",
    "4\n",
    "7\n",
    "```\n",
    "\n",
    "## Example return value\n",
    "\n",
    "```python\n",
    "NO\n",
    "```\n"
   ]
  },
  {
   "cell_type": "code",
   "execution_count": 104,
   "metadata": {
    "deletable": false,
    "nbgrader": {
     "cell_type": "code",
     "checksum": "c410e083fc3729d25edbe491cc11cd3a",
     "grade": false,
     "grade_id": "assignment-3-11-code",
     "locked": false,
     "schema_version": 3,
     "solution": true,
     "task": false
    }
   },
   "outputs": [],
   "source": [
    "# Code for assignment 3.11\n",
    "\n",
    "def assignment_3_11(col1, row1, col2, row2):\n",
    "    col_diff = abs(col1 - col2) \n",
    "    row_diff = abs(row1 - row2) \n",
    "    if col_diff == 1 and row_diff == 2: \n",
    "        return \"YES\" \n",
    "    elif col_diff == 2 and row_diff ==1: \n",
    "        return \"YES\" \n",
    "    else: \n",
    "        return \"NO\" \n"
   ]
  },
  {
   "cell_type": "code",
   "execution_count": 105,
   "metadata": {
    "deletable": false,
    "editable": false,
    "nbgrader": {
     "cell_type": "code",
     "checksum": "fc68d088af09672ee0b6800b06b73a7e",
     "grade": false,
     "grade_id": "assignment-3-11-test",
     "locked": true,
     "schema_version": 3,
     "solution": false,
     "task": false
    }
   },
   "outputs": [
    {
     "name": "stdin",
     "output_type": "stream",
     "text": [
      "Please enter column number of From field (col1) (Press Enter for default value 4):  \n",
      "Please enter row number of From field (row1) (Press Enter for default value 3):  \n",
      "Please enter column number of To field (col2) (Press Enter for default value 4):  \n",
      "Please enter row number of To field (row2) (Press Enter for default value 7):  \n"
     ]
    },
    {
     "name": "stdout",
     "output_type": "stream",
     "text": [
      "\n",
      "The knight can move from (4,3) to (4,7)? \n",
      "NO\n"
     ]
    }
   ],
   "source": [
    "# Test for assignment 3.11\n",
    "\n",
    "test_cell_3_11(assignment_3_11)"
   ]
  },
  {
   "cell_type": "code",
   "execution_count": 106,
   "metadata": {
    "deletable": false,
    "editable": false,
    "nbgrader": {
     "cell_type": "code",
     "checksum": "a28e6276fed1c9d088adef0097ce9278",
     "grade": true,
     "grade_id": "assignment-3-11-assert",
     "locked": true,
     "points": 1,
     "schema_version": 3,
     "solution": false,
     "task": false
    }
   },
   "outputs": [
    {
     "name": "stdout",
     "output_type": "stream",
     "text": [
      "Call assignment_3_11(0, 0, 0, 3) ... OK\n",
      "Call assignment_3_11(0, 0, 7, 7) ... OK\n",
      "Call assignment_3_11(1, 3, 2, 1) ... OK\n",
      "Call assignment_3_11(4, 1, 3, 3) ... OK\n",
      "Call assignment_3_11(1, 7, 2, 6) ... OK\n",
      "Call assignment_3_11(1, 7, 2, 4) ... OK\n",
      "Call assignment_3_11(4, 4, 2, 6) ... OK\n",
      "Call assignment_3_11(1, 3, 1, 4) ... OK\n",
      "Call assignment_3_11(3, 6, 5, 5) ... OK\n",
      "Call assignment_3_11(3, 4, 1, 3) ... OK\n",
      "Call assignment_3_11(1, 2, 2, 1) ... OK\n",
      "Call assignment_3_11(4, 0, 3, 2) ... OK\n",
      "Call assignment_3_11(5, 1, 7, 2) ... OK\n",
      "\n",
      "Well done! You seem to have solved assignment_3_11!\n"
     ]
    }
   ],
   "source": [
    "# Assertion for assignment 3.11\n",
    "\n",
    "check_assertion(assignment_3_11)"
   ]
  },
  {
   "cell_type": "markdown",
   "metadata": {
    "deletable": false,
    "editable": false,
    "nbgrader": {
     "cell_type": "markdown",
     "checksum": "46d68bd29e64f3620bbb840348de96b3",
     "grade": false,
     "grade_id": "assignment-3-12-spacer",
     "locked": true,
     "schema_version": 3,
     "solution": false,
     "task": false
    }
   },
   "source": [
    "<br />\n",
    "<br />\n",
    "<br />\n",
    "<br />"
   ]
  },
  {
   "cell_type": "markdown",
   "metadata": {
    "deletable": false,
    "editable": false,
    "nbgrader": {
     "cell_type": "markdown",
     "checksum": "2ffc53a40323726554a2353852599e13",
     "grade": false,
     "grade_id": "assignment-3-12-text",
     "locked": true,
     "schema_version": 3,
     "solution": false,
     "task": false
    }
   },
   "source": [
    "# 3.12 Chocolate bar\n",
    "\n",
    "A chocolate bar has the form of a rectangle divided into `cols x rows` portions. The chocolate bar can be split into two rectangular parts by breaking it along a selected straight line on its pattern. \n",
    "\n",
    "Determine whether it is possible to split it so that one of the parts will have exactly `squares` squares.\n",
    "\n",
    "The function uses three integer arguments: `cols`, `rows`, and `squares`. It should return `YES` or `NO`.\n",
    "\n",
    "An example chocolate bar is shown in this figure, where `cols` = 4 and `rows` = 6:\n",
    "\n",
    "<img src=\"figures/chocolate_bar.jpg\" alt=\"Chocolate bar\" width=\"50%\"/>\n",
    "\n",
    "The chocolate bar is going to be broken into two pieces *along one of the lines, either horizontally, or vertically*, resulting into *two rectangular* pieces.\n",
    "\n",
    "Imagine that we choose `squares` = 8. If we break the chocolate bar on the second horizontal line from the top, we will end up in one piece of 4 x 2 squares and one piece of 4 x 4 squares. Indeed, the 4 x 2 matches `squares` = 8.\n",
    "\n",
    "Now, if we look in a more general way, we will see that if we break the chocolate bar on a horizontal line, we will end up with rectangles of 4 x 1, 4 x 2, 4 x 3, <br>\n",
    "4 x 4 or 4 x 5 squares. Meaning that if `squares` is divisible by 4, in this case, we will have to return `YES`. We could use the remainder operator `%` to check for this.\n",
    "\n",
    "The same is true for a vertical split. We end up with 1 x 6, 2 x 6 and 3 x 6 squares. Meaning that if `squares` is divisible by 6, in this case, we will have to return `YES`.\n",
    "\n",
    "## Example input\n",
    "\n",
    "```python\n",
    "4\n",
    "6\n",
    "8\n",
    "```\n",
    "\n",
    "## Example return value\n",
    "\n",
    "```python\n",
    "YES\n",
    "```"
   ]
  },
  {
   "cell_type": "code",
   "execution_count": 118,
   "metadata": {
    "deletable": false,
    "nbgrader": {
     "cell_type": "code",
     "checksum": "39ca832ac55fe780caf474ff0f092be1",
     "grade": false,
     "grade_id": "assignment-3-12-code",
     "locked": false,
     "schema_version": 3,
     "solution": true,
     "task": false
    }
   },
   "outputs": [],
   "source": [
    "# Code for assignment 3.12\n",
    "\n",
    "def assignment_3_12(cols, rows, squares):\n",
    "    if squares % cols == 0:\n",
    "        if squares <= cols*(rows-1): \n",
    "            return \"YES\" \n",
    "        else: \n",
    "            return \"NO\"\n",
    "    elif squares % rows == 0: \n",
    "        if squares <= rows*(cols-1): \n",
    "            return \"YES\" \n",
    "        else:\n",
    "            return \"NO\" \n",
    "    else: \n",
    "        return \"NO\"\n",
    "        "
   ]
  },
  {
   "cell_type": "code",
   "execution_count": 119,
   "metadata": {
    "deletable": false,
    "editable": false,
    "nbgrader": {
     "cell_type": "code",
     "checksum": "18c35ca313cbf280c95c136fa790f11b",
     "grade": false,
     "grade_id": "assignment-3-12-test",
     "locked": true,
     "schema_version": 3,
     "solution": false,
     "task": false
    }
   },
   "outputs": [
    {
     "name": "stdin",
     "output_type": "stream",
     "text": [
      "Please enter number of columns (cols) for the chocolate bar (Press Enter for default value 4):  \n",
      "Please enter number of rows (rows) for the chocolate bar (Press Enter for default value 6):  \n",
      "Please enter number of squares (squares) for the part (Press Enter for default value 8):  \n"
     ]
    },
    {
     "name": "stdout",
     "output_type": "stream",
     "text": [
      "\n",
      "Can one part of a 4x6 squares chocolate bar have 8 squares?\n",
      "YES\n"
     ]
    }
   ],
   "source": [
    "# Test for assignment 3.12\n",
    "\n",
    "test_cell_3_12(assignment_3_12)"
   ]
  },
  {
   "cell_type": "code",
   "execution_count": 120,
   "metadata": {
    "deletable": false,
    "editable": false,
    "nbgrader": {
     "cell_type": "code",
     "checksum": "c16b3bb4cd0d376ef33b79d90ac4dc9e",
     "grade": true,
     "grade_id": "assignment-3-12-assert",
     "locked": true,
     "points": 1,
     "schema_version": 3,
     "solution": false,
     "task": false
    }
   },
   "outputs": [
    {
     "name": "stdout",
     "output_type": "stream",
     "text": [
      "Call assignment_3_12(4, 2, 6) ... OK\n",
      "Call assignment_3_12(2, 10, 7) ... OK\n",
      "Call assignment_3_12(5, 7, 1) ... OK\n",
      "Call assignment_3_12(7, 4, 21) ... OK\n",
      "Call assignment_3_12(5, 12, 100) ... OK\n",
      "Call assignment_3_12(6, 6, 6) ... OK\n",
      "Call assignment_3_12(6, 6, 35) ... OK\n",
      "Call assignment_3_12(6, 6, 37) ... OK\n",
      "Call assignment_3_12(7, 1, 99) ... OK\n",
      "Call assignment_3_12(300, 100, 3000) ... OK\n",
      "Call assignment_3_12(256, 124, 4069) ... OK\n",
      "Call assignment_3_12(348, 41, 6183) ... OK\n",
      "Call assignment_3_12(387, 13, 2709) ... OK\n",
      "Call assignment_3_12(13, 387, 2709) ... OK\n",
      "Call assignment_3_12(1, 1, 2) ... OK\n",
      "\n",
      "Well done! You seem to have solved assignment_3_12!\n"
     ]
    }
   ],
   "source": [
    "# Assertion  for assignment 3.12\n",
    "\n",
    "check_assertion(assignment_3_12)"
   ]
  },
  {
   "cell_type": "markdown",
   "metadata": {
    "deletable": false,
    "editable": false,
    "nbgrader": {
     "cell_type": "markdown",
     "checksum": "ea7ca015e1755affe88bb04ae286092e",
     "grade": false,
     "grade_id": "assingment-3-13-spacer",
     "locked": true,
     "schema_version": 3,
     "solution": false,
     "task": false
    }
   },
   "source": [
    "<br />\n",
    "<br />\n",
    "<br />\n",
    "<br />"
   ]
  },
  {
   "cell_type": "markdown",
   "metadata": {
    "deletable": false,
    "editable": false,
    "nbgrader": {
     "cell_type": "markdown",
     "checksum": "57da982763f818de8dfea8f446484d0e",
     "grade": false,
     "grade_id": "assingment-3-13-text",
     "locked": true,
     "schema_version": 3,
     "solution": false,
     "task": false
    }
   },
   "source": [
    "# 3.13 Leap year\n",
    "\n",
    "Given the year number. You need to check if this year is a leap year. If it is, return `LEAP`, otherwise return `COMMON`.\n",
    "\n",
    "The rules in Gregorian calendar are as follows:\n",
    " * a year is a leap year if its number is exactly divisible by 4 but it is not exactly divisible by 100\n",
    " * a year is always a leap year if its number is exactly divisible by 400\n",
    " \n",
    "**Warning.** The words `LEAP` and `COMMON` should be all caps.\n",
    "\n",
    "## Example input\n",
    "\n",
    "```python\n",
    "2012\n",
    "```\n",
    "\n",
    "## Example return value\n",
    "\n",
    "```python\n",
    "LEAP\n",
    "```"
   ]
  },
  {
   "cell_type": "code",
   "execution_count": 121,
   "metadata": {
    "deletable": false,
    "nbgrader": {
     "cell_type": "code",
     "checksum": "4951eaf23d95fef8af1c946f19f5b469",
     "grade": false,
     "grade_id": "assignment-3-13-code",
     "locked": false,
     "schema_version": 3,
     "solution": true,
     "task": false
    }
   },
   "outputs": [],
   "source": [
    "# Code for assignment 3.13\n",
    "\n",
    "def assignment_3_13(year):\n",
    "    if year % 4 == 0 and year % 100 != 0:\n",
    "        return \"LEAP\" \n",
    "    elif year % 400 == 0: \n",
    "        return \"LEAP\"  \n",
    "    else: \n",
    "        return \"COMMON\" "
   ]
  },
  {
   "cell_type": "code",
   "execution_count": 122,
   "metadata": {
    "deletable": false,
    "editable": false,
    "nbgrader": {
     "cell_type": "code",
     "checksum": "336ed6508ef1478460c97b433c61caab",
     "grade": false,
     "grade_id": "assignment-3-13-test",
     "locked": true,
     "schema_version": 3,
     "solution": false,
     "task": false
    }
   },
   "outputs": [
    {
     "name": "stdin",
     "output_type": "stream",
     "text": [
      "Please enter the year to be checked (Press Enter for default value 2012):  \n"
     ]
    },
    {
     "name": "stdout",
     "output_type": "stream",
     "text": [
      "\n",
      "Is the year 2012 a LEAP or a COMMON year? \n",
      "LEAP\n"
     ]
    }
   ],
   "source": [
    "# Test for assignment 3.13\n",
    "\n",
    "test_cell_3_13(assignment_3_13)"
   ]
  },
  {
   "cell_type": "code",
   "execution_count": 123,
   "metadata": {
    "deletable": false,
    "editable": false,
    "nbgrader": {
     "cell_type": "code",
     "checksum": "f0bf9551d79938a4cb04e81a68b7b798",
     "grade": true,
     "grade_id": "assignment-3-13-assert",
     "locked": true,
     "points": 1,
     "schema_version": 3,
     "solution": false,
     "task": false
    }
   },
   "outputs": [
    {
     "name": "stdout",
     "output_type": "stream",
     "text": [
      "Call assignment_3_13(2012) ... OK\n",
      "Call assignment_3_13(2011) ... OK\n",
      "Call assignment_3_13(1492) ... OK\n",
      "Call assignment_3_13(1861) ... OK\n",
      "Call assignment_3_13(1600) ... OK\n",
      "Call assignment_3_13(1700) ... OK\n",
      "Call assignment_3_13(1800) ... OK\n",
      "Call assignment_3_13(1900) ... OK\n",
      "Call assignment_3_13(2000) ... OK\n",
      "\n",
      "Well done! You seem to have solved assignment_3_13!\n"
     ]
    }
   ],
   "source": [
    "# Assertion for assignment 3.13\n",
    "\n",
    "check_assertion(assignment_3_13)"
   ]
  }
 ],
 "metadata": {
  "kernelspec": {
   "display_name": "Python 3 (ipykernel)",
   "language": "python",
   "name": "python3"
  },
  "language_info": {
   "codemirror_mode": {
    "name": "ipython",
    "version": 3
   },
   "file_extension": ".py",
   "mimetype": "text/x-python",
   "name": "python",
   "nbconvert_exporter": "python",
   "pygments_lexer": "ipython3",
   "version": "3.9.18"
  }
 },
 "nbformat": 4,
 "nbformat_minor": 4
}
